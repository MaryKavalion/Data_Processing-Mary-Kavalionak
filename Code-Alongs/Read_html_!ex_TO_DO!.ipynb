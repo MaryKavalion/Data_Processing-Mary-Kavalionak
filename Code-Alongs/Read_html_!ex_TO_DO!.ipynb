{
 "cells": [
  {
   "cell_type": "code",
   "execution_count": 1,
   "metadata": {},
   "outputs": [],
   "source": [
    "import pandas as pd"
   ]
  },
  {
   "cell_type": "code",
   "execution_count": 2,
   "metadata": {},
   "outputs": [
    {
     "data": {
      "text/plain": [
       "list"
      ]
     },
     "execution_count": 2,
     "metadata": {},
     "output_type": "execute_result"
    }
   ],
   "source": [
    "tables = pd.read_html(\"https://en.wikipedia.org/wiki/List_of_Pixar_films\")\n",
    "type(tables)"
   ]
  },
  {
   "cell_type": "code",
   "execution_count": 5,
   "metadata": {},
   "outputs": [
    {
     "data": {
      "text/html": [
       "<div>\n",
       "<style scoped>\n",
       "    .dataframe tbody tr th:only-of-type {\n",
       "        vertical-align: middle;\n",
       "    }\n",
       "\n",
       "    .dataframe tbody tr th {\n",
       "        vertical-align: top;\n",
       "    }\n",
       "\n",
       "    .dataframe thead tr th {\n",
       "        text-align: left;\n",
       "    }\n",
       "</style>\n",
       "<table border=\"1\" class=\"dataframe\">\n",
       "  <thead>\n",
       "    <tr>\n",
       "      <th></th>\n",
       "      <th>Film</th>\n",
       "      <th>Release date</th>\n",
       "      <th>Director(s)</th>\n",
       "      <th colspan=\"2\" halign=\"left\">Writer(s)</th>\n",
       "      <th>Producer(s)</th>\n",
       "      <th>Composer(s)</th>\n",
       "    </tr>\n",
       "    <tr>\n",
       "      <th></th>\n",
       "      <th>Film</th>\n",
       "      <th>Release date</th>\n",
       "      <th>Director(s)</th>\n",
       "      <th>Story</th>\n",
       "      <th>Screenplay</th>\n",
       "      <th>Producer(s)</th>\n",
       "      <th>Composer(s)</th>\n",
       "    </tr>\n",
       "  </thead>\n",
       "  <tbody>\n",
       "    <tr>\n",
       "      <th>0</th>\n",
       "      <td>Toy Story</td>\n",
       "      <td>November 22, 1995</td>\n",
       "      <td>John Lasseter</td>\n",
       "      <td>Pete Docter, Lasseter, Joe Ranft &amp; Andrew Stanton</td>\n",
       "      <td>Joel Cohen, Alec Sokolow, Stanton &amp; Joss Whedon</td>\n",
       "      <td>Bonnie Arnold &amp; Ralph Guggenheim</td>\n",
       "      <td>Randy Newman</td>\n",
       "    </tr>\n",
       "    <tr>\n",
       "      <th>1</th>\n",
       "      <td>A Bug's Life</td>\n",
       "      <td>November 20, 1998</td>\n",
       "      <td>John LasseterCo-directed by: Andrew Stanton</td>\n",
       "      <td>Lasseter, Joe Ranft &amp; Stanton</td>\n",
       "      <td>Donald McEnery, Bob Shaw &amp; Stanton</td>\n",
       "      <td>Darla K. Anderson &amp; Kevin Reher</td>\n",
       "      <td>Randy Newman</td>\n",
       "    </tr>\n",
       "    <tr>\n",
       "      <th>2</th>\n",
       "      <td>Toy Story 2</td>\n",
       "      <td>November 24, 1999</td>\n",
       "      <td>John LasseterCo-directed by: Ash Brannon &amp; Lee...</td>\n",
       "      <td>Brannon, Pete Docter, Lasseter &amp; Andrew Stanton</td>\n",
       "      <td>Doug Chamberlin, Rita Hsiao, Stanton &amp; Chris Webb</td>\n",
       "      <td>Karen Robert Jackson &amp; Helene Plotkin</td>\n",
       "      <td>Randy Newman</td>\n",
       "    </tr>\n",
       "    <tr>\n",
       "      <th>3</th>\n",
       "      <td>Monsters, Inc.</td>\n",
       "      <td>November 2, 2001</td>\n",
       "      <td>Pete DocterCo-directed by: David Silverman &amp; L...</td>\n",
       "      <td>Jill Culton, Docter, Ralph Eggleston &amp; Jeff Pi...</td>\n",
       "      <td>Dan Gerson &amp; Andrew Stanton</td>\n",
       "      <td>Darla K. Anderson</td>\n",
       "      <td>Randy Newman</td>\n",
       "    </tr>\n",
       "    <tr>\n",
       "      <th>4</th>\n",
       "      <td>Finding Nemo</td>\n",
       "      <td>May 30, 2003</td>\n",
       "      <td>Andrew StantonCo-directed by: Lee Unkrich</td>\n",
       "      <td>Stanton</td>\n",
       "      <td>Bob Peterson, David Reynolds &amp; Stanton</td>\n",
       "      <td>Graham Walters</td>\n",
       "      <td>Thomas Newman</td>\n",
       "    </tr>\n",
       "  </tbody>\n",
       "</table>\n",
       "</div>"
      ],
      "text/plain": [
       "             Film       Release date  \\\n",
       "             Film       Release date   \n",
       "0       Toy Story  November 22, 1995   \n",
       "1    A Bug's Life  November 20, 1998   \n",
       "2     Toy Story 2  November 24, 1999   \n",
       "3  Monsters, Inc.   November 2, 2001   \n",
       "4    Finding Nemo       May 30, 2003   \n",
       "\n",
       "                                         Director(s)  \\\n",
       "                                         Director(s)   \n",
       "0                                      John Lasseter   \n",
       "1        John LasseterCo-directed by: Andrew Stanton   \n",
       "2  John LasseterCo-directed by: Ash Brannon & Lee...   \n",
       "3  Pete DocterCo-directed by: David Silverman & L...   \n",
       "4          Andrew StantonCo-directed by: Lee Unkrich   \n",
       "\n",
       "                                           Writer(s)  \\\n",
       "                                               Story   \n",
       "0  Pete Docter, Lasseter, Joe Ranft & Andrew Stanton   \n",
       "1                      Lasseter, Joe Ranft & Stanton   \n",
       "2    Brannon, Pete Docter, Lasseter & Andrew Stanton   \n",
       "3  Jill Culton, Docter, Ralph Eggleston & Jeff Pi...   \n",
       "4                                            Stanton   \n",
       "\n",
       "                                                      \\\n",
       "                                          Screenplay   \n",
       "0    Joel Cohen, Alec Sokolow, Stanton & Joss Whedon   \n",
       "1                 Donald McEnery, Bob Shaw & Stanton   \n",
       "2  Doug Chamberlin, Rita Hsiao, Stanton & Chris Webb   \n",
       "3                        Dan Gerson & Andrew Stanton   \n",
       "4             Bob Peterson, David Reynolds & Stanton   \n",
       "\n",
       "                             Producer(s)    Composer(s)  \n",
       "                             Producer(s)    Composer(s)  \n",
       "0       Bonnie Arnold & Ralph Guggenheim   Randy Newman  \n",
       "1        Darla K. Anderson & Kevin Reher   Randy Newman  \n",
       "2  Karen Robert Jackson & Helene Plotkin   Randy Newman  \n",
       "3                      Darla K. Anderson   Randy Newman  \n",
       "4                         Graham Walters  Thomas Newman  "
      ]
     },
     "execution_count": 5,
     "metadata": {},
     "output_type": "execute_result"
    }
   ],
   "source": [
    "tables[0].head()"
   ]
  },
  {
   "cell_type": "code",
   "execution_count": 8,
   "metadata": {},
   "outputs": [
    {
     "data": {
      "text/plain": [
       "16"
      ]
     },
     "execution_count": 8,
     "metadata": {},
     "output_type": "execute_result"
    }
   ],
   "source": [
    "len(tables)"
   ]
  },
  {
   "cell_type": "code",
   "execution_count": 14,
   "metadata": {},
   "outputs": [
    {
     "data": {
      "text/plain": [
       "[    Year          Film        Budget Box office gross                    \\\n",
       "     Year          Film        Budget  U.S. and Canada Other territories   \n",
       " 0   1995     Toy Story   $30 million     $192,523,233      $172,747,718   \n",
       " 1   1998  A Bug's Life  $120 million     $162,798,565      $200,460,294   \n",
       " 2   1999   Toy Story 2   $90 million     $245,852,179      $265,506,097   \n",
       " ..   ...           ...           ...              ...               ...   \n",
       " 24  2022   Turning Red  $175 million             —[b]       $20,122,621   \n",
       " 25  2022     Lightyear  $200 million     $118,307,188      $108,118,232   \n",
       " 26  2023     Elemental  $200 million     $154,426,697      $340,309,878   \n",
       " \n",
       "                       Ref.  \n",
       "        Worldwide      Ref.  \n",
       " 0   $365,270,951  [53][54]  \n",
       " 1   $363,258,859      [55]  \n",
       " 2   $511,358,276  [56][57]  \n",
       " ..           ...       ...  \n",
       " 24   $20,122,621  [87][88]  \n",
       " 25  $226,425,420  [89][90]  \n",
       " 26  $494,736,575  [91][92]  \n",
       " \n",
       " [27 rows x 7 columns]]"
      ]
     },
     "execution_count": 14,
     "metadata": {},
     "output_type": "execute_result"
    }
   ],
   "source": [
    "boxoffice = pd.read_html(\"https://en.wikipedia.org/wiki/List_of_Pixar_films\", match = \"Box office gross\")\n",
    "pd.set_option(\"display.max_columns\", None)\n",
    "pd.set_option(\"display.max_rows\", 6)\n",
    "boxoffice"
   ]
  },
  {
   "cell_type": "code",
   "execution_count": 15,
   "metadata": {},
   "outputs": [
    {
     "data": {
      "text/plain": [
       "[    Year          Film        Budget U.S. and Canada Other territories  \\\n",
       " 0   1995     Toy Story   $30 million    $192,523,233      $172,747,718   \n",
       " 1   1998  A Bug's Life  $120 million    $162,798,565      $200,460,294   \n",
       " 2   1999   Toy Story 2   $90 million    $245,852,179      $265,506,097   \n",
       " ..   ...           ...           ...             ...               ...   \n",
       " 24  2022   Turning Red  $175 million            —[b]       $20,122,621   \n",
       " 25  2022     Lightyear  $200 million    $118,307,188      $108,118,232   \n",
       " 26  2023     Elemental  $200 million    $154,426,697      $340,309,878   \n",
       " \n",
       "        Worldwide      Ref.  \n",
       " 0   $365,270,951  [53][54]  \n",
       " 1   $363,258,859      [55]  \n",
       " 2   $511,358,276  [56][57]  \n",
       " ..           ...       ...  \n",
       " 24   $20,122,621  [87][88]  \n",
       " 25  $226,425,420  [89][90]  \n",
       " 26  $494,736,575  [91][92]  \n",
       " \n",
       " [27 rows x 7 columns]]"
      ]
     },
     "execution_count": 15,
     "metadata": {},
     "output_type": "execute_result"
    }
   ],
   "source": [
    "boxoffice = pd.read_html(\"https://en.wikipedia.org/wiki/List_of_Pixar_films\", header = 1, match = \"Box office gross\")\n",
    "boxoffice"
   ]
  },
  {
   "cell_type": "markdown",
   "metadata": {},
   "source": [
    "### Exercise\n",
    "Clean the data, convert numeric columns to float, calculate a new column \"results\", group by year, and plot using seaborn."
   ]
  }
 ],
 "metadata": {
  "kernelspec": {
   "display_name": "GitHub-ARbJjTr-",
   "language": "python",
   "name": "python3"
  },
  "language_info": {
   "codemirror_mode": {
    "name": "ipython",
    "version": 3
   },
   "file_extension": ".py",
   "mimetype": "text/x-python",
   "name": "python",
   "nbconvert_exporter": "python",
   "pygments_lexer": "ipython3",
   "version": "3.11.5"
  }
 },
 "nbformat": 4,
 "nbformat_minor": 2
}
