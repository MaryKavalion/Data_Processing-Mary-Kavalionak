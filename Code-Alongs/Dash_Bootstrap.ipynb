{
 "cells": [
  {
   "cell_type": "code",
   "execution_count": 1,
   "metadata": {},
   "outputs": [],
   "source": [
    "from dash import Dash, html, dcc, callback, Output, Input"
   ]
  },
  {
   "cell_type": "code",
   "execution_count": 2,
   "metadata": {},
   "outputs": [],
   "source": [
    "import dash_bootstrap_components as dbc"
   ]
  },
  {
   "cell_type": "code",
   "execution_count": 36,
   "metadata": {},
   "outputs": [
    {
     "name": "stdout",
     "output_type": "stream",
     "text": [
      "Dash app running on http://127.0.0.1:8050/\n"
     ]
    }
   ],
   "source": [
    "app = Dash(__name__, external_stylesheets = [dbc.themes.JOURNAL],\n",
    "           meta_tags=[         \n",
    "               {\"name\": \"viewport\", \"content\": \"width=device-width, initial-scale=1\"}, \n",
    "                         ],) # адаптивность относительно устройства, с которого читается страница (responsive design)\n",
    "\n",
    "app.layout = dbc.Container([\n",
    "    # \"Hello bootstrap\",\n",
    "    # dbc.Button(\"Click here\", color = 'success', className=\"ms-2 mt-2 text-uppercase\"),\n",
    "    dbc.Row\n",
    "    ([\n",
    "            dbc.Col\n",
    "            (\n",
    "                children = [dbc.Input(type = \"text\", # \"children\" можно не писать\n",
    "                          placeholder = \"First name:\"),\n",
    "                          dbc.Input(type = \"text\", \n",
    "                          placeholder = \"Second name:\")],\n",
    "                className = \"ms - 2\",\n",
    "                width = {\"size\": 3, # ширина строки ввода\n",
    "                         \"offset\": 0} # отступ строки ввода от края окна\n",
    "            ),\n",
    "            dbc.Col\n",
    "            (\n",
    "                children = dbc.Input(type = \"text\", \n",
    "                          placeholder = \"Last name:\"),\n",
    "                className = \"mt - 2\",\n",
    "                width = {\"size\": 6, # ширина строки ввода\n",
    "                         \"offset\": 0} # отступ строки ввода от края окна, если равен нулю,\n",
    "                         # то вместо width = {} можно напрямую использовать size = ...\n",
    "            )\n",
    "            # если сумма размеров превышает 12, содержимое автоматически переносится на следующую строку (макс размер строки - 12)\n",
    "        ],\n",
    "        justify = 'end' # выравнивание строк ввода (содержимого колонок) по правому краю\n",
    "        # варианты: 'start', 'center', 'evenly', 'around', 'between'\n",
    "    ),\n",
    "    dbc.Row # следующий ряд\n",
    "    ([\n",
    "            dbc.Col\n",
    "            (\n",
    "                children = dbc.Input(type = \"text\", \n",
    "                          placeholder = \"Age:\"),\n",
    "                className = \"ms - 2\",\n",
    "                xs=12, sm =6, md = 6, lg = 3 \n",
    "            ),\n",
    "            dbc.Col\n",
    "            (\n",
    "                children = dbc.Input(type = \"text\", \n",
    "                          placeholder = \"email:\"),\n",
    "                className = \"mt - 2\",\n",
    "                width = {\"size\": 6, \n",
    "                         \"offset\": 0} \n",
    "            )\n",
    "        ],\n",
    "        justify = 'end' \n",
    "    )\n",
    "    \n",
    "    ], fluid = True\n",
    "    )\n",
    "\n",
    "\n",
    "\n",
    "app.run(debug=True, jupyter_mode = 'external')"
   ]
  }
 ],
 "metadata": {
  "kernelspec": {
   "display_name": "GitHub-ARbJjTr-",
   "language": "python",
   "name": "python3"
  },
  "language_info": {
   "codemirror_mode": {
    "name": "ipython",
    "version": 3
   },
   "file_extension": ".py",
   "mimetype": "text/x-python",
   "name": "python",
   "nbconvert_exporter": "python",
   "pygments_lexer": "ipython3",
   "version": "3.11.5"
  }
 },
 "nbformat": 4,
 "nbformat_minor": 2
}
