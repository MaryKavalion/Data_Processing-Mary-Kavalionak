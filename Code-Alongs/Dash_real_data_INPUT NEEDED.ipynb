{
 "cells": [
  {
   "cell_type": "code",
   "execution_count": 1,
   "metadata": {},
   "outputs": [],
   "source": [
    "from dash import Dash, html, dcc, callback, Output, Input\n",
    "import dash_bootstrap_components as dbc\n",
    "import plotly_express as px\n",
    "import pandas as pd"
   ]
  },
  {
   "cell_type": "code",
   "execution_count": 10,
   "metadata": {},
   "outputs": [
    {
     "data": {
      "text/html": [
       "<div>\n",
       "<style scoped>\n",
       "    .dataframe tbody tr th:only-of-type {\n",
       "        vertical-align: middle;\n",
       "    }\n",
       "\n",
       "    .dataframe tbody tr th {\n",
       "        vertical-align: top;\n",
       "    }\n",
       "\n",
       "    .dataframe thead th {\n",
       "        text-align: right;\n",
       "    }\n",
       "</style>\n",
       "<table border=\"1\" class=\"dataframe\">\n",
       "  <thead>\n",
       "    <tr style=\"text-align: right;\">\n",
       "      <th></th>\n",
       "      <th>Close/Last</th>\n",
       "      <th>Volume</th>\n",
       "      <th>Open</th>\n",
       "      <th>High</th>\n",
       "      <th>Low</th>\n",
       "    </tr>\n",
       "    <tr>\n",
       "      <th>Date</th>\n",
       "      <th></th>\n",
       "      <th></th>\n",
       "      <th></th>\n",
       "      <th></th>\n",
       "      <th></th>\n",
       "    </tr>\n",
       "  </thead>\n",
       "  <tbody>\n",
       "    <tr>\n",
       "      <th>2023-11-09</th>\n",
       "      <td>$182.41</td>\n",
       "      <td>53763540</td>\n",
       "      <td>$182.96</td>\n",
       "      <td>$184.12</td>\n",
       "      <td>$181.81</td>\n",
       "    </tr>\n",
       "    <tr>\n",
       "      <th>2023-11-08</th>\n",
       "      <td>$182.89</td>\n",
       "      <td>49340280</td>\n",
       "      <td>$182.35</td>\n",
       "      <td>$183.45</td>\n",
       "      <td>$181.59</td>\n",
       "    </tr>\n",
       "    <tr>\n",
       "      <th>2023-11-07</th>\n",
       "      <td>$181.82</td>\n",
       "      <td>70529970</td>\n",
       "      <td>$179.18</td>\n",
       "      <td>$182.44</td>\n",
       "      <td>$178.97</td>\n",
       "    </tr>\n",
       "    <tr>\n",
       "      <th>2023-11-06</th>\n",
       "      <td>$179.23</td>\n",
       "      <td>63841310</td>\n",
       "      <td>$176.38</td>\n",
       "      <td>$179.43</td>\n",
       "      <td>$176.21</td>\n",
       "    </tr>\n",
       "    <tr>\n",
       "      <th>2023-11-03</th>\n",
       "      <td>$176.65</td>\n",
       "      <td>79829250</td>\n",
       "      <td>$174.24</td>\n",
       "      <td>$176.82</td>\n",
       "      <td>$173.35</td>\n",
       "    </tr>\n",
       "  </tbody>\n",
       "</table>\n",
       "</div>"
      ],
      "text/plain": [
       "           Close/Last    Volume     Open     High      Low\n",
       "Date                                                      \n",
       "2023-11-09    $182.41  53763540  $182.96  $184.12  $181.81\n",
       "2023-11-08    $182.89  49340280  $182.35  $183.45  $181.59\n",
       "2023-11-07    $181.82  70529970  $179.18  $182.44  $178.97\n",
       "2023-11-06    $179.23  63841310  $176.38  $179.43  $176.21\n",
       "2023-11-03    $176.65  79829250  $174.24  $176.82  $173.35"
      ]
     },
     "execution_count": 10,
     "metadata": {},
     "output_type": "execute_result"
    }
   ],
   "source": [
    "stocks = pd.read_csv(\"../TrainingData/HistoricalData_Apple.csv\", parse_dates = [\"Date\"], index_col = \"Date\")\n",
    "stocks.head()"
   ]
  },
  {
   "cell_type": "code",
   "execution_count": 15,
   "metadata": {},
   "outputs": [
    {
     "name": "stdout",
     "output_type": "stream",
     "text": [
      "Dash app running on http://127.0.0.1:8050/\n"
     ]
    }
   ],
   "source": [
    "app = Dash(__name__,\n",
    "            external_stylesheets = [dbc.themes.DARKLY],\n",
    "            meta_tags = [{\"name\": \"viewport\", \"content\": \"width = device-width, initial-scale = 1\"}])\n",
    "\n",
    "app.layout = dbc.Container([\n",
    "    dbc.Row([\n",
    "        dbc.Col([\n",
    "            html.H1(\"Apple Historical Data Dashboard\", className = 'text-center text-primary mx-3')\n",
    "        ], width = 12)\n",
    "    ]),\n",
    "\n",
    "    dbc.Row([\n",
    "        dbc.Col([\n",
    "            dcc.Dropdown(id = \"single_dropdown\", multi = False,\n",
    "                         #options = [stock for stock in stocks[\"Symbols\"].unique()],\n",
    "                         style = {'color': '#333'}\n",
    "                         ),\n",
    "                         dcc.Graph(id = \"volume_graph\",\n",
    "                                   figure = px.line(stocks, x=stocks.index, y = \"Volume\"))\n",
    "        ], width = 5)\n",
    "    ])\n",
    "])\n",
    "\n",
    "# @callback(\n",
    "#         Output(\"volume_graph\", \"figure\"),\n",
    "#         Input(\"single_dropdown\", \"value\")\n",
    "# )\n",
    "# def update_volume_graph(symbol):\n",
    "#     df = stocks.query(\"Symbols == @symbol\")\n",
    "#     px.line(stocks, x=stocks.index, y = \"Volume\")\n",
    "\n",
    "app.run(Debug = True, jupyter_mode = 'external')"
   ]
  }
 ],
 "metadata": {
  "kernelspec": {
   "display_name": "GitHub-ARbJjTr-",
   "language": "python",
   "name": "python3"
  },
  "language_info": {
   "codemirror_mode": {
    "name": "ipython",
    "version": 3
   },
   "file_extension": ".py",
   "mimetype": "text/x-python",
   "name": "python",
   "nbconvert_exporter": "python",
   "pygments_lexer": "ipython3",
   "version": "3.11.5"
  }
 },
 "nbformat": 4,
 "nbformat_minor": 2
}
