{
 "cells": [
  {
   "cell_type": "code",
   "execution_count": 1,
   "metadata": {},
   "outputs": [],
   "source": [
    "import pandas as pd\n",
    "import plotly_express as px\n",
    "import numpy as np"
   ]
  },
  {
   "cell_type": "code",
   "execution_count": 2,
   "metadata": {},
   "outputs": [
    {
     "name": "stdout",
     "output_type": "stream",
     "text": [
      "<class 'pandas.core.frame.DataFrame'>\n",
      "RangeIndex: 2900 entries, 0 to 2899\n",
      "Data columns (total 14 columns):\n",
      " #   Column               Non-Null Count  Dtype  \n",
      "---  ------               --------------  -----  \n",
      " 0   Län                  2900 non-null   int64  \n",
      " 1   Län_namn             2900 non-null   object \n",
      " 2   Kommun               2900 non-null   int64  \n",
      " 3   Kommun_namn          2900 non-null   object \n",
      " 4   Ålder                2900 non-null   object \n",
      " 5   Befolkning           2900 non-null   int64  \n",
      " 6   Antal minst 1 dos    2900 non-null   int64  \n",
      " 7   Antal minst 2 doser  2900 non-null   int64  \n",
      " 8   Antal 3 doser        2320 non-null   float64\n",
      " 9   Antal 4 doser        870 non-null    float64\n",
      " 10  Andel minst 1 dos    2900 non-null   float64\n",
      " 11  Andel minst 2 doser  2900 non-null   float64\n",
      " 12  Andel 3 doser        2320 non-null   float64\n",
      " 13  Andel 4 doser        870 non-null    float64\n",
      "dtypes: float64(6), int64(5), object(3)\n",
      "memory usage: 317.3+ KB\n"
     ]
    }
   ],
   "source": [
    "vaccindata = pd.read_excel(\"./Data/Covid19_Vaccine.xlsx\", sheet_name=\"Vaccinerade kommun och ålder\")\n",
    "vaccindata.info()"
   ]
  },
  {
   "cell_type": "code",
   "execution_count": 3,
   "metadata": {},
   "outputs": [
    {
     "data": {
      "text/html": [
       "<div>\n",
       "<style scoped>\n",
       "    .dataframe tbody tr th:only-of-type {\n",
       "        vertical-align: middle;\n",
       "    }\n",
       "\n",
       "    .dataframe tbody tr th {\n",
       "        vertical-align: top;\n",
       "    }\n",
       "\n",
       "    .dataframe thead th {\n",
       "        text-align: right;\n",
       "    }\n",
       "</style>\n",
       "<table border=\"1\" class=\"dataframe\">\n",
       "  <thead>\n",
       "    <tr style=\"text-align: right;\">\n",
       "      <th></th>\n",
       "      <th>Län</th>\n",
       "      <th>Län_namn</th>\n",
       "      <th>Kommun</th>\n",
       "      <th>Kommun_namn</th>\n",
       "      <th>Ålder</th>\n",
       "      <th>Befolkning</th>\n",
       "      <th>Antal minst 1 dos</th>\n",
       "      <th>Antal minst 2 doser</th>\n",
       "      <th>Antal 3 doser</th>\n",
       "      <th>Antal 4 doser</th>\n",
       "      <th>Andel minst 1 dos</th>\n",
       "      <th>Andel minst 2 doser</th>\n",
       "      <th>Andel 3 doser</th>\n",
       "      <th>Andel 4 doser</th>\n",
       "    </tr>\n",
       "  </thead>\n",
       "  <tbody>\n",
       "    <tr>\n",
       "      <th>1678</th>\n",
       "      <td>14</td>\n",
       "      <td>Västra Götalands län</td>\n",
       "      <td>1484</td>\n",
       "      <td>Lysekil</td>\n",
       "      <td>80-89</td>\n",
       "      <td>1019</td>\n",
       "      <td>1000</td>\n",
       "      <td>999</td>\n",
       "      <td>979.0</td>\n",
       "      <td>908.0</td>\n",
       "      <td>0.981354</td>\n",
       "      <td>0.980373</td>\n",
       "      <td>0.960746</td>\n",
       "      <td>0.891070</td>\n",
       "    </tr>\n",
       "    <tr>\n",
       "      <th>1152</th>\n",
       "      <td>12</td>\n",
       "      <td>Skåne län</td>\n",
       "      <td>1278</td>\n",
       "      <td>Båstad</td>\n",
       "      <td>18-29</td>\n",
       "      <td>1565</td>\n",
       "      <td>1207</td>\n",
       "      <td>1167</td>\n",
       "      <td>501.0</td>\n",
       "      <td>NaN</td>\n",
       "      <td>0.771246</td>\n",
       "      <td>0.745687</td>\n",
       "      <td>0.320128</td>\n",
       "      <td>NaN</td>\n",
       "    </tr>\n",
       "    <tr>\n",
       "      <th>219</th>\n",
       "      <td>1</td>\n",
       "      <td>Stockholms län</td>\n",
       "      <td>186</td>\n",
       "      <td>Lidingö</td>\n",
       "      <td>90 eller äldre</td>\n",
       "      <td>725</td>\n",
       "      <td>706</td>\n",
       "      <td>702</td>\n",
       "      <td>688.0</td>\n",
       "      <td>629.0</td>\n",
       "      <td>0.973793</td>\n",
       "      <td>0.968276</td>\n",
       "      <td>0.948966</td>\n",
       "      <td>0.867586</td>\n",
       "    </tr>\n",
       "  </tbody>\n",
       "</table>\n",
       "</div>"
      ],
      "text/plain": [
       "      Län              Län_namn  Kommun Kommun_namn           Ålder  \\\n",
       "1678   14  Västra Götalands län    1484     Lysekil           80-89   \n",
       "1152   12             Skåne län    1278      Båstad           18-29   \n",
       "219     1        Stockholms län     186     Lidingö  90 eller äldre   \n",
       "\n",
       "      Befolkning  Antal minst 1 dos  Antal minst 2 doser  Antal 3 doser  \\\n",
       "1678        1019               1000                  999          979.0   \n",
       "1152        1565               1207                 1167          501.0   \n",
       "219          725                706                  702          688.0   \n",
       "\n",
       "      Antal 4 doser  Andel minst 1 dos  Andel minst 2 doser  Andel 3 doser  \\\n",
       "1678          908.0           0.981354             0.980373       0.960746   \n",
       "1152            NaN           0.771246             0.745687       0.320128   \n",
       "219           629.0           0.973793             0.968276       0.948966   \n",
       "\n",
       "      Andel 4 doser  \n",
       "1678       0.891070  \n",
       "1152            NaN  \n",
       "219        0.867586  "
      ]
     },
     "execution_count": 3,
     "metadata": {},
     "output_type": "execute_result"
    }
   ],
   "source": [
    "vaccindata.sample(3)"
   ]
  },
  {
   "cell_type": "markdown",
   "metadata": {},
   "source": [
    "Finding out the number of counties in the dataset:"
   ]
  },
  {
   "cell_type": "code",
   "execution_count": 4,
   "metadata": {},
   "outputs": [
    {
     "data": {
      "text/plain": [
       "21"
      ]
     },
     "execution_count": 4,
     "metadata": {},
     "output_type": "execute_result"
    }
   ],
   "source": [
    "vaccindata[\"Län\"].nunique()"
   ]
  },
  {
   "cell_type": "markdown",
   "metadata": {},
   "source": [
    "Double-checking the information"
   ]
  },
  {
   "cell_type": "code",
   "execution_count": 5,
   "metadata": {},
   "outputs": [
    {
     "data": {
      "text/plain": [
       "21"
      ]
     },
     "execution_count": 5,
     "metadata": {},
     "output_type": "execute_result"
    }
   ],
   "source": [
    "vaccindata[\"Län_namn\"].nunique()"
   ]
  },
  {
   "cell_type": "markdown",
   "metadata": {},
   "source": [
    "Or we can create a function which double-checks and prints the answer, if information seems to be correct."
   ]
  },
  {
   "cell_type": "code",
   "execution_count": 6,
   "metadata": {},
   "outputs": [],
   "source": [
    "from Functions import *"
   ]
  },
  {
   "cell_type": "code",
   "execution_count": 7,
   "metadata": {},
   "outputs": [
    {
     "name": "stdout",
     "output_type": "stream",
     "text": [
      "Number of counties in the dataset:  21\n"
     ]
    }
   ],
   "source": [
    "count_and_check(\"Number of counties in the dataset: \", vaccindata, \"Län\", \"Län_namn\")"
   ]
  },
  {
   "cell_type": "markdown",
   "metadata": {},
   "source": [
    "As we can see, there is 21 county in the dataset, which corresponds to the total number of counties in Sweden."
   ]
  },
  {
   "cell_type": "code",
   "execution_count": 8,
   "metadata": {},
   "outputs": [
    {
     "name": "stdout",
     "output_type": "stream",
     "text": [
      "Number of municipalities in the dataset:  290\n"
     ]
    }
   ],
   "source": [
    "count_and_check(\"Number of municipalities in the dataset: \", vaccindata, \"Kommun\", \"Kommun_namn\")"
   ]
  },
  {
   "cell_type": "markdown",
   "metadata": {},
   "source": [
    "As we can see, there are 290 municipalities in the dataset, which means, all the Swedish minicipalities."
   ]
  },
  {
   "cell_type": "code",
   "execution_count": 9,
   "metadata": {},
   "outputs": [
    {
     "data": {
      "text/plain": [
       "9092790"
      ]
     },
     "execution_count": 9,
     "metadata": {},
     "output_type": "execute_result"
    }
   ],
   "source": [
    "dataset_population = vaccindata[\"Befolkning\"].sum()\n",
    "dataset_population"
   ]
  },
  {
   "cell_type": "markdown",
   "metadata": {},
   "source": [
    "The population represented in the dataset is 9 092 790 people."
   ]
  },
  {
   "cell_type": "code",
   "execution_count": 10,
   "metadata": {},
   "outputs": [
    {
     "data": {
      "text/plain": [
       "array(['12-15', '16-17', '18-29', '30-39', '40-49', '50-59', '60-69',\n",
       "       '70-79', '80-89', '90 eller äldre'], dtype=object)"
      ]
     },
     "execution_count": 10,
     "metadata": {},
     "output_type": "execute_result"
    }
   ],
   "source": [
    "age_groups = vaccindata[\"Ålder\"].unique()\n",
    "age_groups"
   ]
  },
  {
   "cell_type": "markdown",
   "metadata": {},
   "source": [
    "As we can see, there is no data about how many children of age 0-12 there are in Sweden.\n",
    "So we can not calculate the number of children under 18 from the dataset directly.\n",
    "We are going to calculate this, using the following steps:\n",
    "1. Find the data about total population in Sweden for year 2022.\n",
    "2. Find out the number of adults 18+ in the dataset.\n",
    "3. The difference between these two numbers is the number of children under 18 in Sweden, based on the dataset."
   ]
  },
  {
   "cell_type": "markdown",
   "metadata": {},
   "source": [
    "According to [this source](https://www.macrotrends.net/countries/SWE/sweden/population), the population of Sweden in 2022 was 10,549,347 people."
   ]
  },
  {
   "cell_type": "code",
   "execution_count": 11,
   "metadata": {},
   "outputs": [],
   "source": [
    "total_population = 10549347"
   ]
  },
  {
   "cell_type": "code",
   "execution_count": 12,
   "metadata": {},
   "outputs": [
    {
     "data": {
      "text/plain": [
       "8347420"
      ]
     },
     "execution_count": 12,
     "metadata": {},
     "output_type": "execute_result"
    }
   ],
   "source": [
    "dataset_adults = vaccindata[~vaccindata[\"Ålder\"].isin(['12-15', '16-17'])][\"Befolkning\"].sum()\n",
    "dataset_adults"
   ]
  },
  {
   "cell_type": "code",
   "execution_count": 13,
   "metadata": {},
   "outputs": [
    {
     "name": "stdout",
     "output_type": "stream",
     "text": [
      "The number of children under the age of 18 in Sweden according to the dataset is  2201927\n"
     ]
    }
   ],
   "source": [
    "total_children = total_population - dataset_adults\n",
    "print(\"The number of children under the age of 18 in Sweden according to the dataset is \", total_children)"
   ]
  },
  {
   "cell_type": "markdown",
   "metadata": {},
   "source": [
    "As we can see, the number of children under the age of 18 in Sweden according to the dataset is  2 201 927."
   ]
  },
  {
   "cell_type": "code",
   "execution_count": 14,
   "metadata": {},
   "outputs": [
    {
     "data": {
      "text/plain": [
       "1456557"
      ]
     },
     "execution_count": 14,
     "metadata": {},
     "output_type": "execute_result"
    }
   ],
   "source": [
    "children_0_11 = total_population - dataset_population\n",
    "children_0_11"
   ]
  },
  {
   "cell_type": "markdown",
   "metadata": {},
   "source": [
    "Of them children 0-11 (not represented in the dataset): 1 456 557"
   ]
  },
  {
   "cell_type": "code",
   "execution_count": 15,
   "metadata": {},
   "outputs": [
    {
     "data": {
      "text/plain": [
       "12-15              503831\n",
       "16-17              241539\n",
       "18-29             1475950\n",
       "30-39             1467590\n",
       "40-49             1298156\n",
       "50-59             1339798\n",
       "60-69             1121922\n",
       "70-79             1033113\n",
       "80-89              496750\n",
       "90 eller äldre     114141\n",
       "0-11              1456557\n",
       "dtype: int64"
      ]
     },
     "execution_count": 15,
     "metadata": {},
     "output_type": "execute_result"
    }
   ],
   "source": [
    "ages_data = vaccindata.groupby(\"Ålder\")[\"Befolkning\"].sum()\n",
    "ages_data = pd.concat([ages_data, pd.Series({'0-11': children_0_11})])\n",
    "ages_data"
   ]
  },
  {
   "cell_type": "code",
   "execution_count": 16,
   "metadata": {},
   "outputs": [
    {
     "data": {
      "text/plain": [
       "array(['12-15', '16-17', '18-29', '30-39', '40-49', '50-59', '60-69',\n",
       "       '70-79', '80-89', '90 eller äldre', '0-11'], dtype=object)"
      ]
     },
     "execution_count": 16,
     "metadata": {},
     "output_type": "execute_result"
    }
   ],
   "source": [
    "ages = vaccindata['Ålder'].unique()\n",
    "ages = np.append(ages, '0-11')\n",
    "ages"
   ]
  },
  {
   "cell_type": "markdown",
   "metadata": {},
   "source": [
    "We can draw a diagram about Swedish population right now, but I want to arrange the data into data frame in case I want some further data manipulation."
   ]
  },
  {
   "cell_type": "code",
   "execution_count": 17,
   "metadata": {},
   "outputs": [
    {
     "data": {
      "text/html": [
       "<div>\n",
       "<style scoped>\n",
       "    .dataframe tbody tr th:only-of-type {\n",
       "        vertical-align: middle;\n",
       "    }\n",
       "\n",
       "    .dataframe tbody tr th {\n",
       "        vertical-align: top;\n",
       "    }\n",
       "\n",
       "    .dataframe thead th {\n",
       "        text-align: right;\n",
       "    }\n",
       "</style>\n",
       "<table border=\"1\" class=\"dataframe\">\n",
       "  <thead>\n",
       "    <tr style=\"text-align: right;\">\n",
       "      <th></th>\n",
       "      <th>age_group</th>\n",
       "      <th>population</th>\n",
       "    </tr>\n",
       "  </thead>\n",
       "  <tbody>\n",
       "    <tr>\n",
       "      <th>12-15</th>\n",
       "      <td>12-15</td>\n",
       "      <td>503831</td>\n",
       "    </tr>\n",
       "    <tr>\n",
       "      <th>16-17</th>\n",
       "      <td>16-17</td>\n",
       "      <td>241539</td>\n",
       "    </tr>\n",
       "    <tr>\n",
       "      <th>18-29</th>\n",
       "      <td>18-29</td>\n",
       "      <td>1475950</td>\n",
       "    </tr>\n",
       "    <tr>\n",
       "      <th>30-39</th>\n",
       "      <td>30-39</td>\n",
       "      <td>1467590</td>\n",
       "    </tr>\n",
       "    <tr>\n",
       "      <th>40-49</th>\n",
       "      <td>40-49</td>\n",
       "      <td>1298156</td>\n",
       "    </tr>\n",
       "    <tr>\n",
       "      <th>50-59</th>\n",
       "      <td>50-59</td>\n",
       "      <td>1339798</td>\n",
       "    </tr>\n",
       "    <tr>\n",
       "      <th>60-69</th>\n",
       "      <td>60-69</td>\n",
       "      <td>1121922</td>\n",
       "    </tr>\n",
       "    <tr>\n",
       "      <th>70-79</th>\n",
       "      <td>70-79</td>\n",
       "      <td>1033113</td>\n",
       "    </tr>\n",
       "    <tr>\n",
       "      <th>80-89</th>\n",
       "      <td>80-89</td>\n",
       "      <td>496750</td>\n",
       "    </tr>\n",
       "    <tr>\n",
       "      <th>90 eller äldre</th>\n",
       "      <td>90 eller äldre</td>\n",
       "      <td>114141</td>\n",
       "    </tr>\n",
       "    <tr>\n",
       "      <th>0-11</th>\n",
       "      <td>0-11</td>\n",
       "      <td>1456557</td>\n",
       "    </tr>\n",
       "  </tbody>\n",
       "</table>\n",
       "</div>"
      ],
      "text/plain": [
       "                     age_group  population\n",
       "12-15                    12-15      503831\n",
       "16-17                    16-17      241539\n",
       "18-29                    18-29     1475950\n",
       "30-39                    30-39     1467590\n",
       "40-49                    40-49     1298156\n",
       "50-59                    50-59     1339798\n",
       "60-69                    60-69     1121922\n",
       "70-79                    70-79     1033113\n",
       "80-89                    80-89      496750\n",
       "90 eller äldre  90 eller äldre      114141\n",
       "0-11                      0-11     1456557"
      ]
     },
     "execution_count": 17,
     "metadata": {},
     "output_type": "execute_result"
    }
   ],
   "source": [
    "age_dic = {\"age_group\": ages,\n",
    "           \"population\": ages_data}\n",
    "\n",
    "age_frame = pd.DataFrame(age_dic)\n",
    "age_frame"
   ]
  },
  {
   "cell_type": "code",
   "execution_count": 18,
   "metadata": {},
   "outputs": [
    {
     "data": {
      "application/vnd.plotly.v1+json": {
       "config": {
        "plotlyServerURL": "https://plot.ly"
       },
       "data": [
        {
         "domain": {
          "x": [
           0,
           1
          ],
          "y": [
           0,
           1
          ]
         },
         "hovertemplate": "age_group=%{label}<br>population=%{value}<extra></extra>",
         "labels": [
          "12-15",
          "16-17",
          "18-29",
          "30-39",
          "40-49",
          "50-59",
          "60-69",
          "70-79",
          "80-89",
          "90 eller äldre",
          "0-11"
         ],
         "legendgroup": "",
         "name": "",
         "showlegend": true,
         "type": "pie",
         "values": [
          503831,
          241539,
          1475950,
          1467590,
          1298156,
          1339798,
          1121922,
          1033113,
          496750,
          114141,
          1456557
         ]
        }
       ],
       "layout": {
        "legend": {
         "tracegroupgap": 0
        },
        "template": {
         "data": {
          "bar": [
           {
            "error_x": {
             "color": "#2a3f5f"
            },
            "error_y": {
             "color": "#2a3f5f"
            },
            "marker": {
             "line": {
              "color": "#E5ECF6",
              "width": 0.5
             },
             "pattern": {
              "fillmode": "overlay",
              "size": 10,
              "solidity": 0.2
             }
            },
            "type": "bar"
           }
          ],
          "barpolar": [
           {
            "marker": {
             "line": {
              "color": "#E5ECF6",
              "width": 0.5
             },
             "pattern": {
              "fillmode": "overlay",
              "size": 10,
              "solidity": 0.2
             }
            },
            "type": "barpolar"
           }
          ],
          "carpet": [
           {
            "aaxis": {
             "endlinecolor": "#2a3f5f",
             "gridcolor": "white",
             "linecolor": "white",
             "minorgridcolor": "white",
             "startlinecolor": "#2a3f5f"
            },
            "baxis": {
             "endlinecolor": "#2a3f5f",
             "gridcolor": "white",
             "linecolor": "white",
             "minorgridcolor": "white",
             "startlinecolor": "#2a3f5f"
            },
            "type": "carpet"
           }
          ],
          "choropleth": [
           {
            "colorbar": {
             "outlinewidth": 0,
             "ticks": ""
            },
            "type": "choropleth"
           }
          ],
          "contour": [
           {
            "colorbar": {
             "outlinewidth": 0,
             "ticks": ""
            },
            "colorscale": [
             [
              0,
              "#0d0887"
             ],
             [
              0.1111111111111111,
              "#46039f"
             ],
             [
              0.2222222222222222,
              "#7201a8"
             ],
             [
              0.3333333333333333,
              "#9c179e"
             ],
             [
              0.4444444444444444,
              "#bd3786"
             ],
             [
              0.5555555555555556,
              "#d8576b"
             ],
             [
              0.6666666666666666,
              "#ed7953"
             ],
             [
              0.7777777777777778,
              "#fb9f3a"
             ],
             [
              0.8888888888888888,
              "#fdca26"
             ],
             [
              1,
              "#f0f921"
             ]
            ],
            "type": "contour"
           }
          ],
          "contourcarpet": [
           {
            "colorbar": {
             "outlinewidth": 0,
             "ticks": ""
            },
            "type": "contourcarpet"
           }
          ],
          "heatmap": [
           {
            "colorbar": {
             "outlinewidth": 0,
             "ticks": ""
            },
            "colorscale": [
             [
              0,
              "#0d0887"
             ],
             [
              0.1111111111111111,
              "#46039f"
             ],
             [
              0.2222222222222222,
              "#7201a8"
             ],
             [
              0.3333333333333333,
              "#9c179e"
             ],
             [
              0.4444444444444444,
              "#bd3786"
             ],
             [
              0.5555555555555556,
              "#d8576b"
             ],
             [
              0.6666666666666666,
              "#ed7953"
             ],
             [
              0.7777777777777778,
              "#fb9f3a"
             ],
             [
              0.8888888888888888,
              "#fdca26"
             ],
             [
              1,
              "#f0f921"
             ]
            ],
            "type": "heatmap"
           }
          ],
          "heatmapgl": [
           {
            "colorbar": {
             "outlinewidth": 0,
             "ticks": ""
            },
            "colorscale": [
             [
              0,
              "#0d0887"
             ],
             [
              0.1111111111111111,
              "#46039f"
             ],
             [
              0.2222222222222222,
              "#7201a8"
             ],
             [
              0.3333333333333333,
              "#9c179e"
             ],
             [
              0.4444444444444444,
              "#bd3786"
             ],
             [
              0.5555555555555556,
              "#d8576b"
             ],
             [
              0.6666666666666666,
              "#ed7953"
             ],
             [
              0.7777777777777778,
              "#fb9f3a"
             ],
             [
              0.8888888888888888,
              "#fdca26"
             ],
             [
              1,
              "#f0f921"
             ]
            ],
            "type": "heatmapgl"
           }
          ],
          "histogram": [
           {
            "marker": {
             "pattern": {
              "fillmode": "overlay",
              "size": 10,
              "solidity": 0.2
             }
            },
            "type": "histogram"
           }
          ],
          "histogram2d": [
           {
            "colorbar": {
             "outlinewidth": 0,
             "ticks": ""
            },
            "colorscale": [
             [
              0,
              "#0d0887"
             ],
             [
              0.1111111111111111,
              "#46039f"
             ],
             [
              0.2222222222222222,
              "#7201a8"
             ],
             [
              0.3333333333333333,
              "#9c179e"
             ],
             [
              0.4444444444444444,
              "#bd3786"
             ],
             [
              0.5555555555555556,
              "#d8576b"
             ],
             [
              0.6666666666666666,
              "#ed7953"
             ],
             [
              0.7777777777777778,
              "#fb9f3a"
             ],
             [
              0.8888888888888888,
              "#fdca26"
             ],
             [
              1,
              "#f0f921"
             ]
            ],
            "type": "histogram2d"
           }
          ],
          "histogram2dcontour": [
           {
            "colorbar": {
             "outlinewidth": 0,
             "ticks": ""
            },
            "colorscale": [
             [
              0,
              "#0d0887"
             ],
             [
              0.1111111111111111,
              "#46039f"
             ],
             [
              0.2222222222222222,
              "#7201a8"
             ],
             [
              0.3333333333333333,
              "#9c179e"
             ],
             [
              0.4444444444444444,
              "#bd3786"
             ],
             [
              0.5555555555555556,
              "#d8576b"
             ],
             [
              0.6666666666666666,
              "#ed7953"
             ],
             [
              0.7777777777777778,
              "#fb9f3a"
             ],
             [
              0.8888888888888888,
              "#fdca26"
             ],
             [
              1,
              "#f0f921"
             ]
            ],
            "type": "histogram2dcontour"
           }
          ],
          "mesh3d": [
           {
            "colorbar": {
             "outlinewidth": 0,
             "ticks": ""
            },
            "type": "mesh3d"
           }
          ],
          "parcoords": [
           {
            "line": {
             "colorbar": {
              "outlinewidth": 0,
              "ticks": ""
             }
            },
            "type": "parcoords"
           }
          ],
          "pie": [
           {
            "automargin": true,
            "type": "pie"
           }
          ],
          "scatter": [
           {
            "fillpattern": {
             "fillmode": "overlay",
             "size": 10,
             "solidity": 0.2
            },
            "type": "scatter"
           }
          ],
          "scatter3d": [
           {
            "line": {
             "colorbar": {
              "outlinewidth": 0,
              "ticks": ""
             }
            },
            "marker": {
             "colorbar": {
              "outlinewidth": 0,
              "ticks": ""
             }
            },
            "type": "scatter3d"
           }
          ],
          "scattercarpet": [
           {
            "marker": {
             "colorbar": {
              "outlinewidth": 0,
              "ticks": ""
             }
            },
            "type": "scattercarpet"
           }
          ],
          "scattergeo": [
           {
            "marker": {
             "colorbar": {
              "outlinewidth": 0,
              "ticks": ""
             }
            },
            "type": "scattergeo"
           }
          ],
          "scattergl": [
           {
            "marker": {
             "colorbar": {
              "outlinewidth": 0,
              "ticks": ""
             }
            },
            "type": "scattergl"
           }
          ],
          "scattermapbox": [
           {
            "marker": {
             "colorbar": {
              "outlinewidth": 0,
              "ticks": ""
             }
            },
            "type": "scattermapbox"
           }
          ],
          "scatterpolar": [
           {
            "marker": {
             "colorbar": {
              "outlinewidth": 0,
              "ticks": ""
             }
            },
            "type": "scatterpolar"
           }
          ],
          "scatterpolargl": [
           {
            "marker": {
             "colorbar": {
              "outlinewidth": 0,
              "ticks": ""
             }
            },
            "type": "scatterpolargl"
           }
          ],
          "scatterternary": [
           {
            "marker": {
             "colorbar": {
              "outlinewidth": 0,
              "ticks": ""
             }
            },
            "type": "scatterternary"
           }
          ],
          "surface": [
           {
            "colorbar": {
             "outlinewidth": 0,
             "ticks": ""
            },
            "colorscale": [
             [
              0,
              "#0d0887"
             ],
             [
              0.1111111111111111,
              "#46039f"
             ],
             [
              0.2222222222222222,
              "#7201a8"
             ],
             [
              0.3333333333333333,
              "#9c179e"
             ],
             [
              0.4444444444444444,
              "#bd3786"
             ],
             [
              0.5555555555555556,
              "#d8576b"
             ],
             [
              0.6666666666666666,
              "#ed7953"
             ],
             [
              0.7777777777777778,
              "#fb9f3a"
             ],
             [
              0.8888888888888888,
              "#fdca26"
             ],
             [
              1,
              "#f0f921"
             ]
            ],
            "type": "surface"
           }
          ],
          "table": [
           {
            "cells": {
             "fill": {
              "color": "#EBF0F8"
             },
             "line": {
              "color": "white"
             }
            },
            "header": {
             "fill": {
              "color": "#C8D4E3"
             },
             "line": {
              "color": "white"
             }
            },
            "type": "table"
           }
          ]
         },
         "layout": {
          "annotationdefaults": {
           "arrowcolor": "#2a3f5f",
           "arrowhead": 0,
           "arrowwidth": 1
          },
          "autotypenumbers": "strict",
          "coloraxis": {
           "colorbar": {
            "outlinewidth": 0,
            "ticks": ""
           }
          },
          "colorscale": {
           "diverging": [
            [
             0,
             "#8e0152"
            ],
            [
             0.1,
             "#c51b7d"
            ],
            [
             0.2,
             "#de77ae"
            ],
            [
             0.3,
             "#f1b6da"
            ],
            [
             0.4,
             "#fde0ef"
            ],
            [
             0.5,
             "#f7f7f7"
            ],
            [
             0.6,
             "#e6f5d0"
            ],
            [
             0.7,
             "#b8e186"
            ],
            [
             0.8,
             "#7fbc41"
            ],
            [
             0.9,
             "#4d9221"
            ],
            [
             1,
             "#276419"
            ]
           ],
           "sequential": [
            [
             0,
             "#0d0887"
            ],
            [
             0.1111111111111111,
             "#46039f"
            ],
            [
             0.2222222222222222,
             "#7201a8"
            ],
            [
             0.3333333333333333,
             "#9c179e"
            ],
            [
             0.4444444444444444,
             "#bd3786"
            ],
            [
             0.5555555555555556,
             "#d8576b"
            ],
            [
             0.6666666666666666,
             "#ed7953"
            ],
            [
             0.7777777777777778,
             "#fb9f3a"
            ],
            [
             0.8888888888888888,
             "#fdca26"
            ],
            [
             1,
             "#f0f921"
            ]
           ],
           "sequentialminus": [
            [
             0,
             "#0d0887"
            ],
            [
             0.1111111111111111,
             "#46039f"
            ],
            [
             0.2222222222222222,
             "#7201a8"
            ],
            [
             0.3333333333333333,
             "#9c179e"
            ],
            [
             0.4444444444444444,
             "#bd3786"
            ],
            [
             0.5555555555555556,
             "#d8576b"
            ],
            [
             0.6666666666666666,
             "#ed7953"
            ],
            [
             0.7777777777777778,
             "#fb9f3a"
            ],
            [
             0.8888888888888888,
             "#fdca26"
            ],
            [
             1,
             "#f0f921"
            ]
           ]
          },
          "colorway": [
           "#636efa",
           "#EF553B",
           "#00cc96",
           "#ab63fa",
           "#FFA15A",
           "#19d3f3",
           "#FF6692",
           "#B6E880",
           "#FF97FF",
           "#FECB52"
          ],
          "font": {
           "color": "#2a3f5f"
          },
          "geo": {
           "bgcolor": "white",
           "lakecolor": "white",
           "landcolor": "#E5ECF6",
           "showlakes": true,
           "showland": true,
           "subunitcolor": "white"
          },
          "hoverlabel": {
           "align": "left"
          },
          "hovermode": "closest",
          "mapbox": {
           "style": "light"
          },
          "paper_bgcolor": "white",
          "plot_bgcolor": "#E5ECF6",
          "polar": {
           "angularaxis": {
            "gridcolor": "white",
            "linecolor": "white",
            "ticks": ""
           },
           "bgcolor": "#E5ECF6",
           "radialaxis": {
            "gridcolor": "white",
            "linecolor": "white",
            "ticks": ""
           }
          },
          "scene": {
           "xaxis": {
            "backgroundcolor": "#E5ECF6",
            "gridcolor": "white",
            "gridwidth": 2,
            "linecolor": "white",
            "showbackground": true,
            "ticks": "",
            "zerolinecolor": "white"
           },
           "yaxis": {
            "backgroundcolor": "#E5ECF6",
            "gridcolor": "white",
            "gridwidth": 2,
            "linecolor": "white",
            "showbackground": true,
            "ticks": "",
            "zerolinecolor": "white"
           },
           "zaxis": {
            "backgroundcolor": "#E5ECF6",
            "gridcolor": "white",
            "gridwidth": 2,
            "linecolor": "white",
            "showbackground": true,
            "ticks": "",
            "zerolinecolor": "white"
           }
          },
          "shapedefaults": {
           "line": {
            "color": "#2a3f5f"
           }
          },
          "ternary": {
           "aaxis": {
            "gridcolor": "white",
            "linecolor": "white",
            "ticks": ""
           },
           "baxis": {
            "gridcolor": "white",
            "linecolor": "white",
            "ticks": ""
           },
           "bgcolor": "#E5ECF6",
           "caxis": {
            "gridcolor": "white",
            "linecolor": "white",
            "ticks": ""
           }
          },
          "title": {
           "x": 0.05
          },
          "xaxis": {
           "automargin": true,
           "gridcolor": "white",
           "linecolor": "white",
           "ticks": "",
           "title": {
            "standoff": 15
           },
           "zerolinecolor": "white",
           "zerolinewidth": 2
          },
          "yaxis": {
           "automargin": true,
           "gridcolor": "white",
           "linecolor": "white",
           "ticks": "",
           "title": {
            "standoff": 15
           },
           "zerolinecolor": "white",
           "zerolinewidth": 2
          }
         }
        },
        "title": {
         "text": "Swedish population by ages"
        }
       }
      }
     },
     "metadata": {},
     "output_type": "display_data"
    }
   ],
   "source": [
    "fig = px.pie(age_frame, values = 'population', names = 'age_group', title = \"Swedish population by ages\")\n",
    "fig.show()\n",
    "fig.write_html(\"./Visualizations/Plotly parts 1_2/Swedish_population_age.html\")\n"
   ]
  },
  {
   "cell_type": "markdown",
   "metadata": {},
   "source": [
    "Let's find the procent of people vaccinated with 1/2/3 doses in each county."
   ]
  },
  {
   "cell_type": "code",
   "execution_count": 19,
   "metadata": {},
   "outputs": [
    {
     "data": {
      "text/html": [
       "<div>\n",
       "<style scoped>\n",
       "    .dataframe tbody tr th:only-of-type {\n",
       "        vertical-align: middle;\n",
       "    }\n",
       "\n",
       "    .dataframe tbody tr th {\n",
       "        vertical-align: top;\n",
       "    }\n",
       "\n",
       "    .dataframe thead th {\n",
       "        text-align: right;\n",
       "    }\n",
       "</style>\n",
       "<table border=\"1\" class=\"dataframe\">\n",
       "  <thead>\n",
       "    <tr style=\"text-align: right;\">\n",
       "      <th></th>\n",
       "      <th>Antal minst 1 dos</th>\n",
       "      <th>Antal minst 2 doser</th>\n",
       "      <th>Antal 3 doser</th>\n",
       "      <th>Befolkning</th>\n",
       "    </tr>\n",
       "    <tr>\n",
       "      <th>Län_namn</th>\n",
       "      <th></th>\n",
       "      <th></th>\n",
       "      <th></th>\n",
       "      <th></th>\n",
       "    </tr>\n",
       "  </thead>\n",
       "  <tbody>\n",
       "    <tr>\n",
       "      <th>Blekinge län</th>\n",
       "      <td>122500</td>\n",
       "      <td>120727</td>\n",
       "      <td>92259.0</td>\n",
       "      <td>139327</td>\n",
       "    </tr>\n",
       "    <tr>\n",
       "      <th>Dalarnas län</th>\n",
       "      <td>221420</td>\n",
       "      <td>218009</td>\n",
       "      <td>164296.0</td>\n",
       "      <td>252075</td>\n",
       "    </tr>\n",
       "    <tr>\n",
       "      <th>Gotlands län</th>\n",
       "      <td>48785</td>\n",
       "      <td>47930</td>\n",
       "      <td>37423.0</td>\n",
       "      <td>53924</td>\n",
       "    </tr>\n",
       "    <tr>\n",
       "      <th>Gävleborgs län</th>\n",
       "      <td>220389</td>\n",
       "      <td>215267</td>\n",
       "      <td>159636.0</td>\n",
       "      <td>252216</td>\n",
       "    </tr>\n",
       "    <tr>\n",
       "      <th>Hallands län</th>\n",
       "      <td>259143</td>\n",
       "      <td>255329</td>\n",
       "      <td>191997.0</td>\n",
       "      <td>295663</td>\n",
       "    </tr>\n",
       "    <tr>\n",
       "      <th>Jämtlands län</th>\n",
       "      <td>102236</td>\n",
       "      <td>100525</td>\n",
       "      <td>73332.0</td>\n",
       "      <td>115398</td>\n",
       "    </tr>\n",
       "    <tr>\n",
       "      <th>Jönköpings län</th>\n",
       "      <td>274960</td>\n",
       "      <td>270266</td>\n",
       "      <td>199488.0</td>\n",
       "      <td>317355</td>\n",
       "    </tr>\n",
       "    <tr>\n",
       "      <th>Kalmar län</th>\n",
       "      <td>190931</td>\n",
       "      <td>188522</td>\n",
       "      <td>147192.0</td>\n",
       "      <td>216763</td>\n",
       "    </tr>\n",
       "    <tr>\n",
       "      <th>Kronobergs län</th>\n",
       "      <td>149141</td>\n",
       "      <td>146494</td>\n",
       "      <td>103745.0</td>\n",
       "      <td>175503</td>\n",
       "    </tr>\n",
       "    <tr>\n",
       "      <th>Norrbottens län</th>\n",
       "      <td>198514</td>\n",
       "      <td>195919</td>\n",
       "      <td>149293.0</td>\n",
       "      <td>220199</td>\n",
       "    </tr>\n",
       "    <tr>\n",
       "      <th>Skåne län</th>\n",
       "      <td>1007694</td>\n",
       "      <td>985309</td>\n",
       "      <td>685222.0</td>\n",
       "      <td>1215047</td>\n",
       "    </tr>\n",
       "    <tr>\n",
       "      <th>Stockholms län</th>\n",
       "      <td>1741130</td>\n",
       "      <td>1678031</td>\n",
       "      <td>1192864.0</td>\n",
       "      <td>2094721</td>\n",
       "    </tr>\n",
       "    <tr>\n",
       "      <th>Södermanlands län</th>\n",
       "      <td>227148</td>\n",
       "      <td>221339</td>\n",
       "      <td>160458.0</td>\n",
       "      <td>261596</td>\n",
       "    </tr>\n",
       "    <tr>\n",
       "      <th>Uppsala län</th>\n",
       "      <td>307543</td>\n",
       "      <td>300800</td>\n",
       "      <td>225743.0</td>\n",
       "      <td>343478</td>\n",
       "    </tr>\n",
       "    <tr>\n",
       "      <th>Värmlands län</th>\n",
       "      <td>225281</td>\n",
       "      <td>222677</td>\n",
       "      <td>171924.0</td>\n",
       "      <td>248314</td>\n",
       "    </tr>\n",
       "    <tr>\n",
       "      <th>Västerbottens län</th>\n",
       "      <td>219914</td>\n",
       "      <td>216449</td>\n",
       "      <td>162188.0</td>\n",
       "      <td>239604</td>\n",
       "    </tr>\n",
       "    <tr>\n",
       "      <th>Västernorrlands län</th>\n",
       "      <td>191020</td>\n",
       "      <td>187785</td>\n",
       "      <td>142106.0</td>\n",
       "      <td>214317</td>\n",
       "    </tr>\n",
       "    <tr>\n",
       "      <th>Västmanlands län</th>\n",
       "      <td>208909</td>\n",
       "      <td>203814</td>\n",
       "      <td>148679.0</td>\n",
       "      <td>242630</td>\n",
       "    </tr>\n",
       "    <tr>\n",
       "      <th>Västra Götalands län</th>\n",
       "      <td>1299275</td>\n",
       "      <td>1266642</td>\n",
       "      <td>882706.0</td>\n",
       "      <td>1519483</td>\n",
       "    </tr>\n",
       "    <tr>\n",
       "      <th>Örebro län</th>\n",
       "      <td>233471</td>\n",
       "      <td>229855</td>\n",
       "      <td>171382.0</td>\n",
       "      <td>266544</td>\n",
       "    </tr>\n",
       "    <tr>\n",
       "      <th>Östergötlands län</th>\n",
       "      <td>360972</td>\n",
       "      <td>355896</td>\n",
       "      <td>269317.0</td>\n",
       "      <td>408633</td>\n",
       "    </tr>\n",
       "  </tbody>\n",
       "</table>\n",
       "</div>"
      ],
      "text/plain": [
       "                      Antal minst 1 dos  Antal minst 2 doser  Antal 3 doser  \\\n",
       "Län_namn                                                                      \n",
       "Blekinge län                     122500               120727        92259.0   \n",
       "Dalarnas län                     221420               218009       164296.0   \n",
       "Gotlands län                      48785                47930        37423.0   \n",
       "Gävleborgs län                   220389               215267       159636.0   \n",
       "Hallands län                     259143               255329       191997.0   \n",
       "Jämtlands län                    102236               100525        73332.0   \n",
       "Jönköpings län                   274960               270266       199488.0   \n",
       "Kalmar län                       190931               188522       147192.0   \n",
       "Kronobergs län                   149141               146494       103745.0   \n",
       "Norrbottens län                  198514               195919       149293.0   \n",
       "Skåne län                       1007694               985309       685222.0   \n",
       "Stockholms län                  1741130              1678031      1192864.0   \n",
       "Södermanlands län                227148               221339       160458.0   \n",
       "Uppsala län                      307543               300800       225743.0   \n",
       "Värmlands län                    225281               222677       171924.0   \n",
       "Västerbottens län                219914               216449       162188.0   \n",
       "Västernorrlands län              191020               187785       142106.0   \n",
       "Västmanlands län                 208909               203814       148679.0   \n",
       "Västra Götalands län            1299275              1266642       882706.0   \n",
       "Örebro län                       233471               229855       171382.0   \n",
       "Östergötlands län                360972               355896       269317.0   \n",
       "\n",
       "                      Befolkning  \n",
       "Län_namn                          \n",
       "Blekinge län              139327  \n",
       "Dalarnas län              252075  \n",
       "Gotlands län               53924  \n",
       "Gävleborgs län            252216  \n",
       "Hallands län              295663  \n",
       "Jämtlands län             115398  \n",
       "Jönköpings län            317355  \n",
       "Kalmar län                216763  \n",
       "Kronobergs län            175503  \n",
       "Norrbottens län           220199  \n",
       "Skåne län                1215047  \n",
       "Stockholms län           2094721  \n",
       "Södermanlands län         261596  \n",
       "Uppsala län               343478  \n",
       "Värmlands län             248314  \n",
       "Västerbottens län         239604  \n",
       "Västernorrlands län       214317  \n",
       "Västmanlands län          242630  \n",
       "Västra Götalands län     1519483  \n",
       "Örebro län                266544  \n",
       "Östergötlands län         408633  "
      ]
     },
     "execution_count": 19,
     "metadata": {},
     "output_type": "execute_result"
    }
   ],
   "source": [
    "counties_vaccinated = vaccindata.groupby('Län_namn')[\n",
    "    ['Antal minst 1 dos', 'Antal minst 2 doser', 'Antal 3 doser', 'Befolkning']\n",
    "    ].sum() \n",
    "counties_vaccinated"
   ]
  },
  {
   "cell_type": "code",
   "execution_count": 20,
   "metadata": {},
   "outputs": [
    {
     "data": {
      "text/html": [
       "<div>\n",
       "<style scoped>\n",
       "    .dataframe tbody tr th:only-of-type {\n",
       "        vertical-align: middle;\n",
       "    }\n",
       "\n",
       "    .dataframe tbody tr th {\n",
       "        vertical-align: top;\n",
       "    }\n",
       "\n",
       "    .dataframe thead th {\n",
       "        text-align: right;\n",
       "    }\n",
       "</style>\n",
       "<table border=\"1\" class=\"dataframe\">\n",
       "  <thead>\n",
       "    <tr style=\"text-align: right;\">\n",
       "      <th></th>\n",
       "      <th>Antal minst 1 dos</th>\n",
       "      <th>Antal minst 2 doser</th>\n",
       "      <th>Antal 3 doser</th>\n",
       "      <th>Befolkning</th>\n",
       "      <th>% 1 dos</th>\n",
       "      <th>% 2 doser</th>\n",
       "      <th>% 3 doser</th>\n",
       "    </tr>\n",
       "    <tr>\n",
       "      <th>Län_namn</th>\n",
       "      <th></th>\n",
       "      <th></th>\n",
       "      <th></th>\n",
       "      <th></th>\n",
       "      <th></th>\n",
       "      <th></th>\n",
       "      <th></th>\n",
       "    </tr>\n",
       "  </thead>\n",
       "  <tbody>\n",
       "    <tr>\n",
       "      <th>Blekinge län</th>\n",
       "      <td>122500</td>\n",
       "      <td>120727</td>\n",
       "      <td>92259.00</td>\n",
       "      <td>139327</td>\n",
       "      <td>87.92</td>\n",
       "      <td>86.65</td>\n",
       "      <td>66.22</td>\n",
       "    </tr>\n",
       "    <tr>\n",
       "      <th>Dalarnas län</th>\n",
       "      <td>221420</td>\n",
       "      <td>218009</td>\n",
       "      <td>164296.00</td>\n",
       "      <td>252075</td>\n",
       "      <td>87.84</td>\n",
       "      <td>86.49</td>\n",
       "      <td>65.18</td>\n",
       "    </tr>\n",
       "    <tr>\n",
       "      <th>Gotlands län</th>\n",
       "      <td>48785</td>\n",
       "      <td>47930</td>\n",
       "      <td>37423.00</td>\n",
       "      <td>53924</td>\n",
       "      <td>90.47</td>\n",
       "      <td>88.88</td>\n",
       "      <td>69.40</td>\n",
       "    </tr>\n",
       "    <tr>\n",
       "      <th>Gävleborgs län</th>\n",
       "      <td>220389</td>\n",
       "      <td>215267</td>\n",
       "      <td>159636.00</td>\n",
       "      <td>252216</td>\n",
       "      <td>87.38</td>\n",
       "      <td>85.35</td>\n",
       "      <td>63.29</td>\n",
       "    </tr>\n",
       "    <tr>\n",
       "      <th>Hallands län</th>\n",
       "      <td>259143</td>\n",
       "      <td>255329</td>\n",
       "      <td>191997.00</td>\n",
       "      <td>295663</td>\n",
       "      <td>87.65</td>\n",
       "      <td>86.36</td>\n",
       "      <td>64.94</td>\n",
       "    </tr>\n",
       "    <tr>\n",
       "      <th>Jämtlands län</th>\n",
       "      <td>102236</td>\n",
       "      <td>100525</td>\n",
       "      <td>73332.00</td>\n",
       "      <td>115398</td>\n",
       "      <td>88.59</td>\n",
       "      <td>87.11</td>\n",
       "      <td>63.55</td>\n",
       "    </tr>\n",
       "    <tr>\n",
       "      <th>Jönköpings län</th>\n",
       "      <td>274960</td>\n",
       "      <td>270266</td>\n",
       "      <td>199488.00</td>\n",
       "      <td>317355</td>\n",
       "      <td>86.64</td>\n",
       "      <td>85.16</td>\n",
       "      <td>62.86</td>\n",
       "    </tr>\n",
       "    <tr>\n",
       "      <th>Kalmar län</th>\n",
       "      <td>190931</td>\n",
       "      <td>188522</td>\n",
       "      <td>147192.00</td>\n",
       "      <td>216763</td>\n",
       "      <td>88.08</td>\n",
       "      <td>86.97</td>\n",
       "      <td>67.90</td>\n",
       "    </tr>\n",
       "    <tr>\n",
       "      <th>Kronobergs län</th>\n",
       "      <td>149141</td>\n",
       "      <td>146494</td>\n",
       "      <td>103745.00</td>\n",
       "      <td>175503</td>\n",
       "      <td>84.98</td>\n",
       "      <td>83.47</td>\n",
       "      <td>59.11</td>\n",
       "    </tr>\n",
       "    <tr>\n",
       "      <th>Norrbottens län</th>\n",
       "      <td>198514</td>\n",
       "      <td>195919</td>\n",
       "      <td>149293.00</td>\n",
       "      <td>220199</td>\n",
       "      <td>90.15</td>\n",
       "      <td>88.97</td>\n",
       "      <td>67.80</td>\n",
       "    </tr>\n",
       "    <tr>\n",
       "      <th>Skåne län</th>\n",
       "      <td>1007694</td>\n",
       "      <td>985309</td>\n",
       "      <td>685222.00</td>\n",
       "      <td>1215047</td>\n",
       "      <td>82.93</td>\n",
       "      <td>81.09</td>\n",
       "      <td>56.39</td>\n",
       "    </tr>\n",
       "    <tr>\n",
       "      <th>Stockholms län</th>\n",
       "      <td>1741130</td>\n",
       "      <td>1678031</td>\n",
       "      <td>1192864.00</td>\n",
       "      <td>2094721</td>\n",
       "      <td>83.12</td>\n",
       "      <td>80.11</td>\n",
       "      <td>56.95</td>\n",
       "    </tr>\n",
       "    <tr>\n",
       "      <th>Södermanlands län</th>\n",
       "      <td>227148</td>\n",
       "      <td>221339</td>\n",
       "      <td>160458.00</td>\n",
       "      <td>261596</td>\n",
       "      <td>86.83</td>\n",
       "      <td>84.61</td>\n",
       "      <td>61.34</td>\n",
       "    </tr>\n",
       "    <tr>\n",
       "      <th>Uppsala län</th>\n",
       "      <td>307543</td>\n",
       "      <td>300800</td>\n",
       "      <td>225743.00</td>\n",
       "      <td>343478</td>\n",
       "      <td>89.54</td>\n",
       "      <td>87.57</td>\n",
       "      <td>65.72</td>\n",
       "    </tr>\n",
       "    <tr>\n",
       "      <th>Värmlands län</th>\n",
       "      <td>225281</td>\n",
       "      <td>222677</td>\n",
       "      <td>171924.00</td>\n",
       "      <td>248314</td>\n",
       "      <td>90.72</td>\n",
       "      <td>89.68</td>\n",
       "      <td>69.24</td>\n",
       "    </tr>\n",
       "    <tr>\n",
       "      <th>Västerbottens län</th>\n",
       "      <td>219914</td>\n",
       "      <td>216449</td>\n",
       "      <td>162188.00</td>\n",
       "      <td>239604</td>\n",
       "      <td>91.78</td>\n",
       "      <td>90.34</td>\n",
       "      <td>67.69</td>\n",
       "    </tr>\n",
       "    <tr>\n",
       "      <th>Västernorrlands län</th>\n",
       "      <td>191020</td>\n",
       "      <td>187785</td>\n",
       "      <td>142106.00</td>\n",
       "      <td>214317</td>\n",
       "      <td>89.13</td>\n",
       "      <td>87.62</td>\n",
       "      <td>66.31</td>\n",
       "    </tr>\n",
       "    <tr>\n",
       "      <th>Västmanlands län</th>\n",
       "      <td>208909</td>\n",
       "      <td>203814</td>\n",
       "      <td>148679.00</td>\n",
       "      <td>242630</td>\n",
       "      <td>86.10</td>\n",
       "      <td>84.00</td>\n",
       "      <td>61.28</td>\n",
       "    </tr>\n",
       "    <tr>\n",
       "      <th>Västra Götalands län</th>\n",
       "      <td>1299275</td>\n",
       "      <td>1266642</td>\n",
       "      <td>882706.00</td>\n",
       "      <td>1519483</td>\n",
       "      <td>85.51</td>\n",
       "      <td>83.36</td>\n",
       "      <td>58.09</td>\n",
       "    </tr>\n",
       "    <tr>\n",
       "      <th>Örebro län</th>\n",
       "      <td>233471</td>\n",
       "      <td>229855</td>\n",
       "      <td>171382.00</td>\n",
       "      <td>266544</td>\n",
       "      <td>87.59</td>\n",
       "      <td>86.24</td>\n",
       "      <td>64.30</td>\n",
       "    </tr>\n",
       "    <tr>\n",
       "      <th>Östergötlands län</th>\n",
       "      <td>360972</td>\n",
       "      <td>355896</td>\n",
       "      <td>269317.00</td>\n",
       "      <td>408633</td>\n",
       "      <td>88.34</td>\n",
       "      <td>87.09</td>\n",
       "      <td>65.91</td>\n",
       "    </tr>\n",
       "  </tbody>\n",
       "</table>\n",
       "</div>"
      ],
      "text/plain": [
       "                      Antal minst 1 dos  Antal minst 2 doser  Antal 3 doser  \\\n",
       "Län_namn                                                                      \n",
       "Blekinge län                     122500               120727       92259.00   \n",
       "Dalarnas län                     221420               218009      164296.00   \n",
       "Gotlands län                      48785                47930       37423.00   \n",
       "Gävleborgs län                   220389               215267      159636.00   \n",
       "Hallands län                     259143               255329      191997.00   \n",
       "Jämtlands län                    102236               100525       73332.00   \n",
       "Jönköpings län                   274960               270266      199488.00   \n",
       "Kalmar län                       190931               188522      147192.00   \n",
       "Kronobergs län                   149141               146494      103745.00   \n",
       "Norrbottens län                  198514               195919      149293.00   \n",
       "Skåne län                       1007694               985309      685222.00   \n",
       "Stockholms län                  1741130              1678031     1192864.00   \n",
       "Södermanlands län                227148               221339      160458.00   \n",
       "Uppsala län                      307543               300800      225743.00   \n",
       "Värmlands län                    225281               222677      171924.00   \n",
       "Västerbottens län                219914               216449      162188.00   \n",
       "Västernorrlands län              191020               187785      142106.00   \n",
       "Västmanlands län                 208909               203814      148679.00   \n",
       "Västra Götalands län            1299275              1266642      882706.00   \n",
       "Örebro län                       233471               229855      171382.00   \n",
       "Östergötlands län                360972               355896      269317.00   \n",
       "\n",
       "                      Befolkning  % 1 dos  % 2 doser  % 3 doser  \n",
       "Län_namn                                                         \n",
       "Blekinge län              139327    87.92      86.65      66.22  \n",
       "Dalarnas län              252075    87.84      86.49      65.18  \n",
       "Gotlands län               53924    90.47      88.88      69.40  \n",
       "Gävleborgs län            252216    87.38      85.35      63.29  \n",
       "Hallands län              295663    87.65      86.36      64.94  \n",
       "Jämtlands län             115398    88.59      87.11      63.55  \n",
       "Jönköpings län            317355    86.64      85.16      62.86  \n",
       "Kalmar län                216763    88.08      86.97      67.90  \n",
       "Kronobergs län            175503    84.98      83.47      59.11  \n",
       "Norrbottens län           220199    90.15      88.97      67.80  \n",
       "Skåne län                1215047    82.93      81.09      56.39  \n",
       "Stockholms län           2094721    83.12      80.11      56.95  \n",
       "Södermanlands län         261596    86.83      84.61      61.34  \n",
       "Uppsala län               343478    89.54      87.57      65.72  \n",
       "Värmlands län             248314    90.72      89.68      69.24  \n",
       "Västerbottens län         239604    91.78      90.34      67.69  \n",
       "Västernorrlands län       214317    89.13      87.62      66.31  \n",
       "Västmanlands län          242630    86.10      84.00      61.28  \n",
       "Västra Götalands län     1519483    85.51      83.36      58.09  \n",
       "Örebro län                266544    87.59      86.24      64.30  \n",
       "Östergötlands län         408633    88.34      87.09      65.91  "
      ]
     },
     "execution_count": 20,
     "metadata": {},
     "output_type": "execute_result"
    }
   ],
   "source": [
    "counties_vaccinated[\"% 1 dos\"] = counties_vaccinated[\"Antal minst 1 dos\"] / counties_vaccinated[\"Befolkning\"] * 100\n",
    "counties_vaccinated[\"% 2 doser\"] = counties_vaccinated[\"Antal minst 2 doser\"] / counties_vaccinated[\"Befolkning\"] * 100\n",
    "counties_vaccinated[\"% 3 doser\"] = counties_vaccinated[\"Antal 3 doser\"] / counties_vaccinated[\"Befolkning\"] * 100\n",
    "pd.set_option(\"display.float_format\", '{:.2f}'.format)\n",
    "counties_vaccinated"
   ]
  },
  {
   "cell_type": "code",
   "execution_count": 21,
   "metadata": {},
   "outputs": [
    {
     "data": {
      "application/vnd.plotly.v1+json": {
       "config": {
        "plotlyServerURL": "https://plot.ly"
       },
       "data": [
        {
         "alignmentgroup": "True",
         "hovertemplate": "number of doses=% 1 dos<br>County=%{x}<br>%=%{y}<extra></extra>",
         "legendgroup": "% 1 dos",
         "marker": {
          "color": "#636efa",
          "pattern": {
           "shape": ""
          }
         },
         "name": "% 1 dos",
         "offsetgroup": "% 1 dos",
         "orientation": "v",
         "showlegend": true,
         "textposition": "auto",
         "type": "bar",
         "x": [
          "Blekinge län",
          "Dalarnas län",
          "Gotlands län",
          "Gävleborgs län",
          "Hallands län",
          "Jämtlands län",
          "Jönköpings län",
          "Kalmar län",
          "Kronobergs län",
          "Norrbottens län",
          "Skåne län",
          "Stockholms län",
          "Södermanlands län",
          "Uppsala län",
          "Värmlands län",
          "Västerbottens län",
          "Västernorrlands län",
          "Västmanlands län",
          "Västra Götalands län",
          "Örebro län",
          "Östergötlands län"
         ],
         "xaxis": "x",
         "y": [
          87.92265677148005,
          87.83893682435783,
          90.46992062903345,
          87.38105433438005,
          87.64809935636181,
          88.59425639959098,
          86.64114319925635,
          88.08283701554232,
          84.97917414517131,
          90.15208970067984,
          82.93456960924145,
          83.11989997713299,
          86.83160292970841,
          89.53790344650895,
          90.72424430358336,
          91.78227408557453,
          89.12965373722103,
          86.101883526357,
          85.50770229084497,
          87.59191728194969,
          88.33647796433475
         ],
         "yaxis": "y"
        },
        {
         "alignmentgroup": "True",
         "hovertemplate": "number of doses=% 2 doser<br>County=%{x}<br>%=%{y}<extra></extra>",
         "legendgroup": "% 2 doser",
         "marker": {
          "color": "#EF553B",
          "pattern": {
           "shape": ""
          }
         },
         "name": "% 2 doser",
         "offsetgroup": "% 2 doser",
         "orientation": "v",
         "showlegend": true,
         "textposition": "auto",
         "type": "bar",
         "x": [
          "Blekinge län",
          "Dalarnas län",
          "Gotlands län",
          "Gävleborgs län",
          "Hallands län",
          "Jämtlands län",
          "Jönköpings län",
          "Kalmar län",
          "Kronobergs län",
          "Norrbottens län",
          "Skåne län",
          "Stockholms län",
          "Södermanlands län",
          "Uppsala län",
          "Värmlands län",
          "Västerbottens län",
          "Västernorrlands län",
          "Västmanlands län",
          "Västra Götalands län",
          "Örebro län",
          "Östergötlands län"
         ],
         "xaxis": "x",
         "y": [
          86.65011089020793,
          86.48576812456609,
          88.88435575995845,
          85.35025533669554,
          86.35811718070912,
          87.1115617255065,
          85.1620425076019,
          86.97148498590627,
          83.47093781872674,
          88.97361023437891,
          81.09225404449376,
          80.10761337667402,
          84.61100322634903,
          87.5747500567722,
          89.67557205795887,
          90.33613796096893,
          87.62020744971234,
          84.00197832090014,
          83.36006391647686,
          86.23529323488805,
          87.09428753918553
         ],
         "yaxis": "y"
        },
        {
         "alignmentgroup": "True",
         "hovertemplate": "number of doses=% 3 doser<br>County=%{x}<br>%=%{y}<extra></extra>",
         "legendgroup": "% 3 doser",
         "marker": {
          "color": "#00cc96",
          "pattern": {
           "shape": ""
          }
         },
         "name": "% 3 doser",
         "offsetgroup": "% 3 doser",
         "orientation": "v",
         "showlegend": true,
         "textposition": "auto",
         "type": "bar",
         "x": [
          "Blekinge län",
          "Dalarnas län",
          "Gotlands län",
          "Gävleborgs län",
          "Hallands län",
          "Jämtlands län",
          "Jönköpings län",
          "Kalmar län",
          "Kronobergs län",
          "Norrbottens län",
          "Skåne län",
          "Stockholms län",
          "Södermanlands län",
          "Uppsala län",
          "Värmlands län",
          "Västerbottens län",
          "Västernorrlands län",
          "Västmanlands län",
          "Västra Götalands län",
          "Örebro län",
          "Östergötlands län"
         ],
         "xaxis": "x",
         "y": [
          66.21760319248962,
          65.17742735297034,
          69.3995252577702,
          63.29336758968503,
          64.93778389585441,
          63.547028544688814,
          62.859573663562884,
          67.90457781078875,
          59.11294963618855,
          67.799127153166,
          56.394690904960875,
          56.94619951774007,
          61.33809385464609,
          65.72269548559152,
          69.23653116618475,
          67.69002186941788,
          66.30645259125501,
          61.27807773152537,
          58.0925222592158,
          64.2978270004202,
          65.90681614064454
         ],
         "yaxis": "y"
        }
       ],
       "layout": {
        "barmode": "group",
        "legend": {
         "title": {
          "text": "number of doses"
         },
         "tracegroupgap": 0
        },
        "template": {
         "data": {
          "bar": [
           {
            "error_x": {
             "color": "#2a3f5f"
            },
            "error_y": {
             "color": "#2a3f5f"
            },
            "marker": {
             "line": {
              "color": "#E5ECF6",
              "width": 0.5
             },
             "pattern": {
              "fillmode": "overlay",
              "size": 10,
              "solidity": 0.2
             }
            },
            "type": "bar"
           }
          ],
          "barpolar": [
           {
            "marker": {
             "line": {
              "color": "#E5ECF6",
              "width": 0.5
             },
             "pattern": {
              "fillmode": "overlay",
              "size": 10,
              "solidity": 0.2
             }
            },
            "type": "barpolar"
           }
          ],
          "carpet": [
           {
            "aaxis": {
             "endlinecolor": "#2a3f5f",
             "gridcolor": "white",
             "linecolor": "white",
             "minorgridcolor": "white",
             "startlinecolor": "#2a3f5f"
            },
            "baxis": {
             "endlinecolor": "#2a3f5f",
             "gridcolor": "white",
             "linecolor": "white",
             "minorgridcolor": "white",
             "startlinecolor": "#2a3f5f"
            },
            "type": "carpet"
           }
          ],
          "choropleth": [
           {
            "colorbar": {
             "outlinewidth": 0,
             "ticks": ""
            },
            "type": "choropleth"
           }
          ],
          "contour": [
           {
            "colorbar": {
             "outlinewidth": 0,
             "ticks": ""
            },
            "colorscale": [
             [
              0,
              "#0d0887"
             ],
             [
              0.1111111111111111,
              "#46039f"
             ],
             [
              0.2222222222222222,
              "#7201a8"
             ],
             [
              0.3333333333333333,
              "#9c179e"
             ],
             [
              0.4444444444444444,
              "#bd3786"
             ],
             [
              0.5555555555555556,
              "#d8576b"
             ],
             [
              0.6666666666666666,
              "#ed7953"
             ],
             [
              0.7777777777777778,
              "#fb9f3a"
             ],
             [
              0.8888888888888888,
              "#fdca26"
             ],
             [
              1,
              "#f0f921"
             ]
            ],
            "type": "contour"
           }
          ],
          "contourcarpet": [
           {
            "colorbar": {
             "outlinewidth": 0,
             "ticks": ""
            },
            "type": "contourcarpet"
           }
          ],
          "heatmap": [
           {
            "colorbar": {
             "outlinewidth": 0,
             "ticks": ""
            },
            "colorscale": [
             [
              0,
              "#0d0887"
             ],
             [
              0.1111111111111111,
              "#46039f"
             ],
             [
              0.2222222222222222,
              "#7201a8"
             ],
             [
              0.3333333333333333,
              "#9c179e"
             ],
             [
              0.4444444444444444,
              "#bd3786"
             ],
             [
              0.5555555555555556,
              "#d8576b"
             ],
             [
              0.6666666666666666,
              "#ed7953"
             ],
             [
              0.7777777777777778,
              "#fb9f3a"
             ],
             [
              0.8888888888888888,
              "#fdca26"
             ],
             [
              1,
              "#f0f921"
             ]
            ],
            "type": "heatmap"
           }
          ],
          "heatmapgl": [
           {
            "colorbar": {
             "outlinewidth": 0,
             "ticks": ""
            },
            "colorscale": [
             [
              0,
              "#0d0887"
             ],
             [
              0.1111111111111111,
              "#46039f"
             ],
             [
              0.2222222222222222,
              "#7201a8"
             ],
             [
              0.3333333333333333,
              "#9c179e"
             ],
             [
              0.4444444444444444,
              "#bd3786"
             ],
             [
              0.5555555555555556,
              "#d8576b"
             ],
             [
              0.6666666666666666,
              "#ed7953"
             ],
             [
              0.7777777777777778,
              "#fb9f3a"
             ],
             [
              0.8888888888888888,
              "#fdca26"
             ],
             [
              1,
              "#f0f921"
             ]
            ],
            "type": "heatmapgl"
           }
          ],
          "histogram": [
           {
            "marker": {
             "pattern": {
              "fillmode": "overlay",
              "size": 10,
              "solidity": 0.2
             }
            },
            "type": "histogram"
           }
          ],
          "histogram2d": [
           {
            "colorbar": {
             "outlinewidth": 0,
             "ticks": ""
            },
            "colorscale": [
             [
              0,
              "#0d0887"
             ],
             [
              0.1111111111111111,
              "#46039f"
             ],
             [
              0.2222222222222222,
              "#7201a8"
             ],
             [
              0.3333333333333333,
              "#9c179e"
             ],
             [
              0.4444444444444444,
              "#bd3786"
             ],
             [
              0.5555555555555556,
              "#d8576b"
             ],
             [
              0.6666666666666666,
              "#ed7953"
             ],
             [
              0.7777777777777778,
              "#fb9f3a"
             ],
             [
              0.8888888888888888,
              "#fdca26"
             ],
             [
              1,
              "#f0f921"
             ]
            ],
            "type": "histogram2d"
           }
          ],
          "histogram2dcontour": [
           {
            "colorbar": {
             "outlinewidth": 0,
             "ticks": ""
            },
            "colorscale": [
             [
              0,
              "#0d0887"
             ],
             [
              0.1111111111111111,
              "#46039f"
             ],
             [
              0.2222222222222222,
              "#7201a8"
             ],
             [
              0.3333333333333333,
              "#9c179e"
             ],
             [
              0.4444444444444444,
              "#bd3786"
             ],
             [
              0.5555555555555556,
              "#d8576b"
             ],
             [
              0.6666666666666666,
              "#ed7953"
             ],
             [
              0.7777777777777778,
              "#fb9f3a"
             ],
             [
              0.8888888888888888,
              "#fdca26"
             ],
             [
              1,
              "#f0f921"
             ]
            ],
            "type": "histogram2dcontour"
           }
          ],
          "mesh3d": [
           {
            "colorbar": {
             "outlinewidth": 0,
             "ticks": ""
            },
            "type": "mesh3d"
           }
          ],
          "parcoords": [
           {
            "line": {
             "colorbar": {
              "outlinewidth": 0,
              "ticks": ""
             }
            },
            "type": "parcoords"
           }
          ],
          "pie": [
           {
            "automargin": true,
            "type": "pie"
           }
          ],
          "scatter": [
           {
            "fillpattern": {
             "fillmode": "overlay",
             "size": 10,
             "solidity": 0.2
            },
            "type": "scatter"
           }
          ],
          "scatter3d": [
           {
            "line": {
             "colorbar": {
              "outlinewidth": 0,
              "ticks": ""
             }
            },
            "marker": {
             "colorbar": {
              "outlinewidth": 0,
              "ticks": ""
             }
            },
            "type": "scatter3d"
           }
          ],
          "scattercarpet": [
           {
            "marker": {
             "colorbar": {
              "outlinewidth": 0,
              "ticks": ""
             }
            },
            "type": "scattercarpet"
           }
          ],
          "scattergeo": [
           {
            "marker": {
             "colorbar": {
              "outlinewidth": 0,
              "ticks": ""
             }
            },
            "type": "scattergeo"
           }
          ],
          "scattergl": [
           {
            "marker": {
             "colorbar": {
              "outlinewidth": 0,
              "ticks": ""
             }
            },
            "type": "scattergl"
           }
          ],
          "scattermapbox": [
           {
            "marker": {
             "colorbar": {
              "outlinewidth": 0,
              "ticks": ""
             }
            },
            "type": "scattermapbox"
           }
          ],
          "scatterpolar": [
           {
            "marker": {
             "colorbar": {
              "outlinewidth": 0,
              "ticks": ""
             }
            },
            "type": "scatterpolar"
           }
          ],
          "scatterpolargl": [
           {
            "marker": {
             "colorbar": {
              "outlinewidth": 0,
              "ticks": ""
             }
            },
            "type": "scatterpolargl"
           }
          ],
          "scatterternary": [
           {
            "marker": {
             "colorbar": {
              "outlinewidth": 0,
              "ticks": ""
             }
            },
            "type": "scatterternary"
           }
          ],
          "surface": [
           {
            "colorbar": {
             "outlinewidth": 0,
             "ticks": ""
            },
            "colorscale": [
             [
              0,
              "#0d0887"
             ],
             [
              0.1111111111111111,
              "#46039f"
             ],
             [
              0.2222222222222222,
              "#7201a8"
             ],
             [
              0.3333333333333333,
              "#9c179e"
             ],
             [
              0.4444444444444444,
              "#bd3786"
             ],
             [
              0.5555555555555556,
              "#d8576b"
             ],
             [
              0.6666666666666666,
              "#ed7953"
             ],
             [
              0.7777777777777778,
              "#fb9f3a"
             ],
             [
              0.8888888888888888,
              "#fdca26"
             ],
             [
              1,
              "#f0f921"
             ]
            ],
            "type": "surface"
           }
          ],
          "table": [
           {
            "cells": {
             "fill": {
              "color": "#EBF0F8"
             },
             "line": {
              "color": "white"
             }
            },
            "header": {
             "fill": {
              "color": "#C8D4E3"
             },
             "line": {
              "color": "white"
             }
            },
            "type": "table"
           }
          ]
         },
         "layout": {
          "annotationdefaults": {
           "arrowcolor": "#2a3f5f",
           "arrowhead": 0,
           "arrowwidth": 1
          },
          "autotypenumbers": "strict",
          "coloraxis": {
           "colorbar": {
            "outlinewidth": 0,
            "ticks": ""
           }
          },
          "colorscale": {
           "diverging": [
            [
             0,
             "#8e0152"
            ],
            [
             0.1,
             "#c51b7d"
            ],
            [
             0.2,
             "#de77ae"
            ],
            [
             0.3,
             "#f1b6da"
            ],
            [
             0.4,
             "#fde0ef"
            ],
            [
             0.5,
             "#f7f7f7"
            ],
            [
             0.6,
             "#e6f5d0"
            ],
            [
             0.7,
             "#b8e186"
            ],
            [
             0.8,
             "#7fbc41"
            ],
            [
             0.9,
             "#4d9221"
            ],
            [
             1,
             "#276419"
            ]
           ],
           "sequential": [
            [
             0,
             "#0d0887"
            ],
            [
             0.1111111111111111,
             "#46039f"
            ],
            [
             0.2222222222222222,
             "#7201a8"
            ],
            [
             0.3333333333333333,
             "#9c179e"
            ],
            [
             0.4444444444444444,
             "#bd3786"
            ],
            [
             0.5555555555555556,
             "#d8576b"
            ],
            [
             0.6666666666666666,
             "#ed7953"
            ],
            [
             0.7777777777777778,
             "#fb9f3a"
            ],
            [
             0.8888888888888888,
             "#fdca26"
            ],
            [
             1,
             "#f0f921"
            ]
           ],
           "sequentialminus": [
            [
             0,
             "#0d0887"
            ],
            [
             0.1111111111111111,
             "#46039f"
            ],
            [
             0.2222222222222222,
             "#7201a8"
            ],
            [
             0.3333333333333333,
             "#9c179e"
            ],
            [
             0.4444444444444444,
             "#bd3786"
            ],
            [
             0.5555555555555556,
             "#d8576b"
            ],
            [
             0.6666666666666666,
             "#ed7953"
            ],
            [
             0.7777777777777778,
             "#fb9f3a"
            ],
            [
             0.8888888888888888,
             "#fdca26"
            ],
            [
             1,
             "#f0f921"
            ]
           ]
          },
          "colorway": [
           "#636efa",
           "#EF553B",
           "#00cc96",
           "#ab63fa",
           "#FFA15A",
           "#19d3f3",
           "#FF6692",
           "#B6E880",
           "#FF97FF",
           "#FECB52"
          ],
          "font": {
           "color": "#2a3f5f"
          },
          "geo": {
           "bgcolor": "white",
           "lakecolor": "white",
           "landcolor": "#E5ECF6",
           "showlakes": true,
           "showland": true,
           "subunitcolor": "white"
          },
          "hoverlabel": {
           "align": "left"
          },
          "hovermode": "closest",
          "mapbox": {
           "style": "light"
          },
          "paper_bgcolor": "white",
          "plot_bgcolor": "#E5ECF6",
          "polar": {
           "angularaxis": {
            "gridcolor": "white",
            "linecolor": "white",
            "ticks": ""
           },
           "bgcolor": "#E5ECF6",
           "radialaxis": {
            "gridcolor": "white",
            "linecolor": "white",
            "ticks": ""
           }
          },
          "scene": {
           "xaxis": {
            "backgroundcolor": "#E5ECF6",
            "gridcolor": "white",
            "gridwidth": 2,
            "linecolor": "white",
            "showbackground": true,
            "ticks": "",
            "zerolinecolor": "white"
           },
           "yaxis": {
            "backgroundcolor": "#E5ECF6",
            "gridcolor": "white",
            "gridwidth": 2,
            "linecolor": "white",
            "showbackground": true,
            "ticks": "",
            "zerolinecolor": "white"
           },
           "zaxis": {
            "backgroundcolor": "#E5ECF6",
            "gridcolor": "white",
            "gridwidth": 2,
            "linecolor": "white",
            "showbackground": true,
            "ticks": "",
            "zerolinecolor": "white"
           }
          },
          "shapedefaults": {
           "line": {
            "color": "#2a3f5f"
           }
          },
          "ternary": {
           "aaxis": {
            "gridcolor": "white",
            "linecolor": "white",
            "ticks": ""
           },
           "baxis": {
            "gridcolor": "white",
            "linecolor": "white",
            "ticks": ""
           },
           "bgcolor": "#E5ECF6",
           "caxis": {
            "gridcolor": "white",
            "linecolor": "white",
            "ticks": ""
           }
          },
          "title": {
           "x": 0.05
          },
          "xaxis": {
           "automargin": true,
           "gridcolor": "white",
           "linecolor": "white",
           "ticks": "",
           "title": {
            "standoff": 15
           },
           "zerolinecolor": "white",
           "zerolinewidth": 2
          },
          "yaxis": {
           "automargin": true,
           "gridcolor": "white",
           "linecolor": "white",
           "ticks": "",
           "title": {
            "standoff": 15
           },
           "zerolinecolor": "white",
           "zerolinewidth": 2
          }
         }
        },
        "title": {
         "text": "Percentage vaccinated per county"
        },
        "xaxis": {
         "anchor": "y",
         "domain": [
          0,
          1
         ],
         "title": {
          "text": "County"
         }
        },
        "yaxis": {
         "anchor": "x",
         "domain": [
          0,
          1
         ],
         "title": {
          "text": "%"
         }
        }
       }
      }
     },
     "metadata": {},
     "output_type": "display_data"
    }
   ],
   "source": [
    "fig_procent = px.bar(counties_vaccinated, \n",
    "             x = counties_vaccinated.index,\n",
    "             y = [\"% 1 dos\", \"% 2 doser\", \"% 3 doser\"],\n",
    "             title = \"Percentage vaccinated per county\",\n",
    "             barmode = 'group',\n",
    "             labels = dict(value = '%', variable = 'number of doses', Län_namn = 'County')\n",
    "             )\n",
    "\n",
    "fig_procent.show()\n",
    "fig_procent.write_html(\"./Visualizations/Plotly parts 1_2/percentage_vaccinated_per_county.html\")"
   ]
  },
  {
   "cell_type": "markdown",
   "metadata": {},
   "source": [
    "Of course, I could have done the previous graph in a more straightforward way, using the data from the columns \"Andel...\", as I will do below for Stockholm and Västra Götalands counties. But in this case I need some data cleaning, as there are cells with n/a values in these columns. Also, we will be able to check our dataset for consistency, if the data got the first way would be the same with the same data got from the other columns."
   ]
  },
  {
   "cell_type": "code",
   "execution_count": 22,
   "metadata": {},
   "outputs": [
    {
     "data": {
      "text/plain": [
       "Län                       0\n",
       "Län_namn                  0\n",
       "Kommun                    0\n",
       "Kommun_namn               0\n",
       "Ålder                     0\n",
       "Befolkning                0\n",
       "Antal minst 1 dos         0\n",
       "Antal minst 2 doser       0\n",
       "Antal 3 doser           580\n",
       "Antal 4 doser          2030\n",
       "Andel minst 1 dos         0\n",
       "Andel minst 2 doser       0\n",
       "Andel 3 doser           580\n",
       "Andel 4 doser          2030\n",
       "dtype: int64"
      ]
     },
     "execution_count": 22,
     "metadata": {},
     "output_type": "execute_result"
    }
   ],
   "source": [
    "vaccindata.isna().sum()"
   ]
  },
  {
   "cell_type": "code",
   "execution_count": 23,
   "metadata": {},
   "outputs": [
    {
     "data": {
      "text/plain": [
       "Län                       0\n",
       "Län_namn                  0\n",
       "Kommun                    0\n",
       "Kommun_namn               0\n",
       "Ålder                     0\n",
       "Befolkning                0\n",
       "Antal minst 1 dos         0\n",
       "Antal minst 2 doser       0\n",
       "Antal 3 doser           580\n",
       "Antal 4 doser          2030\n",
       "Andel minst 1 dos         0\n",
       "Andel minst 2 doser       0\n",
       "Andel 3 doser             0\n",
       "Andel 4 doser             0\n",
       "dtype: int64"
      ]
     },
     "execution_count": 23,
     "metadata": {},
     "output_type": "execute_result"
    }
   ],
   "source": [
    "vaccindata[\"Andel 3 doser\"] = vaccindata[\"Andel 3 doser\"].fillna(0)\n",
    "vaccindata[\"Andel 4 doser\"] = vaccindata[\"Andel 4 doser\"].fillna(0)\n",
    "vaccindata.isna().sum()"
   ]
  },
  {
   "cell_type": "code",
   "execution_count": 24,
   "metadata": {},
   "outputs": [],
   "source": [
    "counties = vaccindata.groupby(\"Län_namn\")"
   ]
  },
  {
   "cell_type": "code",
   "execution_count": 25,
   "metadata": {},
   "outputs": [
    {
     "data": {
      "text/html": [
       "<div>\n",
       "<style scoped>\n",
       "    .dataframe tbody tr th:only-of-type {\n",
       "        vertical-align: middle;\n",
       "    }\n",
       "\n",
       "    .dataframe tbody tr th {\n",
       "        vertical-align: top;\n",
       "    }\n",
       "\n",
       "    .dataframe thead th {\n",
       "        text-align: right;\n",
       "    }\n",
       "</style>\n",
       "<table border=\"1\" class=\"dataframe\">\n",
       "  <thead>\n",
       "    <tr style=\"text-align: right;\">\n",
       "      <th></th>\n",
       "      <th>Andel minst 1 dos</th>\n",
       "      <th>Andel minst 2 doser</th>\n",
       "      <th>Andel 3 doser</th>\n",
       "      <th>Andel 4 doser</th>\n",
       "    </tr>\n",
       "    <tr>\n",
       "      <th>Län_namn</th>\n",
       "      <th></th>\n",
       "      <th></th>\n",
       "      <th></th>\n",
       "      <th></th>\n",
       "    </tr>\n",
       "  </thead>\n",
       "  <tbody>\n",
       "    <tr>\n",
       "      <th>Blekinge län</th>\n",
       "      <td>85.65</td>\n",
       "      <td>84.20</td>\n",
       "      <td>59.59</td>\n",
       "      <td>24.82</td>\n",
       "    </tr>\n",
       "    <tr>\n",
       "      <th>Dalarnas län</th>\n",
       "      <td>85.56</td>\n",
       "      <td>84.13</td>\n",
       "      <td>59.48</td>\n",
       "      <td>26.44</td>\n",
       "    </tr>\n",
       "    <tr>\n",
       "      <th>Gotlands län</th>\n",
       "      <td>89.03</td>\n",
       "      <td>87.34</td>\n",
       "      <td>62.25</td>\n",
       "      <td>26.34</td>\n",
       "    </tr>\n",
       "    <tr>\n",
       "      <th>Gävleborgs län</th>\n",
       "      <td>85.17</td>\n",
       "      <td>82.89</td>\n",
       "      <td>57.96</td>\n",
       "      <td>25.30</td>\n",
       "    </tr>\n",
       "    <tr>\n",
       "      <th>Hallands län</th>\n",
       "      <td>85.92</td>\n",
       "      <td>84.42</td>\n",
       "      <td>59.94</td>\n",
       "      <td>25.79</td>\n",
       "    </tr>\n",
       "    <tr>\n",
       "      <th>Jämtlands län</th>\n",
       "      <td>86.09</td>\n",
       "      <td>84.40</td>\n",
       "      <td>57.85</td>\n",
       "      <td>24.87</td>\n",
       "    </tr>\n",
       "    <tr>\n",
       "      <th>Jönköpings län</th>\n",
       "      <td>86.00</td>\n",
       "      <td>84.67</td>\n",
       "      <td>59.98</td>\n",
       "      <td>25.92</td>\n",
       "    </tr>\n",
       "    <tr>\n",
       "      <th>Kalmar län</th>\n",
       "      <td>85.13</td>\n",
       "      <td>83.95</td>\n",
       "      <td>60.30</td>\n",
       "      <td>25.82</td>\n",
       "    </tr>\n",
       "    <tr>\n",
       "      <th>Kronobergs län</th>\n",
       "      <td>82.50</td>\n",
       "      <td>81.02</td>\n",
       "      <td>55.65</td>\n",
       "      <td>24.57</td>\n",
       "    </tr>\n",
       "    <tr>\n",
       "      <th>Norrbottens län</th>\n",
       "      <td>87.03</td>\n",
       "      <td>85.54</td>\n",
       "      <td>60.23</td>\n",
       "      <td>25.44</td>\n",
       "    </tr>\n",
       "    <tr>\n",
       "      <th>Skåne län</th>\n",
       "      <td>83.59</td>\n",
       "      <td>81.91</td>\n",
       "      <td>55.87</td>\n",
       "      <td>24.64</td>\n",
       "    </tr>\n",
       "    <tr>\n",
       "      <th>Stockholms län</th>\n",
       "      <td>83.59</td>\n",
       "      <td>80.59</td>\n",
       "      <td>56.83</td>\n",
       "      <td>24.23</td>\n",
       "    </tr>\n",
       "    <tr>\n",
       "      <th>Södermanlands län</th>\n",
       "      <td>85.79</td>\n",
       "      <td>83.34</td>\n",
       "      <td>58.10</td>\n",
       "      <td>25.59</td>\n",
       "    </tr>\n",
       "    <tr>\n",
       "      <th>Uppsala län</th>\n",
       "      <td>88.24</td>\n",
       "      <td>86.46</td>\n",
       "      <td>61.40</td>\n",
       "      <td>26.37</td>\n",
       "    </tr>\n",
       "    <tr>\n",
       "      <th>Värmlands län</th>\n",
       "      <td>88.08</td>\n",
       "      <td>86.88</td>\n",
       "      <td>61.60</td>\n",
       "      <td>26.73</td>\n",
       "    </tr>\n",
       "    <tr>\n",
       "      <th>Västerbottens län</th>\n",
       "      <td>88.78</td>\n",
       "      <td>87.43</td>\n",
       "      <td>61.85</td>\n",
       "      <td>27.12</td>\n",
       "    </tr>\n",
       "    <tr>\n",
       "      <th>Västernorrlands län</th>\n",
       "      <td>87.23</td>\n",
       "      <td>85.03</td>\n",
       "      <td>60.01</td>\n",
       "      <td>25.01</td>\n",
       "    </tr>\n",
       "    <tr>\n",
       "      <th>Västmanlands län</th>\n",
       "      <td>83.65</td>\n",
       "      <td>81.41</td>\n",
       "      <td>57.74</td>\n",
       "      <td>25.65</td>\n",
       "    </tr>\n",
       "    <tr>\n",
       "      <th>Västra Götalands län</th>\n",
       "      <td>85.94</td>\n",
       "      <td>83.97</td>\n",
       "      <td>57.79</td>\n",
       "      <td>25.34</td>\n",
       "    </tr>\n",
       "    <tr>\n",
       "      <th>Örebro län</th>\n",
       "      <td>85.72</td>\n",
       "      <td>84.34</td>\n",
       "      <td>59.92</td>\n",
       "      <td>25.46</td>\n",
       "    </tr>\n",
       "    <tr>\n",
       "      <th>Östergötlands län</th>\n",
       "      <td>87.93</td>\n",
       "      <td>86.86</td>\n",
       "      <td>62.38</td>\n",
       "      <td>26.56</td>\n",
       "    </tr>\n",
       "  </tbody>\n",
       "</table>\n",
       "</div>"
      ],
      "text/plain": [
       "                      Andel minst 1 dos  Andel minst 2 doser  Andel 3 doser  \\\n",
       "Län_namn                                                                      \n",
       "Blekinge län                      85.65                84.20          59.59   \n",
       "Dalarnas län                      85.56                84.13          59.48   \n",
       "Gotlands län                      89.03                87.34          62.25   \n",
       "Gävleborgs län                    85.17                82.89          57.96   \n",
       "Hallands län                      85.92                84.42          59.94   \n",
       "Jämtlands län                     86.09                84.40          57.85   \n",
       "Jönköpings län                    86.00                84.67          59.98   \n",
       "Kalmar län                        85.13                83.95          60.30   \n",
       "Kronobergs län                    82.50                81.02          55.65   \n",
       "Norrbottens län                   87.03                85.54          60.23   \n",
       "Skåne län                         83.59                81.91          55.87   \n",
       "Stockholms län                    83.59                80.59          56.83   \n",
       "Södermanlands län                 85.79                83.34          58.10   \n",
       "Uppsala län                       88.24                86.46          61.40   \n",
       "Värmlands län                     88.08                86.88          61.60   \n",
       "Västerbottens län                 88.78                87.43          61.85   \n",
       "Västernorrlands län               87.23                85.03          60.01   \n",
       "Västmanlands län                  83.65                81.41          57.74   \n",
       "Västra Götalands län              85.94                83.97          57.79   \n",
       "Örebro län                        85.72                84.34          59.92   \n",
       "Östergötlands län                 87.93                86.86          62.38   \n",
       "\n",
       "                      Andel 4 doser  \n",
       "Län_namn                             \n",
       "Blekinge län                  24.82  \n",
       "Dalarnas län                  26.44  \n",
       "Gotlands län                  26.34  \n",
       "Gävleborgs län                25.30  \n",
       "Hallands län                  25.79  \n",
       "Jämtlands län                 24.87  \n",
       "Jönköpings län                25.92  \n",
       "Kalmar län                    25.82  \n",
       "Kronobergs län                24.57  \n",
       "Norrbottens län               25.44  \n",
       "Skåne län                     24.64  \n",
       "Stockholms län                24.23  \n",
       "Södermanlands län             25.59  \n",
       "Uppsala län                   26.37  \n",
       "Värmlands län                 26.73  \n",
       "Västerbottens län             27.12  \n",
       "Västernorrlands län           25.01  \n",
       "Västmanlands län              25.65  \n",
       "Västra Götalands län          25.34  \n",
       "Örebro län                    25.46  \n",
       "Östergötlands län             26.56  "
      ]
     },
     "execution_count": 25,
     "metadata": {},
     "output_type": "execute_result"
    }
   ],
   "source": [
    "counties_procent_vacc = counties[[\"Andel minst 1 dos\", \"Andel minst 2 doser\", \"Andel 3 doser\", \"Andel 4 doser\"]].mean()*100\n",
    "counties_procent_vacc"
   ]
  },
  {
   "cell_type": "code",
   "execution_count": 26,
   "metadata": {},
   "outputs": [],
   "source": [
    "stockholm_vastra_counties = counties_procent_vacc.loc[[\"Stockholms län\", \"Västra Götalands län\"]]"
   ]
  },
  {
   "cell_type": "code",
   "execution_count": 27,
   "metadata": {},
   "outputs": [
    {
     "data": {
      "text/html": [
       "<div>\n",
       "<style scoped>\n",
       "    .dataframe tbody tr th:only-of-type {\n",
       "        vertical-align: middle;\n",
       "    }\n",
       "\n",
       "    .dataframe tbody tr th {\n",
       "        vertical-align: top;\n",
       "    }\n",
       "\n",
       "    .dataframe thead th {\n",
       "        text-align: right;\n",
       "    }\n",
       "</style>\n",
       "<table border=\"1\" class=\"dataframe\">\n",
       "  <thead>\n",
       "    <tr style=\"text-align: right;\">\n",
       "      <th></th>\n",
       "      <th>Andel minst 1 dos</th>\n",
       "      <th>Andel minst 2 doser</th>\n",
       "      <th>Andel 3 doser</th>\n",
       "      <th>Andel 4 doser</th>\n",
       "    </tr>\n",
       "    <tr>\n",
       "      <th>Län_namn</th>\n",
       "      <th></th>\n",
       "      <th></th>\n",
       "      <th></th>\n",
       "      <th></th>\n",
       "    </tr>\n",
       "  </thead>\n",
       "  <tbody>\n",
       "    <tr>\n",
       "      <th>Stockholms län</th>\n",
       "      <td>83.59</td>\n",
       "      <td>80.59</td>\n",
       "      <td>56.83</td>\n",
       "      <td>24.23</td>\n",
       "    </tr>\n",
       "    <tr>\n",
       "      <th>Västra Götalands län</th>\n",
       "      <td>85.94</td>\n",
       "      <td>83.97</td>\n",
       "      <td>57.79</td>\n",
       "      <td>25.34</td>\n",
       "    </tr>\n",
       "  </tbody>\n",
       "</table>\n",
       "</div>"
      ],
      "text/plain": [
       "                      Andel minst 1 dos  Andel minst 2 doser  Andel 3 doser  \\\n",
       "Län_namn                                                                      \n",
       "Stockholms län                    83.59                80.59          56.83   \n",
       "Västra Götalands län              85.94                83.97          57.79   \n",
       "\n",
       "                      Andel 4 doser  \n",
       "Län_namn                             \n",
       "Stockholms län                24.23  \n",
       "Västra Götalands län          25.34  "
      ]
     },
     "execution_count": 27,
     "metadata": {},
     "output_type": "execute_result"
    }
   ],
   "source": [
    "stockholm_vastra_counties"
   ]
  },
  {
   "cell_type": "code",
   "execution_count": 28,
   "metadata": {},
   "outputs": [
    {
     "data": {
      "text/html": [
       "<div>\n",
       "<style scoped>\n",
       "    .dataframe tbody tr th:only-of-type {\n",
       "        vertical-align: middle;\n",
       "    }\n",
       "\n",
       "    .dataframe tbody tr th {\n",
       "        vertical-align: top;\n",
       "    }\n",
       "\n",
       "    .dataframe thead th {\n",
       "        text-align: right;\n",
       "    }\n",
       "</style>\n",
       "<table border=\"1\" class=\"dataframe\">\n",
       "  <thead>\n",
       "    <tr style=\"text-align: right;\">\n",
       "      <th></th>\n",
       "      <th>% 1 dos</th>\n",
       "      <th>% 2 doser</th>\n",
       "      <th>% 3 doser</th>\n",
       "    </tr>\n",
       "    <tr>\n",
       "      <th>Län_namn</th>\n",
       "      <th></th>\n",
       "      <th></th>\n",
       "      <th></th>\n",
       "    </tr>\n",
       "  </thead>\n",
       "  <tbody>\n",
       "    <tr>\n",
       "      <th>Stockholms län</th>\n",
       "      <td>83.12</td>\n",
       "      <td>80.11</td>\n",
       "      <td>56.95</td>\n",
       "    </tr>\n",
       "    <tr>\n",
       "      <th>Västra Götalands län</th>\n",
       "      <td>85.51</td>\n",
       "      <td>83.36</td>\n",
       "      <td>58.09</td>\n",
       "    </tr>\n",
       "  </tbody>\n",
       "</table>\n",
       "</div>"
      ],
      "text/plain": [
       "                      % 1 dos  % 2 doser  % 3 doser\n",
       "Län_namn                                           \n",
       "Stockholms län          83.12      80.11      56.95\n",
       "Västra Götalands län    85.51      83.36      58.09"
      ]
     },
     "execution_count": 28,
     "metadata": {},
     "output_type": "execute_result"
    }
   ],
   "source": [
    "data_from_first_calc = counties_vaccinated.loc[[\"Stockholms län\", \"Västra Götalands län\"]][\n",
    "    [\"% 1 dos\", \"% 2 doser\", \"% 3 doser\"]\n",
    "    ]\n",
    "data_from_first_calc"
   ]
  },
  {
   "cell_type": "markdown",
   "metadata": {},
   "source": [
    "So, the data is pretty consistent, but when calculating the procentage for each row separately, a cumulative error is of course higher."
   ]
  },
  {
   "cell_type": "code",
   "execution_count": 29,
   "metadata": {},
   "outputs": [
    {
     "data": {
      "application/vnd.plotly.v1+json": {
       "config": {
        "plotlyServerURL": "https://plot.ly"
       },
       "data": [
        {
         "alignmentgroup": "True",
         "hovertemplate": "Number of doses=Andel minst 1 dos<br>County=%{x}<br>%=%{y}<extra></extra>",
         "legendgroup": "Andel minst 1 dos",
         "marker": {
          "color": "#636efa",
          "pattern": {
           "shape": ""
          }
         },
         "name": "Andel minst 1 dos",
         "offsetgroup": "Andel minst 1 dos",
         "orientation": "v",
         "showlegend": true,
         "textposition": "auto",
         "type": "bar",
         "x": [
          "Stockholms län",
          "Västra Götalands län"
         ],
         "xaxis": "x",
         "y": [
          83.58682831084586,
          85.94207297419256
         ],
         "yaxis": "y"
        },
        {
         "alignmentgroup": "True",
         "hovertemplate": "Number of doses=Andel minst 2 doser<br>County=%{x}<br>%=%{y}<extra></extra>",
         "legendgroup": "Andel minst 2 doser",
         "marker": {
          "color": "#EF553B",
          "pattern": {
           "shape": ""
          }
         },
         "name": "Andel minst 2 doser",
         "offsetgroup": "Andel minst 2 doser",
         "orientation": "v",
         "showlegend": true,
         "textposition": "auto",
         "type": "bar",
         "x": [
          "Stockholms län",
          "Västra Götalands län"
         ],
         "xaxis": "x",
         "y": [
          80.59361929799323,
          83.96878398137663
         ],
         "yaxis": "y"
        },
        {
         "alignmentgroup": "True",
         "hovertemplate": "Number of doses=Andel 3 doser<br>County=%{x}<br>%=%{y}<extra></extra>",
         "legendgroup": "Andel 3 doser",
         "marker": {
          "color": "#00cc96",
          "pattern": {
           "shape": ""
          }
         },
         "name": "Andel 3 doser",
         "offsetgroup": "Andel 3 doser",
         "orientation": "v",
         "showlegend": true,
         "textposition": "auto",
         "type": "bar",
         "x": [
          "Stockholms län",
          "Västra Götalands län"
         ],
         "xaxis": "x",
         "y": [
          56.83207284440679,
          57.79083553010511
         ],
         "yaxis": "y"
        },
        {
         "alignmentgroup": "True",
         "hovertemplate": "Number of doses=Andel 4 doser<br>County=%{x}<br>%=%{y}<extra></extra>",
         "legendgroup": "Andel 4 doser",
         "marker": {
          "color": "#ab63fa",
          "pattern": {
           "shape": ""
          }
         },
         "name": "Andel 4 doser",
         "offsetgroup": "Andel 4 doser",
         "orientation": "v",
         "showlegend": true,
         "textposition": "auto",
         "type": "bar",
         "x": [
          "Stockholms län",
          "Västra Götalands län"
         ],
         "xaxis": "x",
         "y": [
          24.225737715868114,
          25.34153713656586
         ],
         "yaxis": "y"
        }
       ],
       "layout": {
        "barmode": "group",
        "legend": {
         "title": {
          "text": "Number of doses"
         },
         "tracegroupgap": 0
        },
        "template": {
         "data": {
          "bar": [
           {
            "error_x": {
             "color": "#2a3f5f"
            },
            "error_y": {
             "color": "#2a3f5f"
            },
            "marker": {
             "line": {
              "color": "#E5ECF6",
              "width": 0.5
             },
             "pattern": {
              "fillmode": "overlay",
              "size": 10,
              "solidity": 0.2
             }
            },
            "type": "bar"
           }
          ],
          "barpolar": [
           {
            "marker": {
             "line": {
              "color": "#E5ECF6",
              "width": 0.5
             },
             "pattern": {
              "fillmode": "overlay",
              "size": 10,
              "solidity": 0.2
             }
            },
            "type": "barpolar"
           }
          ],
          "carpet": [
           {
            "aaxis": {
             "endlinecolor": "#2a3f5f",
             "gridcolor": "white",
             "linecolor": "white",
             "minorgridcolor": "white",
             "startlinecolor": "#2a3f5f"
            },
            "baxis": {
             "endlinecolor": "#2a3f5f",
             "gridcolor": "white",
             "linecolor": "white",
             "minorgridcolor": "white",
             "startlinecolor": "#2a3f5f"
            },
            "type": "carpet"
           }
          ],
          "choropleth": [
           {
            "colorbar": {
             "outlinewidth": 0,
             "ticks": ""
            },
            "type": "choropleth"
           }
          ],
          "contour": [
           {
            "colorbar": {
             "outlinewidth": 0,
             "ticks": ""
            },
            "colorscale": [
             [
              0,
              "#0d0887"
             ],
             [
              0.1111111111111111,
              "#46039f"
             ],
             [
              0.2222222222222222,
              "#7201a8"
             ],
             [
              0.3333333333333333,
              "#9c179e"
             ],
             [
              0.4444444444444444,
              "#bd3786"
             ],
             [
              0.5555555555555556,
              "#d8576b"
             ],
             [
              0.6666666666666666,
              "#ed7953"
             ],
             [
              0.7777777777777778,
              "#fb9f3a"
             ],
             [
              0.8888888888888888,
              "#fdca26"
             ],
             [
              1,
              "#f0f921"
             ]
            ],
            "type": "contour"
           }
          ],
          "contourcarpet": [
           {
            "colorbar": {
             "outlinewidth": 0,
             "ticks": ""
            },
            "type": "contourcarpet"
           }
          ],
          "heatmap": [
           {
            "colorbar": {
             "outlinewidth": 0,
             "ticks": ""
            },
            "colorscale": [
             [
              0,
              "#0d0887"
             ],
             [
              0.1111111111111111,
              "#46039f"
             ],
             [
              0.2222222222222222,
              "#7201a8"
             ],
             [
              0.3333333333333333,
              "#9c179e"
             ],
             [
              0.4444444444444444,
              "#bd3786"
             ],
             [
              0.5555555555555556,
              "#d8576b"
             ],
             [
              0.6666666666666666,
              "#ed7953"
             ],
             [
              0.7777777777777778,
              "#fb9f3a"
             ],
             [
              0.8888888888888888,
              "#fdca26"
             ],
             [
              1,
              "#f0f921"
             ]
            ],
            "type": "heatmap"
           }
          ],
          "heatmapgl": [
           {
            "colorbar": {
             "outlinewidth": 0,
             "ticks": ""
            },
            "colorscale": [
             [
              0,
              "#0d0887"
             ],
             [
              0.1111111111111111,
              "#46039f"
             ],
             [
              0.2222222222222222,
              "#7201a8"
             ],
             [
              0.3333333333333333,
              "#9c179e"
             ],
             [
              0.4444444444444444,
              "#bd3786"
             ],
             [
              0.5555555555555556,
              "#d8576b"
             ],
             [
              0.6666666666666666,
              "#ed7953"
             ],
             [
              0.7777777777777778,
              "#fb9f3a"
             ],
             [
              0.8888888888888888,
              "#fdca26"
             ],
             [
              1,
              "#f0f921"
             ]
            ],
            "type": "heatmapgl"
           }
          ],
          "histogram": [
           {
            "marker": {
             "pattern": {
              "fillmode": "overlay",
              "size": 10,
              "solidity": 0.2
             }
            },
            "type": "histogram"
           }
          ],
          "histogram2d": [
           {
            "colorbar": {
             "outlinewidth": 0,
             "ticks": ""
            },
            "colorscale": [
             [
              0,
              "#0d0887"
             ],
             [
              0.1111111111111111,
              "#46039f"
             ],
             [
              0.2222222222222222,
              "#7201a8"
             ],
             [
              0.3333333333333333,
              "#9c179e"
             ],
             [
              0.4444444444444444,
              "#bd3786"
             ],
             [
              0.5555555555555556,
              "#d8576b"
             ],
             [
              0.6666666666666666,
              "#ed7953"
             ],
             [
              0.7777777777777778,
              "#fb9f3a"
             ],
             [
              0.8888888888888888,
              "#fdca26"
             ],
             [
              1,
              "#f0f921"
             ]
            ],
            "type": "histogram2d"
           }
          ],
          "histogram2dcontour": [
           {
            "colorbar": {
             "outlinewidth": 0,
             "ticks": ""
            },
            "colorscale": [
             [
              0,
              "#0d0887"
             ],
             [
              0.1111111111111111,
              "#46039f"
             ],
             [
              0.2222222222222222,
              "#7201a8"
             ],
             [
              0.3333333333333333,
              "#9c179e"
             ],
             [
              0.4444444444444444,
              "#bd3786"
             ],
             [
              0.5555555555555556,
              "#d8576b"
             ],
             [
              0.6666666666666666,
              "#ed7953"
             ],
             [
              0.7777777777777778,
              "#fb9f3a"
             ],
             [
              0.8888888888888888,
              "#fdca26"
             ],
             [
              1,
              "#f0f921"
             ]
            ],
            "type": "histogram2dcontour"
           }
          ],
          "mesh3d": [
           {
            "colorbar": {
             "outlinewidth": 0,
             "ticks": ""
            },
            "type": "mesh3d"
           }
          ],
          "parcoords": [
           {
            "line": {
             "colorbar": {
              "outlinewidth": 0,
              "ticks": ""
             }
            },
            "type": "parcoords"
           }
          ],
          "pie": [
           {
            "automargin": true,
            "type": "pie"
           }
          ],
          "scatter": [
           {
            "fillpattern": {
             "fillmode": "overlay",
             "size": 10,
             "solidity": 0.2
            },
            "type": "scatter"
           }
          ],
          "scatter3d": [
           {
            "line": {
             "colorbar": {
              "outlinewidth": 0,
              "ticks": ""
             }
            },
            "marker": {
             "colorbar": {
              "outlinewidth": 0,
              "ticks": ""
             }
            },
            "type": "scatter3d"
           }
          ],
          "scattercarpet": [
           {
            "marker": {
             "colorbar": {
              "outlinewidth": 0,
              "ticks": ""
             }
            },
            "type": "scattercarpet"
           }
          ],
          "scattergeo": [
           {
            "marker": {
             "colorbar": {
              "outlinewidth": 0,
              "ticks": ""
             }
            },
            "type": "scattergeo"
           }
          ],
          "scattergl": [
           {
            "marker": {
             "colorbar": {
              "outlinewidth": 0,
              "ticks": ""
             }
            },
            "type": "scattergl"
           }
          ],
          "scattermapbox": [
           {
            "marker": {
             "colorbar": {
              "outlinewidth": 0,
              "ticks": ""
             }
            },
            "type": "scattermapbox"
           }
          ],
          "scatterpolar": [
           {
            "marker": {
             "colorbar": {
              "outlinewidth": 0,
              "ticks": ""
             }
            },
            "type": "scatterpolar"
           }
          ],
          "scatterpolargl": [
           {
            "marker": {
             "colorbar": {
              "outlinewidth": 0,
              "ticks": ""
             }
            },
            "type": "scatterpolargl"
           }
          ],
          "scatterternary": [
           {
            "marker": {
             "colorbar": {
              "outlinewidth": 0,
              "ticks": ""
             }
            },
            "type": "scatterternary"
           }
          ],
          "surface": [
           {
            "colorbar": {
             "outlinewidth": 0,
             "ticks": ""
            },
            "colorscale": [
             [
              0,
              "#0d0887"
             ],
             [
              0.1111111111111111,
              "#46039f"
             ],
             [
              0.2222222222222222,
              "#7201a8"
             ],
             [
              0.3333333333333333,
              "#9c179e"
             ],
             [
              0.4444444444444444,
              "#bd3786"
             ],
             [
              0.5555555555555556,
              "#d8576b"
             ],
             [
              0.6666666666666666,
              "#ed7953"
             ],
             [
              0.7777777777777778,
              "#fb9f3a"
             ],
             [
              0.8888888888888888,
              "#fdca26"
             ],
             [
              1,
              "#f0f921"
             ]
            ],
            "type": "surface"
           }
          ],
          "table": [
           {
            "cells": {
             "fill": {
              "color": "#EBF0F8"
             },
             "line": {
              "color": "white"
             }
            },
            "header": {
             "fill": {
              "color": "#C8D4E3"
             },
             "line": {
              "color": "white"
             }
            },
            "type": "table"
           }
          ]
         },
         "layout": {
          "annotationdefaults": {
           "arrowcolor": "#2a3f5f",
           "arrowhead": 0,
           "arrowwidth": 1
          },
          "autotypenumbers": "strict",
          "coloraxis": {
           "colorbar": {
            "outlinewidth": 0,
            "ticks": ""
           }
          },
          "colorscale": {
           "diverging": [
            [
             0,
             "#8e0152"
            ],
            [
             0.1,
             "#c51b7d"
            ],
            [
             0.2,
             "#de77ae"
            ],
            [
             0.3,
             "#f1b6da"
            ],
            [
             0.4,
             "#fde0ef"
            ],
            [
             0.5,
             "#f7f7f7"
            ],
            [
             0.6,
             "#e6f5d0"
            ],
            [
             0.7,
             "#b8e186"
            ],
            [
             0.8,
             "#7fbc41"
            ],
            [
             0.9,
             "#4d9221"
            ],
            [
             1,
             "#276419"
            ]
           ],
           "sequential": [
            [
             0,
             "#0d0887"
            ],
            [
             0.1111111111111111,
             "#46039f"
            ],
            [
             0.2222222222222222,
             "#7201a8"
            ],
            [
             0.3333333333333333,
             "#9c179e"
            ],
            [
             0.4444444444444444,
             "#bd3786"
            ],
            [
             0.5555555555555556,
             "#d8576b"
            ],
            [
             0.6666666666666666,
             "#ed7953"
            ],
            [
             0.7777777777777778,
             "#fb9f3a"
            ],
            [
             0.8888888888888888,
             "#fdca26"
            ],
            [
             1,
             "#f0f921"
            ]
           ],
           "sequentialminus": [
            [
             0,
             "#0d0887"
            ],
            [
             0.1111111111111111,
             "#46039f"
            ],
            [
             0.2222222222222222,
             "#7201a8"
            ],
            [
             0.3333333333333333,
             "#9c179e"
            ],
            [
             0.4444444444444444,
             "#bd3786"
            ],
            [
             0.5555555555555556,
             "#d8576b"
            ],
            [
             0.6666666666666666,
             "#ed7953"
            ],
            [
             0.7777777777777778,
             "#fb9f3a"
            ],
            [
             0.8888888888888888,
             "#fdca26"
            ],
            [
             1,
             "#f0f921"
            ]
           ]
          },
          "colorway": [
           "#636efa",
           "#EF553B",
           "#00cc96",
           "#ab63fa",
           "#FFA15A",
           "#19d3f3",
           "#FF6692",
           "#B6E880",
           "#FF97FF",
           "#FECB52"
          ],
          "font": {
           "color": "#2a3f5f"
          },
          "geo": {
           "bgcolor": "white",
           "lakecolor": "white",
           "landcolor": "#E5ECF6",
           "showlakes": true,
           "showland": true,
           "subunitcolor": "white"
          },
          "hoverlabel": {
           "align": "left"
          },
          "hovermode": "closest",
          "mapbox": {
           "style": "light"
          },
          "paper_bgcolor": "white",
          "plot_bgcolor": "#E5ECF6",
          "polar": {
           "angularaxis": {
            "gridcolor": "white",
            "linecolor": "white",
            "ticks": ""
           },
           "bgcolor": "#E5ECF6",
           "radialaxis": {
            "gridcolor": "white",
            "linecolor": "white",
            "ticks": ""
           }
          },
          "scene": {
           "xaxis": {
            "backgroundcolor": "#E5ECF6",
            "gridcolor": "white",
            "gridwidth": 2,
            "linecolor": "white",
            "showbackground": true,
            "ticks": "",
            "zerolinecolor": "white"
           },
           "yaxis": {
            "backgroundcolor": "#E5ECF6",
            "gridcolor": "white",
            "gridwidth": 2,
            "linecolor": "white",
            "showbackground": true,
            "ticks": "",
            "zerolinecolor": "white"
           },
           "zaxis": {
            "backgroundcolor": "#E5ECF6",
            "gridcolor": "white",
            "gridwidth": 2,
            "linecolor": "white",
            "showbackground": true,
            "ticks": "",
            "zerolinecolor": "white"
           }
          },
          "shapedefaults": {
           "line": {
            "color": "#2a3f5f"
           }
          },
          "ternary": {
           "aaxis": {
            "gridcolor": "white",
            "linecolor": "white",
            "ticks": ""
           },
           "baxis": {
            "gridcolor": "white",
            "linecolor": "white",
            "ticks": ""
           },
           "bgcolor": "#E5ECF6",
           "caxis": {
            "gridcolor": "white",
            "linecolor": "white",
            "ticks": ""
           }
          },
          "title": {
           "x": 0.05
          },
          "xaxis": {
           "automargin": true,
           "gridcolor": "white",
           "linecolor": "white",
           "ticks": "",
           "title": {
            "standoff": 15
           },
           "zerolinecolor": "white",
           "zerolinewidth": 2
          },
          "yaxis": {
           "automargin": true,
           "gridcolor": "white",
           "linecolor": "white",
           "ticks": "",
           "title": {
            "standoff": 15
           },
           "zerolinecolor": "white",
           "zerolinewidth": 2
          }
         }
        },
        "title": {
         "text": "Stockholm and Västra Götalands counties"
        },
        "xaxis": {
         "anchor": "y",
         "domain": [
          0,
          1
         ],
         "title": {
          "text": "County"
         }
        },
        "yaxis": {
         "anchor": "x",
         "domain": [
          0,
          1
         ],
         "title": {
          "text": "%"
         }
        }
       }
      }
     },
     "metadata": {},
     "output_type": "display_data"
    }
   ],
   "source": [
    "fig_two_counties = px.bar(stockholm_vastra_counties, \n",
    "        title = \"Stockholm and Västra Götalands counties\",\n",
    "        barmode = 'group',\n",
    "        labels = dict(value = '%', variable = 'Number of doses', Län_namn = 'County')\n",
    "             )\n",
    "fig_two_counties.show()\n",
    "fig_two_counties.write_html(\"./Visualizations/Plotly parts 1_2/Percentage_two_counties.html\")"
   ]
  }
 ],
 "metadata": {
  "kernelspec": {
   "display_name": "GitHub-ARbJjTr-",
   "language": "python",
   "name": "python3"
  },
  "language_info": {
   "codemirror_mode": {
    "name": "ipython",
    "version": 3
   },
   "file_extension": ".py",
   "mimetype": "text/x-python",
   "name": "python",
   "nbconvert_exporter": "python",
   "pygments_lexer": "ipython3",
   "version": "3.11.5"
  }
 },
 "nbformat": 4,
 "nbformat_minor": 2
}
