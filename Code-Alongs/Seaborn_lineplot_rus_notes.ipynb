{
 "cells": [
  {
   "cell_type": "code",
   "execution_count": 1,
   "metadata": {},
   "outputs": [],
   "source": [
    "import seaborn as sns\n",
    "from matplotlib import pyplot as plt\n",
    "\n",
    "import pandas as pd"
   ]
  },
  {
   "cell_type": "code",
   "execution_count": 2,
   "metadata": {},
   "outputs": [],
   "source": [
    "df = pd.read_csv(\"../TrainingData/parking_birmingham.csv\", parse_dates = [3])"
   ]
  },
  {
   "cell_type": "markdown",
   "metadata": {},
   "source": [
    "parse_dates=[3] - это опция, которая указывает, что столбец с индексом 3 (четвертый столбец в файле) содержит даты, которые нужно автоматически преобразовать в объекты даты datetime.\n",
    "\n",
    "При использовании parse_dates, Pandas автоматически распознает даты в указанных столбцах и представляет их как объекты даты, что делает работу с данными и выполнение операций, связанных с датами, более удобной и интуитивной."
   ]
  },
  {
   "cell_type": "code",
   "execution_count": 3,
   "metadata": {},
   "outputs": [
    {
     "data": {
      "text/html": [
       "<div>\n",
       "<style scoped>\n",
       "    .dataframe tbody tr th:only-of-type {\n",
       "        vertical-align: middle;\n",
       "    }\n",
       "\n",
       "    .dataframe tbody tr th {\n",
       "        vertical-align: top;\n",
       "    }\n",
       "\n",
       "    .dataframe thead th {\n",
       "        text-align: right;\n",
       "    }\n",
       "</style>\n",
       "<table border=\"1\" class=\"dataframe\">\n",
       "  <thead>\n",
       "    <tr style=\"text-align: right;\">\n",
       "      <th></th>\n",
       "      <th>SystemCodeNumber</th>\n",
       "      <th>Capacity</th>\n",
       "      <th>Occupancy</th>\n",
       "      <th>LastUpdated</th>\n",
       "    </tr>\n",
       "  </thead>\n",
       "  <tbody>\n",
       "    <tr>\n",
       "      <th>0</th>\n",
       "      <td>BHMBCCMKT01</td>\n",
       "      <td>577</td>\n",
       "      <td>61</td>\n",
       "      <td>2016-10-04 07:59:42</td>\n",
       "    </tr>\n",
       "    <tr>\n",
       "      <th>1</th>\n",
       "      <td>BHMBCCMKT01</td>\n",
       "      <td>577</td>\n",
       "      <td>64</td>\n",
       "      <td>2016-10-04 08:25:42</td>\n",
       "    </tr>\n",
       "    <tr>\n",
       "      <th>2</th>\n",
       "      <td>BHMBCCMKT01</td>\n",
       "      <td>577</td>\n",
       "      <td>80</td>\n",
       "      <td>2016-10-04 08:59:42</td>\n",
       "    </tr>\n",
       "    <tr>\n",
       "      <th>3</th>\n",
       "      <td>BHMBCCMKT01</td>\n",
       "      <td>577</td>\n",
       "      <td>107</td>\n",
       "      <td>2016-10-04 09:32:46</td>\n",
       "    </tr>\n",
       "    <tr>\n",
       "      <th>4</th>\n",
       "      <td>BHMBCCMKT01</td>\n",
       "      <td>577</td>\n",
       "      <td>150</td>\n",
       "      <td>2016-10-04 09:59:48</td>\n",
       "    </tr>\n",
       "  </tbody>\n",
       "</table>\n",
       "</div>"
      ],
      "text/plain": [
       "  SystemCodeNumber  Capacity  Occupancy         LastUpdated\n",
       "0      BHMBCCMKT01       577         61 2016-10-04 07:59:42\n",
       "1      BHMBCCMKT01       577         64 2016-10-04 08:25:42\n",
       "2      BHMBCCMKT01       577         80 2016-10-04 08:59:42\n",
       "3      BHMBCCMKT01       577        107 2016-10-04 09:32:46\n",
       "4      BHMBCCMKT01       577        150 2016-10-04 09:59:48"
      ]
     },
     "execution_count": 3,
     "metadata": {},
     "output_type": "execute_result"
    }
   ],
   "source": [
    "df.head()"
   ]
  },
  {
   "cell_type": "code",
   "execution_count": 4,
   "metadata": {},
   "outputs": [],
   "source": [
    "df.rename(columns={'SystemCodeNumber': 'Location', 'LastUpdated': 'Timestamp'}, inplace=True)\n",
    "df['Day'] = df.Timestamp.dt.date\n",
    "df['Month'] = df.Timestamp.dt.month\n",
    "df['Hour'] = df.Timestamp.dt.hour"
   ]
  },
  {
   "cell_type": "code",
   "execution_count": 5,
   "metadata": {},
   "outputs": [
    {
     "data": {
      "text/html": [
       "<div>\n",
       "<style scoped>\n",
       "    .dataframe tbody tr th:only-of-type {\n",
       "        vertical-align: middle;\n",
       "    }\n",
       "\n",
       "    .dataframe tbody tr th {\n",
       "        vertical-align: top;\n",
       "    }\n",
       "\n",
       "    .dataframe thead th {\n",
       "        text-align: right;\n",
       "    }\n",
       "</style>\n",
       "<table border=\"1\" class=\"dataframe\">\n",
       "  <thead>\n",
       "    <tr style=\"text-align: right;\">\n",
       "      <th></th>\n",
       "      <th>Location</th>\n",
       "      <th>Capacity</th>\n",
       "      <th>Occupancy</th>\n",
       "      <th>Timestamp</th>\n",
       "      <th>Day</th>\n",
       "      <th>Month</th>\n",
       "      <th>Hour</th>\n",
       "    </tr>\n",
       "  </thead>\n",
       "  <tbody>\n",
       "    <tr>\n",
       "      <th>24983</th>\n",
       "      <td>NIA South</td>\n",
       "      <td>788</td>\n",
       "      <td>499</td>\n",
       "      <td>2016-11-27 14:02:23</td>\n",
       "      <td>2016-11-27</td>\n",
       "      <td>11</td>\n",
       "      <td>14</td>\n",
       "    </tr>\n",
       "    <tr>\n",
       "      <th>20210</th>\n",
       "      <td>Broad Street</td>\n",
       "      <td>690</td>\n",
       "      <td>494</td>\n",
       "      <td>2016-10-06 09:30:20</td>\n",
       "      <td>2016-10-06</td>\n",
       "      <td>10</td>\n",
       "      <td>9</td>\n",
       "    </tr>\n",
       "    <tr>\n",
       "      <th>24298</th>\n",
       "      <td>NIA South</td>\n",
       "      <td>788</td>\n",
       "      <td>295</td>\n",
       "      <td>2016-10-18 13:28:57</td>\n",
       "      <td>2016-10-18</td>\n",
       "      <td>10</td>\n",
       "      <td>13</td>\n",
       "    </tr>\n",
       "    <tr>\n",
       "      <th>24349</th>\n",
       "      <td>NIA South</td>\n",
       "      <td>788</td>\n",
       "      <td>154</td>\n",
       "      <td>2016-10-23 11:59:50</td>\n",
       "      <td>2016-10-23</td>\n",
       "      <td>10</td>\n",
       "      <td>11</td>\n",
       "    </tr>\n",
       "  </tbody>\n",
       "</table>\n",
       "</div>"
      ],
      "text/plain": [
       "           Location  Capacity  Occupancy           Timestamp         Day  \\\n",
       "24983     NIA South       788        499 2016-11-27 14:02:23  2016-11-27   \n",
       "20210  Broad Street       690        494 2016-10-06 09:30:20  2016-10-06   \n",
       "24298     NIA South       788        295 2016-10-18 13:28:57  2016-10-18   \n",
       "24349     NIA South       788        154 2016-10-23 11:59:50  2016-10-23   \n",
       "\n",
       "       Month  Hour  \n",
       "24983     11    14  \n",
       "20210     10     9  \n",
       "24298     10    13  \n",
       "24349     10    11  "
      ]
     },
     "execution_count": 5,
     "metadata": {},
     "output_type": "execute_result"
    }
   ],
   "source": [
    "park = df[df.Location.isin(['Broad Street', 'NIA South'])]\n",
    "\n",
    "park.sample(4)"
   ]
  },
  {
   "cell_type": "code",
   "execution_count": 6,
   "metadata": {},
   "outputs": [],
   "source": [
    "sns.set_style('dark')"
   ]
  },
  {
   "cell_type": "code",
   "execution_count": 10,
   "metadata": {},
   "outputs": [],
   "source": [
    "months = [pd.to_datetime(2016-10-1), \n",
    "          pd.to_datetime(2016-11-1), \n",
    "          pd.to_datetime(2016-12-1)]\n",
    "plt.rc('date.autoformatter', day='%b %Y')"
   ]
  },
  {
   "cell_type": "markdown",
   "metadata": {},
   "source": [
    "Строка plt.rc('date.autoformatter', day='%b %Y') используется для настройки формата автоформатирования даты на графиках, созданных с использованием библиотеки Matplotlib.\n",
    "\n",
    "Конкретно, это устанавливает формат для автоматической подписи дней и годов на графиках. В данном случае, она устанавливает формат так, что дни будут представлены сокращенным названием месяца (%b) и годом (%Y). Например, \"Oct 2016\" для октября 2016 года."
   ]
  }
 ],
 "metadata": {
  "kernelspec": {
   "display_name": "GitHub-ARbJjTr-",
   "language": "python",
   "name": "python3"
  },
  "language_info": {
   "codemirror_mode": {
    "name": "ipython",
    "version": 3
   },
   "file_extension": ".py",
   "mimetype": "text/x-python",
   "name": "python",
   "nbconvert_exporter": "python",
   "pygments_lexer": "ipython3",
   "version": "3.11.5"
  }
 },
 "nbformat": 4,
 "nbformat_minor": 2
}
