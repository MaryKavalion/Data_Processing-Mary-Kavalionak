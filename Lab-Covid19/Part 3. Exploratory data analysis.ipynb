{
 "cells": [
  {
   "cell_type": "markdown",
   "metadata": {},
   "source": [
    "In this part of work I will analyse the foolowing KPIs for Swedish population:"
   ]
  },
  {
   "cell_type": "markdown",
   "metadata": {},
   "source": [
    "1. The proportion of total deaths to total intensive care patients **per region**:  \n",
    "KPI: Death-to-ICU_Admissions Ratio  \n",
    "Formula: (Total Deaths / Total Intensive Care Patients) * 100  \n",
    "Interpretation: This KPI provides the percentage of individuals who succumbed to COVID-19 among those who required intensive care.\n",
    "\n",
    "2. Gender-based impact of COVID-19:  \n",
    "KPI: Gender Vulnerability Index  \n",
    "Formula: (Number of Cases in Women / Total Number of Cases) * 100 vs (Number of Cases in Men / Total Number of Cases) * 100  \n",
    "Interpretation: This KPI compares the percentage of COVID-19 cases in men and women, indicating which gender is more affected by the virus.\n",
    "\n",
    "3. Age group most impacted by COVID-19:  \n",
    "KPI: Age Group Vulnerability  \n",
    "Formula: (Number of Cases in a Specific Age Group / Population of this Age Group) * 100  (compare among the age groups)\n",
    "Interpretation: Identifies the age group most influenced by COVID-19.\n",
    "\n",
    "4. Age group most vaccinated with 2 doses:  \n",
    "KPI: Fully Vaccinated Age Group Ratio  \n",
    "Formula: (Number of Individuals Fully Vaccinated (2 doses) in a Specific Age Group / Total Population of that Age Group) * 100  \n",
    "Interpretation: Indicates the age group with the highest percentage of individuals fully vaccinated with two doses.\n",
    "\n",
    "5. Percentage of people who hasn't completed the vaccination series:  \n",
    "KPI: Vaccination Interruption Rate  \n",
    "Formula: (Number of Individuals with the First Dose - Number of Individuals with Both Doses)/Number of Individuals with the First Dose * 100  \n",
    "Interpretation: Measures the percentage of individuals who had started their vaccination serie yet not completed it."
   ]
  },
  {
   "cell_type": "code",
   "execution_count": 1,
   "metadata": {},
   "outputs": [],
   "source": [
    "import pandas as pd\n",
    "import plotly_express as px"
   ]
  },
  {
   "cell_type": "markdown",
   "metadata": {},
   "source": [
    "## Death-to-ICU_Admissions Ratio "
   ]
  },
  {
   "cell_type": "code",
   "execution_count": 2,
   "metadata": {},
   "outputs": [
    {
     "data": {
      "text/html": [
       "<div>\n",
       "<style scoped>\n",
       "    .dataframe tbody tr th:only-of-type {\n",
       "        vertical-align: middle;\n",
       "    }\n",
       "\n",
       "    .dataframe tbody tr th {\n",
       "        vertical-align: top;\n",
       "    }\n",
       "\n",
       "    .dataframe thead th {\n",
       "        text-align: right;\n",
       "    }\n",
       "</style>\n",
       "<table border=\"1\" class=\"dataframe\">\n",
       "  <thead>\n",
       "    <tr style=\"text-align: right;\">\n",
       "      <th></th>\n",
       "      <th>Region</th>\n",
       "      <th>Totalt_antal_fall</th>\n",
       "      <th>Fall_per_100000_inv</th>\n",
       "      <th>Totalt_antal_intensivvårdade</th>\n",
       "      <th>Totalt_antal_avlidna</th>\n",
       "    </tr>\n",
       "  </thead>\n",
       "  <tbody>\n",
       "    <tr>\n",
       "      <th>0</th>\n",
       "      <td>Blekinge</td>\n",
       "      <td>30829</td>\n",
       "      <td>19371.449951</td>\n",
       "      <td>85</td>\n",
       "      <td>184</td>\n",
       "    </tr>\n",
       "    <tr>\n",
       "      <th>1</th>\n",
       "      <td>Dalarna</td>\n",
       "      <td>75091</td>\n",
       "      <td>26098.780273</td>\n",
       "      <td>260</td>\n",
       "      <td>544</td>\n",
       "    </tr>\n",
       "    <tr>\n",
       "      <th>2</th>\n",
       "      <td>Gotland</td>\n",
       "      <td>11874</td>\n",
       "      <td>19776.671875</td>\n",
       "      <td>46</td>\n",
       "      <td>82</td>\n",
       "    </tr>\n",
       "    <tr>\n",
       "      <th>3</th>\n",
       "      <td>Gävleborg</td>\n",
       "      <td>74803</td>\n",
       "      <td>26020.503418</td>\n",
       "      <td>332</td>\n",
       "      <td>754</td>\n",
       "    </tr>\n",
       "    <tr>\n",
       "      <th>4</th>\n",
       "      <td>Halland</td>\n",
       "      <td>108822</td>\n",
       "      <td>32349.047119</td>\n",
       "      <td>229</td>\n",
       "      <td>518</td>\n",
       "    </tr>\n",
       "  </tbody>\n",
       "</table>\n",
       "</div>"
      ],
      "text/plain": [
       "      Region  Totalt_antal_fall  Fall_per_100000_inv  \\\n",
       "0   Blekinge              30829         19371.449951   \n",
       "1    Dalarna              75091         26098.780273   \n",
       "2    Gotland              11874         19776.671875   \n",
       "3  Gävleborg              74803         26020.503418   \n",
       "4    Halland             108822         32349.047119   \n",
       "\n",
       "   Totalt_antal_intensivvårdade  Totalt_antal_avlidna  \n",
       "0                            85                   184  \n",
       "1                           260                   544  \n",
       "2                            46                    82  \n",
       "3                           332                   754  \n",
       "4                           229                   518  "
      ]
     },
     "execution_count": 2,
     "metadata": {},
     "output_type": "execute_result"
    }
   ],
   "source": [
    "totals = pd.read_excel(\"./Data/Covid19.xlsx\", sheet_name=\"Totalt antal per region\")\n",
    "totals.head()"
   ]
  },
  {
   "cell_type": "markdown",
   "metadata": {},
   "source": [
    "A little bit unexpectably, the number of intensive care cases is less than the number of deaths (ratio is going to be > 100%), which means either that lots of people had died without getting intensive care or that only successful cases of intensive care are listed in this column. The official source provides the following comment:"
   ]
  },
  {
   "cell_type": "markdown",
   "metadata": {},
   "source": [
    "\" Antalet intensivvårdade laboratoriebekräftade fall hämtas löpande från Svenska Intensivvårdsregistrets rapporteringsmodul SIRI.\n",
    "Viss fördröjning i rapportering och komplettering av uppgifter om nya fall, intensivvårdade fall och avlidna fall förekommer\","
   ]
  },
  {
   "cell_type": "markdown",
   "metadata": {},
   "source": [
    "which is not pretty explanatory concerning our question."
   ]
  },
  {
   "cell_type": "code",
   "execution_count": 3,
   "metadata": {},
   "outputs": [
    {
     "data": {
      "text/plain": [
       "2.1646060352053644"
      ]
     },
     "execution_count": 3,
     "metadata": {},
     "output_type": "execute_result"
    }
   ],
   "source": [
    "death_to_icu = totals[\"Totalt_antal_avlidna\"].sum() / totals[\"Totalt_antal_intensivvårdade\"].sum()\n",
    "death_to_icu"
   ]
  },
  {
   "cell_type": "code",
   "execution_count": 4,
   "metadata": {},
   "outputs": [
    {
     "data": {
      "text/html": [
       "<div>\n",
       "<style scoped>\n",
       "    .dataframe tbody tr th:only-of-type {\n",
       "        vertical-align: middle;\n",
       "    }\n",
       "\n",
       "    .dataframe tbody tr th {\n",
       "        vertical-align: top;\n",
       "    }\n",
       "\n",
       "    .dataframe thead th {\n",
       "        text-align: right;\n",
       "    }\n",
       "</style>\n",
       "<table border=\"1\" class=\"dataframe\">\n",
       "  <thead>\n",
       "    <tr style=\"text-align: right;\">\n",
       "      <th></th>\n",
       "      <th>Region</th>\n",
       "      <th>Totalt_antal_fall</th>\n",
       "      <th>Fall_per_100000_inv</th>\n",
       "      <th>Totalt_antal_intensivvårdade</th>\n",
       "      <th>Totalt_antal_avlidna</th>\n",
       "      <th>Death to ICU_Admissions Ratio</th>\n",
       "    </tr>\n",
       "  </thead>\n",
       "  <tbody>\n",
       "    <tr>\n",
       "      <th>0</th>\n",
       "      <td>Blekinge</td>\n",
       "      <td>30829</td>\n",
       "      <td>19371.449951</td>\n",
       "      <td>85</td>\n",
       "      <td>184</td>\n",
       "      <td>216.470588</td>\n",
       "    </tr>\n",
       "    <tr>\n",
       "      <th>1</th>\n",
       "      <td>Dalarna</td>\n",
       "      <td>75091</td>\n",
       "      <td>26098.780273</td>\n",
       "      <td>260</td>\n",
       "      <td>544</td>\n",
       "      <td>209.230769</td>\n",
       "    </tr>\n",
       "    <tr>\n",
       "      <th>2</th>\n",
       "      <td>Gotland</td>\n",
       "      <td>11874</td>\n",
       "      <td>19776.671875</td>\n",
       "      <td>46</td>\n",
       "      <td>82</td>\n",
       "      <td>178.260870</td>\n",
       "    </tr>\n",
       "    <tr>\n",
       "      <th>3</th>\n",
       "      <td>Gävleborg</td>\n",
       "      <td>74803</td>\n",
       "      <td>26020.503418</td>\n",
       "      <td>332</td>\n",
       "      <td>754</td>\n",
       "      <td>227.108434</td>\n",
       "    </tr>\n",
       "    <tr>\n",
       "      <th>4</th>\n",
       "      <td>Halland</td>\n",
       "      <td>108822</td>\n",
       "      <td>32349.047119</td>\n",
       "      <td>229</td>\n",
       "      <td>518</td>\n",
       "      <td>226.200873</td>\n",
       "    </tr>\n",
       "    <tr>\n",
       "      <th>5</th>\n",
       "      <td>Jämtland Härjedalen</td>\n",
       "      <td>34347</td>\n",
       "      <td>26197.373535</td>\n",
       "      <td>95</td>\n",
       "      <td>197</td>\n",
       "      <td>207.368421</td>\n",
       "    </tr>\n",
       "    <tr>\n",
       "      <th>6</th>\n",
       "      <td>Jönköping</td>\n",
       "      <td>89662</td>\n",
       "      <td>24583.161133</td>\n",
       "      <td>414</td>\n",
       "      <td>756</td>\n",
       "      <td>182.608696</td>\n",
       "    </tr>\n",
       "    <tr>\n",
       "      <th>7</th>\n",
       "      <td>Kalmar</td>\n",
       "      <td>62810</td>\n",
       "      <td>25537.878418</td>\n",
       "      <td>135</td>\n",
       "      <td>385</td>\n",
       "      <td>285.185185</td>\n",
       "    </tr>\n",
       "    <tr>\n",
       "      <th>8</th>\n",
       "      <td>Kronoberg</td>\n",
       "      <td>51460</td>\n",
       "      <td>25460.141602</td>\n",
       "      <td>162</td>\n",
       "      <td>410</td>\n",
       "      <td>253.086420</td>\n",
       "    </tr>\n",
       "    <tr>\n",
       "      <th>9</th>\n",
       "      <td>Norrbotten</td>\n",
       "      <td>50755</td>\n",
       "      <td>20327.326904</td>\n",
       "      <td>267</td>\n",
       "      <td>459</td>\n",
       "      <td>171.910112</td>\n",
       "    </tr>\n",
       "    <tr>\n",
       "      <th>10</th>\n",
       "      <td>Skåne</td>\n",
       "      <td>346727</td>\n",
       "      <td>24998.670410</td>\n",
       "      <td>819</td>\n",
       "      <td>2587</td>\n",
       "      <td>315.873016</td>\n",
       "    </tr>\n",
       "    <tr>\n",
       "      <th>11</th>\n",
       "      <td>Stockholm</td>\n",
       "      <td>606611</td>\n",
       "      <td>25391.749023</td>\n",
       "      <td>2645</td>\n",
       "      <td>5626</td>\n",
       "      <td>212.703214</td>\n",
       "    </tr>\n",
       "    <tr>\n",
       "      <th>12</th>\n",
       "      <td>Sörmland</td>\n",
       "      <td>67918</td>\n",
       "      <td>22704.283447</td>\n",
       "      <td>446</td>\n",
       "      <td>662</td>\n",
       "      <td>148.430493</td>\n",
       "    </tr>\n",
       "    <tr>\n",
       "      <th>13</th>\n",
       "      <td>Uppsala</td>\n",
       "      <td>93746</td>\n",
       "      <td>24194.380859</td>\n",
       "      <td>462</td>\n",
       "      <td>722</td>\n",
       "      <td>156.277056</td>\n",
       "    </tr>\n",
       "    <tr>\n",
       "      <th>14</th>\n",
       "      <td>Värmland</td>\n",
       "      <td>69277</td>\n",
       "      <td>24493.155029</td>\n",
       "      <td>193</td>\n",
       "      <td>411</td>\n",
       "      <td>212.953368</td>\n",
       "    </tr>\n",
       "    <tr>\n",
       "      <th>15</th>\n",
       "      <td>Västerbotten</td>\n",
       "      <td>60186</td>\n",
       "      <td>22047.432129</td>\n",
       "      <td>195</td>\n",
       "      <td>393</td>\n",
       "      <td>201.538462</td>\n",
       "    </tr>\n",
       "    <tr>\n",
       "      <th>16</th>\n",
       "      <td>Västernorrland</td>\n",
       "      <td>56224</td>\n",
       "      <td>22976.456543</td>\n",
       "      <td>217</td>\n",
       "      <td>678</td>\n",
       "      <td>312.442396</td>\n",
       "    </tr>\n",
       "    <tr>\n",
       "      <th>17</th>\n",
       "      <td>Västmanland</td>\n",
       "      <td>78438</td>\n",
       "      <td>28326.636230</td>\n",
       "      <td>156</td>\n",
       "      <td>534</td>\n",
       "      <td>342.307692</td>\n",
       "    </tr>\n",
       "    <tr>\n",
       "      <th>18</th>\n",
       "      <td>Västra Götaland</td>\n",
       "      <td>444278</td>\n",
       "      <td>25636.465332</td>\n",
       "      <td>1670</td>\n",
       "      <td>3342</td>\n",
       "      <td>200.119760</td>\n",
       "    </tr>\n",
       "    <tr>\n",
       "      <th>19</th>\n",
       "      <td>Örebro</td>\n",
       "      <td>98929</td>\n",
       "      <td>32379.776855</td>\n",
       "      <td>276</td>\n",
       "      <td>525</td>\n",
       "      <td>190.217391</td>\n",
       "    </tr>\n",
       "    <tr>\n",
       "      <th>20</th>\n",
       "      <td>Östergötland</td>\n",
       "      <td>98793</td>\n",
       "      <td>21158.707031</td>\n",
       "      <td>440</td>\n",
       "      <td>890</td>\n",
       "      <td>202.272727</td>\n",
       "    </tr>\n",
       "  </tbody>\n",
       "</table>\n",
       "</div>"
      ],
      "text/plain": [
       "                 Region  Totalt_antal_fall  Fall_per_100000_inv  \\\n",
       "0              Blekinge              30829         19371.449951   \n",
       "1               Dalarna              75091         26098.780273   \n",
       "2               Gotland              11874         19776.671875   \n",
       "3             Gävleborg              74803         26020.503418   \n",
       "4               Halland             108822         32349.047119   \n",
       "5   Jämtland Härjedalen              34347         26197.373535   \n",
       "6             Jönköping              89662         24583.161133   \n",
       "7                Kalmar              62810         25537.878418   \n",
       "8             Kronoberg              51460         25460.141602   \n",
       "9            Norrbotten              50755         20327.326904   \n",
       "10                Skåne             346727         24998.670410   \n",
       "11            Stockholm             606611         25391.749023   \n",
       "12             Sörmland              67918         22704.283447   \n",
       "13              Uppsala              93746         24194.380859   \n",
       "14             Värmland              69277         24493.155029   \n",
       "15         Västerbotten              60186         22047.432129   \n",
       "16       Västernorrland              56224         22976.456543   \n",
       "17          Västmanland              78438         28326.636230   \n",
       "18      Västra Götaland             444278         25636.465332   \n",
       "19               Örebro              98929         32379.776855   \n",
       "20         Östergötland              98793         21158.707031   \n",
       "\n",
       "    Totalt_antal_intensivvårdade  Totalt_antal_avlidna  \\\n",
       "0                             85                   184   \n",
       "1                            260                   544   \n",
       "2                             46                    82   \n",
       "3                            332                   754   \n",
       "4                            229                   518   \n",
       "5                             95                   197   \n",
       "6                            414                   756   \n",
       "7                            135                   385   \n",
       "8                            162                   410   \n",
       "9                            267                   459   \n",
       "10                           819                  2587   \n",
       "11                          2645                  5626   \n",
       "12                           446                   662   \n",
       "13                           462                   722   \n",
       "14                           193                   411   \n",
       "15                           195                   393   \n",
       "16                           217                   678   \n",
       "17                           156                   534   \n",
       "18                          1670                  3342   \n",
       "19                           276                   525   \n",
       "20                           440                   890   \n",
       "\n",
       "    Death to ICU_Admissions Ratio  \n",
       "0                      216.470588  \n",
       "1                      209.230769  \n",
       "2                      178.260870  \n",
       "3                      227.108434  \n",
       "4                      226.200873  \n",
       "5                      207.368421  \n",
       "6                      182.608696  \n",
       "7                      285.185185  \n",
       "8                      253.086420  \n",
       "9                      171.910112  \n",
       "10                     315.873016  \n",
       "11                     212.703214  \n",
       "12                     148.430493  \n",
       "13                     156.277056  \n",
       "14                     212.953368  \n",
       "15                     201.538462  \n",
       "16                     312.442396  \n",
       "17                     342.307692  \n",
       "18                     200.119760  \n",
       "19                     190.217391  \n",
       "20                     202.272727  "
      ]
     },
     "metadata": {},
     "output_type": "display_data"
    }
   ],
   "source": [
    "totals [\"Death to ICU_Admissions Ratio\"] = totals[\"Totalt_antal_avlidna\"] / totals[\"Totalt_antal_intensivvårdade\"] * 100\n",
    "display(totals)\n",
    "pd.set_option(\"display.float_format\", '{:.2f}'.format)"
   ]
  },
  {
   "cell_type": "code",
   "execution_count": 5,
   "metadata": {},
   "outputs": [
    {
     "data": {
      "application/vnd.plotly.v1+json": {
       "config": {
        "plotlyServerURL": "https://plot.ly"
       },
       "data": [
        {
         "alignmentgroup": "True",
         "hovertemplate": "Type of case=Totalt_antal_intensivvårdade<br>Region=%{x}<br>Number cases=%{y}<extra></extra>",
         "legendgroup": "Totalt_antal_intensivvårdade",
         "marker": {
          "color": "#636efa",
          "pattern": {
           "shape": ""
          }
         },
         "name": "Totalt_antal_intensivvårdade",
         "offsetgroup": "Totalt_antal_intensivvårdade",
         "orientation": "v",
         "showlegend": true,
         "textposition": "auto",
         "type": "bar",
         "x": [
          "Blekinge",
          "Dalarna",
          "Gotland",
          "Gävleborg",
          "Halland",
          "Jämtland Härjedalen",
          "Jönköping",
          "Kalmar",
          "Kronoberg",
          "Norrbotten",
          "Skåne",
          "Stockholm",
          "Sörmland",
          "Uppsala",
          "Värmland",
          "Västerbotten",
          "Västernorrland",
          "Västmanland",
          "Västra Götaland",
          "Örebro",
          "Östergötland"
         ],
         "xaxis": "x",
         "y": [
          85,
          260,
          46,
          332,
          229,
          95,
          414,
          135,
          162,
          267,
          819,
          2645,
          446,
          462,
          193,
          195,
          217,
          156,
          1670,
          276,
          440
         ],
         "yaxis": "y"
        },
        {
         "alignmentgroup": "True",
         "hovertemplate": "Type of case=Totalt_antal_avlidna<br>Region=%{x}<br>Number cases=%{y}<extra></extra>",
         "legendgroup": "Totalt_antal_avlidna",
         "marker": {
          "color": "#EF553B",
          "pattern": {
           "shape": ""
          }
         },
         "name": "Totalt_antal_avlidna",
         "offsetgroup": "Totalt_antal_avlidna",
         "orientation": "v",
         "showlegend": true,
         "textposition": "auto",
         "type": "bar",
         "x": [
          "Blekinge",
          "Dalarna",
          "Gotland",
          "Gävleborg",
          "Halland",
          "Jämtland Härjedalen",
          "Jönköping",
          "Kalmar",
          "Kronoberg",
          "Norrbotten",
          "Skåne",
          "Stockholm",
          "Sörmland",
          "Uppsala",
          "Värmland",
          "Västerbotten",
          "Västernorrland",
          "Västmanland",
          "Västra Götaland",
          "Örebro",
          "Östergötland"
         ],
         "xaxis": "x",
         "y": [
          184,
          544,
          82,
          754,
          518,
          197,
          756,
          385,
          410,
          459,
          2587,
          5626,
          662,
          722,
          411,
          393,
          678,
          534,
          3342,
          525,
          890
         ],
         "yaxis": "y"
        }
       ],
       "layout": {
        "barmode": "relative",
        "legend": {
         "title": {
          "text": "Type of case"
         },
         "tracegroupgap": 0
        },
        "template": {
         "data": {
          "bar": [
           {
            "error_x": {
             "color": "#2a3f5f"
            },
            "error_y": {
             "color": "#2a3f5f"
            },
            "marker": {
             "line": {
              "color": "#E5ECF6",
              "width": 0.5
             },
             "pattern": {
              "fillmode": "overlay",
              "size": 10,
              "solidity": 0.2
             }
            },
            "type": "bar"
           }
          ],
          "barpolar": [
           {
            "marker": {
             "line": {
              "color": "#E5ECF6",
              "width": 0.5
             },
             "pattern": {
              "fillmode": "overlay",
              "size": 10,
              "solidity": 0.2
             }
            },
            "type": "barpolar"
           }
          ],
          "carpet": [
           {
            "aaxis": {
             "endlinecolor": "#2a3f5f",
             "gridcolor": "white",
             "linecolor": "white",
             "minorgridcolor": "white",
             "startlinecolor": "#2a3f5f"
            },
            "baxis": {
             "endlinecolor": "#2a3f5f",
             "gridcolor": "white",
             "linecolor": "white",
             "minorgridcolor": "white",
             "startlinecolor": "#2a3f5f"
            },
            "type": "carpet"
           }
          ],
          "choropleth": [
           {
            "colorbar": {
             "outlinewidth": 0,
             "ticks": ""
            },
            "type": "choropleth"
           }
          ],
          "contour": [
           {
            "colorbar": {
             "outlinewidth": 0,
             "ticks": ""
            },
            "colorscale": [
             [
              0,
              "#0d0887"
             ],
             [
              0.1111111111111111,
              "#46039f"
             ],
             [
              0.2222222222222222,
              "#7201a8"
             ],
             [
              0.3333333333333333,
              "#9c179e"
             ],
             [
              0.4444444444444444,
              "#bd3786"
             ],
             [
              0.5555555555555556,
              "#d8576b"
             ],
             [
              0.6666666666666666,
              "#ed7953"
             ],
             [
              0.7777777777777778,
              "#fb9f3a"
             ],
             [
              0.8888888888888888,
              "#fdca26"
             ],
             [
              1,
              "#f0f921"
             ]
            ],
            "type": "contour"
           }
          ],
          "contourcarpet": [
           {
            "colorbar": {
             "outlinewidth": 0,
             "ticks": ""
            },
            "type": "contourcarpet"
           }
          ],
          "heatmap": [
           {
            "colorbar": {
             "outlinewidth": 0,
             "ticks": ""
            },
            "colorscale": [
             [
              0,
              "#0d0887"
             ],
             [
              0.1111111111111111,
              "#46039f"
             ],
             [
              0.2222222222222222,
              "#7201a8"
             ],
             [
              0.3333333333333333,
              "#9c179e"
             ],
             [
              0.4444444444444444,
              "#bd3786"
             ],
             [
              0.5555555555555556,
              "#d8576b"
             ],
             [
              0.6666666666666666,
              "#ed7953"
             ],
             [
              0.7777777777777778,
              "#fb9f3a"
             ],
             [
              0.8888888888888888,
              "#fdca26"
             ],
             [
              1,
              "#f0f921"
             ]
            ],
            "type": "heatmap"
           }
          ],
          "heatmapgl": [
           {
            "colorbar": {
             "outlinewidth": 0,
             "ticks": ""
            },
            "colorscale": [
             [
              0,
              "#0d0887"
             ],
             [
              0.1111111111111111,
              "#46039f"
             ],
             [
              0.2222222222222222,
              "#7201a8"
             ],
             [
              0.3333333333333333,
              "#9c179e"
             ],
             [
              0.4444444444444444,
              "#bd3786"
             ],
             [
              0.5555555555555556,
              "#d8576b"
             ],
             [
              0.6666666666666666,
              "#ed7953"
             ],
             [
              0.7777777777777778,
              "#fb9f3a"
             ],
             [
              0.8888888888888888,
              "#fdca26"
             ],
             [
              1,
              "#f0f921"
             ]
            ],
            "type": "heatmapgl"
           }
          ],
          "histogram": [
           {
            "marker": {
             "pattern": {
              "fillmode": "overlay",
              "size": 10,
              "solidity": 0.2
             }
            },
            "type": "histogram"
           }
          ],
          "histogram2d": [
           {
            "colorbar": {
             "outlinewidth": 0,
             "ticks": ""
            },
            "colorscale": [
             [
              0,
              "#0d0887"
             ],
             [
              0.1111111111111111,
              "#46039f"
             ],
             [
              0.2222222222222222,
              "#7201a8"
             ],
             [
              0.3333333333333333,
              "#9c179e"
             ],
             [
              0.4444444444444444,
              "#bd3786"
             ],
             [
              0.5555555555555556,
              "#d8576b"
             ],
             [
              0.6666666666666666,
              "#ed7953"
             ],
             [
              0.7777777777777778,
              "#fb9f3a"
             ],
             [
              0.8888888888888888,
              "#fdca26"
             ],
             [
              1,
              "#f0f921"
             ]
            ],
            "type": "histogram2d"
           }
          ],
          "histogram2dcontour": [
           {
            "colorbar": {
             "outlinewidth": 0,
             "ticks": ""
            },
            "colorscale": [
             [
              0,
              "#0d0887"
             ],
             [
              0.1111111111111111,
              "#46039f"
             ],
             [
              0.2222222222222222,
              "#7201a8"
             ],
             [
              0.3333333333333333,
              "#9c179e"
             ],
             [
              0.4444444444444444,
              "#bd3786"
             ],
             [
              0.5555555555555556,
              "#d8576b"
             ],
             [
              0.6666666666666666,
              "#ed7953"
             ],
             [
              0.7777777777777778,
              "#fb9f3a"
             ],
             [
              0.8888888888888888,
              "#fdca26"
             ],
             [
              1,
              "#f0f921"
             ]
            ],
            "type": "histogram2dcontour"
           }
          ],
          "mesh3d": [
           {
            "colorbar": {
             "outlinewidth": 0,
             "ticks": ""
            },
            "type": "mesh3d"
           }
          ],
          "parcoords": [
           {
            "line": {
             "colorbar": {
              "outlinewidth": 0,
              "ticks": ""
             }
            },
            "type": "parcoords"
           }
          ],
          "pie": [
           {
            "automargin": true,
            "type": "pie"
           }
          ],
          "scatter": [
           {
            "fillpattern": {
             "fillmode": "overlay",
             "size": 10,
             "solidity": 0.2
            },
            "type": "scatter"
           }
          ],
          "scatter3d": [
           {
            "line": {
             "colorbar": {
              "outlinewidth": 0,
              "ticks": ""
             }
            },
            "marker": {
             "colorbar": {
              "outlinewidth": 0,
              "ticks": ""
             }
            },
            "type": "scatter3d"
           }
          ],
          "scattercarpet": [
           {
            "marker": {
             "colorbar": {
              "outlinewidth": 0,
              "ticks": ""
             }
            },
            "type": "scattercarpet"
           }
          ],
          "scattergeo": [
           {
            "marker": {
             "colorbar": {
              "outlinewidth": 0,
              "ticks": ""
             }
            },
            "type": "scattergeo"
           }
          ],
          "scattergl": [
           {
            "marker": {
             "colorbar": {
              "outlinewidth": 0,
              "ticks": ""
             }
            },
            "type": "scattergl"
           }
          ],
          "scattermapbox": [
           {
            "marker": {
             "colorbar": {
              "outlinewidth": 0,
              "ticks": ""
             }
            },
            "type": "scattermapbox"
           }
          ],
          "scatterpolar": [
           {
            "marker": {
             "colorbar": {
              "outlinewidth": 0,
              "ticks": ""
             }
            },
            "type": "scatterpolar"
           }
          ],
          "scatterpolargl": [
           {
            "marker": {
             "colorbar": {
              "outlinewidth": 0,
              "ticks": ""
             }
            },
            "type": "scatterpolargl"
           }
          ],
          "scatterternary": [
           {
            "marker": {
             "colorbar": {
              "outlinewidth": 0,
              "ticks": ""
             }
            },
            "type": "scatterternary"
           }
          ],
          "surface": [
           {
            "colorbar": {
             "outlinewidth": 0,
             "ticks": ""
            },
            "colorscale": [
             [
              0,
              "#0d0887"
             ],
             [
              0.1111111111111111,
              "#46039f"
             ],
             [
              0.2222222222222222,
              "#7201a8"
             ],
             [
              0.3333333333333333,
              "#9c179e"
             ],
             [
              0.4444444444444444,
              "#bd3786"
             ],
             [
              0.5555555555555556,
              "#d8576b"
             ],
             [
              0.6666666666666666,
              "#ed7953"
             ],
             [
              0.7777777777777778,
              "#fb9f3a"
             ],
             [
              0.8888888888888888,
              "#fdca26"
             ],
             [
              1,
              "#f0f921"
             ]
            ],
            "type": "surface"
           }
          ],
          "table": [
           {
            "cells": {
             "fill": {
              "color": "#EBF0F8"
             },
             "line": {
              "color": "white"
             }
            },
            "header": {
             "fill": {
              "color": "#C8D4E3"
             },
             "line": {
              "color": "white"
             }
            },
            "type": "table"
           }
          ]
         },
         "layout": {
          "annotationdefaults": {
           "arrowcolor": "#2a3f5f",
           "arrowhead": 0,
           "arrowwidth": 1
          },
          "autotypenumbers": "strict",
          "coloraxis": {
           "colorbar": {
            "outlinewidth": 0,
            "ticks": ""
           }
          },
          "colorscale": {
           "diverging": [
            [
             0,
             "#8e0152"
            ],
            [
             0.1,
             "#c51b7d"
            ],
            [
             0.2,
             "#de77ae"
            ],
            [
             0.3,
             "#f1b6da"
            ],
            [
             0.4,
             "#fde0ef"
            ],
            [
             0.5,
             "#f7f7f7"
            ],
            [
             0.6,
             "#e6f5d0"
            ],
            [
             0.7,
             "#b8e186"
            ],
            [
             0.8,
             "#7fbc41"
            ],
            [
             0.9,
             "#4d9221"
            ],
            [
             1,
             "#276419"
            ]
           ],
           "sequential": [
            [
             0,
             "#0d0887"
            ],
            [
             0.1111111111111111,
             "#46039f"
            ],
            [
             0.2222222222222222,
             "#7201a8"
            ],
            [
             0.3333333333333333,
             "#9c179e"
            ],
            [
             0.4444444444444444,
             "#bd3786"
            ],
            [
             0.5555555555555556,
             "#d8576b"
            ],
            [
             0.6666666666666666,
             "#ed7953"
            ],
            [
             0.7777777777777778,
             "#fb9f3a"
            ],
            [
             0.8888888888888888,
             "#fdca26"
            ],
            [
             1,
             "#f0f921"
            ]
           ],
           "sequentialminus": [
            [
             0,
             "#0d0887"
            ],
            [
             0.1111111111111111,
             "#46039f"
            ],
            [
             0.2222222222222222,
             "#7201a8"
            ],
            [
             0.3333333333333333,
             "#9c179e"
            ],
            [
             0.4444444444444444,
             "#bd3786"
            ],
            [
             0.5555555555555556,
             "#d8576b"
            ],
            [
             0.6666666666666666,
             "#ed7953"
            ],
            [
             0.7777777777777778,
             "#fb9f3a"
            ],
            [
             0.8888888888888888,
             "#fdca26"
            ],
            [
             1,
             "#f0f921"
            ]
           ]
          },
          "colorway": [
           "#636efa",
           "#EF553B",
           "#00cc96",
           "#ab63fa",
           "#FFA15A",
           "#19d3f3",
           "#FF6692",
           "#B6E880",
           "#FF97FF",
           "#FECB52"
          ],
          "font": {
           "color": "#2a3f5f"
          },
          "geo": {
           "bgcolor": "white",
           "lakecolor": "white",
           "landcolor": "#E5ECF6",
           "showlakes": true,
           "showland": true,
           "subunitcolor": "white"
          },
          "hoverlabel": {
           "align": "left"
          },
          "hovermode": "closest",
          "mapbox": {
           "style": "light"
          },
          "paper_bgcolor": "white",
          "plot_bgcolor": "#E5ECF6",
          "polar": {
           "angularaxis": {
            "gridcolor": "white",
            "linecolor": "white",
            "ticks": ""
           },
           "bgcolor": "#E5ECF6",
           "radialaxis": {
            "gridcolor": "white",
            "linecolor": "white",
            "ticks": ""
           }
          },
          "scene": {
           "xaxis": {
            "backgroundcolor": "#E5ECF6",
            "gridcolor": "white",
            "gridwidth": 2,
            "linecolor": "white",
            "showbackground": true,
            "ticks": "",
            "zerolinecolor": "white"
           },
           "yaxis": {
            "backgroundcolor": "#E5ECF6",
            "gridcolor": "white",
            "gridwidth": 2,
            "linecolor": "white",
            "showbackground": true,
            "ticks": "",
            "zerolinecolor": "white"
           },
           "zaxis": {
            "backgroundcolor": "#E5ECF6",
            "gridcolor": "white",
            "gridwidth": 2,
            "linecolor": "white",
            "showbackground": true,
            "ticks": "",
            "zerolinecolor": "white"
           }
          },
          "shapedefaults": {
           "line": {
            "color": "#2a3f5f"
           }
          },
          "ternary": {
           "aaxis": {
            "gridcolor": "white",
            "linecolor": "white",
            "ticks": ""
           },
           "baxis": {
            "gridcolor": "white",
            "linecolor": "white",
            "ticks": ""
           },
           "bgcolor": "#E5ECF6",
           "caxis": {
            "gridcolor": "white",
            "linecolor": "white",
            "ticks": ""
           }
          },
          "title": {
           "x": 0.05
          },
          "xaxis": {
           "automargin": true,
           "gridcolor": "white",
           "linecolor": "white",
           "ticks": "",
           "title": {
            "standoff": 15
           },
           "zerolinecolor": "white",
           "zerolinewidth": 2
          },
          "yaxis": {
           "automargin": true,
           "gridcolor": "white",
           "linecolor": "white",
           "ticks": "",
           "title": {
            "standoff": 15
           },
           "zerolinecolor": "white",
           "zerolinewidth": 2
          }
         }
        },
        "title": {
         "text": "Death to ICU Admissions proportion"
        },
        "xaxis": {
         "anchor": "y",
         "domain": [
          0,
          1
         ],
         "title": {
          "text": "Region"
         }
        },
        "yaxis": {
         "anchor": "x",
         "domain": [
          0,
          1
         ],
         "title": {
          "text": "Number cases"
         }
        }
       }
      }
     },
     "metadata": {},
     "output_type": "display_data"
    }
   ],
   "source": [
    "death_to_icu_fig = px.bar(totals, \n",
    "x = \"Region\",\n",
    "y = [\"Totalt_antal_intensivvårdade\", \"Totalt_antal_avlidna\"],\n",
    "title = \"Death to ICU Admissions proportion\",\n",
    "labels = dict(value = \"Number cases\", variable = \"Type of case\"))\n",
    "death_to_icu_fig.show()\n",
    "death_to_icu_fig.write_html(\"./Visualizations/Insights/Death to ICU ratio.html\")"
   ]
  },
  {
   "cell_type": "markdown",
   "metadata": {},
   "source": [
    "## Gender Vulnerability Index  "
   ]
  },
  {
   "cell_type": "code",
   "execution_count": 6,
   "metadata": {},
   "outputs": [
    {
     "data": {
      "text/html": [
       "<div>\n",
       "<style scoped>\n",
       "    .dataframe tbody tr th:only-of-type {\n",
       "        vertical-align: middle;\n",
       "    }\n",
       "\n",
       "    .dataframe tbody tr th {\n",
       "        vertical-align: top;\n",
       "    }\n",
       "\n",
       "    .dataframe thead th {\n",
       "        text-align: right;\n",
       "    }\n",
       "</style>\n",
       "<table border=\"1\" class=\"dataframe\">\n",
       "  <thead>\n",
       "    <tr style=\"text-align: right;\">\n",
       "      <th></th>\n",
       "      <th>Kön</th>\n",
       "      <th>Totalt_antal_fall</th>\n",
       "      <th>Totalt_antal_intensivvårdade</th>\n",
       "      <th>Totalt_antal_avlidna</th>\n",
       "    </tr>\n",
       "  </thead>\n",
       "  <tbody>\n",
       "    <tr>\n",
       "      <th>0</th>\n",
       "      <td>Man</td>\n",
       "      <td>1210098</td>\n",
       "      <td>6550</td>\n",
       "      <td>11279</td>\n",
       "    </tr>\n",
       "    <tr>\n",
       "      <th>1</th>\n",
       "      <td>Kvinna</td>\n",
       "      <td>1381189</td>\n",
       "      <td>2947</td>\n",
       "      <td>9273</td>\n",
       "    </tr>\n",
       "    <tr>\n",
       "      <th>2</th>\n",
       "      <td>Uppgift saknas</td>\n",
       "      <td>20293</td>\n",
       "      <td>47</td>\n",
       "      <td>107</td>\n",
       "    </tr>\n",
       "  </tbody>\n",
       "</table>\n",
       "</div>"
      ],
      "text/plain": [
       "              Kön  Totalt_antal_fall  Totalt_antal_intensivvårdade  \\\n",
       "0             Man            1210098                          6550   \n",
       "1          Kvinna            1381189                          2947   \n",
       "2  Uppgift saknas              20293                            47   \n",
       "\n",
       "   Totalt_antal_avlidna  \n",
       "0                 11279  \n",
       "1                  9273  \n",
       "2                   107  "
      ]
     },
     "execution_count": 6,
     "metadata": {},
     "output_type": "execute_result"
    }
   ],
   "source": [
    "genders = pd.read_excel(\"./Data/Covid19.xlsx\", sheet_name=\"Totalt antal per kön\")\n",
    "genders.head()"
   ]
  },
  {
   "cell_type": "code",
   "execution_count": 7,
   "metadata": {},
   "outputs": [],
   "source": [
    "from Functions import *"
   ]
  },
  {
   "cell_type": "code",
   "execution_count": 8,
   "metadata": {},
   "outputs": [],
   "source": [
    "women = Gender(1, genders)\n",
    "men = Gender(0, genders)"
   ]
  },
  {
   "cell_type": "code",
   "execution_count": 9,
   "metadata": {},
   "outputs": [
    {
     "name": "stdout",
     "output_type": "stream",
     "text": [
      "Procent of women cases, out of total = 53.3012746175935\n",
      "Procent of men cases, out of total = 46.6987253824065\n",
      "Procent of women intensive care cases, out of total intensive care cases = 31.030851847951986\n",
      "Procent of men intensive care cases, out of total intensive care cases = 68.969148152048\n",
      "Procent of women deceased cases, out of total deceased = 45.119696379914366\n",
      "Procent of men deceased cases, out of total deceased = 54.880303620085634\n"
     ]
    }
   ],
   "source": [
    "print(f\"Procent of women cases, out of total = {women.procent_cases(men, 'Totalt_antal_fall')}\")\n",
    "print(f\"Procent of men cases, out of total = {men.procent_cases(women, 'Totalt_antal_fall')}\")\n",
    "\n",
    "print(f\"Procent of women intensive care cases, out of total intensive care cases = {women.procent_cases(men, 'Totalt_antal_intensivvårdade')}\")\n",
    "print(f\"Procent of men intensive care cases, out of total intensive care cases = {men.procent_cases(women, 'Totalt_antal_intensivvårdade')}\")\n",
    "\n",
    "print(f\"Procent of women deceased cases, out of total deceased = {women.procent_cases(men, 'Totalt_antal_avlidna')}\")\n",
    "print(f\"Procent of men deceased cases, out of total deceased = {men.procent_cases(women, 'Totalt_antal_avlidna')}\")"
   ]
  },
  {
   "cell_type": "markdown",
   "metadata": {},
   "source": [
    "As we can see, the number of women diagnosed COVID is a little bit higher; however, the number of men who died from COVID is higher, then the number of women, and the number of men admitted to the Intensive Care Unit is significantly higher."
   ]
  },
  {
   "cell_type": "code",
   "execution_count": 10,
   "metadata": {},
   "outputs": [],
   "source": [
    "from matplotlib import pyplot as plt"
   ]
  },
  {
   "cell_type": "code",
   "execution_count": 11,
   "metadata": {},
   "outputs": [
    {
     "data": {
      "text/plain": [
       "([<matplotlib.patches.Wedge at 0x24443bf8890>,\n",
       "  <matplotlib.patches.Wedge at 0x24443c492d0>,\n",
       "  <matplotlib.patches.Wedge at 0x24443c4b010>],\n",
       " [Text(-0.1582771398423213, 1.088553327588196, 'Man'),\n",
       "  Text(0.14054468907761855, -1.0909845051017342, 'Kvinna'),\n",
       "  Text(1.099854385904432, -0.017897759825880395, 'Uppgift saknas')],\n",
       " [Text(-0.0863329853685389, 0.5937563605026523, '55%'),\n",
       "  Text(0.07666073949688285, -0.5950824573282185, '45%'),\n",
       "  Text(0.5999205741296901, -0.009762414450480214, '1%')])"
      ]
     },
     "execution_count": 11,
     "metadata": {},
     "output_type": "execute_result"
    },
    {
     "data": {
      "image/png": "[encoded data removed]",
      "text/plain": [
       "<Figure size 1300x600 with 3 Axes>"
      ]
     },
     "metadata": {},
     "output_type": "display_data"
    }
   ],
   "source": [
    "plt.figure(figsize = (13, 6), facecolor = '#54BBE4')\n",
    "\n",
    "plt.subplot(1, 3, 1)\n",
    "plt.title(\"Total number cases\")\n",
    "plt.pie(genders[\"Totalt_antal_fall\"], labels = genders[\"Kön\"], autopct=\"%0.0f%%\")\n",
    "\n",
    "plt.subplot(1, 3, 2)\n",
    "plt.title(\"Intensive care patients\")\n",
    "plt.pie(genders[\"Totalt_antal_intensivvårdade\"], labels = genders[\"Kön\"], autopct=\"%0.0f%%\")\n",
    "\n",
    "plt.subplot(1, 3, 3)\n",
    "plt.title(\"Number deceased\")\n",
    "plt.pie(genders[\"Totalt_antal_avlidna\"], labels = genders[\"Kön\"], autopct=\"%0.0f%%\")"
   ]
  },
  {
   "cell_type": "markdown",
   "metadata": {},
   "source": [
    "## Age Group Vulnerability  "
   ]
  },
  {
   "cell_type": "markdown",
   "metadata": {},
   "source": [
    "There is no Age division I need for this task in the COVID-files, so I have imported the information about the age groups in Sweden from [here](https://www.statistikdatabasen.scb.se/pxweb/sv/ssd/START__BE__BE0101__BE0101A/BefolkningNy/table/tableViewLayout1/)."
   ]
  },
  {
   "cell_type": "code",
   "execution_count": 12,
   "metadata": {},
   "outputs": [
    {
     "data": {
      "text/html": [
       "<div>\n",
       "<style scoped>\n",
       "    .dataframe tbody tr th:only-of-type {\n",
       "        vertical-align: middle;\n",
       "    }\n",
       "\n",
       "    .dataframe tbody tr th {\n",
       "        vertical-align: top;\n",
       "    }\n",
       "\n",
       "    .dataframe thead th {\n",
       "        text-align: right;\n",
       "    }\n",
       "</style>\n",
       "<table border=\"1\" class=\"dataframe\">\n",
       "  <thead>\n",
       "    <tr style=\"text-align: right;\">\n",
       "      <th></th>\n",
       "      <th>Age group</th>\n",
       "      <th>Population</th>\n",
       "    </tr>\n",
       "  </thead>\n",
       "  <tbody>\n",
       "    <tr>\n",
       "      <th>0</th>\n",
       "      <td>0-9</td>\n",
       "      <td>1197522</td>\n",
       "    </tr>\n",
       "    <tr>\n",
       "      <th>1</th>\n",
       "      <td>10-19</td>\n",
       "      <td>1234678</td>\n",
       "    </tr>\n",
       "    <tr>\n",
       "      <th>2</th>\n",
       "      <td>20-29</td>\n",
       "      <td>1252142</td>\n",
       "    </tr>\n",
       "    <tr>\n",
       "      <th>3</th>\n",
       "      <td>30-39</td>\n",
       "      <td>1475316</td>\n",
       "    </tr>\n",
       "    <tr>\n",
       "      <th>4</th>\n",
       "      <td>40-49</td>\n",
       "      <td>1300726</td>\n",
       "    </tr>\n",
       "    <tr>\n",
       "      <th>5</th>\n",
       "      <td>50-59</td>\n",
       "      <td>1339203</td>\n",
       "    </tr>\n",
       "    <tr>\n",
       "      <th>6</th>\n",
       "      <td>60-69</td>\n",
       "      <td>1117832</td>\n",
       "    </tr>\n",
       "    <tr>\n",
       "      <th>7</th>\n",
       "      <td>70-79</td>\n",
       "      <td>1022050</td>\n",
       "    </tr>\n",
       "    <tr>\n",
       "      <th>8</th>\n",
       "      <td>80-89</td>\n",
       "      <td>480284</td>\n",
       "    </tr>\n",
       "    <tr>\n",
       "      <th>9</th>\n",
       "      <td>90-99</td>\n",
       "      <td>99376</td>\n",
       "    </tr>\n",
       "    <tr>\n",
       "      <th>10</th>\n",
       "      <td>100+</td>\n",
       "      <td>2687</td>\n",
       "    </tr>\n",
       "  </tbody>\n",
       "</table>\n",
       "</div>"
      ],
      "text/plain": [
       "   Age group  Population\n",
       "0       0-9      1197522\n",
       "1      10-19     1234678\n",
       "2      20-29     1252142\n",
       "3      30-39     1475316\n",
       "4      40-49     1300726\n",
       "5      50-59     1339203\n",
       "6      60-69     1117832\n",
       "7      70-79     1022050\n",
       "8      80-89      480284\n",
       "9      90-99       99376\n",
       "10     100+         2687"
      ]
     },
     "metadata": {},
     "output_type": "display_data"
    }
   ],
   "source": [
    "population = pd.read_excel(\"./Data/Population.xlsx\")\n",
    "display(population)"
   ]
  },
  {
   "cell_type": "code",
   "execution_count": 13,
   "metadata": {},
   "outputs": [
    {
     "data": {
      "text/html": [
       "<div>\n",
       "<style scoped>\n",
       "    .dataframe tbody tr th:only-of-type {\n",
       "        vertical-align: middle;\n",
       "    }\n",
       "\n",
       "    .dataframe tbody tr th {\n",
       "        vertical-align: top;\n",
       "    }\n",
       "\n",
       "    .dataframe thead th {\n",
       "        text-align: right;\n",
       "    }\n",
       "</style>\n",
       "<table border=\"1\" class=\"dataframe\">\n",
       "  <thead>\n",
       "    <tr style=\"text-align: right;\">\n",
       "      <th></th>\n",
       "      <th>Åldersgrupp</th>\n",
       "      <th>Totalt_antal_fall</th>\n",
       "      <th>Totalt_antal_intensivvårdade</th>\n",
       "      <th>Totalt_antal_avlidna</th>\n",
       "    </tr>\n",
       "  </thead>\n",
       "  <tbody>\n",
       "    <tr>\n",
       "      <th>0</th>\n",
       "      <td>Ålder_0_9</td>\n",
       "      <td>138071</td>\n",
       "      <td>109</td>\n",
       "      <td>17</td>\n",
       "    </tr>\n",
       "    <tr>\n",
       "      <th>1</th>\n",
       "      <td>Ålder_10_19</td>\n",
       "      <td>355823</td>\n",
       "      <td>101</td>\n",
       "      <td>9</td>\n",
       "    </tr>\n",
       "    <tr>\n",
       "      <th>2</th>\n",
       "      <td>Ålder_20_29</td>\n",
       "      <td>418506</td>\n",
       "      <td>285</td>\n",
       "      <td>41</td>\n",
       "    </tr>\n",
       "    <tr>\n",
       "      <th>3</th>\n",
       "      <td>Ålder_30_39</td>\n",
       "      <td>493443</td>\n",
       "      <td>492</td>\n",
       "      <td>71</td>\n",
       "    </tr>\n",
       "    <tr>\n",
       "      <th>4</th>\n",
       "      <td>Ålder_40_49</td>\n",
       "      <td>474702</td>\n",
       "      <td>997</td>\n",
       "      <td>172</td>\n",
       "    </tr>\n",
       "    <tr>\n",
       "      <th>5</th>\n",
       "      <td>Ålder_50_59</td>\n",
       "      <td>378468</td>\n",
       "      <td>1932</td>\n",
       "      <td>523</td>\n",
       "    </tr>\n",
       "    <tr>\n",
       "      <th>6</th>\n",
       "      <td>Ålder_60_69</td>\n",
       "      <td>180079</td>\n",
       "      <td>2595</td>\n",
       "      <td>1422</td>\n",
       "    </tr>\n",
       "    <tr>\n",
       "      <th>7</th>\n",
       "      <td>Ålder_70_79</td>\n",
       "      <td>87096</td>\n",
       "      <td>2394</td>\n",
       "      <td>4654</td>\n",
       "    </tr>\n",
       "    <tr>\n",
       "      <th>8</th>\n",
       "      <td>Ålder_80_89</td>\n",
       "      <td>58170</td>\n",
       "      <td>612</td>\n",
       "      <td>8326</td>\n",
       "    </tr>\n",
       "    <tr>\n",
       "      <th>9</th>\n",
       "      <td>Ålder_90_plus</td>\n",
       "      <td>26677</td>\n",
       "      <td>21</td>\n",
       "      <td>5420</td>\n",
       "    </tr>\n",
       "    <tr>\n",
       "      <th>10</th>\n",
       "      <td>Uppgift saknas</td>\n",
       "      <td>545</td>\n",
       "      <td>6</td>\n",
       "      <td>4</td>\n",
       "    </tr>\n",
       "  </tbody>\n",
       "</table>\n",
       "</div>"
      ],
      "text/plain": [
       "       Åldersgrupp  Totalt_antal_fall  Totalt_antal_intensivvårdade  \\\n",
       "0        Ålder_0_9             138071                           109   \n",
       "1      Ålder_10_19             355823                           101   \n",
       "2      Ålder_20_29             418506                           285   \n",
       "3      Ålder_30_39             493443                           492   \n",
       "4      Ålder_40_49             474702                           997   \n",
       "5      Ålder_50_59             378468                          1932   \n",
       "6      Ålder_60_69             180079                          2595   \n",
       "7      Ålder_70_79              87096                          2394   \n",
       "8      Ålder_80_89              58170                           612   \n",
       "9    Ålder_90_plus              26677                            21   \n",
       "10  Uppgift saknas                545                             6   \n",
       "\n",
       "    Totalt_antal_avlidna  \n",
       "0                     17  \n",
       "1                      9  \n",
       "2                     41  \n",
       "3                     71  \n",
       "4                    172  \n",
       "5                    523  \n",
       "6                   1422  \n",
       "7                   4654  \n",
       "8                   8326  \n",
       "9                   5420  \n",
       "10                     4  "
      ]
     },
     "metadata": {},
     "output_type": "display_data"
    }
   ],
   "source": [
    "cases_by_ages = pd.read_excel(\"./Data/Covid19.xlsx\", sheet_name=\"Totalt antal per åldersgrupp\")\n",
    "display(cases_by_ages)"
   ]
  },
  {
   "cell_type": "code",
   "execution_count": 14,
   "metadata": {},
   "outputs": [
    {
     "data": {
      "text/html": [
       "<div>\n",
       "<style scoped>\n",
       "    .dataframe tbody tr th:only-of-type {\n",
       "        vertical-align: middle;\n",
       "    }\n",
       "\n",
       "    .dataframe tbody tr th {\n",
       "        vertical-align: top;\n",
       "    }\n",
       "\n",
       "    .dataframe thead th {\n",
       "        text-align: right;\n",
       "    }\n",
       "</style>\n",
       "<table border=\"1\" class=\"dataframe\">\n",
       "  <thead>\n",
       "    <tr style=\"text-align: right;\">\n",
       "      <th></th>\n",
       "      <th>Åldersgrupp</th>\n",
       "      <th>Totalt_antal_fall</th>\n",
       "      <th>Totalt_antal_intensivvårdade</th>\n",
       "      <th>Totalt_antal_avlidna</th>\n",
       "      <th>Population</th>\n",
       "    </tr>\n",
       "  </thead>\n",
       "  <tbody>\n",
       "    <tr>\n",
       "      <th>0</th>\n",
       "      <td>Ålder_0_9</td>\n",
       "      <td>138071</td>\n",
       "      <td>109</td>\n",
       "      <td>17</td>\n",
       "      <td>1197522</td>\n",
       "    </tr>\n",
       "    <tr>\n",
       "      <th>1</th>\n",
       "      <td>Ålder_10_19</td>\n",
       "      <td>355823</td>\n",
       "      <td>101</td>\n",
       "      <td>9</td>\n",
       "      <td>1234678</td>\n",
       "    </tr>\n",
       "    <tr>\n",
       "      <th>2</th>\n",
       "      <td>Ålder_20_29</td>\n",
       "      <td>418506</td>\n",
       "      <td>285</td>\n",
       "      <td>41</td>\n",
       "      <td>1252142</td>\n",
       "    </tr>\n",
       "    <tr>\n",
       "      <th>3</th>\n",
       "      <td>Ålder_30_39</td>\n",
       "      <td>493443</td>\n",
       "      <td>492</td>\n",
       "      <td>71</td>\n",
       "      <td>1475316</td>\n",
       "    </tr>\n",
       "    <tr>\n",
       "      <th>4</th>\n",
       "      <td>Ålder_40_49</td>\n",
       "      <td>474702</td>\n",
       "      <td>997</td>\n",
       "      <td>172</td>\n",
       "      <td>1300726</td>\n",
       "    </tr>\n",
       "    <tr>\n",
       "      <th>5</th>\n",
       "      <td>Ålder_50_59</td>\n",
       "      <td>378468</td>\n",
       "      <td>1932</td>\n",
       "      <td>523</td>\n",
       "      <td>1339203</td>\n",
       "    </tr>\n",
       "    <tr>\n",
       "      <th>6</th>\n",
       "      <td>Ålder_60_69</td>\n",
       "      <td>180079</td>\n",
       "      <td>2595</td>\n",
       "      <td>1422</td>\n",
       "      <td>1117832</td>\n",
       "    </tr>\n",
       "    <tr>\n",
       "      <th>7</th>\n",
       "      <td>Ålder_70_79</td>\n",
       "      <td>87096</td>\n",
       "      <td>2394</td>\n",
       "      <td>4654</td>\n",
       "      <td>1022050</td>\n",
       "    </tr>\n",
       "    <tr>\n",
       "      <th>8</th>\n",
       "      <td>Ålder_80_89</td>\n",
       "      <td>58170</td>\n",
       "      <td>612</td>\n",
       "      <td>8326</td>\n",
       "      <td>480284</td>\n",
       "    </tr>\n",
       "    <tr>\n",
       "      <th>9</th>\n",
       "      <td>Ålder_90_plus</td>\n",
       "      <td>26677</td>\n",
       "      <td>21</td>\n",
       "      <td>5420</td>\n",
       "      <td>99376</td>\n",
       "    </tr>\n",
       "    <tr>\n",
       "      <th>10</th>\n",
       "      <td>Uppgift saknas</td>\n",
       "      <td>545</td>\n",
       "      <td>6</td>\n",
       "      <td>4</td>\n",
       "      <td>2687</td>\n",
       "    </tr>\n",
       "  </tbody>\n",
       "</table>\n",
       "</div>"
      ],
      "text/plain": [
       "       Åldersgrupp  Totalt_antal_fall  Totalt_antal_intensivvårdade  \\\n",
       "0        Ålder_0_9             138071                           109   \n",
       "1      Ålder_10_19             355823                           101   \n",
       "2      Ålder_20_29             418506                           285   \n",
       "3      Ålder_30_39             493443                           492   \n",
       "4      Ålder_40_49             474702                           997   \n",
       "5      Ålder_50_59             378468                          1932   \n",
       "6      Ålder_60_69             180079                          2595   \n",
       "7      Ålder_70_79              87096                          2394   \n",
       "8      Ålder_80_89              58170                           612   \n",
       "9    Ålder_90_plus              26677                            21   \n",
       "10  Uppgift saknas                545                             6   \n",
       "\n",
       "    Totalt_antal_avlidna  Population  \n",
       "0                     17     1197522  \n",
       "1                      9     1234678  \n",
       "2                     41     1252142  \n",
       "3                     71     1475316  \n",
       "4                    172     1300726  \n",
       "5                    523     1339203  \n",
       "6                   1422     1117832  \n",
       "7                   4654     1022050  \n",
       "8                   8326      480284  \n",
       "9                   5420       99376  \n",
       "10                     4        2687  "
      ]
     },
     "execution_count": 14,
     "metadata": {},
     "output_type": "execute_result"
    }
   ],
   "source": [
    "cases_by_ages[\"Population\"] = population[\"Population\"]\n",
    "cases_by_ages"
   ]
  },
  {
   "cell_type": "code",
   "execution_count": 15,
   "metadata": {},
   "outputs": [
    {
     "data": {
      "text/html": [
       "<div>\n",
       "<style scoped>\n",
       "    .dataframe tbody tr th:only-of-type {\n",
       "        vertical-align: middle;\n",
       "    }\n",
       "\n",
       "    .dataframe tbody tr th {\n",
       "        vertical-align: top;\n",
       "    }\n",
       "\n",
       "    .dataframe thead th {\n",
       "        text-align: right;\n",
       "    }\n",
       "</style>\n",
       "<table border=\"1\" class=\"dataframe\">\n",
       "  <thead>\n",
       "    <tr style=\"text-align: right;\">\n",
       "      <th></th>\n",
       "      <th>Åldersgrupp</th>\n",
       "      <th>Totalt_antal_fall</th>\n",
       "      <th>Totalt_antal_intensivvårdade</th>\n",
       "      <th>Totalt_antal_avlidna</th>\n",
       "      <th>Population</th>\n",
       "    </tr>\n",
       "  </thead>\n",
       "  <tbody>\n",
       "    <tr>\n",
       "      <th>0</th>\n",
       "      <td>Ålder_0_9</td>\n",
       "      <td>138071</td>\n",
       "      <td>109</td>\n",
       "      <td>17</td>\n",
       "      <td>1197522</td>\n",
       "    </tr>\n",
       "    <tr>\n",
       "      <th>1</th>\n",
       "      <td>Ålder_10_19</td>\n",
       "      <td>355823</td>\n",
       "      <td>101</td>\n",
       "      <td>9</td>\n",
       "      <td>1234678</td>\n",
       "    </tr>\n",
       "    <tr>\n",
       "      <th>2</th>\n",
       "      <td>Ålder_20_29</td>\n",
       "      <td>418506</td>\n",
       "      <td>285</td>\n",
       "      <td>41</td>\n",
       "      <td>1252142</td>\n",
       "    </tr>\n",
       "    <tr>\n",
       "      <th>3</th>\n",
       "      <td>Ålder_30_39</td>\n",
       "      <td>493443</td>\n",
       "      <td>492</td>\n",
       "      <td>71</td>\n",
       "      <td>1475316</td>\n",
       "    </tr>\n",
       "    <tr>\n",
       "      <th>4</th>\n",
       "      <td>Ålder_40_49</td>\n",
       "      <td>474702</td>\n",
       "      <td>997</td>\n",
       "      <td>172</td>\n",
       "      <td>1300726</td>\n",
       "    </tr>\n",
       "    <tr>\n",
       "      <th>5</th>\n",
       "      <td>Ålder_50_59</td>\n",
       "      <td>378468</td>\n",
       "      <td>1932</td>\n",
       "      <td>523</td>\n",
       "      <td>1339203</td>\n",
       "    </tr>\n",
       "    <tr>\n",
       "      <th>6</th>\n",
       "      <td>Ålder_60_69</td>\n",
       "      <td>180079</td>\n",
       "      <td>2595</td>\n",
       "      <td>1422</td>\n",
       "      <td>1117832</td>\n",
       "    </tr>\n",
       "    <tr>\n",
       "      <th>7</th>\n",
       "      <td>Ålder_70_79</td>\n",
       "      <td>87096</td>\n",
       "      <td>2394</td>\n",
       "      <td>4654</td>\n",
       "      <td>1022050</td>\n",
       "    </tr>\n",
       "    <tr>\n",
       "      <th>8</th>\n",
       "      <td>Ålder_80_89</td>\n",
       "      <td>58170</td>\n",
       "      <td>612</td>\n",
       "      <td>8326</td>\n",
       "      <td>480284</td>\n",
       "    </tr>\n",
       "    <tr>\n",
       "      <th>9</th>\n",
       "      <td>Ålder_90_plus</td>\n",
       "      <td>26677</td>\n",
       "      <td>21</td>\n",
       "      <td>5420</td>\n",
       "      <td>99376</td>\n",
       "    </tr>\n",
       "  </tbody>\n",
       "</table>\n",
       "</div>"
      ],
      "text/plain": [
       "     Åldersgrupp  Totalt_antal_fall  Totalt_antal_intensivvårdade  \\\n",
       "0      Ålder_0_9             138071                           109   \n",
       "1    Ålder_10_19             355823                           101   \n",
       "2    Ålder_20_29             418506                           285   \n",
       "3    Ålder_30_39             493443                           492   \n",
       "4    Ålder_40_49             474702                           997   \n",
       "5    Ålder_50_59             378468                          1932   \n",
       "6    Ålder_60_69             180079                          2595   \n",
       "7    Ålder_70_79              87096                          2394   \n",
       "8    Ålder_80_89              58170                           612   \n",
       "9  Ålder_90_plus              26677                            21   \n",
       "\n",
       "   Totalt_antal_avlidna  Population  \n",
       "0                    17     1197522  \n",
       "1                     9     1234678  \n",
       "2                    41     1252142  \n",
       "3                    71     1475316  \n",
       "4                   172     1300726  \n",
       "5                   523     1339203  \n",
       "6                  1422     1117832  \n",
       "7                  4654     1022050  \n",
       "8                  8326      480284  \n",
       "9                  5420       99376  "
      ]
     },
     "execution_count": 15,
     "metadata": {},
     "output_type": "execute_result"
    }
   ],
   "source": [
    "cases_by_ages.drop(axis = 0, index = 10, inplace = True)\n",
    "cases_by_ages"
   ]
  },
  {
   "cell_type": "code",
   "execution_count": 16,
   "metadata": {},
   "outputs": [
    {
     "data": {
      "text/html": [
       "<div>\n",
       "<style scoped>\n",
       "    .dataframe tbody tr th:only-of-type {\n",
       "        vertical-align: middle;\n",
       "    }\n",
       "\n",
       "    .dataframe tbody tr th {\n",
       "        vertical-align: top;\n",
       "    }\n",
       "\n",
       "    .dataframe thead th {\n",
       "        text-align: right;\n",
       "    }\n",
       "</style>\n",
       "<table border=\"1\" class=\"dataframe\">\n",
       "  <thead>\n",
       "    <tr style=\"text-align: right;\">\n",
       "      <th></th>\n",
       "      <th>Åldersgrupp</th>\n",
       "      <th>Totalt_antal_fall</th>\n",
       "      <th>Totalt_antal_intensivvårdade</th>\n",
       "      <th>Totalt_antal_avlidna</th>\n",
       "      <th>Population</th>\n",
       "      <th>AGV Total</th>\n",
       "      <th>AGV Intensive Care</th>\n",
       "      <th>AGV Deceased</th>\n",
       "    </tr>\n",
       "  </thead>\n",
       "  <tbody>\n",
       "    <tr>\n",
       "      <th>0</th>\n",
       "      <td>0-9</td>\n",
       "      <td>138071</td>\n",
       "      <td>109</td>\n",
       "      <td>17</td>\n",
       "      <td>1197522</td>\n",
       "      <td>11.53</td>\n",
       "      <td>0.01</td>\n",
       "      <td>0.00</td>\n",
       "    </tr>\n",
       "    <tr>\n",
       "      <th>1</th>\n",
       "      <td>10-19</td>\n",
       "      <td>355823</td>\n",
       "      <td>101</td>\n",
       "      <td>9</td>\n",
       "      <td>1234678</td>\n",
       "      <td>28.82</td>\n",
       "      <td>0.01</td>\n",
       "      <td>0.00</td>\n",
       "    </tr>\n",
       "    <tr>\n",
       "      <th>2</th>\n",
       "      <td>20-29</td>\n",
       "      <td>418506</td>\n",
       "      <td>285</td>\n",
       "      <td>41</td>\n",
       "      <td>1252142</td>\n",
       "      <td>33.42</td>\n",
       "      <td>0.02</td>\n",
       "      <td>0.00</td>\n",
       "    </tr>\n",
       "    <tr>\n",
       "      <th>3</th>\n",
       "      <td>30-39</td>\n",
       "      <td>493443</td>\n",
       "      <td>492</td>\n",
       "      <td>71</td>\n",
       "      <td>1475316</td>\n",
       "      <td>33.45</td>\n",
       "      <td>0.03</td>\n",
       "      <td>0.00</td>\n",
       "    </tr>\n",
       "    <tr>\n",
       "      <th>4</th>\n",
       "      <td>40-49</td>\n",
       "      <td>474702</td>\n",
       "      <td>997</td>\n",
       "      <td>172</td>\n",
       "      <td>1300726</td>\n",
       "      <td>36.50</td>\n",
       "      <td>0.08</td>\n",
       "      <td>0.01</td>\n",
       "    </tr>\n",
       "    <tr>\n",
       "      <th>5</th>\n",
       "      <td>50-59</td>\n",
       "      <td>378468</td>\n",
       "      <td>1932</td>\n",
       "      <td>523</td>\n",
       "      <td>1339203</td>\n",
       "      <td>28.26</td>\n",
       "      <td>0.14</td>\n",
       "      <td>0.04</td>\n",
       "    </tr>\n",
       "    <tr>\n",
       "      <th>6</th>\n",
       "      <td>60-69</td>\n",
       "      <td>180079</td>\n",
       "      <td>2595</td>\n",
       "      <td>1422</td>\n",
       "      <td>1117832</td>\n",
       "      <td>16.11</td>\n",
       "      <td>0.23</td>\n",
       "      <td>0.13</td>\n",
       "    </tr>\n",
       "    <tr>\n",
       "      <th>7</th>\n",
       "      <td>70-79</td>\n",
       "      <td>87096</td>\n",
       "      <td>2394</td>\n",
       "      <td>4654</td>\n",
       "      <td>1022050</td>\n",
       "      <td>8.52</td>\n",
       "      <td>0.23</td>\n",
       "      <td>0.46</td>\n",
       "    </tr>\n",
       "    <tr>\n",
       "      <th>8</th>\n",
       "      <td>80-89</td>\n",
       "      <td>58170</td>\n",
       "      <td>612</td>\n",
       "      <td>8326</td>\n",
       "      <td>480284</td>\n",
       "      <td>12.11</td>\n",
       "      <td>0.13</td>\n",
       "      <td>1.73</td>\n",
       "    </tr>\n",
       "    <tr>\n",
       "      <th>9</th>\n",
       "      <td>90-99</td>\n",
       "      <td>26677</td>\n",
       "      <td>21</td>\n",
       "      <td>5420</td>\n",
       "      <td>99376</td>\n",
       "      <td>26.84</td>\n",
       "      <td>0.02</td>\n",
       "      <td>5.45</td>\n",
       "    </tr>\n",
       "  </tbody>\n",
       "</table>\n",
       "</div>"
      ],
      "text/plain": [
       "  Åldersgrupp  Totalt_antal_fall  Totalt_antal_intensivvårdade  \\\n",
       "0        0-9              138071                           109   \n",
       "1       10-19             355823                           101   \n",
       "2       20-29             418506                           285   \n",
       "3       30-39             493443                           492   \n",
       "4       40-49             474702                           997   \n",
       "5       50-59             378468                          1932   \n",
       "6       60-69             180079                          2595   \n",
       "7       70-79              87096                          2394   \n",
       "8       80-89              58170                           612   \n",
       "9       90-99              26677                            21   \n",
       "\n",
       "   Totalt_antal_avlidna  Population  AGV Total  AGV Intensive Care  \\\n",
       "0                    17     1197522      11.53                0.01   \n",
       "1                     9     1234678      28.82                0.01   \n",
       "2                    41     1252142      33.42                0.02   \n",
       "3                    71     1475316      33.45                0.03   \n",
       "4                   172     1300726      36.50                0.08   \n",
       "5                   523     1339203      28.26                0.14   \n",
       "6                  1422     1117832      16.11                0.23   \n",
       "7                  4654     1022050       8.52                0.23   \n",
       "8                  8326      480284      12.11                0.13   \n",
       "9                  5420       99376      26.84                0.02   \n",
       "\n",
       "   AGV Deceased  \n",
       "0          0.00  \n",
       "1          0.00  \n",
       "2          0.00  \n",
       "3          0.00  \n",
       "4          0.01  \n",
       "5          0.04  \n",
       "6          0.13  \n",
       "7          0.46  \n",
       "8          1.73  \n",
       "9          5.45  "
      ]
     },
     "execution_count": 16,
     "metadata": {},
     "output_type": "execute_result"
    }
   ],
   "source": [
    "cases_by_ages[\"AGV Total\"] = cases_by_ages[\"Totalt_antal_fall\"]/cases_by_ages[\"Population\"]*100\n",
    "cases_by_ages[\"AGV Intensive Care\"] = cases_by_ages[\"Totalt_antal_intensivvårdade\"]/cases_by_ages[\"Population\"]*100\n",
    "cases_by_ages[\"AGV Deceased\"] = cases_by_ages[\"Totalt_antal_avlidna\"]/cases_by_ages[\"Population\"]*100\n",
    "cases_by_ages[\"Åldersgrupp\"] = population[\"Age group\"]\n",
    "cases_by_ages"
   ]
  },
  {
   "cell_type": "markdown",
   "metadata": {},
   "source": [
    "So, statistics shows, that the person is most likely to catch COVID19 if they are 40-49 years old, but the most typical intensive care patient is 60-79 years old. Also. the chances to survive after COVID decrease with age."
   ]
  },
  {
   "cell_type": "code",
   "execution_count": 17,
   "metadata": {},
   "outputs": [],
   "source": [
    "import seaborn as sns"
   ]
  },
  {
   "cell_type": "code",
   "execution_count": 18,
   "metadata": {},
   "outputs": [
    {
     "data": {
      "text/plain": [
       "<Axes: xlabel='Åldersgrupp', ylabel='AGV Deceased'>"
      ]
     },
     "execution_count": 18,
     "metadata": {},
     "output_type": "execute_result"
    },
    {
     "data": {
      "image/png": "[encoded data removed]",
      "text/plain": [
       "<Figure size 1300x1000 with 3 Axes>"
      ]
     },
     "metadata": {},
     "output_type": "display_data"
    }
   ],
   "source": [
    "plt.figure(figsize = (13, 10), facecolor = '#AB7BE7')\n",
    "sns.set_style('darkgrid')\n",
    "\n",
    "plt.subplot(3, 1, 1)\n",
    "sns.lineplot(x='Åldersgrupp', y = 'AGV Total', data = cases_by_ages, lw = 3, label = 'Age Group Vulnerability, Total number cases')\n",
    "\n",
    "plt.subplot(3, 1, 2)\n",
    "sns.lineplot(x='Åldersgrupp', y = 'AGV Intensive Care', data = cases_by_ages, \n",
    "lw = 3, color = '#C2C579',\n",
    "label = 'Age Group Vulnerability, Intensive care cases')\n",
    "\n",
    "plt.subplot(3, 1, 3)\n",
    "sns.lineplot(x='Åldersgrupp', y = 'AGV Deceased', data = cases_by_ages, \n",
    "lw = 3, color = '#C584A0',\n",
    "label = 'Age Group Vulnerability, Deceased')\n",
    "\n",
    "\n"
   ]
  },
  {
   "cell_type": "markdown",
   "metadata": {},
   "source": [
    "## Fully_Vaccinated Age Group Ratio  "
   ]
  },
  {
   "cell_type": "code",
   "execution_count": 19,
   "metadata": {},
   "outputs": [
    {
     "data": {
      "text/html": [
       "<div>\n",
       "<style scoped>\n",
       "    .dataframe tbody tr th:only-of-type {\n",
       "        vertical-align: middle;\n",
       "    }\n",
       "\n",
       "    .dataframe tbody tr th {\n",
       "        vertical-align: top;\n",
       "    }\n",
       "\n",
       "    .dataframe thead th {\n",
       "        text-align: right;\n",
       "    }\n",
       "</style>\n",
       "<table border=\"1\" class=\"dataframe\">\n",
       "  <thead>\n",
       "    <tr style=\"text-align: right;\">\n",
       "      <th></th>\n",
       "      <th>Län</th>\n",
       "      <th>Län_namn</th>\n",
       "      <th>Kommun</th>\n",
       "      <th>Kommun_namn</th>\n",
       "      <th>Ålder</th>\n",
       "      <th>Befolkning</th>\n",
       "      <th>Antal minst 1 dos</th>\n",
       "      <th>Antal minst 2 doser</th>\n",
       "      <th>Antal 3 doser</th>\n",
       "      <th>Antal 4 doser</th>\n",
       "      <th>Andel minst 1 dos</th>\n",
       "      <th>Andel minst 2 doser</th>\n",
       "      <th>Andel 3 doser</th>\n",
       "      <th>Andel 4 doser</th>\n",
       "    </tr>\n",
       "  </thead>\n",
       "  <tbody>\n",
       "    <tr>\n",
       "      <th>0</th>\n",
       "      <td>1</td>\n",
       "      <td>Stockholms län</td>\n",
       "      <td>114</td>\n",
       "      <td>Upplands Väsby</td>\n",
       "      <td>12-15</td>\n",
       "      <td>2422</td>\n",
       "      <td>1206</td>\n",
       "      <td>1046</td>\n",
       "      <td>NaN</td>\n",
       "      <td>NaN</td>\n",
       "      <td>0.50</td>\n",
       "      <td>0.43</td>\n",
       "      <td>NaN</td>\n",
       "      <td>NaN</td>\n",
       "    </tr>\n",
       "    <tr>\n",
       "      <th>1</th>\n",
       "      <td>1</td>\n",
       "      <td>Stockholms län</td>\n",
       "      <td>114</td>\n",
       "      <td>Upplands Väsby</td>\n",
       "      <td>16-17</td>\n",
       "      <td>1203</td>\n",
       "      <td>839</td>\n",
       "      <td>755</td>\n",
       "      <td>NaN</td>\n",
       "      <td>NaN</td>\n",
       "      <td>0.70</td>\n",
       "      <td>0.63</td>\n",
       "      <td>NaN</td>\n",
       "      <td>NaN</td>\n",
       "    </tr>\n",
       "    <tr>\n",
       "      <th>2</th>\n",
       "      <td>1</td>\n",
       "      <td>Stockholms län</td>\n",
       "      <td>114</td>\n",
       "      <td>Upplands Väsby</td>\n",
       "      <td>18-29</td>\n",
       "      <td>6692</td>\n",
       "      <td>4887</td>\n",
       "      <td>4469</td>\n",
       "      <td>1959.00</td>\n",
       "      <td>NaN</td>\n",
       "      <td>0.73</td>\n",
       "      <td>0.67</td>\n",
       "      <td>0.29</td>\n",
       "      <td>NaN</td>\n",
       "    </tr>\n",
       "  </tbody>\n",
       "</table>\n",
       "</div>"
      ],
      "text/plain": [
       "   Län        Län_namn  Kommun     Kommun_namn  Ålder  Befolkning  \\\n",
       "0    1  Stockholms län     114  Upplands Väsby  12-15        2422   \n",
       "1    1  Stockholms län     114  Upplands Väsby  16-17        1203   \n",
       "2    1  Stockholms län     114  Upplands Väsby  18-29        6692   \n",
       "\n",
       "   Antal minst 1 dos  Antal minst 2 doser  Antal 3 doser  Antal 4 doser  \\\n",
       "0               1206                 1046            NaN            NaN   \n",
       "1                839                  755            NaN            NaN   \n",
       "2               4887                 4469        1959.00            NaN   \n",
       "\n",
       "   Andel minst 1 dos  Andel minst 2 doser  Andel 3 doser  Andel 4 doser  \n",
       "0               0.50                 0.43            NaN            NaN  \n",
       "1               0.70                 0.63            NaN            NaN  \n",
       "2               0.73                 0.67           0.29            NaN  "
      ]
     },
     "execution_count": 19,
     "metadata": {},
     "output_type": "execute_result"
    }
   ],
   "source": [
    "vaccindata = pd.read_excel('./Data/Covid19_Vaccine.xlsx', sheet_name = 'Vaccinerade kommun och ålder')\n",
    "vaccindata.head(3)"
   ]
  },
  {
   "cell_type": "code",
   "execution_count": 20,
   "metadata": {},
   "outputs": [
    {
     "data": {
      "text/plain": [
       "Ålder\n",
       "12-15            52.08\n",
       "16-17            74.63\n",
       "18-29            77.22\n",
       "30-39            79.28\n",
       "40-49            85.12\n",
       "50-59            89.72\n",
       "60-69            92.92\n",
       "70-79            95.76\n",
       "80-89            96.74\n",
       "90 eller äldre   95.90\n",
       "Name: Andel minst 2 doser, dtype: float64"
      ]
     },
     "execution_count": 20,
     "metadata": {},
     "output_type": "execute_result"
    }
   ],
   "source": [
    "ages_vaccinated = vaccindata.groupby('Ålder')['Andel minst 2 doser'].mean()*100\n",
    "ages_vaccinated"
   ]
  },
  {
   "cell_type": "markdown",
   "metadata": {},
   "source": [
    "As the eldest groups are most vulnerable, the procent of their full vaccination is highest, which shows the success of the vaccination campaign in Sweden."
   ]
  },
  {
   "cell_type": "code",
   "execution_count": 21,
   "metadata": {},
   "outputs": [
    {
     "data": {
      "application/vnd.plotly.v1+json": {
       "config": {
        "plotlyServerURL": "https://plot.ly"
       },
       "data": [
        {
         "alignmentgroup": "True",
         "hovertemplate": "=Andel minst 2 doser<br>Ålder=%{x}<br>% of the population=%{y}<extra></extra>",
         "legendgroup": "Andel minst 2 doser",
         "marker": {
          "color": "#636efa",
          "pattern": {
           "shape": ""
          }
         },
         "name": "Andel minst 2 doser",
         "offsetgroup": "Andel minst 2 doser",
         "orientation": "v",
         "showlegend": true,
         "textposition": "auto",
         "type": "bar",
         "x": [
          "12-15",
          "16-17",
          "18-29",
          "30-39",
          "40-49",
          "50-59",
          "60-69",
          "70-79",
          "80-89",
          "90 eller äldre"
         ],
         "xaxis": "x",
         "y": [
          52.07930200099512,
          74.63016005453524,
          77.21548613682744,
          79.28270736979583,
          85.12283737171133,
          89.7210520394643,
          92.91798549108385,
          95.75788309769877,
          96.7385260682459,
          95.90043474367536
         ],
         "yaxis": "y"
        }
       ],
       "layout": {
        "barmode": "relative",
        "legend": {
         "title": {
          "text": ""
         },
         "tracegroupgap": 0
        },
        "margin": {
         "t": 60
        },
        "template": {
         "data": {
          "bar": [
           {
            "error_x": {
             "color": "#2a3f5f"
            },
            "error_y": {
             "color": "#2a3f5f"
            },
            "marker": {
             "line": {
              "color": "#E5ECF6",
              "width": 0.5
             },
             "pattern": {
              "fillmode": "overlay",
              "size": 10,
              "solidity": 0.2
             }
            },
            "type": "bar"
           }
          ],
          "barpolar": [
           {
            "marker": {
             "line": {
              "color": "#E5ECF6",
              "width": 0.5
             },
             "pattern": {
              "fillmode": "overlay",
              "size": 10,
              "solidity": 0.2
             }
            },
            "type": "barpolar"
           }
          ],
          "carpet": [
           {
            "aaxis": {
             "endlinecolor": "#2a3f5f",
             "gridcolor": "white",
             "linecolor": "white",
             "minorgridcolor": "white",
             "startlinecolor": "#2a3f5f"
            },
            "baxis": {
             "endlinecolor": "#2a3f5f",
             "gridcolor": "white",
             "linecolor": "white",
             "minorgridcolor": "white",
             "startlinecolor": "#2a3f5f"
            },
            "type": "carpet"
           }
          ],
          "choropleth": [
           {
            "colorbar": {
             "outlinewidth": 0,
             "ticks": ""
            },
            "type": "choropleth"
           }
          ],
          "contour": [
           {
            "colorbar": {
             "outlinewidth": 0,
             "ticks": ""
            },
            "colorscale": [
             [
              0,
              "#0d0887"
             ],
             [
              0.1111111111111111,
              "#46039f"
             ],
             [
              0.2222222222222222,
              "#7201a8"
             ],
             [
              0.3333333333333333,
              "#9c179e"
             ],
             [
              0.4444444444444444,
              "#bd3786"
             ],
             [
              0.5555555555555556,
              "#d8576b"
             ],
             [
              0.6666666666666666,
              "#ed7953"
             ],
             [
              0.7777777777777778,
              "#fb9f3a"
             ],
             [
              0.8888888888888888,
              "#fdca26"
             ],
             [
              1,
              "#f0f921"
             ]
            ],
            "type": "contour"
           }
          ],
          "contourcarpet": [
           {
            "colorbar": {
             "outlinewidth": 0,
             "ticks": ""
            },
            "type": "contourcarpet"
           }
          ],
          "heatmap": [
           {
            "colorbar": {
             "outlinewidth": 0,
             "ticks": ""
            },
            "colorscale": [
             [
              0,
              "#0d0887"
             ],
             [
              0.1111111111111111,
              "#46039f"
             ],
             [
              0.2222222222222222,
              "#7201a8"
             ],
             [
              0.3333333333333333,
              "#9c179e"
             ],
             [
              0.4444444444444444,
              "#bd3786"
             ],
             [
              0.5555555555555556,
              "#d8576b"
             ],
             [
              0.6666666666666666,
              "#ed7953"
             ],
             [
              0.7777777777777778,
              "#fb9f3a"
             ],
             [
              0.8888888888888888,
              "#fdca26"
             ],
             [
              1,
              "#f0f921"
             ]
            ],
            "type": "heatmap"
           }
          ],
          "heatmapgl": [
           {
            "colorbar": {
             "outlinewidth": 0,
             "ticks": ""
            },
            "colorscale": [
             [
              0,
              "#0d0887"
             ],
             [
              0.1111111111111111,
              "#46039f"
             ],
             [
              0.2222222222222222,
              "#7201a8"
             ],
             [
              0.3333333333333333,
              "#9c179e"
             ],
             [
              0.4444444444444444,
              "#bd3786"
             ],
             [
              0.5555555555555556,
              "#d8576b"
             ],
             [
              0.6666666666666666,
              "#ed7953"
             ],
             [
              0.7777777777777778,
              "#fb9f3a"
             ],
             [
              0.8888888888888888,
              "#fdca26"
             ],
             [
              1,
              "#f0f921"
             ]
            ],
            "type": "heatmapgl"
           }
          ],
          "histogram": [
           {
            "marker": {
             "pattern": {
              "fillmode": "overlay",
              "size": 10,
              "solidity": 0.2
             }
            },
            "type": "histogram"
           }
          ],
          "histogram2d": [
           {
            "colorbar": {
             "outlinewidth": 0,
             "ticks": ""
            },
            "colorscale": [
             [
              0,
              "#0d0887"
             ],
             [
              0.1111111111111111,
              "#46039f"
             ],
             [
              0.2222222222222222,
              "#7201a8"
             ],
             [
              0.3333333333333333,
              "#9c179e"
             ],
             [
              0.4444444444444444,
              "#bd3786"
             ],
             [
              0.5555555555555556,
              "#d8576b"
             ],
             [
              0.6666666666666666,
              "#ed7953"
             ],
             [
              0.7777777777777778,
              "#fb9f3a"
             ],
             [
              0.8888888888888888,
              "#fdca26"
             ],
             [
              1,
              "#f0f921"
             ]
            ],
            "type": "histogram2d"
           }
          ],
          "histogram2dcontour": [
           {
            "colorbar": {
             "outlinewidth": 0,
             "ticks": ""
            },
            "colorscale": [
             [
              0,
              "#0d0887"
             ],
             [
              0.1111111111111111,
              "#46039f"
             ],
             [
              0.2222222222222222,
              "#7201a8"
             ],
             [
              0.3333333333333333,
              "#9c179e"
             ],
             [
              0.4444444444444444,
              "#bd3786"
             ],
             [
              0.5555555555555556,
              "#d8576b"
             ],
             [
              0.6666666666666666,
              "#ed7953"
             ],
             [
              0.7777777777777778,
              "#fb9f3a"
             ],
             [
              0.8888888888888888,
              "#fdca26"
             ],
             [
              1,
              "#f0f921"
             ]
            ],
            "type": "histogram2dcontour"
           }
          ],
          "mesh3d": [
           {
            "colorbar": {
             "outlinewidth": 0,
             "ticks": ""
            },
            "type": "mesh3d"
           }
          ],
          "parcoords": [
           {
            "line": {
             "colorbar": {
              "outlinewidth": 0,
              "ticks": ""
             }
            },
            "type": "parcoords"
           }
          ],
          "pie": [
           {
            "automargin": true,
            "type": "pie"
           }
          ],
          "scatter": [
           {
            "fillpattern": {
             "fillmode": "overlay",
             "size": 10,
             "solidity": 0.2
            },
            "type": "scatter"
           }
          ],
          "scatter3d": [
           {
            "line": {
             "colorbar": {
              "outlinewidth": 0,
              "ticks": ""
             }
            },
            "marker": {
             "colorbar": {
              "outlinewidth": 0,
              "ticks": ""
             }
            },
            "type": "scatter3d"
           }
          ],
          "scattercarpet": [
           {
            "marker": {
             "colorbar": {
              "outlinewidth": 0,
              "ticks": ""
             }
            },
            "type": "scattercarpet"
           }
          ],
          "scattergeo": [
           {
            "marker": {
             "colorbar": {
              "outlinewidth": 0,
              "ticks": ""
             }
            },
            "type": "scattergeo"
           }
          ],
          "scattergl": [
           {
            "marker": {
             "colorbar": {
              "outlinewidth": 0,
              "ticks": ""
             }
            },
            "type": "scattergl"
           }
          ],
          "scattermapbox": [
           {
            "marker": {
             "colorbar": {
              "outlinewidth": 0,
              "ticks": ""
             }
            },
            "type": "scattermapbox"
           }
          ],
          "scatterpolar": [
           {
            "marker": {
             "colorbar": {
              "outlinewidth": 0,
              "ticks": ""
             }
            },
            "type": "scatterpolar"
           }
          ],
          "scatterpolargl": [
           {
            "marker": {
             "colorbar": {
              "outlinewidth": 0,
              "ticks": ""
             }
            },
            "type": "scatterpolargl"
           }
          ],
          "scatterternary": [
           {
            "marker": {
             "colorbar": {
              "outlinewidth": 0,
              "ticks": ""
             }
            },
            "type": "scatterternary"
           }
          ],
          "surface": [
           {
            "colorbar": {
             "outlinewidth": 0,
             "ticks": ""
            },
            "colorscale": [
             [
              0,
              "#0d0887"
             ],
             [
              0.1111111111111111,
              "#46039f"
             ],
             [
              0.2222222222222222,
              "#7201a8"
             ],
             [
              0.3333333333333333,
              "#9c179e"
             ],
             [
              0.4444444444444444,
              "#bd3786"
             ],
             [
              0.5555555555555556,
              "#d8576b"
             ],
             [
              0.6666666666666666,
              "#ed7953"
             ],
             [
              0.7777777777777778,
              "#fb9f3a"
             ],
             [
              0.8888888888888888,
              "#fdca26"
             ],
             [
              1,
              "#f0f921"
             ]
            ],
            "type": "surface"
           }
          ],
          "table": [
           {
            "cells": {
             "fill": {
              "color": "#EBF0F8"
             },
             "line": {
              "color": "white"
             }
            },
            "header": {
             "fill": {
              "color": "#C8D4E3"
             },
             "line": {
              "color": "white"
             }
            },
            "type": "table"
           }
          ]
         },
         "layout": {
          "annotationdefaults": {
           "arrowcolor": "#2a3f5f",
           "arrowhead": 0,
           "arrowwidth": 1
          },
          "autotypenumbers": "strict",
          "coloraxis": {
           "colorbar": {
            "outlinewidth": 0,
            "ticks": ""
           }
          },
          "colorscale": {
           "diverging": [
            [
             0,
             "#8e0152"
            ],
            [
             0.1,
             "#c51b7d"
            ],
            [
             0.2,
             "#de77ae"
            ],
            [
             0.3,
             "#f1b6da"
            ],
            [
             0.4,
             "#fde0ef"
            ],
            [
             0.5,
             "#f7f7f7"
            ],
            [
             0.6,
             "#e6f5d0"
            ],
            [
             0.7,
             "#b8e186"
            ],
            [
             0.8,
             "#7fbc41"
            ],
            [
             0.9,
             "#4d9221"
            ],
            [
             1,
             "#276419"
            ]
           ],
           "sequential": [
            [
             0,
             "#0d0887"
            ],
            [
             0.1111111111111111,
             "#46039f"
            ],
            [
             0.2222222222222222,
             "#7201a8"
            ],
            [
             0.3333333333333333,
             "#9c179e"
            ],
            [
             0.4444444444444444,
             "#bd3786"
            ],
            [
             0.5555555555555556,
             "#d8576b"
            ],
            [
             0.6666666666666666,
             "#ed7953"
            ],
            [
             0.7777777777777778,
             "#fb9f3a"
            ],
            [
             0.8888888888888888,
             "#fdca26"
            ],
            [
             1,
             "#f0f921"
            ]
           ],
           "sequentialminus": [
            [
             0,
             "#0d0887"
            ],
            [
             0.1111111111111111,
             "#46039f"
            ],
            [
             0.2222222222222222,
             "#7201a8"
            ],
            [
             0.3333333333333333,
             "#9c179e"
            ],
            [
             0.4444444444444444,
             "#bd3786"
            ],
            [
             0.5555555555555556,
             "#d8576b"
            ],
            [
             0.6666666666666666,
             "#ed7953"
            ],
            [
             0.7777777777777778,
             "#fb9f3a"
            ],
            [
             0.8888888888888888,
             "#fdca26"
            ],
            [
             1,
             "#f0f921"
            ]
           ]
          },
          "colorway": [
           "#636efa",
           "#EF553B",
           "#00cc96",
           "#ab63fa",
           "#FFA15A",
           "#19d3f3",
           "#FF6692",
           "#B6E880",
           "#FF97FF",
           "#FECB52"
          ],
          "font": {
           "color": "#2a3f5f"
          },
          "geo": {
           "bgcolor": "white",
           "lakecolor": "white",
           "landcolor": "#E5ECF6",
           "showlakes": true,
           "showland": true,
           "subunitcolor": "white"
          },
          "hoverlabel": {
           "align": "left"
          },
          "hovermode": "closest",
          "mapbox": {
           "style": "light"
          },
          "paper_bgcolor": "white",
          "plot_bgcolor": "#E5ECF6",
          "polar": {
           "angularaxis": {
            "gridcolor": "white",
            "linecolor": "white",
            "ticks": ""
           },
           "bgcolor": "#E5ECF6",
           "radialaxis": {
            "gridcolor": "white",
            "linecolor": "white",
            "ticks": ""
           }
          },
          "scene": {
           "xaxis": {
            "backgroundcolor": "#E5ECF6",
            "gridcolor": "white",
            "gridwidth": 2,
            "linecolor": "white",
            "showbackground": true,
            "ticks": "",
            "zerolinecolor": "white"
           },
           "yaxis": {
            "backgroundcolor": "#E5ECF6",
            "gridcolor": "white",
            "gridwidth": 2,
            "linecolor": "white",
            "showbackground": true,
            "ticks": "",
            "zerolinecolor": "white"
           },
           "zaxis": {
            "backgroundcolor": "#E5ECF6",
            "gridcolor": "white",
            "gridwidth": 2,
            "linecolor": "white",
            "showbackground": true,
            "ticks": "",
            "zerolinecolor": "white"
           }
          },
          "shapedefaults": {
           "line": {
            "color": "#2a3f5f"
           }
          },
          "ternary": {
           "aaxis": {
            "gridcolor": "white",
            "linecolor": "white",
            "ticks": ""
           },
           "baxis": {
            "gridcolor": "white",
            "linecolor": "white",
            "ticks": ""
           },
           "bgcolor": "#E5ECF6",
           "caxis": {
            "gridcolor": "white",
            "linecolor": "white",
            "ticks": ""
           }
          },
          "title": {
           "x": 0.05
          },
          "xaxis": {
           "automargin": true,
           "gridcolor": "white",
           "linecolor": "white",
           "ticks": "",
           "title": {
            "standoff": 15
           },
           "zerolinecolor": "white",
           "zerolinewidth": 2
          },
          "yaxis": {
           "automargin": true,
           "gridcolor": "white",
           "linecolor": "white",
           "ticks": "",
           "title": {
            "standoff": 15
           },
           "zerolinecolor": "white",
           "zerolinewidth": 2
          }
         }
        },
        "xaxis": {
         "anchor": "y",
         "domain": [
          0,
          1
         ],
         "title": {
          "text": "Ålder"
         }
        },
        "yaxis": {
         "anchor": "x",
         "domain": [
          0,
          1
         ],
         "title": {
          "text": "% of the population"
         }
        }
       }
      }
     },
     "metadata": {},
     "output_type": "display_data"
    }
   ],
   "source": [
    "fully_vac_fig = px.bar(ages_vaccinated, labels = dict(value = \"% of the population\", variable = \"\"))\n",
    "fully_vac_fig.show()\n",
    "fully_vac_fig.write_html(\"./Visualizations/Insights/Fully_vaccinated_ratio.html\")"
   ]
  },
  {
   "cell_type": "markdown",
   "metadata": {},
   "source": [
    "## Vaccination Interruption Rate"
   ]
  },
  {
   "cell_type": "markdown",
   "metadata": {},
   "source": [
    "Finally, it might be important to understand the procent of people who started the vaccination process (1 dose), but for some reason haven't finished the full vaccination cycle (2 doses). "
   ]
  },
  {
   "cell_type": "code",
   "execution_count": 22,
   "metadata": {},
   "outputs": [
    {
     "data": {
      "text/html": [
       "<div>\n",
       "<style scoped>\n",
       "    .dataframe tbody tr th:only-of-type {\n",
       "        vertical-align: middle;\n",
       "    }\n",
       "\n",
       "    .dataframe tbody tr th {\n",
       "        vertical-align: top;\n",
       "    }\n",
       "\n",
       "    .dataframe thead th {\n",
       "        text-align: right;\n",
       "    }\n",
       "</style>\n",
       "<table border=\"1\" class=\"dataframe\">\n",
       "  <thead>\n",
       "    <tr style=\"text-align: right;\">\n",
       "      <th></th>\n",
       "      <th>Län</th>\n",
       "      <th>Län_namn</th>\n",
       "      <th>Kommun</th>\n",
       "      <th>Kommun_namn</th>\n",
       "      <th>Ålder</th>\n",
       "      <th>Befolkning</th>\n",
       "      <th>Antal minst 1 dos</th>\n",
       "      <th>Antal minst 2 doser</th>\n",
       "      <th>Antal 3 doser</th>\n",
       "      <th>Antal 4 doser</th>\n",
       "      <th>Andel minst 1 dos</th>\n",
       "      <th>Andel minst 2 doser</th>\n",
       "      <th>Andel 3 doser</th>\n",
       "      <th>Andel 4 doser</th>\n",
       "    </tr>\n",
       "  </thead>\n",
       "  <tbody>\n",
       "    <tr>\n",
       "      <th>0</th>\n",
       "      <td>1</td>\n",
       "      <td>Stockholms län</td>\n",
       "      <td>114</td>\n",
       "      <td>Upplands Väsby</td>\n",
       "      <td>12-15</td>\n",
       "      <td>2422</td>\n",
       "      <td>1206</td>\n",
       "      <td>1046</td>\n",
       "      <td>NaN</td>\n",
       "      <td>NaN</td>\n",
       "      <td>0.50</td>\n",
       "      <td>0.43</td>\n",
       "      <td>NaN</td>\n",
       "      <td>NaN</td>\n",
       "    </tr>\n",
       "  </tbody>\n",
       "</table>\n",
       "</div>"
      ],
      "text/plain": [
       "   Län        Län_namn  Kommun     Kommun_namn  Ålder  Befolkning  \\\n",
       "0    1  Stockholms län     114  Upplands Väsby  12-15        2422   \n",
       "\n",
       "   Antal minst 1 dos  Antal minst 2 doser  Antal 3 doser  Antal 4 doser  \\\n",
       "0               1206                 1046            NaN            NaN   \n",
       "\n",
       "   Andel minst 1 dos  Andel minst 2 doser  Andel 3 doser  Andel 4 doser  \n",
       "0               0.50                 0.43            NaN            NaN  "
      ]
     },
     "execution_count": 22,
     "metadata": {},
     "output_type": "execute_result"
    }
   ],
   "source": [
    "vaccindata.head(1)"
   ]
  },
  {
   "cell_type": "code",
   "execution_count": 23,
   "metadata": {},
   "outputs": [
    {
     "data": {
      "text/html": [
       "<div>\n",
       "<style scoped>\n",
       "    .dataframe tbody tr th:only-of-type {\n",
       "        vertical-align: middle;\n",
       "    }\n",
       "\n",
       "    .dataframe tbody tr th {\n",
       "        vertical-align: top;\n",
       "    }\n",
       "\n",
       "    .dataframe thead th {\n",
       "        text-align: right;\n",
       "    }\n",
       "</style>\n",
       "<table border=\"1\" class=\"dataframe\">\n",
       "  <thead>\n",
       "    <tr style=\"text-align: right;\">\n",
       "      <th></th>\n",
       "      <th>Län</th>\n",
       "      <th>Län_namn</th>\n",
       "      <th>Kommun</th>\n",
       "      <th>Kommun_namn</th>\n",
       "      <th>Ålder</th>\n",
       "      <th>Befolkning</th>\n",
       "      <th>Antal minst 1 dos</th>\n",
       "      <th>Antal minst 2 doser</th>\n",
       "      <th>Antal 3 doser</th>\n",
       "      <th>Antal 4 doser</th>\n",
       "      <th>Andel minst 1 dos</th>\n",
       "      <th>Andel minst 2 doser</th>\n",
       "      <th>Andel 3 doser</th>\n",
       "      <th>Andel 4 doser</th>\n",
       "      <th>VIR</th>\n",
       "    </tr>\n",
       "  </thead>\n",
       "  <tbody>\n",
       "    <tr>\n",
       "      <th>2694</th>\n",
       "      <td>24</td>\n",
       "      <td>Västerbottens län</td>\n",
       "      <td>2425</td>\n",
       "      <td>Dorotea</td>\n",
       "      <td>40-49</td>\n",
       "      <td>228</td>\n",
       "      <td>216</td>\n",
       "      <td>214</td>\n",
       "      <td>166.00</td>\n",
       "      <td>NaN</td>\n",
       "      <td>0.95</td>\n",
       "      <td>0.94</td>\n",
       "      <td>0.73</td>\n",
       "      <td>NaN</td>\n",
       "      <td>0.93</td>\n",
       "    </tr>\n",
       "    <tr>\n",
       "      <th>590</th>\n",
       "      <td>6</td>\n",
       "      <td>Jönköpings län</td>\n",
       "      <td>643</td>\n",
       "      <td>Habo</td>\n",
       "      <td>12-15</td>\n",
       "      <td>797</td>\n",
       "      <td>485</td>\n",
       "      <td>465</td>\n",
       "      <td>NaN</td>\n",
       "      <td>NaN</td>\n",
       "      <td>0.61</td>\n",
       "      <td>0.58</td>\n",
       "      <td>NaN</td>\n",
       "      <td>NaN</td>\n",
       "      <td>4.12</td>\n",
       "    </tr>\n",
       "    <tr>\n",
       "      <th>902</th>\n",
       "      <td>10</td>\n",
       "      <td>Blekinge län</td>\n",
       "      <td>1060</td>\n",
       "      <td>Olofström</td>\n",
       "      <td>18-29</td>\n",
       "      <td>1641</td>\n",
       "      <td>1254</td>\n",
       "      <td>1209</td>\n",
       "      <td>545.00</td>\n",
       "      <td>NaN</td>\n",
       "      <td>0.76</td>\n",
       "      <td>0.74</td>\n",
       "      <td>0.33</td>\n",
       "      <td>NaN</td>\n",
       "      <td>3.59</td>\n",
       "    </tr>\n",
       "    <tr>\n",
       "      <th>918</th>\n",
       "      <td>10</td>\n",
       "      <td>Blekinge län</td>\n",
       "      <td>1080</td>\n",
       "      <td>Karlskrona</td>\n",
       "      <td>80-89</td>\n",
       "      <td>3628</td>\n",
       "      <td>3552</td>\n",
       "      <td>3544</td>\n",
       "      <td>3490.00</td>\n",
       "      <td>3199.00</td>\n",
       "      <td>0.98</td>\n",
       "      <td>0.98</td>\n",
       "      <td>0.96</td>\n",
       "      <td>0.88</td>\n",
       "      <td>0.23</td>\n",
       "    </tr>\n",
       "    <tr>\n",
       "      <th>1455</th>\n",
       "      <td>14</td>\n",
       "      <td>Västra Götalands län</td>\n",
       "      <td>1440</td>\n",
       "      <td>Ale</td>\n",
       "      <td>50-59</td>\n",
       "      <td>4123</td>\n",
       "      <td>3738</td>\n",
       "      <td>3685</td>\n",
       "      <td>2922.00</td>\n",
       "      <td>NaN</td>\n",
       "      <td>0.91</td>\n",
       "      <td>0.89</td>\n",
       "      <td>0.71</td>\n",
       "      <td>NaN</td>\n",
       "      <td>1.42</td>\n",
       "    </tr>\n",
       "  </tbody>\n",
       "</table>\n",
       "</div>"
      ],
      "text/plain": [
       "      Län              Län_namn  Kommun Kommun_namn  Ålder  Befolkning  \\\n",
       "2694   24     Västerbottens län    2425     Dorotea  40-49         228   \n",
       "590     6        Jönköpings län     643        Habo  12-15         797   \n",
       "902    10          Blekinge län    1060   Olofström  18-29        1641   \n",
       "918    10          Blekinge län    1080  Karlskrona  80-89        3628   \n",
       "1455   14  Västra Götalands län    1440         Ale  50-59        4123   \n",
       "\n",
       "      Antal minst 1 dos  Antal minst 2 doser  Antal 3 doser  Antal 4 doser  \\\n",
       "2694                216                  214         166.00            NaN   \n",
       "590                 485                  465            NaN            NaN   \n",
       "902                1254                 1209         545.00            NaN   \n",
       "918                3552                 3544        3490.00        3199.00   \n",
       "1455               3738                 3685        2922.00            NaN   \n",
       "\n",
       "      Andel minst 1 dos  Andel minst 2 doser  Andel 3 doser  Andel 4 doser  \\\n",
       "2694               0.95                 0.94           0.73            NaN   \n",
       "590                0.61                 0.58            NaN            NaN   \n",
       "902                0.76                 0.74           0.33            NaN   \n",
       "918                0.98                 0.98           0.96           0.88   \n",
       "1455               0.91                 0.89           0.71            NaN   \n",
       "\n",
       "      VIR  \n",
       "2694 0.93  \n",
       "590  4.12  \n",
       "902  3.59  \n",
       "918  0.23  \n",
       "1455 1.42  "
      ]
     },
     "execution_count": 23,
     "metadata": {},
     "output_type": "execute_result"
    }
   ],
   "source": [
    "vaccindata['VIR'] = (vaccindata['Antal minst 1 dos'] - vaccindata['Antal minst 2 doser'])/vaccindata['Antal minst 1 dos']*100\n",
    "vaccindata.sample(5)"
   ]
  },
  {
   "cell_type": "code",
   "execution_count": 24,
   "metadata": {},
   "outputs": [
    {
     "data": {
      "text/plain": [
       "2.4063989266006094"
      ]
     },
     "execution_count": 24,
     "metadata": {},
     "output_type": "execute_result"
    }
   ],
   "source": [
    "vaccindata['VIR'].mean()"
   ]
  },
  {
   "cell_type": "markdown",
   "metadata": {},
   "source": [
    "As on average, 2 people out of 100 haven't completed their vaccination series."
   ]
  },
  {
   "cell_type": "code",
   "execution_count": 25,
   "metadata": {},
   "outputs": [
    {
     "data": {
      "text/plain": [
       "0.0"
      ]
     },
     "execution_count": 25,
     "metadata": {},
     "output_type": "execute_result"
    }
   ],
   "source": [
    "vaccindata['VIR'].min()"
   ]
  },
  {
   "cell_type": "code",
   "execution_count": 26,
   "metadata": {},
   "outputs": [
    {
     "data": {
      "text/plain": [
       "[array(['90 eller äldre', '80-89', '12-15', '70-79', '50-59', '16-17',\n",
       "        '60-69'], dtype=object),\n",
       " array(['Stockholms län', 'Uppsala län', 'Södermanlands län',\n",
       "        'Östergötlands län', 'Jönköpings län', 'Kronobergs län',\n",
       "        'Kalmar län', 'Blekinge län', 'Skåne län', 'Hallands län',\n",
       "        'Västra Götalands län', 'Värmlands län', 'Örebro län',\n",
       "        'Västmanlands län', 'Dalarnas län', 'Gävleborgs län',\n",
       "        'Västernorrlands län', 'Jämtlands län', 'Västerbottens län',\n",
       "        'Norrbottens län'], dtype=object),\n",
       " 20]"
      ]
     },
     "execution_count": 26,
     "metadata": {},
     "output_type": "execute_result"
    }
   ],
   "source": [
    "most_disciplined = vaccindata.query(\"VIR == 0.0\")\n",
    "disciplined_groups = [most_disciplined['Ålder'].unique(), most_disciplined['Län_namn'].unique(), most_disciplined['Län_namn'].nunique()]\n",
    "disciplined_groups"
   ]
  },
  {
   "cell_type": "markdown",
   "metadata": {},
   "source": [
    "Population groups which were fully vaccinated with 2 doses if started live in 20/21 regions of Sweden and are aged 12-17 or 50+. It seems that the only region which is not in this list is the Gotlands län. And that the age group which tends to skip the next vaccination appointment is 18-50. But we have to check this further)"
   ]
  },
  {
   "cell_type": "code",
   "execution_count": 27,
   "metadata": {},
   "outputs": [
    {
     "data": {
      "text/plain": [
       "36.84210526315789"
      ]
     },
     "execution_count": 27,
     "metadata": {},
     "output_type": "execute_result"
    }
   ],
   "source": [
    "vaccindata['VIR'].max()"
   ]
  },
  {
   "cell_type": "code",
   "execution_count": 28,
   "metadata": {},
   "outputs": [
    {
     "data": {
      "text/html": [
       "<div>\n",
       "<style scoped>\n",
       "    .dataframe tbody tr th:only-of-type {\n",
       "        vertical-align: middle;\n",
       "    }\n",
       "\n",
       "    .dataframe tbody tr th {\n",
       "        vertical-align: top;\n",
       "    }\n",
       "\n",
       "    .dataframe thead th {\n",
       "        text-align: right;\n",
       "    }\n",
       "</style>\n",
       "<table border=\"1\" class=\"dataframe\">\n",
       "  <thead>\n",
       "    <tr style=\"text-align: right;\">\n",
       "      <th></th>\n",
       "      <th>Län</th>\n",
       "      <th>Län_namn</th>\n",
       "      <th>Kommun</th>\n",
       "      <th>Kommun_namn</th>\n",
       "      <th>Ålder</th>\n",
       "      <th>Befolkning</th>\n",
       "      <th>Antal minst 1 dos</th>\n",
       "      <th>Antal minst 2 doser</th>\n",
       "      <th>Antal 3 doser</th>\n",
       "      <th>Antal 4 doser</th>\n",
       "      <th>Andel minst 1 dos</th>\n",
       "      <th>Andel minst 2 doser</th>\n",
       "      <th>Andel 3 doser</th>\n",
       "      <th>Andel 4 doser</th>\n",
       "      <th>VIR</th>\n",
       "    </tr>\n",
       "  </thead>\n",
       "  <tbody>\n",
       "    <tr>\n",
       "      <th>2660</th>\n",
       "      <td>24</td>\n",
       "      <td>Västerbottens län</td>\n",
       "      <td>2418</td>\n",
       "      <td>Malå</td>\n",
       "      <td>12-15</td>\n",
       "      <td>143</td>\n",
       "      <td>76</td>\n",
       "      <td>48</td>\n",
       "      <td>NaN</td>\n",
       "      <td>NaN</td>\n",
       "      <td>0.53</td>\n",
       "      <td>0.34</td>\n",
       "      <td>NaN</td>\n",
       "      <td>NaN</td>\n",
       "      <td>36.84</td>\n",
       "    </tr>\n",
       "  </tbody>\n",
       "</table>\n",
       "</div>"
      ],
      "text/plain": [
       "      Län           Län_namn  Kommun Kommun_namn  Ålder  Befolkning  \\\n",
       "2660   24  Västerbottens län    2418        Malå  12-15         143   \n",
       "\n",
       "      Antal minst 1 dos  Antal minst 2 doser  Antal 3 doser  Antal 4 doser  \\\n",
       "2660                 76                   48            NaN            NaN   \n",
       "\n",
       "      Andel minst 1 dos  Andel minst 2 doser  Andel 3 doser  Andel 4 doser  \\\n",
       "2660               0.53                 0.34            NaN            NaN   \n",
       "\n",
       "       VIR  \n",
       "2660 36.84  "
      ]
     },
     "execution_count": 28,
     "metadata": {},
     "output_type": "execute_result"
    }
   ],
   "source": [
    "least_disciplined = vaccindata.query(\"VIR == 36.84210526315789\")\n",
    "least_disciplined"
   ]
  },
  {
   "cell_type": "markdown",
   "metadata": {},
   "source": [
    "No! My previous guess was not exactly correct:) Or maybe it's just a local anomaly in Malå."
   ]
  },
  {
   "cell_type": "markdown",
   "metadata": {},
   "source": [
    "It's time to see the whole picture."
   ]
  },
  {
   "cell_type": "code",
   "execution_count": 29,
   "metadata": {},
   "outputs": [
    {
     "data": {
      "application/vnd.plotly.v1+json": {
       "config": {
        "plotlyServerURL": "https://plot.ly"
       },
       "data": [
        {
         "customdata": [
          [
           2422,
           "12-15"
          ],
          [
           2109,
           "12-15"
          ],
          [
           2655,
           "12-15"
          ],
          [
           2556,
           "12-15"
          ],
          [
           4286,
           "12-15"
          ],
          [
           1994,
           "12-15"
          ],
          [
           6542,
           "12-15"
          ],
          [
           5286,
           "12-15"
          ],
          [
           1094,
           "12-15"
          ],
          [
           4975,
           "12-15"
          ],
          [
           2937,
           "12-15"
          ],
          [
           1679,
           "12-15"
          ],
          [
           719,
           "12-15"
          ],
          [
           4403,
           "12-15"
          ],
          [
           2192,
           "12-15"
          ],
          [
           4536,
           "12-15"
          ],
          [
           42332,
           "12-15"
          ],
          [
           5092,
           "12-15"
          ],
          [
           6322,
           "12-15"
          ],
          [
           2146,
           "12-15"
          ],
          [
           2834,
           "12-15"
          ],
          [
           2790,
           "12-15"
          ],
          [
           716,
           "12-15"
          ],
          [
           2669,
           "12-15"
          ],
          [
           2756,
           "12-15"
          ],
          [
           1401,
           "12-15"
          ],
          [
           1290,
           "12-15"
          ],
          [
           492,
           "12-15"
          ],
          [
           1254,
           "12-15"
          ],
          [
           676,
           "12-15"
          ],
          [
           988,
           "12-15"
          ],
          [
           10934,
           "12-15"
          ],
          [
           2328,
           "12-15"
          ],
          [
           935,
           "12-15"
          ],
          [
           391,
           "12-15"
          ],
          [
           607,
           "12-15"
          ],
          [
           2826,
           "12-15"
          ],
          [
           548,
           "12-15"
          ],
          [
           745,
           "12-15"
          ],
          [
           1660,
           "12-15"
          ],
          [
           5464,
           "12-15"
          ],
          [
           2020,
           "12-15"
          ],
          [
           743,
           "12-15"
          ],
          [
           217,
           "12-15"
          ],
          [
           152,
           "12-15"
          ],
          [
           458,
           "12-15"
          ],
          [
           228,
           "12-15"
          ],
          [
           479,
           "12-15"
          ],
          [
           971,
           "12-15"
          ],
          [
           304,
           "12-15"
          ],
          [
           7805,
           "12-15"
          ],
          [
           7268,
           "12-15"
          ],
          [
           739,
           "12-15"
          ],
          [
           2134,
           "12-15"
          ],
          [
           266,
           "12-15"
          ],
          [
           1373,
           "12-15"
          ],
          [
           326,
           "12-15"
          ],
          [
           454,
           "12-15"
          ],
          [
           395,
           "12-15"
          ],
          [
           797,
           "12-15"
          ],
          [
           1565,
           "12-15"
          ],
          [
           788,
           "12-15"
          ],
          [
           6979,
           "12-15"
          ],
          [
           1512,
           "12-15"
          ],
          [
           1717,
           "12-15"
          ],
          [
           634,
           "12-15"
          ],
          [
           1407,
           "12-15"
          ],
          [
           814,
           "12-15"
          ],
          [
           888,
           "12-15"
          ],
          [
           454,
           "12-15"
          ],
          [
           493,
           "12-15"
          ],
          [
           527,
           "12-15"
          ],
          [
           1078,
           "12-15"
          ],
          [
           989,
           "12-15"
          ],
          [
           501,
           "12-15"
          ],
          [
           4689,
           "12-15"
          ],
          [
           1324,
           "12-15"
          ],
          [
           267,
           "12-15"
          ],
          [
           309,
           "12-15"
          ],
          [
           792,
           "12-15"
          ],
          [
           685,
           "12-15"
          ],
          [
           570,
           "12-15"
          ],
          [
           432,
           "12-15"
          ],
          [
           3347,
           "12-15"
          ],
          [
           956,
           "12-15"
          ],
          [
           1231,
           "12-15"
          ],
          [
           1612,
           "12-15"
          ],
          [
           682,
           "12-15"
          ],
          [
           395,
           "12-15"
          ],
          [
           2710,
           "12-15"
          ],
          [
           564,
           "12-15"
          ],
          [
           3218,
           "12-15"
          ],
          [
           1483,
           "12-15"
          ],
          [
           1484,
           "12-15"
          ],
          [
           768,
           "12-15"
          ],
          [
           747,
           "12-15"
          ],
          [
           1667,
           "12-15"
          ],
          [
           1029,
           "12-15"
          ],
          [
           2108,
           "12-15"
          ],
          [
           796,
           "12-15"
          ],
          [
           501,
           "12-15"
          ],
          [
           857,
           "12-15"
          ],
          [
           1943,
           "12-15"
          ],
          [
           1701,
           "12-15"
          ],
          [
           1423,
           "12-15"
          ],
          [
           810,
           "12-15"
          ],
          [
           882,
           "12-15"
          ],
          [
           729,
           "12-15"
          ],
          [
           902,
           "12-15"
          ],
          [
           662,
           "12-15"
          ],
          [
           666,
           "12-15"
          ],
          [
           644,
           "12-15"
          ],
          [
           431,
           "12-15"
          ],
          [
           818,
           "12-15"
          ],
          [
           960,
           "12-15"
          ],
          [
           674,
           "12-15"
          ],
          [
           15977,
           "12-15"
          ],
          [
           6035,
           "12-15"
          ],
          [
           2293,
           "12-15"
          ],
          [
           7307,
           "12-15"
          ],
          [
           1442,
           "12-15"
          ],
          [
           1868,
           "12-15"
          ],
          [
           1397,
           "12-15"
          ],
          [
           2236,
           "12-15"
          ],
          [
           4323,
           "12-15"
          ],
          [
           740,
           "12-15"
          ],
          [
           2145,
           "12-15"
          ],
          [
           2470,
           "12-15"
          ],
          [
           551,
           "12-15"
          ],
          [
           5034,
           "12-15"
          ],
          [
           1199,
           "12-15"
          ],
          [
           2194,
           "12-15"
          ],
          [
           3206,
           "12-15"
          ],
          [
           5123,
           "12-15"
          ],
          [
           2641,
           "12-15"
          ],
          [
           2305,
           "12-15"
          ],
          [
           680,
           "12-15"
          ],
          [
           1500,
           "12-15"
          ],
          [
           762,
           "12-15"
          ],
          [
           636,
           "12-15"
          ],
          [
           326,
           "12-15"
          ],
          [
           471,
           "12-15"
          ],
          [
           566,
           "12-15"
          ],
          [
           215,
           "12-15"
          ],
          [
           306,
           "12-15"
          ],
          [
           1765,
           "12-15"
          ],
          [
           2711,
           "12-15"
          ],
          [
           626,
           "12-15"
          ],
          [
           536,
           "12-15"
          ],
          [
           271,
           "12-15"
          ],
          [
           296,
           "12-15"
          ],
          [
           277,
           "12-15"
          ],
          [
           198,
           "12-15"
          ],
          [
           574,
           "12-15"
          ],
          [
           399,
           "12-15"
          ],
          [
           431,
           "12-15"
          ],
          [
           667,
           "12-15"
          ],
          [
           1871,
           "12-15"
          ],
          [
           529,
           "12-15"
          ],
          [
           428,
           "12-15"
          ],
          [
           760,
           "12-15"
          ],
          [
           668,
           "12-15"
          ],
          [
           525,
           "12-15"
          ],
          [
           415,
           "12-15"
          ],
          [
           25395,
           "12-15"
          ],
          [
           3679,
           "12-15"
          ],
          [
           2500,
           "12-15"
          ],
          [
           617,
           "12-15"
          ],
          [
           2844,
           "12-15"
          ],
          [
           621,
           "12-15"
          ],
          [
           1966,
           "12-15"
          ],
          [
           2958,
           "12-15"
          ],
          [
           2172,
           "12-15"
          ],
          [
           5623,
           "12-15"
          ],
          [
           1193,
           "12-15"
          ],
          [
           605,
           "12-15"
          ],
          [
           1037,
           "12-15"
          ],
          [
           1962,
           "12-15"
          ],
          [
           877,
           "12-15"
          ],
          [
           2553,
           "12-15"
          ],
          [
           420,
           "12-15"
          ],
          [
           560,
           "12-15"
          ],
          [
           1633,
           "12-15"
          ],
          [
           540,
           "12-15"
          ],
          [
           346,
           "12-15"
          ],
          [
           428,
           "12-15"
          ],
          [
           162,
           "12-15"
          ],
          [
           1012,
           "12-15"
          ],
          [
           169,
           "12-15"
          ],
          [
           588,
           "12-15"
          ],
          [
           402,
           "12-15"
          ],
          [
           459,
           "12-15"
          ],
          [
           572,
           "12-15"
          ],
          [
           4153,
           "12-15"
          ],
          [
           1045,
           "12-15"
          ],
          [
           454,
           "12-15"
          ],
          [
           444,
           "12-15"
          ],
          [
           1100,
           "12-15"
          ],
          [
           675,
           "12-15"
          ],
          [
           491,
           "12-15"
          ],
          [
           254,
           "12-15"
          ],
          [
           815,
           "12-15"
          ],
          [
           398,
           "12-15"
          ],
          [
           299,
           "12-15"
          ],
          [
           163,
           "12-15"
          ],
          [
           7733,
           "12-15"
          ],
          [
           1263,
           "12-15"
          ],
          [
           475,
           "12-15"
          ],
          [
           1422,
           "12-15"
          ],
          [
           538,
           "12-15"
          ],
          [
           1138,
           "12-15"
          ],
          [
           172,
           "12-15"
          ],
          [
           501,
           "12-15"
          ],
          [
           455,
           "12-15"
          ],
          [
           824,
           "12-15"
          ],
          [
           262,
           "12-15"
          ],
          [
           7520,
           "12-15"
          ],
          [
           1116,
           "12-15"
          ],
          [
           662,
           "12-15"
          ],
          [
           1220,
           "12-15"
          ],
          [
           590,
           "12-15"
          ],
          [
           331,
           "12-15"
          ],
          [
           434,
           "12-15"
          ],
          [
           542,
           "12-15"
          ],
          [
           705,
           "12-15"
          ],
          [
           445,
           "12-15"
          ],
          [
           285,
           "12-15"
          ],
          [
           321,
           "12-15"
          ],
          [
           489,
           "12-15"
          ],
          [
           935,
           "12-15"
          ],
          [
           2902,
           "12-15"
          ],
          [
           2647,
           "12-15"
          ],
          [
           507,
           "12-15"
          ],
          [
           748,
           "12-15"
          ],
          [
           1028,
           "12-15"
          ],
          [
           1163,
           "12-15"
          ],
          [
           241,
           "12-15"
          ],
          [
           426,
           "12-15"
          ],
          [
           514,
           "12-15"
          ],
          [
           449,
           "12-15"
          ],
          [
           850,
           "12-15"
          ],
          [
           4877,
           "12-15"
          ],
          [
           1742,
           "12-15"
          ],
          [
           1124,
           "12-15"
          ],
          [
           1200,
           "12-15"
          ],
          [
           1778,
           "12-15"
          ],
          [
           378,
           "12-15"
          ],
          [
           829,
           "12-15"
          ],
          [
           1228,
           "12-15"
          ],
          [
           4820,
           "12-15"
          ],
          [
           738,
           "12-15"
          ],
          [
           809,
           "12-15"
          ],
          [
           2700,
           "12-15"
          ],
          [
           235,
           "12-15"
          ],
          [
           245,
           "12-15"
          ],
          [
           961,
           "12-15"
          ],
          [
           449,
           "12-15"
          ],
          [
           621,
           "12-15"
          ],
          [
           309,
           "12-15"
          ],
          [
           364,
           "12-15"
          ],
          [
           3052,
           "12-15"
          ],
          [
           308,
           "12-15"
          ],
          [
           99,
           "12-15"
          ],
          [
           282,
           "12-15"
          ],
          [
           325,
           "12-15"
          ],
          [
           194,
           "12-15"
          ],
          [
           143,
           "12-15"
          ],
          [
           266,
           "12-15"
          ],
          [
           94,
           "12-15"
          ],
          [
           110,
           "12-15"
          ],
          [
           442,
           "12-15"
          ],
          [
           294,
           "12-15"
          ],
          [
           109,
           "12-15"
          ],
          [
           5852,
           "12-15"
          ],
          [
           591,
           "12-15"
          ],
          [
           3366,
           "12-15"
          ],
          [
           249,
           "12-15"
          ],
          [
           96,
           "12-15"
          ],
          [
           161,
           "12-15"
          ],
          [
           98,
           "12-15"
          ],
          [
           638,
           "12-15"
          ],
          [
           159,
           "12-15"
          ],
          [
           221,
           "12-15"
          ],
          [
           664,
           "12-15"
          ],
          [
           328,
           "12-15"
          ],
          [
           3427,
           "12-15"
          ],
          [
           1838,
           "12-15"
          ],
          [
           1156,
           "12-15"
          ],
          [
           452,
           "12-15"
          ],
          [
           954,
           "12-15"
          ]
         ],
         "hovertemplate": "<b>%{hovertext}</b><br><br>Ålder=%{customdata[1]}<br>Län_namn=%{x}<br>VIR=%{y}<br>Befolkning=%{customdata[0]}<extra></extra>",
         "hovertext": [
          "Upplands Väsby",
          "Vallentuna",
          "Österåker",
          "Värmdö",
          "Järfälla",
          "Ekerö",
          "Huddinge",
          "Botkyrka",
          "Salem",
          "Haninge",
          "Tyresö",
          "Upplands-Bro",
          "Nykvarn",
          "Täby",
          "Danderyd",
          "Sollentuna",
          "Stockholm",
          "Södertälje",
          "Nacka",
          "Sundbyberg",
          "Solna",
          "Lidingö",
          "Vaxholm",
          "Norrtälje",
          "Sigtuna",
          "Nynäshamn",
          "Håbo",
          "Älvkarleby",
          "Knivsta",
          "Heby",
          "Tierp",
          "Uppsala",
          "Enköping",
          "Östhammar",
          "Vingåker",
          "Gnesta",
          "Nyköping",
          "Oxelösund",
          "Flen",
          "Katrineholm",
          "Eskilstuna",
          "Strängnäs",
          "Trosa",
          "Ödeshög",
          "Ydre",
          "Kinda",
          "Boxholm",
          "Åtvidaberg",
          "Finspång",
          "Valdemarsvik",
          "Linköping",
          "Norrköping",
          "Söderköping",
          "Motala",
          "Vadstena",
          "Mjölby",
          "Aneby",
          "Gnosjö",
          "Mullsjö",
          "Habo",
          "Gislaved",
          "Vaggeryd",
          "Jönköping",
          "Nässjö",
          "Värnamo",
          "Sävsjö",
          "Vetlanda",
          "Eksjö",
          "Tranås",
          "Uppvidinge",
          "Lessebo",
          "Tingsryd",
          "Alvesta",
          "Älmhult",
          "Markaryd",
          "Växjö",
          "Ljungby",
          "Högsby",
          "Torsås",
          "Mörbylånga",
          "Hultsfred",
          "Mönsterås",
          "Emmaboda",
          "Kalmar",
          "Nybro",
          "Oskarshamn",
          "Västervik",
          "Vimmerby",
          "Borgholm",
          "Gotland",
          "Olofström",
          "Karlskrona",
          "Ronneby",
          "Karlshamn",
          "Sölvesborg",
          "Svalöv",
          "Staffanstorp",
          "Burlöv",
          "Vellinge",
          "Östra Göinge",
          "Örkelljunga",
          "Bjuv",
          "Kävlinge",
          "Lomma",
          "Svedala",
          "Skurup",
          "Sjöbo",
          "Hörby",
          "Höör",
          "Tomelilla",
          "Bromölla",
          "Osby",
          "Perstorp",
          "Klippan",
          "Åstorp",
          "Båstad",
          "Malmö",
          "Lund",
          "Landskrona",
          "Helsingborg",
          "Höganäs",
          "Eslöv",
          "Ystad",
          "Trelleborg",
          "Kristianstad",
          "Simrishamn",
          "Ängelholm",
          "Hässleholm",
          "Hylte",
          "Halmstad",
          "Laholm",
          "Falkenberg",
          "Varberg",
          "Kungsbacka",
          "Härryda",
          "Partille",
          "Öckerö",
          "Stenungsund",
          "Tjörn",
          "Orust",
          "Sotenäs",
          "Munkedal",
          "Tanum",
          "Dals-Ed",
          "Färgelanda",
          "Ale",
          "Lerum",
          "Vårgårda",
          "Bollebygd",
          "Grästorp",
          "Essunga",
          "Karlsborg",
          "Gullspång",
          "Tranemo",
          "Bengtsfors",
          "Mellerud",
          "Lilla Edet",
          "Mark",
          "Svenljunga",
          "Herrljunga",
          "Vara",
          "Götene",
          "Tibro",
          "Töreboda",
          "Göteborg",
          "Mölndal",
          "Kungälv",
          "Lysekil",
          "Uddevalla",
          "Strömstad",
          "Vänersborg",
          "Trollhättan",
          "Alingsås",
          "Borås",
          "Ulricehamn",
          "Åmål",
          "Mariestad",
          "Lidköping",
          "Skara",
          "Skövde",
          "Hjo",
          "Tidaholm",
          "Falköping",
          "Kil",
          "Eda",
          "Torsby",
          "Storfors",
          "Hammarö",
          "Munkfors",
          "Forshaga",
          "Grums",
          "Årjäng",
          "Sunne",
          "Karlstad",
          "Kristinehamn",
          "Filipstad",
          "Hagfors",
          "Arvika",
          "Säffle",
          "Lekeberg",
          "Laxå",
          "Hallsberg",
          "Degerfors",
          "Hällefors",
          "Ljusnarsberg",
          "Örebro",
          "Kumla",
          "Askersund",
          "Karlskoga",
          "Nora",
          "Lindesberg",
          "Skinnskatteberg",
          "Surahammar",
          "Kungsör",
          "Hallstahammar",
          "Norberg",
          "Västerås",
          "Sala",
          "Fagersta",
          "Köping",
          "Arboga",
          "Vansbro",
          "Malung-Sälen",
          "Gagnef",
          "Leksand",
          "Rättvik",
          "Orsa",
          "Älvdalen",
          "Smedjebacken",
          "Mora",
          "Falun",
          "Borlänge",
          "Säter",
          "Hedemora",
          "Avesta",
          "Ludvika",
          "Ockelbo",
          "Hofors",
          "Ovanåker",
          "Nordanstig",
          "Ljusdal",
          "Gävle",
          "Sandviken",
          "Söderhamn",
          "Bollnäs",
          "Hudiksvall",
          "Ånge",
          "Timrå",
          "Härnösand",
          "Sundsvall",
          "Kramfors",
          "Sollefteå",
          "Örnsköldsvik",
          "Ragunda",
          "Bräcke",
          "Krokom",
          "Strömsund",
          "Åre",
          "Berg",
          "Härjedalen",
          "Östersund",
          "Nordmaling",
          "Bjurholm",
          "Vindeln",
          "Robertsfors",
          "Norsjö",
          "Malå",
          "Storuman",
          "Sorsele",
          "Dorotea",
          "Vännäs",
          "Vilhelmina",
          "Åsele",
          "Umeå",
          "Lycksele",
          "Skellefteå",
          "Arvidsjaur",
          "Arjeplog",
          "Jokkmokk",
          "Överkalix",
          "Kalix",
          "Övertorneå",
          "Pajala",
          "Gällivare",
          "Älvsbyn",
          "Luleå",
          "Piteå",
          "Boden",
          "Haparanda",
          "Kiruna"
         ],
         "legendgroup": "12-15",
         "marker": {
          "color": "#636efa",
          "symbol": "circle"
         },
         "mode": "markers",
         "name": "12-15",
         "showlegend": true,
         "type": "scattergl",
         "x": [
          "Stockholms län",
          "Stockholms län",
          "Stockholms län",
          "Stockholms län",
          "Stockholms län",
          "Stockholms län",
          "Stockholms län",
          "Stockholms län",
          "Stockholms län",
          "Stockholms län",
          "Stockholms län",
          "Stockholms län",
          "Stockholms län",
          "Stockholms län",
          "Stockholms län",
          "Stockholms län",
          "Stockholms län",
          "Stockholms län",
          "Stockholms län",
          "Stockholms län",
          "Stockholms län",
          "Stockholms län",
          "Stockholms län",
          "Stockholms län",
          "Stockholms län",
          "Stockholms län",
          "Uppsala län",
          "Uppsala län",
          "Uppsala län",
          "Uppsala län",
          "Uppsala län",
          "Uppsala län",
          "Uppsala län",
          "Uppsala län",
          "Södermanlands län",
          "Södermanlands län",
          "Södermanlands län",
          "Södermanlands län",
          "Södermanlands län",
          "Södermanlands län",
          "Södermanlands län",
          "Södermanlands län",
          "Södermanlands län",
          "Östergötlands län",
          "Östergötlands län",
          "Östergötlands län",
          "Östergötlands län",
          "Östergötlands län",
          "Östergötlands län",
          "Östergötlands län",
          "Östergötlands län",
          "Östergötlands län",
          "Östergötlands län",
          "Östergötlands län",
          "Östergötlands län",
          "Östergötlands län",
          "Jönköpings län",
          "Jönköpings län",
          "Jönköpings län",
          "Jönköpings län",
          "Jönköpings län",
          "Jönköpings län",
          "Jönköpings län",
          "Jönköpings län",
          "Jönköpings län",
          "Jönköpings län",
          "Jönköpings län",
          "Jönköpings län",
          "Jönköpings län",
          "Kronobergs län",
          "Kronobergs län",
          "Kronobergs län",
          "Kronobergs län",
          "Kronobergs län",
          "Kronobergs län",
          "Kronobergs län",
          "Kronobergs län",
          "Kalmar län",
          "Kalmar län",
          "Kalmar län",
          "Kalmar län",
          "Kalmar län",
          "Kalmar län",
          "Kalmar län",
          "Kalmar län",
          "Kalmar län",
          "Kalmar län",
          "Kalmar län",
          "Kalmar län",
          "Gotlands län",
          "Blekinge län",
          "Blekinge län",
          "Blekinge län",
          "Blekinge län",
          "Blekinge län",
          "Skåne län",
          "Skåne län",
          "Skåne län",
          "Skåne län",
          "Skåne län",
          "Skåne län",
          "Skåne län",
          "Skåne län",
          "Skåne län",
          "Skåne län",
          "Skåne län",
          "Skåne län",
          "Skåne län",
          "Skåne län",
          "Skåne län",
          "Skåne län",
          "Skåne län",
          "Skåne län",
          "Skåne län",
          "Skåne län",
          "Skåne län",
          "Skåne län",
          "Skåne län",
          "Skåne län",
          "Skåne län",
          "Skåne län",
          "Skåne län",
          "Skåne län",
          "Skåne län",
          "Skåne län",
          "Skåne län",
          "Skåne län",
          "Skåne län",
          "Hallands län",
          "Hallands län",
          "Hallands län",
          "Hallands län",
          "Hallands län",
          "Hallands län",
          "Västra Götalands län",
          "Västra Götalands län",
          "Västra Götalands län",
          "Västra Götalands län",
          "Västra Götalands län",
          "Västra Götalands län",
          "Västra Götalands län",
          "Västra Götalands län",
          "Västra Götalands län",
          "Västra Götalands län",
          "Västra Götalands län",
          "Västra Götalands län",
          "Västra Götalands län",
          "Västra Götalands län",
          "Västra Götalands län",
          "Västra Götalands län",
          "Västra Götalands län",
          "Västra Götalands län",
          "Västra Götalands län",
          "Västra Götalands län",
          "Västra Götalands län",
          "Västra Götalands län",
          "Västra Götalands län",
          "Västra Götalands län",
          "Västra Götalands län",
          "Västra Götalands län",
          "Västra Götalands län",
          "Västra Götalands län",
          "Västra Götalands län",
          "Västra Götalands län",
          "Västra Götalands län",
          "Västra Götalands län",
          "Västra Götalands län",
          "Västra Götalands län",
          "Västra Götalands län",
          "Västra Götalands län",
          "Västra Götalands län",
          "Västra Götalands län",
          "Västra Götalands län",
          "Västra Götalands län",
          "Västra Götalands län",
          "Västra Götalands län",
          "Västra Götalands län",
          "Västra Götalands län",
          "Västra Götalands län",
          "Västra Götalands län",
          "Västra Götalands län",
          "Västra Götalands län",
          "Västra Götalands län",
          "Värmlands län",
          "Värmlands län",
          "Värmlands län",
          "Värmlands län",
          "Värmlands län",
          "Värmlands län",
          "Värmlands län",
          "Värmlands län",
          "Värmlands län",
          "Värmlands län",
          "Värmlands län",
          "Värmlands län",
          "Värmlands län",
          "Värmlands län",
          "Värmlands län",
          "Värmlands län",
          "Örebro län",
          "Örebro län",
          "Örebro län",
          "Örebro län",
          "Örebro län",
          "Örebro län",
          "Örebro län",
          "Örebro län",
          "Örebro län",
          "Örebro län",
          "Örebro län",
          "Örebro län",
          "Västmanlands län",
          "Västmanlands län",
          "Västmanlands län",
          "Västmanlands län",
          "Västmanlands län",
          "Västmanlands län",
          "Västmanlands län",
          "Västmanlands län",
          "Västmanlands län",
          "Västmanlands län",
          "Dalarnas län",
          "Dalarnas län",
          "Dalarnas län",
          "Dalarnas län",
          "Dalarnas län",
          "Dalarnas län",
          "Dalarnas län",
          "Dalarnas län",
          "Dalarnas län",
          "Dalarnas län",
          "Dalarnas län",
          "Dalarnas län",
          "Dalarnas län",
          "Dalarnas län",
          "Dalarnas län",
          "Gävleborgs län",
          "Gävleborgs län",
          "Gävleborgs län",
          "Gävleborgs län",
          "Gävleborgs län",
          "Gävleborgs län",
          "Gävleborgs län",
          "Gävleborgs län",
          "Gävleborgs län",
          "Gävleborgs län",
          "Västernorrlands län",
          "Västernorrlands län",
          "Västernorrlands län",
          "Västernorrlands län",
          "Västernorrlands län",
          "Västernorrlands län",
          "Västernorrlands län",
          "Jämtlands län",
          "Jämtlands län",
          "Jämtlands län",
          "Jämtlands län",
          "Jämtlands län",
          "Jämtlands län",
          "Jämtlands län",
          "Jämtlands län",
          "Västerbottens län",
          "Västerbottens län",
          "Västerbottens län",
          "Västerbottens län",
          "Västerbottens län",
          "Västerbottens län",
          "Västerbottens län",
          "Västerbottens län",
          "Västerbottens län",
          "Västerbottens län",
          "Västerbottens län",
          "Västerbottens län",
          "Västerbottens län",
          "Västerbottens län",
          "Västerbottens län",
          "Norrbottens län",
          "Norrbottens län",
          "Norrbottens län",
          "Norrbottens län",
          "Norrbottens län",
          "Norrbottens län",
          "Norrbottens län",
          "Norrbottens län",
          "Norrbottens län",
          "Norrbottens län",
          "Norrbottens län",
          "Norrbottens län",
          "Norrbottens län",
          "Norrbottens län"
         ],
         "xaxis": "x",
         "y": [
          13.266998341625207,
          10.618729096989966,
          14.014895057549086,
          9.238031018206339,
          13.967022308438409,
          11.347517730496454,
          13.762626262626263,
          14.604904632152587,
          12.710280373831775,
          16.283348666053357,
          14.502849905003167,
          13.705583756345177,
          15.656565656565657,
          12.008733624454148,
          10.033898305084746,
          10.260168559912056,
          11.958238287418846,
          16.852613035819143,
          12.188149688149688,
          10.749506903353057,
          12.822207534699274,
          9.059029807130333,
          9.15032679738562,
          13.119330076762036,
          13.677313677313677,
          20.386904761904763,
          7.3041168658698545,
          7.81758957654723,
          6.8557919621749415,
          6.54911838790932,
          8.12720848056537,
          8.582299887260428,
          7.72626931567329,
          7.291666666666667,
          7.818930041152264,
          7.77027027027027,
          8.974358974358974,
          22.71293375394322,
          7.731958762886598,
          8.25593395252838,
          9.44206008583691,
          8.695652173913043,
          7.035175879396985,
          4.166666666666666,
          0,
          3.0100334448160537,
          2.7027027027027026,
          3.669724770642202,
          6.355140186915888,
          3.488372093023256,
          3.612206767697737,
          5.362003266194883,
          4.337899543378995,
          3.27455919395466,
          1.1904761904761905,
          4.1530054644808745,
          6.091370558375635,
          3.065134099616858,
          5.9405940594059405,
          4.123711340206185,
          2.011173184357542,
          3.5377358490566038,
          5.404744436292492,
          6.8181818181818175,
          5.413687436159346,
          6.489675516224189,
          3.2383419689119166,
          3.6964980544747084,
          2.877697841726619,
          4.8034934497816595,
          2.1551724137931036,
          5.905511811023622,
          7.707509881422925,
          5.598455598455598,
          5.603448275862069,
          4.688763136620857,
          9.666080843585236,
          2.631578947368421,
          2.2857142857142856,
          2.131782945736434,
          6.140350877192982,
          4.4520547945205475,
          7.894736842105263,
          4.66038671294001,
          5.992509363295881,
          2.0344287949921753,
          3.599221789883268,
          0.7751937984496124,
          3.3333333333333335,
          6.039850560398506,
          2.631578947368421,
          6.072672971627675,
          8.452535760728217,
          7.291666666666667,
          5.651105651105651,
          7.75,
          5.491329479768786,
          8.061002178649238,
          4.380103934669636,
          6.304347826086956,
          7.142857142857142,
          8.237986270022883,
          3.571428571428571,
          6.218057921635435,
          4.671717171717172,
          5.454545454545454,
          7.051282051282051,
          7.9787234042553195,
          5.7026476578411405,
          5.602240896358544,
          4.509283819628647,
          4.683195592286501,
          7.142857142857142,
          6.684491978609626,
          8.565310492505352,
          6.561085972850679,
          7.418524871355061,
          5.268595041322314,
          7.758620689655173,
          6.648936170212766,
          4.10958904109589,
          7.129455909943714,
          6.081871345029239,
          5.99828620394173,
          6.177606177606178,
          5,
          8.184143222506394,
          6.595905989385899,
          6.514657980456026,
          8.973900607794064,
          7.656250000000001,
          9.294605809128631,
          8.514013749338973,
          6.590621039290241,
          6.625386996904024,
          7.14828897338403,
          7.387862796833773,
          4.465334900117509,
          3.14769975786925,
          8.157894736842106,
          4.522613065326634,
          6.909090909090909,
          7.638888888888889,
          6.796116504854369,
          7.027027027027027,
          7.658157602663707,
          7.0900123304562275,
          10.526315789473683,
          6.896551724137931,
          7.926829268292683,
          4.487179487179487,
          9.289617486338798,
          6.0606060606060606,
          3.9603960396039604,
          5.5813953488372094,
          4.5,
          7.11743772241993,
          18.50715746421268,
          9.375,
          4.23728813559322,
          5.176470588235294,
          3.787878787878788,
          6.122448979591836,
          9.45945945945946,
          10.812149224166392,
          8.989266547406082,
          7.066381156316917,
          5.583756345177665,
          7.653061224489796,
          17.647058823529413,
          6.679209783631232,
          10.113864701942397,
          5.845674201091192,
          5.8291093410572055,
          6.521739130434782,
          7.669616519174041,
          8.398133748055987,
          4.078164825828377,
          8.008658008658008,
          6.612685560053981,
          5.785123966942149,
          5.555555555555555,
          5.257510729613734,
          3.4090909090909087,
          3.65296803652968,
          3.018867924528302,
          4.301075268817205,
          5.523255813953488,
          9.803921568627452,
          7.049608355091384,
          6.504065040650407,
          1.9230769230769231,
          4.034582132564841,
          5.087263275157817,
          5.175038051750381,
          1.7921146953405016,
          6.0344827586206895,
          2.717391304347826,
          3.8860103626943006,
          6.513409961685824,
          11.11111111111111,
          3.9301310043668125,
          4.508196721311475,
          4.046242774566474,
          5.681818181818182,
          7.229195722919572,
          2.7359781121751023,
          6.324110671936759,
          3.858520900321544,
          14.381270903010032,
          7.491289198606271,
          10.294117647058822,
          7.623318385650224,
          12.785388127853881,
          12.776412776412776,
          4.545454545454546,
          10.98224852071006,
          15.384615384615385,
          6.6473988439306355,
          16.524701873935264,
          15.457413249211358,
          2.8169014084507045,
          2.575107296137339,
          7.2727272727272725,
          3.1862745098039214,
          7.563025210084033,
          7.936507936507936,
          3.90625,
          4.182509505703422,
          4.132231404958678,
          8.232044198895029,
          5.9620596205962055,
          7.508532423208192,
          5.445544554455446,
          6.351791530944626,
          3.7037037037037033,
          10.317460317460316,
          10.69767441860465,
          5.9748427672955975,
          11.27450980392157,
          7.127882599580712,
          8.112874779541446,
          10.77788191190253,
          6.281833616298811,
          6.160458452722064,
          6.8205666316894025,
          18.695652173913043,
          14.092664092664092,
          13.147410358565736,
          12.115127175368139,
          11.59090909090909,
          16.367713004484305,
          3.639618138424821,
          5.511811023622047,
          7.142857142857142,
          3.146853146853147,
          0.904977375565611,
          7.774798927613941,
          7.5,
          8.61244019138756,
          3.6918138041733553,
          4.639175257731959,
          0,
          7.428571428571429,
          2.843601895734597,
          3.1746031746031744,
          36.84210526315789,
          0.5952380952380952,
          3.7037037037037033,
          1.282051282051282,
          4.838709677419355,
          6.857142857142858,
          4.3478260869565215,
          7.4462640736949846,
          4.8517520215633425,
          5.319148936170213,
          3.1645569620253164,
          18.571428571428573,
          1.098901098901099,
          15.384615384615385,
          6.315789473684211,
          6.329113924050633,
          11.214953271028037,
          3.5135135135135136,
          7.547169811320755,
          3.8728897715988087,
          6.575342465753424,
          5.4469273743016755,
          6.0606060606060606,
          5.161290322580645
         ],
         "yaxis": "y"
        },
        {
         "customdata": [
          [
           1203,
           "16-17"
          ],
          [
           1014,
           "16-17"
          ],
          [
           1376,
           "16-17"
          ],
          [
           1338,
           "16-17"
          ],
          [
           2110,
           "16-17"
          ],
          [
           912,
           "16-17"
          ],
          [
           3137,
           "16-17"
          ],
          [
           2484,
           "16-17"
          ],
          [
           565,
           "16-17"
          ],
          [
           2349,
           "16-17"
          ],
          [
           1453,
           "16-17"
          ],
          [
           772,
           "16-17"
          ],
          [
           358,
           "16-17"
          ],
          [
           2138,
           "16-17"
          ],
          [
           1195,
           "16-17"
          ],
          [
           2227,
           "16-17"
          ],
          [
           19501,
           "16-17"
          ],
          [
           2539,
           "16-17"
          ],
          [
           3014,
           "16-17"
          ],
          [
           928,
           "16-17"
          ],
          [
           1212,
           "16-17"
          ],
          [
           1399,
           "16-17"
          ],
          [
           386,
           "16-17"
          ],
          [
           1298,
           "16-17"
          ],
          [
           1280,
           "16-17"
          ],
          [
           640,
           "16-17"
          ],
          [
           649,
           "16-17"
          ],
          [
           223,
           "16-17"
          ],
          [
           595,
           "16-17"
          ],
          [
           275,
           "16-17"
          ],
          [
           461,
           "16-17"
          ],
          [
           5149,
           "16-17"
          ],
          [
           1139,
           "16-17"
          ],
          [
           485,
           "16-17"
          ],
          [
           226,
           "16-17"
          ],
          [
           255,
           "16-17"
          ],
          [
           1440,
           "16-17"
          ],
          [
           266,
           "16-17"
          ],
          [
           374,
           "16-17"
          ],
          [
           810,
           "16-17"
          ],
          [
           2729,
           "16-17"
          ],
          [
           1061,
           "16-17"
          ],
          [
           330,
           "16-17"
          ],
          [
           125,
           "16-17"
          ],
          [
           81,
           "16-17"
          ],
          [
           236,
           "16-17"
          ],
          [
           110,
           "16-17"
          ],
          [
           265,
           "16-17"
          ],
          [
           480,
           "16-17"
          ],
          [
           162,
           "16-17"
          ],
          [
           3776,
           "16-17"
          ],
          [
           3458,
           "16-17"
          ],
          [
           335,
           "16-17"
          ],
          [
           1017,
           "16-17"
          ],
          [
           138,
           "16-17"
          ],
          [
           711,
           "16-17"
          ],
          [
           151,
           "16-17"
          ],
          [
           263,
           "16-17"
          ],
          [
           207,
           "16-17"
          ],
          [
           376,
           "16-17"
          ],
          [
           767,
           "16-17"
          ],
          [
           349,
           "16-17"
          ],
          [
           3271,
           "16-17"
          ],
          [
           795,
           "16-17"
          ],
          [
           826,
           "16-17"
          ],
          [
           299,
           "16-17"
          ],
          [
           627,
           "16-17"
          ],
          [
           416,
           "16-17"
          ],
          [
           467,
           "16-17"
          ],
          [
           208,
           "16-17"
          ],
          [
           229,
           "16-17"
          ],
          [
           281,
           "16-17"
          ],
          [
           522,
           "16-17"
          ],
          [
           424,
           "16-17"
          ],
          [
           221,
           "16-17"
          ],
          [
           2307,
           "16-17"
          ],
          [
           672,
           "16-17"
          ],
          [
           132,
           "16-17"
          ],
          [
           167,
           "16-17"
          ],
          [
           371,
           "16-17"
          ],
          [
           301,
           "16-17"
          ],
          [
           300,
           "16-17"
          ],
          [
           211,
           "16-17"
          ],
          [
           1526,
           "16-17"
          ],
          [
           441,
           "16-17"
          ],
          [
           662,
           "16-17"
          ],
          [
           750,
           "16-17"
          ],
          [
           327,
           "16-17"
          ],
          [
           196,
           "16-17"
          ],
          [
           1290,
           "16-17"
          ],
          [
           294,
           "16-17"
          ],
          [
           1664,
           "16-17"
          ],
          [
           732,
           "16-17"
          ],
          [
           729,
           "16-17"
          ],
          [
           411,
           "16-17"
          ],
          [
           348,
           "16-17"
          ],
          [
           727,
           "16-17"
          ],
          [
           466,
           "16-17"
          ],
          [
           1074,
           "16-17"
          ],
          [
           369,
           "16-17"
          ],
          [
           245,
           "16-17"
          ],
          [
           404,
           "16-17"
          ],
          [
           997,
           "16-17"
          ],
          [
           791,
           "16-17"
          ],
          [
           608,
           "16-17"
          ],
          [
           400,
           "16-17"
          ],
          [
           390,
           "16-17"
          ],
          [
           366,
           "16-17"
          ],
          [
           400,
           "16-17"
          ],
          [
           301,
           "16-17"
          ],
          [
           337,
           "16-17"
          ],
          [
           310,
           "16-17"
          ],
          [
           205,
           "16-17"
          ],
          [
           412,
           "16-17"
          ],
          [
           493,
           "16-17"
          ],
          [
           315,
           "16-17"
          ],
          [
           7182,
           "16-17"
          ],
          [
           2819,
           "16-17"
          ],
          [
           1024,
           "16-17"
          ],
          [
           3523,
           "16-17"
          ],
          [
           728,
           "16-17"
          ],
          [
           894,
           "16-17"
          ],
          [
           680,
           "16-17"
          ],
          [
           1113,
           "16-17"
          ],
          [
           2130,
           "16-17"
          ],
          [
           355,
           "16-17"
          ],
          [
           1020,
           "16-17"
          ],
          [
           1215,
           "16-17"
          ],
          [
           300,
           "16-17"
          ],
          [
           2398,
           "16-17"
          ],
          [
           613,
           "16-17"
          ],
          [
           1028,
           "16-17"
          ],
          [
           1522,
           "16-17"
          ],
          [
           2550,
           "16-17"
          ],
          [
           1123,
           "16-17"
          ],
          [
           991,
           "16-17"
          ],
          [
           354,
           "16-17"
          ],
          [
           787,
           "16-17"
          ],
          [
           368,
           "16-17"
          ],
          [
           322,
           "16-17"
          ],
          [
           137,
           "16-17"
          ],
          [
           253,
           "16-17"
          ],
          [
           256,
           "16-17"
          ],
          [
           114,
           "16-17"
          ],
          [
           150,
           "16-17"
          ],
          [
           863,
           "16-17"
          ],
          [
           1312,
           "16-17"
          ],
          [
           314,
           "16-17"
          ],
          [
           260,
           "16-17"
          ],
          [
           126,
           "16-17"
          ],
          [
           105,
           "16-17"
          ],
          [
           151,
           "16-17"
          ],
          [
           93,
           "16-17"
          ],
          [
           284,
           "16-17"
          ],
          [
           195,
           "16-17"
          ],
          [
           168,
           "16-17"
          ],
          [
           291,
           "16-17"
          ],
          [
           858,
           "16-17"
          ],
          [
           230,
           "16-17"
          ],
          [
           199,
           "16-17"
          ],
          [
           348,
           "16-17"
          ],
          [
           292,
           "16-17"
          ],
          [
           262,
           "16-17"
          ],
          [
           205,
           "16-17"
          ],
          [
           11922,
           "16-17"
          ],
          [
           1703,
           "16-17"
          ],
          [
           1163,
           "16-17"
          ],
          [
           289,
           "16-17"
          ],
          [
           1297,
           "16-17"
          ],
          [
           271,
           "16-17"
          ],
          [
           963,
           "16-17"
          ],
          [
           1467,
           "16-17"
          ],
          [
           1071,
           "16-17"
          ],
          [
           2694,
           "16-17"
          ],
          [
           569,
           "16-17"
          ],
          [
           281,
           "16-17"
          ],
          [
           525,
           "16-17"
          ],
          [
           929,
           "16-17"
          ],
          [
           460,
           "16-17"
          ],
          [
           1223,
           "16-17"
          ],
          [
           184,
           "16-17"
          ],
          [
           272,
           "16-17"
          ],
          [
           852,
           "16-17"
          ],
          [
           314,
           "16-17"
          ],
          [
           154,
           "16-17"
          ],
          [
           217,
           "16-17"
          ],
          [
           96,
           "16-17"
          ],
          [
           444,
           "16-17"
          ],
          [
           71,
           "16-17"
          ],
          [
           267,
           "16-17"
          ],
          [
           184,
           "16-17"
          ],
          [
           207,
           "16-17"
          ],
          [
           270,
           "16-17"
          ],
          [
           2014,
           "16-17"
          ],
          [
           515,
           "16-17"
          ],
          [
           214,
           "16-17"
          ],
          [
           221,
           "16-17"
          ],
          [
           542,
           "16-17"
          ],
          [
           370,
           "16-17"
          ],
          [
           187,
           "16-17"
          ],
          [
           108,
           "16-17"
          ],
          [
           391,
           "16-17"
          ],
          [
           201,
           "16-17"
          ],
          [
           143,
           "16-17"
          ],
          [
           88,
           "16-17"
          ],
          [
           3542,
           "16-17"
          ],
          [
           524,
           "16-17"
          ],
          [
           272,
           "16-17"
          ],
          [
           687,
           "16-17"
          ],
          [
           254,
           "16-17"
          ],
          [
           505,
           "16-17"
          ],
          [
           102,
           "16-17"
          ],
          [
           249,
           "16-17"
          ],
          [
           198,
           "16-17"
          ],
          [
           387,
           "16-17"
          ],
          [
           127,
           "16-17"
          ],
          [
           3747,
           "16-17"
          ],
          [
           481,
           "16-17"
          ],
          [
           331,
           "16-17"
          ],
          [
           615,
           "16-17"
          ],
          [
           299,
           "16-17"
          ],
          [
           144,
           "16-17"
          ],
          [
           215,
           "16-17"
          ],
          [
           236,
           "16-17"
          ],
          [
           334,
           "16-17"
          ],
          [
           225,
           "16-17"
          ],
          [
           143,
           "16-17"
          ],
          [
           160,
           "16-17"
          ],
          [
           237,
           "16-17"
          ],
          [
           496,
           "16-17"
          ],
          [
           1427,
           "16-17"
          ],
          [
           1305,
           "16-17"
          ],
          [
           241,
           "16-17"
          ],
          [
           330,
           "16-17"
          ],
          [
           490,
           "16-17"
          ],
          [
           561,
           "16-17"
          ],
          [
           112,
           "16-17"
          ],
          [
           211,
           "16-17"
          ],
          [
           264,
           "16-17"
          ],
          [
           206,
           "16-17"
          ],
          [
           446,
           "16-17"
          ],
          [
           2351,
           "16-17"
          ],
          [
           945,
           "16-17"
          ],
          [
           550,
           "16-17"
          ],
          [
           613,
           "16-17"
          ],
          [
           898,
           "16-17"
          ],
          [
           200,
           "16-17"
          ],
          [
           422,
           "16-17"
          ],
          [
           561,
           "16-17"
          ],
          [
           2436,
           "16-17"
          ],
          [
           367,
           "16-17"
          ],
          [
           394,
           "16-17"
          ],
          [
           1272,
           "16-17"
          ],
          [
           97,
           "16-17"
          ],
          [
           142,
           "16-17"
          ],
          [
           450,
           "16-17"
          ],
          [
           220,
           "16-17"
          ],
          [
           263,
           "16-17"
          ],
          [
           166,
           "16-17"
          ],
          [
           188,
           "16-17"
          ],
          [
           1447,
           "16-17"
          ],
          [
           163,
           "16-17"
          ],
          [
           52,
           "16-17"
          ],
          [
           101,
           "16-17"
          ],
          [
           156,
           "16-17"
          ],
          [
           87,
           "16-17"
          ],
          [
           60,
           "16-17"
          ],
          [
           103,
           "16-17"
          ],
          [
           40,
           "16-17"
          ],
          [
           53,
           "16-17"
          ],
          [
           221,
           "16-17"
          ],
          [
           148,
           "16-17"
          ],
          [
           58,
           "16-17"
          ],
          [
           2765,
           "16-17"
          ],
          [
           286,
           "16-17"
          ],
          [
           1678,
           "16-17"
          ],
          [
           108,
           "16-17"
          ],
          [
           50,
           "16-17"
          ],
          [
           78,
           "16-17"
          ],
          [
           55,
           "16-17"
          ],
          [
           340,
           "16-17"
          ],
          [
           77,
           "16-17"
          ],
          [
           118,
           "16-17"
          ],
          [
           335,
           "16-17"
          ],
          [
           160,
           "16-17"
          ],
          [
           1716,
           "16-17"
          ],
          [
           942,
           "16-17"
          ],
          [
           573,
           "16-17"
          ],
          [
           225,
           "16-17"
          ],
          [
           519,
           "16-17"
          ]
         ],
         "hovertemplate": "<b>%{hovertext}</b><br><br>Ålder=%{customdata[1]}<br>Län_namn=%{x}<br>VIR=%{y}<br>Befolkning=%{customdata[0]}<extra></extra>",
         "hovertext": [
          "Upplands Väsby",
          "Vallentuna",
          "Österåker",
          "Värmdö",
          "Järfälla",
          "Ekerö",
          "Huddinge",
          "Botkyrka",
          "Salem",
          "Haninge",
          "Tyresö",
          "Upplands-Bro",
          "Nykvarn",
          "Täby",
          "Danderyd",
          "Sollentuna",
          "Stockholm",
          "Södertälje",
          "Nacka",
          "Sundbyberg",
          "Solna",
          "Lidingö",
          "Vaxholm",
          "Norrtälje",
          "Sigtuna",
          "Nynäshamn",
          "Håbo",
          "Älvkarleby",
          "Knivsta",
          "Heby",
          "Tierp",
          "Uppsala",
          "Enköping",
          "Östhammar",
          "Vingåker",
          "Gnesta",
          "Nyköping",
          "Oxelösund",
          "Flen",
          "Katrineholm",
          "Eskilstuna",
          "Strängnäs",
          "Trosa",
          "Ödeshög",
          "Ydre",
          "Kinda",
          "Boxholm",
          "Åtvidaberg",
          "Finspång",
          "Valdemarsvik",
          "Linköping",
          "Norrköping",
          "Söderköping",
          "Motala",
          "Vadstena",
          "Mjölby",
          "Aneby",
          "Gnosjö",
          "Mullsjö",
          "Habo",
          "Gislaved",
          "Vaggeryd",
          "Jönköping",
          "Nässjö",
          "Värnamo",
          "Sävsjö",
          "Vetlanda",
          "Eksjö",
          "Tranås",
          "Uppvidinge",
          "Lessebo",
          "Tingsryd",
          "Alvesta",
          "Älmhult",
          "Markaryd",
          "Växjö",
          "Ljungby",
          "Högsby",
          "Torsås",
          "Mörbylånga",
          "Hultsfred",
          "Mönsterås",
          "Emmaboda",
          "Kalmar",
          "Nybro",
          "Oskarshamn",
          "Västervik",
          "Vimmerby",
          "Borgholm",
          "Gotland",
          "Olofström",
          "Karlskrona",
          "Ronneby",
          "Karlshamn",
          "Sölvesborg",
          "Svalöv",
          "Staffanstorp",
          "Burlöv",
          "Vellinge",
          "Östra Göinge",
          "Örkelljunga",
          "Bjuv",
          "Kävlinge",
          "Lomma",
          "Svedala",
          "Skurup",
          "Sjöbo",
          "Hörby",
          "Höör",
          "Tomelilla",
          "Bromölla",
          "Osby",
          "Perstorp",
          "Klippan",
          "Åstorp",
          "Båstad",
          "Malmö",
          "Lund",
          "Landskrona",
          "Helsingborg",
          "Höganäs",
          "Eslöv",
          "Ystad",
          "Trelleborg",
          "Kristianstad",
          "Simrishamn",
          "Ängelholm",
          "Hässleholm",
          "Hylte",
          "Halmstad",
          "Laholm",
          "Falkenberg",
          "Varberg",
          "Kungsbacka",
          "Härryda",
          "Partille",
          "Öckerö",
          "Stenungsund",
          "Tjörn",
          "Orust",
          "Sotenäs",
          "Munkedal",
          "Tanum",
          "Dals-Ed",
          "Färgelanda",
          "Ale",
          "Lerum",
          "Vårgårda",
          "Bollebygd",
          "Grästorp",
          "Essunga",
          "Karlsborg",
          "Gullspång",
          "Tranemo",
          "Bengtsfors",
          "Mellerud",
          "Lilla Edet",
          "Mark",
          "Svenljunga",
          "Herrljunga",
          "Vara",
          "Götene",
          "Tibro",
          "Töreboda",
          "Göteborg",
          "Mölndal",
          "Kungälv",
          "Lysekil",
          "Uddevalla",
          "Strömstad",
          "Vänersborg",
          "Trollhättan",
          "Alingsås",
          "Borås",
          "Ulricehamn",
          "Åmål",
          "Mariestad",
          "Lidköping",
          "Skara",
          "Skövde",
          "Hjo",
          "Tidaholm",
          "Falköping",
          "Kil",
          "Eda",
          "Torsby",
          "Storfors",
          "Hammarö",
          "Munkfors",
          "Forshaga",
          "Grums",
          "Årjäng",
          "Sunne",
          "Karlstad",
          "Kristinehamn",
          "Filipstad",
          "Hagfors",
          "Arvika",
          "Säffle",
          "Lekeberg",
          "Laxå",
          "Hallsberg",
          "Degerfors",
          "Hällefors",
          "Ljusnarsberg",
          "Örebro",
          "Kumla",
          "Askersund",
          "Karlskoga",
          "Nora",
          "Lindesberg",
          "Skinnskatteberg",
          "Surahammar",
          "Kungsör",
          "Hallstahammar",
          "Norberg",
          "Västerås",
          "Sala",
          "Fagersta",
          "Köping",
          "Arboga",
          "Vansbro",
          "Malung-Sälen",
          "Gagnef",
          "Leksand",
          "Rättvik",
          "Orsa",
          "Älvdalen",
          "Smedjebacken",
          "Mora",
          "Falun",
          "Borlänge",
          "Säter",
          "Hedemora",
          "Avesta",
          "Ludvika",
          "Ockelbo",
          "Hofors",
          "Ovanåker",
          "Nordanstig",
          "Ljusdal",
          "Gävle",
          "Sandviken",
          "Söderhamn",
          "Bollnäs",
          "Hudiksvall",
          "Ånge",
          "Timrå",
          "Härnösand",
          "Sundsvall",
          "Kramfors",
          "Sollefteå",
          "Örnsköldsvik",
          "Ragunda",
          "Bräcke",
          "Krokom",
          "Strömsund",
          "Åre",
          "Berg",
          "Härjedalen",
          "Östersund",
          "Nordmaling",
          "Bjurholm",
          "Vindeln",
          "Robertsfors",
          "Norsjö",
          "Malå",
          "Storuman",
          "Sorsele",
          "Dorotea",
          "Vännäs",
          "Vilhelmina",
          "Åsele",
          "Umeå",
          "Lycksele",
          "Skellefteå",
          "Arvidsjaur",
          "Arjeplog",
          "Jokkmokk",
          "Överkalix",
          "Kalix",
          "Övertorneå",
          "Pajala",
          "Gällivare",
          "Älvsbyn",
          "Luleå",
          "Piteå",
          "Boden",
          "Haparanda",
          "Kiruna"
         ],
         "legendgroup": "16-17",
         "marker": {
          "color": "#EF553B",
          "symbol": "circle"
         },
         "mode": "markers",
         "name": "16-17",
         "showlegend": true,
         "type": "scattergl",
         "x": [
          "Stockholms län",
          "Stockholms län",
          "Stockholms län",
          "Stockholms län",
          "Stockholms län",
          "Stockholms län",
          "Stockholms län",
          "Stockholms län",
          "Stockholms län",
          "Stockholms län",
          "Stockholms län",
          "Stockholms län",
          "Stockholms län",
          "Stockholms län",
          "Stockholms län",
          "Stockholms län",
          "Stockholms län",
          "Stockholms län",
          "Stockholms län",
          "Stockholms län",
          "Stockholms län",
          "Stockholms län",
          "Stockholms län",
          "Stockholms län",
          "Stockholms län",
          "Stockholms län",
          "Uppsala län",
          "Uppsala län",
          "Uppsala län",
          "Uppsala län",
          "Uppsala län",
          "Uppsala län",
          "Uppsala län",
          "Uppsala län",
          "Södermanlands län",
          "Södermanlands län",
          "Södermanlands län",
          "Södermanlands län",
          "Södermanlands län",
          "Södermanlands län",
          "Södermanlands län",
          "Södermanlands län",
          "Södermanlands län",
          "Östergötlands län",
          "Östergötlands län",
          "Östergötlands län",
          "Östergötlands län",
          "Östergötlands län",
          "Östergötlands län",
          "Östergötlands län",
          "Östergötlands län",
          "Östergötlands län",
          "Östergötlands län",
          "Östergötlands län",
          "Östergötlands län",
          "Östergötlands län",
          "Jönköpings län",
          "Jönköpings län",
          "Jönköpings län",
          "Jönköpings län",
          "Jönköpings län",
          "Jönköpings län",
          "Jönköpings län",
          "Jönköpings län",
          "Jönköpings län",
          "Jönköpings län",
          "Jönköpings län",
          "Jönköpings län",
          "Jönköpings län",
          "Kronobergs län",
          "Kronobergs län",
          "Kronobergs län",
          "Kronobergs län",
          "Kronobergs län",
          "Kronobergs län",
          "Kronobergs län",
          "Kronobergs län",
          "Kalmar län",
          "Kalmar län",
          "Kalmar län",
          "Kalmar län",
          "Kalmar län",
          "Kalmar län",
          "Kalmar län",
          "Kalmar län",
          "Kalmar län",
          "Kalmar län",
          "Kalmar län",
          "Kalmar län",
          "Gotlands län",
          "Blekinge län",
          "Blekinge län",
          "Blekinge län",
          "Blekinge län",
          "Blekinge län",
          "Skåne län",
          "Skåne län",
          "Skåne län",
          "Skåne län",
          "Skåne län",
          "Skåne län",
          "Skåne län",
          "Skåne län",
          "Skåne län",
          "Skåne län",
          "Skåne län",
          "Skåne län",
          "Skåne län",
          "Skåne län",
          "Skåne län",
          "Skåne län",
          "Skåne län",
          "Skåne län",
          "Skåne län",
          "Skåne län",
          "Skåne län",
          "Skåne län",
          "Skåne län",
          "Skåne län",
          "Skåne län",
          "Skåne län",
          "Skåne län",
          "Skåne län",
          "Skåne län",
          "Skåne län",
          "Skåne län",
          "Skåne län",
          "Skåne län",
          "Hallands län",
          "Hallands län",
          "Hallands län",
          "Hallands län",
          "Hallands län",
          "Hallands län",
          "Västra Götalands län",
          "Västra Götalands län",
          "Västra Götalands län",
          "Västra Götalands län",
          "Västra Götalands län",
          "Västra Götalands län",
          "Västra Götalands län",
          "Västra Götalands län",
          "Västra Götalands län",
          "Västra Götalands län",
          "Västra Götalands län",
          "Västra Götalands län",
          "Västra Götalands län",
          "Västra Götalands län",
          "Västra Götalands län",
          "Västra Götalands län",
          "Västra Götalands län",
          "Västra Götalands län",
          "Västra Götalands län",
          "Västra Götalands län",
          "Västra Götalands län",
          "Västra Götalands län",
          "Västra Götalands län",
          "Västra Götalands län",
          "Västra Götalands län",
          "Västra Götalands län",
          "Västra Götalands län",
          "Västra Götalands län",
          "Västra Götalands län",
          "Västra Götalands län",
          "Västra Götalands län",
          "Västra Götalands län",
          "Västra Götalands län",
          "Västra Götalands län",
          "Västra Götalands län",
          "Västra Götalands län",
          "Västra Götalands län",
          "Västra Götalands län",
          "Västra Götalands län",
          "Västra Götalands län",
          "Västra Götalands län",
          "Västra Götalands län",
          "Västra Götalands län",
          "Västra Götalands län",
          "Västra Götalands län",
          "Västra Götalands län",
          "Västra Götalands län",
          "Västra Götalands län",
          "Västra Götalands län",
          "Värmlands län",
          "Värmlands län",
          "Värmlands län",
          "Värmlands län",
          "Värmlands län",
          "Värmlands län",
          "Värmlands län",
          "Värmlands län",
          "Värmlands län",
          "Värmlands län",
          "Värmlands län",
          "Värmlands län",
          "Värmlands län",
          "Värmlands län",
          "Värmlands län",
          "Värmlands län",
          "Örebro län",
          "Örebro län",
          "Örebro län",
          "Örebro län",
          "Örebro län",
          "Örebro län",
          "Örebro län",
          "Örebro län",
          "Örebro län",
          "Örebro län",
          "Örebro län",
          "Örebro län",
          "Västmanlands län",
          "Västmanlands län",
          "Västmanlands län",
          "Västmanlands län",
          "Västmanlands län",
          "Västmanlands län",
          "Västmanlands län",
          "Västmanlands län",
          "Västmanlands län",
          "Västmanlands län",
          "Dalarnas län",
          "Dalarnas län",
          "Dalarnas län",
          "Dalarnas län",
          "Dalarnas län",
          "Dalarnas län",
          "Dalarnas län",
          "Dalarnas län",
          "Dalarnas län",
          "Dalarnas län",
          "Dalarnas län",
          "Dalarnas län",
          "Dalarnas län",
          "Dalarnas län",
          "Dalarnas län",
          "Gävleborgs län",
          "Gävleborgs län",
          "Gävleborgs län",
          "Gävleborgs län",
          "Gävleborgs län",
          "Gävleborgs län",
          "Gävleborgs län",
          "Gävleborgs län",
          "Gävleborgs län",
          "Gävleborgs län",
          "Västernorrlands län",
          "Västernorrlands län",
          "Västernorrlands län",
          "Västernorrlands län",
          "Västernorrlands län",
          "Västernorrlands län",
          "Västernorrlands län",
          "Jämtlands län",
          "Jämtlands län",
          "Jämtlands län",
          "Jämtlands län",
          "Jämtlands län",
          "Jämtlands län",
          "Jämtlands län",
          "Jämtlands län",
          "Västerbottens län",
          "Västerbottens län",
          "Västerbottens län",
          "Västerbottens län",
          "Västerbottens län",
          "Västerbottens län",
          "Västerbottens län",
          "Västerbottens län",
          "Västerbottens län",
          "Västerbottens län",
          "Västerbottens län",
          "Västerbottens län",
          "Västerbottens län",
          "Västerbottens län",
          "Västerbottens län",
          "Norrbottens län",
          "Norrbottens län",
          "Norrbottens län",
          "Norrbottens län",
          "Norrbottens län",
          "Norrbottens län",
          "Norrbottens län",
          "Norrbottens län",
          "Norrbottens län",
          "Norrbottens län",
          "Norrbottens län",
          "Norrbottens län",
          "Norrbottens län",
          "Norrbottens län"
         ],
         "xaxis": "x",
         "y": [
          10.011918951132301,
          8.680142687277051,
          8.64864864864865,
          8.007279344858963,
          10.782241014799155,
          8.275862068965518,
          10.390199637023594,
          14.97005988023952,
          9.35960591133005,
          14.616870573084354,
          10.071301247771835,
          13.027522935779817,
          13.028169014084506,
          6.6012002182214955,
          5.708848715509039,
          8.18941504178273,
          8.712830110210023,
          14.523809523809526,
          8.463698355395106,
          10.24390243902439,
          10.219780219780219,
          5.074875207986689,
          6.853582554517133,
          12.397540983606557,
          12.066905615292713,
          16.173120728929387,
          3.667953667953668,
          4.736842105263158,
          4.059040590405904,
          6.11353711790393,
          4.521276595744681,
          5.153458543289052,
          4.936974789915967,
          3.140096618357488,
          9.523809523809524,
          7.352941176470589,
          5.991189427312775,
          13.930348258706468,
          7.003891050583658,
          4,
          7.621359223300971,
          7.13436385255648,
          5.2434456928838955,
          1.0309278350515463,
          3.0303030303030303,
          3.8461538461538463,
          1.0869565217391304,
          2.666666666666667,
          3.684210526315789,
          3.90625,
          2.3801652892561984,
          3.4624896949711457,
          2.8368794326241136,
          3.094059405940594,
          2.586206896551724,
          2.1812080536912752,
          1.6129032258064515,
          0.5128205128205128,
          3.1055900621118013,
          1.483679525222552,
          3.494176372712146,
          5.2434456928838955,
          4.274465691788527,
          7.190635451505016,
          5.159332321699544,
          4.10958904109589,
          4.4534412955465585,
          3.1791907514450863,
          3.076923076923077,
          4.964539007092199,
          0,
          3.0927835051546393,
          7.303370786516854,
          2.9508196721311477,
          1.875,
          3.6850921273031827,
          9.034907597535934,
          4.597701149425287,
          2.877697841726619,
          1.5723270440251573,
          4.845814977973569,
          3.0837004405286343,
          1.9607843137254901,
          3.515625,
          3.6619718309859155,
          2.9880478087649402,
          2.2435897435897436,
          2.9962546816479403,
          2.5974025974025974,
          3.4666666666666663,
          3.0172413793103448,
          4.45993031358885,
          6.007067137809187,
          3.1578947368421053,
          5.828220858895705,
          7.142857142857142,
          3.225806451612903,
          4.9504950495049505,
          3.276955602536998,
          5.47945205479452,
          6.289308176100629,
          6.844106463878327,
          2.8058361391694726,
          4.532967032967033,
          3.9832285115303985,
          2.922077922077922,
          5.818181818181818,
          4.744525547445255,
          3.303303303303303,
          4,
          5.447470817120623,
          3.5999999999999996,
          10.526315789473683,
          3.678929765886288,
          7.848837209302325,
          2.93040293040293,
          6.971531046850482,
          3.2671629445823,
          5.657708628005658,
          5.591727307545002,
          3.015873015873016,
          3.592814371257485,
          4.810996563573884,
          5.354919053549191,
          5.485714285714286,
          7.392996108949417,
          5.802469135802469,
          5.324813631522897,
          5.6521739130434785,
          4.340836012861737,
          5.063291139240507,
          4.287515762925599,
          4.381846635367762,
          3.994426381792847,
          4.352226720647773,
          6.741573033707865,
          8.571428571428571,
          7.890743550834597,
          3.103448275862069,
          8.30188679245283,
          10.833333333333334,
          5.555555555555555,
          7.537688442211055,
          5.4945054945054945,
          6.923076923076923,
          7.142857142857142,
          5.770964833183047,
          9.163346613545817,
          5.314009661835748,
          6.481481481481481,
          4.597701149425287,
          7.462686567164178,
          8.823529411764707,
          5.88235294117647,
          9.271523178807946,
          7.8431372549019605,
          9.042553191489363,
          11.729323308270677,
          7.2727272727272725,
          4.026845637583892,
          4.498269896193772,
          5,
          7.142857142857142,
          10.48951048951049,
          8.051948051948052,
          4.778636683063949,
          5.670665212649945,
          5.241935483870968,
          7.050092764378478,
          10.294117647058822,
          6.374501992031872,
          9.090909090909092,
          4.611923509561304,
          6.814814814814815,
          5.319148936170213,
          6.0606060606060606,
          4.910714285714286,
          3.792667509481669,
          5.248618784530387,
          4.639684106614018,
          5.555555555555555,
          6.140350877192982,
          4.378531073446328,
          2.9629629629629632,
          0.7692307692307693,
          2.1621621621621623,
          4,
          2.722772277227723,
          5.660377358490567,
          4.017857142857143,
          2.684563758389262,
          2.824858757062147,
          1.7543859649122806,
          4.016064257028113,
          3.146067415730337,
          1.092896174863388,
          9.392265193370166,
          2.7426160337552745,
          4.377104377104377,
          5.095541401273886,
          2.127659574468085,
          3.858520900321544,
          4.678362573099415,
          6.422018348623854,
          2.9850746268656714,
          5.243991260014567,
          4.0189125295508275,
          3.8461538461538463,
          2.5510204081632653,
          5.445544554455446,
          4.594594594594595,
          7.462686567164178,
          5.46448087431694,
          10.071942446043165,
          8.12720848056537,
          3.4090909090909087,
          7.501720578114246,
          10.479041916167663,
          3.211009174311927,
          13.990825688073393,
          11.312217194570136,
          7.865168539325842,
          1.1627906976744187,
          6.5,
          2.9197080291970803,
          2.9585798816568047,
          7.446808510638298,
          1.7391304347826086,
          5.729166666666666,
          2.5316455696202533,
          6.507413509060955,
          5.1080550098231825,
          2.8301886792452833,
          6.390977443609022,
          3.90625,
          5.25164113785558,
          11.494252873563218,
          6.097560975609756,
          5.092592592592593,
          8.609271523178808,
          4.923076923076923,
          6.733828207847297,
          7.567567567567568,
          8.75912408759124,
          5.9760956175298805,
          7.073509015256588,
          13.690476190476192,
          8.605341246290802,
          8.456659619450317,
          7.093596059113301,
          4.964539007092199,
          7.666666666666666,
          2.8440366972477067,
          6.578947368421052,
          4.424778761061947,
          2.307692307692308,
          4.191616766467066,
          5.188679245283019,
          3.90625,
          9.032258064516128,
          3.934426229508197,
          1.9867549668874174,
          0,
          6.097560975609756,
          2.73972602739726,
          2.631578947368421,
          8.88888888888889,
          2.380952380952381,
          0,
          2.5,
          2.631578947368421,
          3.2,
          0,
          4.260548955346169,
          0.8130081300813009,
          3.7812288993923024,
          7.142857142857142,
          2.2222222222222223,
          4.918032786885246,
          3.225806451612903,
          4.929577464788732,
          1.4084507042253522,
          5.681818181818182,
          3.9215686274509802,
          5.833333333333333,
          4.30327868852459,
          3.571428571428571,
          5.465587044534413,
          5.521472392638037,
          4.545454545454546
         ],
         "yaxis": "y"
        },
        {
         "customdata": [
          [
           6692,
           "18-29"
          ],
          [
           4210,
           "18-29"
          ],
          [
           5995,
           "18-29"
          ],
          [
           5484,
           "18-29"
          ],
          [
           12501,
           "18-29"
          ],
          [
           2938,
           "18-29"
          ],
          [
           16400,
           "18-29"
          ],
          [
           14525,
           "18-29"
          ],
          [
           2174,
           "18-29"
          ],
          [
           14345,
           "18-29"
          ],
          [
           6300,
           "18-29"
          ],
          [
           4538,
           "18-29"
          ],
          [
           1380,
           "18-29"
          ],
          [
           9661,
           "18-29"
          ],
          [
           4366,
           "18-29"
          ],
          [
           10199,
           "18-29"
          ],
          [
           148698,
           "18-29"
          ],
          [
           15392,
           "18-29"
          ],
          [
           13490,
           "18-29"
          ],
          [
           8491,
           "18-29"
          ],
          [
           14281,
           "18-29"
          ],
          [
           5878,
           "18-29"
          ],
          [
           1305,
           "18-29"
          ],
          [
           7520,
           "18-29"
          ],
          [
           7284,
           "18-29"
          ],
          [
           3668,
           "18-29"
          ],
          [
           2830,
           "18-29"
          ],
          [
           1099,
           "18-29"
          ],
          [
           2532,
           "18-29"
          ],
          [
           1739,
           "18-29"
          ],
          [
           2631,
           "18-29"
          ],
          [
           46902,
           "18-29"
          ],
          [
           6269,
           "18-29"
          ],
          [
           2489,
           "18-29"
          ],
          [
           1144,
           "18-29"
          ],
          [
           1206,
           "18-29"
          ],
          [
           7260,
           "18-29"
          ],
          [
           1343,
           "18-29"
          ],
          [
           1849,
           "18-29"
          ],
          [
           4657,
           "18-29"
          ],
          [
           15448,
           "18-29"
          ],
          [
           4301,
           "18-29"
          ],
          [
           1586,
           "18-29"
          ],
          [
           576,
           "18-29"
          ],
          [
           337,
           "18-29"
          ],
          [
           1103,
           "18-29"
          ],
          [
           608,
           "18-29"
          ],
          [
           1284,
           "18-29"
          ],
          [
           2586,
           "18-29"
          ],
          [
           720,
           "18-29"
          ],
          [
           31146,
           "18-29"
          ],
          [
           21769,
           "18-29"
          ],
          [
           1424,
           "18-29"
          ],
          [
           5368,
           "18-29"
          ],
          [
           721,
           "18-29"
          ],
          [
           3746,
           "18-29"
          ],
          [
           766,
           "18-29"
          ],
          [
           1218,
           "18-29"
          ],
          [
           852,
           "18-29"
          ],
          [
           1337,
           "18-29"
          ],
          [
           3784,
           "18-29"
          ],
          [
           1806,
           "18-29"
          ],
          [
           24184,
           "18-29"
          ],
          [
           4217,
           "18-29"
          ],
          [
           4552,
           "18-29"
          ],
          [
           1532,
           "18-29"
          ],
          [
           3449,
           "18-29"
          ],
          [
           2243,
           "18-29"
          ],
          [
           2561,
           "18-29"
          ],
          [
           1145,
           "18-29"
          ],
          [
           975,
           "18-29"
          ],
          [
           1353,
           "18-29"
          ],
          [
           2465,
           "18-29"
          ],
          [
           2052,
           "18-29"
          ],
          [
           1300,
           "18-29"
          ],
          [
           16358,
           "18-29"
          ],
          [
           3471,
           "18-29"
          ],
          [
           585,
           "18-29"
          ],
          [
           759,
           "18-29"
          ],
          [
           1377,
           "18-29"
          ],
          [
           1550,
           "18-29"
          ],
          [
           1503,
           "18-29"
          ],
          [
           1076,
           "18-29"
          ],
          [
           11432,
           "18-29"
          ],
          [
           2393,
           "18-29"
          ],
          [
           3489,
           "18-29"
          ],
          [
           4056,
           "18-29"
          ],
          [
           1950,
           "18-29"
          ],
          [
           909,
           "18-29"
          ],
          [
           7395,
           "18-29"
          ],
          [
           1641,
           "18-29"
          ],
          [
           9694,
           "18-29"
          ],
          [
           3363,
           "18-29"
          ],
          [
           4062,
           "18-29"
          ],
          [
           2065,
           "18-29"
          ],
          [
           1748,
           "18-29"
          ],
          [
           2804,
           "18-29"
          ],
          [
           2681,
           "18-29"
          ],
          [
           3531,
           "18-29"
          ],
          [
           1791,
           "18-29"
          ],
          [
           1300,
           "18-29"
          ],
          [
           2113,
           "18-29"
          ],
          [
           3448,
           "18-29"
          ],
          [
           2257,
           "18-29"
          ],
          [
           2329,
           "18-29"
          ],
          [
           2006,
           "18-29"
          ],
          [
           2162,
           "18-29"
          ],
          [
           1818,
           "18-29"
          ],
          [
           1800,
           "18-29"
          ],
          [
           1605,
           "18-29"
          ],
          [
           1423,
           "18-29"
          ],
          [
           1572,
           "18-29"
          ],
          [
           929,
           "18-29"
          ],
          [
           2372,
           "18-29"
          ],
          [
           2099,
           "18-29"
          ],
          [
           1565,
           "18-29"
          ],
          [
           57279,
           "18-29"
          ],
          [
           28119,
           "18-29"
          ],
          [
           6031,
           "18-29"
          ],
          [
           21984,
           "18-29"
          ],
          [
           2796,
           "18-29"
          ],
          [
           4628,
           "18-29"
          ],
          [
           3632,
           "18-29"
          ],
          [
           5668,
           "18-29"
          ],
          [
           11988,
           "18-29"
          ],
          [
           1884,
           "18-29"
          ],
          [
           5152,
           "18-29"
          ],
          [
           6747,
           "18-29"
          ],
          [
           1234,
           "18-29"
          ],
          [
           15531,
           "18-29"
          ],
          [
           3004,
           "18-29"
          ],
          [
           5833,
           "18-29"
          ],
          [
           8107,
           "18-29"
          ],
          [
           9900,
           "18-29"
          ],
          [
           4446,
           "18-29"
          ],
          [
           4767,
           "18-29"
          ],
          [
           1422,
           "18-29"
          ],
          [
           3442,
           "18-29"
          ],
          [
           1574,
           "18-29"
          ],
          [
           1561,
           "18-29"
          ],
          [
           883,
           "18-29"
          ],
          [
           1248,
           "18-29"
          ],
          [
           1356,
           "18-29"
          ],
          [
           527,
           "18-29"
          ],
          [
           750,
           "18-29"
          ],
          [
           4060,
           "18-29"
          ],
          [
           4622,
           "18-29"
          ],
          [
           1520,
           "18-29"
          ],
          [
           1038,
           "18-29"
          ],
          [
           635,
           "18-29"
          ],
          [
           597,
           "18-29"
          ],
          [
           795,
           "18-29"
          ],
          [
           508,
           "18-29"
          ],
          [
           1371,
           "18-29"
          ],
          [
           1049,
           "18-29"
          ],
          [
           1092,
           "18-29"
          ],
          [
           1754,
           "18-29"
          ],
          [
           4314,
           "18-29"
          ],
          [
           1192,
           "18-29"
          ],
          [
           1204,
           "18-29"
          ],
          [
           2013,
           "18-29"
          ],
          [
           1416,
           "18-29"
          ],
          [
           1383,
           "18-29"
          ],
          [
           1097,
           "18-29"
          ],
          [
           102778,
           "18-29"
          ],
          [
           9991,
           "18-29"
          ],
          [
           6187,
           "18-29"
          ],
          [
           1444,
           "18-29"
          ],
          [
           7765,
           "18-29"
          ],
          [
           1560,
           "18-29"
          ],
          [
           5131,
           "18-29"
          ],
          [
           9178,
           "18-29"
          ],
          [
           5133,
           "18-29"
          ],
          [
           17454,
           "18-29"
          ],
          [
           3051,
           "18-29"
          ],
          [
           1447,
           "18-29"
          ],
          [
           3084,
           "18-29"
          ],
          [
           5310,
           "18-29"
          ],
          [
           2517,
           "18-29"
          ],
          [
           9311,
           "18-29"
          ],
          [
           1032,
           "18-29"
          ],
          [
           1600,
           "18-29"
          ],
          [
           4373,
           "18-29"
          ],
          [
           1269,
           "18-29"
          ],
          [
           942,
           "18-29"
          ],
          [
           1245,
           "18-29"
          ],
          [
           414,
           "18-29"
          ],
          [
           1463,
           "18-29"
          ],
          [
           405,
           "18-29"
          ],
          [
           1272,
           "18-29"
          ],
          [
           1011,
           "18-29"
          ],
          [
           1224,
           "18-29"
          ],
          [
           1625,
           "18-29"
          ],
          [
           16388,
           "18-29"
          ],
          [
           2838,
           "18-29"
          ],
          [
           1313,
           "18-29"
          ],
          [
           1190,
           "18-29"
          ],
          [
           3090,
           "18-29"
          ],
          [
           1802,
           "18-29"
          ],
          [
           851,
           "18-29"
          ],
          [
           576,
           "18-29"
          ],
          [
           1944,
           "18-29"
          ],
          [
           1080,
           "18-29"
          ],
          [
           815,
           "18-29"
          ],
          [
           457,
           "18-29"
          ],
          [
           27125,
           "18-29"
          ],
          [
           2774,
           "18-29"
          ],
          [
           1277,
           "18-29"
          ],
          [
           4058,
           "18-29"
          ],
          [
           1109,
           "18-29"
          ],
          [
           2869,
           "18-29"
          ],
          [
           465,
           "18-29"
          ],
          [
           1089,
           "18-29"
          ],
          [
           1032,
           "18-29"
          ],
          [
           2105,
           "18-29"
          ],
          [
           627,
           "18-29"
          ],
          [
           23221,
           "18-29"
          ],
          [
           2734,
           "18-29"
          ],
          [
           1574,
           "18-29"
          ],
          [
           3379,
           "18-29"
          ],
          [
           1793,
           "18-29"
          ],
          [
           823,
           "18-29"
          ],
          [
           1224,
           "18-29"
          ],
          [
           1054,
           "18-29"
          ],
          [
           1704,
           "18-29"
          ],
          [
           1220,
           "18-29"
          ],
          [
           858,
           "18-29"
          ],
          [
           790,
           "18-29"
          ],
          [
           1066,
           "18-29"
          ],
          [
           2370,
           "18-29"
          ],
          [
           7726,
           "18-29"
          ],
          [
           7686,
           "18-29"
          ],
          [
           1140,
           "18-29"
          ],
          [
           1772,
           "18-29"
          ],
          [
           2698,
           "18-29"
          ],
          [
           3114,
           "18-29"
          ],
          [
           597,
           "18-29"
          ],
          [
           1176,
           "18-29"
          ],
          [
           1310,
           "18-29"
          ],
          [
           1029,
           "18-29"
          ],
          [
           2103,
           "18-29"
          ],
          [
           15177,
           "18-29"
          ],
          [
           4848,
           "18-29"
          ],
          [
           2858,
           "18-29"
          ],
          [
           3174,
           "18-29"
          ],
          [
           4565,
           "18-29"
          ],
          [
           1032,
           "18-29"
          ],
          [
           2253,
           "18-29"
          ],
          [
           2991,
           "18-29"
          ],
          [
           13519,
           "18-29"
          ],
          [
           2002,
           "18-29"
          ],
          [
           1986,
           "18-29"
          ],
          [
           6533,
           "18-29"
          ],
          [
           506,
           "18-29"
          ],
          [
           645,
           "18-29"
          ],
          [
           1483,
           "18-29"
          ],
          [
           1245,
           "18-29"
          ],
          [
           1663,
           "18-29"
          ],
          [
           759,
           "18-29"
          ],
          [
           1169,
           "18-29"
          ],
          [
           9348,
           "18-29"
          ],
          [
           833,
           "18-29"
          ],
          [
           289,
           "18-29"
          ],
          [
           580,
           "18-29"
          ],
          [
           689,
           "18-29"
          ],
          [
           407,
           "18-29"
          ],
          [
           386,
           "18-29"
          ],
          [
           625,
           "18-29"
          ],
          [
           251,
           "18-29"
          ],
          [
           223,
           "18-29"
          ],
          [
           1133,
           "18-29"
          ],
          [
           850,
           "18-29"
          ],
          [
           327,
           "18-29"
          ],
          [
           24573,
           "18-29"
          ],
          [
           1535,
           "18-29"
          ],
          [
           9620,
           "18-29"
          ],
          [
           702,
           "18-29"
          ],
          [
           284,
           "18-29"
          ],
          [
           536,
           "18-29"
          ],
          [
           315,
           "18-29"
          ],
          [
           1762,
           "18-29"
          ],
          [
           423,
           "18-29"
          ],
          [
           659,
           "18-29"
          ],
          [
           2038,
           "18-29"
          ],
          [
           1022,
           "18-29"
          ],
          [
           12599,
           "18-29"
          ],
          [
           5510,
           "18-29"
          ],
          [
           3802,
           "18-29"
          ],
          [
           990,
           "18-29"
          ],
          [
           3167,
           "18-29"
          ]
         ],
         "hovertemplate": "<b>%{hovertext}</b><br><br>Ålder=%{customdata[1]}<br>Län_namn=%{x}<br>VIR=%{y}<br>Befolkning=%{customdata[0]}<extra></extra>",
         "hovertext": [
          "Upplands Väsby",
          "Vallentuna",
          "Österåker",
          "Värmdö",
          "Järfälla",
          "Ekerö",
          "Huddinge",
          "Botkyrka",
          "Salem",
          "Haninge",
          "Tyresö",
          "Upplands-Bro",
          "Nykvarn",
          "Täby",
          "Danderyd",
          "Sollentuna",
          "Stockholm",
          "Södertälje",
          "Nacka",
          "Sundbyberg",
          "Solna",
          "Lidingö",
          "Vaxholm",
          "Norrtälje",
          "Sigtuna",
          "Nynäshamn",
          "Håbo",
          "Älvkarleby",
          "Knivsta",
          "Heby",
          "Tierp",
          "Uppsala",
          "Enköping",
          "Östhammar",
          "Vingåker",
          "Gnesta",
          "Nyköping",
          "Oxelösund",
          "Flen",
          "Katrineholm",
          "Eskilstuna",
          "Strängnäs",
          "Trosa",
          "Ödeshög",
          "Ydre",
          "Kinda",
          "Boxholm",
          "Åtvidaberg",
          "Finspång",
          "Valdemarsvik",
          "Linköping",
          "Norrköping",
          "Söderköping",
          "Motala",
          "Vadstena",
          "Mjölby",
          "Aneby",
          "Gnosjö",
          "Mullsjö",
          "Habo",
          "Gislaved",
          "Vaggeryd",
          "Jönköping",
          "Nässjö",
          "Värnamo",
          "Sävsjö",
          "Vetlanda",
          "Eksjö",
          "Tranås",
          "Uppvidinge",
          "Lessebo",
          "Tingsryd",
          "Alvesta",
          "Älmhult",
          "Markaryd",
          "Växjö",
          "Ljungby",
          "Högsby",
          "Torsås",
          "Mörbylånga",
          "Hultsfred",
          "Mönsterås",
          "Emmaboda",
          "Kalmar",
          "Nybro",
          "Oskarshamn",
          "Västervik",
          "Vimmerby",
          "Borgholm",
          "Gotland",
          "Olofström",
          "Karlskrona",
          "Ronneby",
          "Karlshamn",
          "Sölvesborg",
          "Svalöv",
          "Staffanstorp",
          "Burlöv",
          "Vellinge",
          "Östra Göinge",
          "Örkelljunga",
          "Bjuv",
          "Kävlinge",
          "Lomma",
          "Svedala",
          "Skurup",
          "Sjöbo",
          "Hörby",
          "Höör",
          "Tomelilla",
          "Bromölla",
          "Osby",
          "Perstorp",
          "Klippan",
          "Åstorp",
          "Båstad",
          "Malmö",
          "Lund",
          "Landskrona",
          "Helsingborg",
          "Höganäs",
          "Eslöv",
          "Ystad",
          "Trelleborg",
          "Kristianstad",
          "Simrishamn",
          "Ängelholm",
          "Hässleholm",
          "Hylte",
          "Halmstad",
          "Laholm",
          "Falkenberg",
          "Varberg",
          "Kungsbacka",
          "Härryda",
          "Partille",
          "Öckerö",
          "Stenungsund",
          "Tjörn",
          "Orust",
          "Sotenäs",
          "Munkedal",
          "Tanum",
          "Dals-Ed",
          "Färgelanda",
          "Ale",
          "Lerum",
          "Vårgårda",
          "Bollebygd",
          "Grästorp",
          "Essunga",
          "Karlsborg",
          "Gullspång",
          "Tranemo",
          "Bengtsfors",
          "Mellerud",
          "Lilla Edet",
          "Mark",
          "Svenljunga",
          "Herrljunga",
          "Vara",
          "Götene",
          "Tibro",
          "Töreboda",
          "Göteborg",
          "Mölndal",
          "Kungälv",
          "Lysekil",
          "Uddevalla",
          "Strömstad",
          "Vänersborg",
          "Trollhättan",
          "Alingsås",
          "Borås",
          "Ulricehamn",
          "Åmål",
          "Mariestad",
          "Lidköping",
          "Skara",
          "Skövde",
          "Hjo",
          "Tidaholm",
          "Falköping",
          "Kil",
          "Eda",
          "Torsby",
          "Storfors",
          "Hammarö",
          "Munkfors",
          "Forshaga",
          "Grums",
          "Årjäng",
          "Sunne",
          "Karlstad",
          "Kristinehamn",
          "Filipstad",
          "Hagfors",
          "Arvika",
          "Säffle",
          "Lekeberg",
          "Laxå",
          "Hallsberg",
          "Degerfors",
          "Hällefors",
          "Ljusnarsberg",
          "Örebro",
          "Kumla",
          "Askersund",
          "Karlskoga",
          "Nora",
          "Lindesberg",
          "Skinnskatteberg",
          "Surahammar",
          "Kungsör",
          "Hallstahammar",
          "Norberg",
          "Västerås",
          "Sala",
          "Fagersta",
          "Köping",
          "Arboga",
          "Vansbro",
          "Malung-Sälen",
          "Gagnef",
          "Leksand",
          "Rättvik",
          "Orsa",
          "Älvdalen",
          "Smedjebacken",
          "Mora",
          "Falun",
          "Borlänge",
          "Säter",
          "Hedemora",
          "Avesta",
          "Ludvika",
          "Ockelbo",
          "Hofors",
          "Ovanåker",
          "Nordanstig",
          "Ljusdal",
          "Gävle",
          "Sandviken",
          "Söderhamn",
          "Bollnäs",
          "Hudiksvall",
          "Ånge",
          "Timrå",
          "Härnösand",
          "Sundsvall",
          "Kramfors",
          "Sollefteå",
          "Örnsköldsvik",
          "Ragunda",
          "Bräcke",
          "Krokom",
          "Strömsund",
          "Åre",
          "Berg",
          "Härjedalen",
          "Östersund",
          "Nordmaling",
          "Bjurholm",
          "Vindeln",
          "Robertsfors",
          "Norsjö",
          "Malå",
          "Storuman",
          "Sorsele",
          "Dorotea",
          "Vännäs",
          "Vilhelmina",
          "Åsele",
          "Umeå",
          "Lycksele",
          "Skellefteå",
          "Arvidsjaur",
          "Arjeplog",
          "Jokkmokk",
          "Överkalix",
          "Kalix",
          "Övertorneå",
          "Pajala",
          "Gällivare",
          "Älvsbyn",
          "Luleå",
          "Piteå",
          "Boden",
          "Haparanda",
          "Kiruna"
         ],
         "legendgroup": "18-29",
         "marker": {
          "color": "#00cc96",
          "symbol": "circle"
         },
         "mode": "markers",
         "name": "18-29",
         "showlegend": true,
         "type": "scattergl",
         "x": [
          "Stockholms län",
          "Stockholms län",
          "Stockholms län",
          "Stockholms län",
          "Stockholms län",
          "Stockholms län",
          "Stockholms län",
          "Stockholms län",
          "Stockholms län",
          "Stockholms län",
          "Stockholms län",
          "Stockholms län",
          "Stockholms län",
          "Stockholms län",
          "Stockholms län",
          "Stockholms län",
          "Stockholms län",
          "Stockholms län",
          "Stockholms län",
          "Stockholms län",
          "Stockholms län",
          "Stockholms län",
          "Stockholms län",
          "Stockholms län",
          "Stockholms län",
          "Stockholms län",
          "Uppsala län",
          "Uppsala län",
          "Uppsala län",
          "Uppsala län",
          "Uppsala län",
          "Uppsala län",
          "Uppsala län",
          "Uppsala län",
          "Södermanlands län",
          "Södermanlands län",
          "Södermanlands län",
          "Södermanlands län",
          "Södermanlands län",
          "Södermanlands län",
          "Södermanlands län",
          "Södermanlands län",
          "Södermanlands län",
          "Östergötlands län",
          "Östergötlands län",
          "Östergötlands län",
          "Östergötlands län",
          "Östergötlands län",
          "Östergötlands län",
          "Östergötlands län",
          "Östergötlands län",
          "Östergötlands län",
          "Östergötlands län",
          "Östergötlands län",
          "Östergötlands län",
          "Östergötlands län",
          "Jönköpings län",
          "Jönköpings län",
          "Jönköpings län",
          "Jönköpings län",
          "Jönköpings län",
          "Jönköpings län",
          "Jönköpings län",
          "Jönköpings län",
          "Jönköpings län",
          "Jönköpings län",
          "Jönköpings län",
          "Jönköpings län",
          "Jönköpings län",
          "Kronobergs län",
          "Kronobergs län",
          "Kronobergs län",
          "Kronobergs län",
          "Kronobergs län",
          "Kronobergs län",
          "Kronobergs län",
          "Kronobergs län",
          "Kalmar län",
          "Kalmar län",
          "Kalmar län",
          "Kalmar län",
          "Kalmar län",
          "Kalmar län",
          "Kalmar län",
          "Kalmar län",
          "Kalmar län",
          "Kalmar län",
          "Kalmar län",
          "Kalmar län",
          "Gotlands län",
          "Blekinge län",
          "Blekinge län",
          "Blekinge län",
          "Blekinge län",
          "Blekinge län",
          "Skåne län",
          "Skåne län",
          "Skåne län",
          "Skåne län",
          "Skåne län",
          "Skåne län",
          "Skåne län",
          "Skåne län",
          "Skåne län",
          "Skåne län",
          "Skåne län",
          "Skåne län",
          "Skåne län",
          "Skåne län",
          "Skåne län",
          "Skåne län",
          "Skåne län",
          "Skåne län",
          "Skåne län",
          "Skåne län",
          "Skåne län",
          "Skåne län",
          "Skåne län",
          "Skåne län",
          "Skåne län",
          "Skåne län",
          "Skåne län",
          "Skåne län",
          "Skåne län",
          "Skåne län",
          "Skåne län",
          "Skåne län",
          "Skåne län",
          "Hallands län",
          "Hallands län",
          "Hallands län",
          "Hallands län",
          "Hallands län",
          "Hallands län",
          "Västra Götalands län",
          "Västra Götalands län",
          "Västra Götalands län",
          "Västra Götalands län",
          "Västra Götalands län",
          "Västra Götalands län",
          "Västra Götalands län",
          "Västra Götalands län",
          "Västra Götalands län",
          "Västra Götalands län",
          "Västra Götalands län",
          "Västra Götalands län",
          "Västra Götalands län",
          "Västra Götalands län",
          "Västra Götalands län",
          "Västra Götalands län",
          "Västra Götalands län",
          "Västra Götalands län",
          "Västra Götalands län",
          "Västra Götalands län",
          "Västra Götalands län",
          "Västra Götalands län",
          "Västra Götalands län",
          "Västra Götalands län",
          "Västra Götalands län",
          "Västra Götalands län",
          "Västra Götalands län",
          "Västra Götalands län",
          "Västra Götalands län",
          "Västra Götalands län",
          "Västra Götalands län",
          "Västra Götalands län",
          "Västra Götalands län",
          "Västra Götalands län",
          "Västra Götalands län",
          "Västra Götalands län",
          "Västra Götalands län",
          "Västra Götalands län",
          "Västra Götalands län",
          "Västra Götalands län",
          "Västra Götalands län",
          "Västra Götalands län",
          "Västra Götalands län",
          "Västra Götalands län",
          "Västra Götalands län",
          "Västra Götalands län",
          "Västra Götalands län",
          "Västra Götalands län",
          "Västra Götalands län",
          "Värmlands län",
          "Värmlands län",
          "Värmlands län",
          "Värmlands län",
          "Värmlands län",
          "Värmlands län",
          "Värmlands län",
          "Värmlands län",
          "Värmlands län",
          "Värmlands län",
          "Värmlands län",
          "Värmlands län",
          "Värmlands län",
          "Värmlands län",
          "Värmlands län",
          "Värmlands län",
          "Örebro län",
          "Örebro län",
          "Örebro län",
          "Örebro län",
          "Örebro län",
          "Örebro län",
          "Örebro län",
          "Örebro län",
          "Örebro län",
          "Örebro län",
          "Örebro län",
          "Örebro län",
          "Västmanlands län",
          "Västmanlands län",
          "Västmanlands län",
          "Västmanlands län",
          "Västmanlands län",
          "Västmanlands län",
          "Västmanlands län",
          "Västmanlands län",
          "Västmanlands län",
          "Västmanlands län",
          "Dalarnas län",
          "Dalarnas län",
          "Dalarnas län",
          "Dalarnas län",
          "Dalarnas län",
          "Dalarnas län",
          "Dalarnas län",
          "Dalarnas län",
          "Dalarnas län",
          "Dalarnas län",
          "Dalarnas län",
          "Dalarnas län",
          "Dalarnas län",
          "Dalarnas län",
          "Dalarnas län",
          "Gävleborgs län",
          "Gävleborgs län",
          "Gävleborgs län",
          "Gävleborgs län",
          "Gävleborgs län",
          "Gävleborgs län",
          "Gävleborgs län",
          "Gävleborgs län",
          "Gävleborgs län",
          "Gävleborgs län",
          "Västernorrlands län",
          "Västernorrlands län",
          "Västernorrlands län",
          "Västernorrlands län",
          "Västernorrlands län",
          "Västernorrlands län",
          "Västernorrlands län",
          "Jämtlands län",
          "Jämtlands län",
          "Jämtlands län",
          "Jämtlands län",
          "Jämtlands län",
          "Jämtlands län",
          "Jämtlands län",
          "Jämtlands län",
          "Västerbottens län",
          "Västerbottens län",
          "Västerbottens län",
          "Västerbottens län",
          "Västerbottens län",
          "Västerbottens län",
          "Västerbottens län",
          "Västerbottens län",
          "Västerbottens län",
          "Västerbottens län",
          "Västerbottens län",
          "Västerbottens län",
          "Västerbottens län",
          "Västerbottens län",
          "Västerbottens län",
          "Norrbottens län",
          "Norrbottens län",
          "Norrbottens län",
          "Norrbottens län",
          "Norrbottens län",
          "Norrbottens län",
          "Norrbottens län",
          "Norrbottens län",
          "Norrbottens län",
          "Norrbottens län",
          "Norrbottens län",
          "Norrbottens län",
          "Norrbottens län",
          "Norrbottens län"
         ],
         "xaxis": "x",
         "y": [
          8.55330468590137,
          5.483106105512745,
          5.589430894308943,
          7.157464212678937,
          8.130345350221933,
          6.689684937419077,
          7.650727650727651,
          11.16252168883748,
          8.216676810712112,
          9.35570987654321,
          6.88952303302079,
          9.085492999702115,
          7.295373665480427,
          4.520515267175573,
          4.539276977439521,
          6.308910393364334,
          6.229937280853375,
          10.452850293020779,
          5.811874105865522,
          6.492537313432837,
          6.477629679938874,
          4.970582268208561,
          5.5045871559633035,
          6.764705882352941,
          9.460255152109912,
          12.122342409548676,
          4.710458081244598,
          4.855491329479769,
          4.102564102564102,
          5.064194008559201,
          4.6082949308755765,
          4.025433634110992,
          4.0574645699864105,
          3.142589118198874,
          7.356076759061833,
          5.36842105263158,
          4.968002694509936,
          7.678075855689177,
          7.657657657657657,
          4.642670839853938,
          6.184373708143861,
          7.256637168141593,
          8.75912408759124,
          2.375809935205184,
          2.527075812274368,
          1.8162393162393164,
          3.2882011605415857,
          2.3529411764705883,
          4.259438528557599,
          3.209459459459459,
          2.5437482359582275,
          3.4594964891248505,
          2.274641954507161,
          3.032375740994072,
          2.20125786163522,
          3.3586818757921417,
          3.618421052631579,
          2.676659528907923,
          4.063860667634253,
          2.8795811518324608,
          3.3957033957033955,
          4.100719424460432,
          3.988419108471023,
          4.385964912280701,
          4.539164129532244,
          4.266666666666667,
          4.060366510959397,
          3.7321624588364433,
          3.12063344201211,
          3.5591274397244548,
          4.1278295605858855,
          4.296875,
          4.4589450788472,
          4.405286343612335,
          4.484304932735426,
          3.2207384131971715,
          4.902336269628495,
          6.474820143884892,
          3.87858347386172,
          3.962900505902192,
          3.6658141517476555,
          3.2743362831858405,
          2.7122641509433962,
          2.65416872224963,
          3.217299578059072,
          3.123864874682165,
          2.8708133971291865,
          3.7130270610446825,
          3.259452411994785,
          4.922042188933048,
          3.588516746411483,
          2.5202092249167856,
          3.9301310043668125,
          2.611828279795857,
          2.4213075060532687,
          5.425772418990203,
          3.4782608695652173,
          6.292517006802721,
          3.2193158953722336,
          5.040175310445581,
          4.966139954853273,
          6.598984771573605,
          3.47437220502236,
          2.3255813953488373,
          3.183023872679045,
          4.097311139564661,
          4.0625,
          4.311649016641452,
          3.2346868547832073,
          4.691358024691358,
          3.9927404718693285,
          3.4174125305126117,
          6.045751633986928,
          4.5676004872107185,
          7.169529499626587,
          3.3140016570008286,
          5.253944654932617,
          3.3376628488211906,
          5.3455333493859865,
          5.589276681841174,
          3.58950759318914,
          4.1019955654102,
          3.5942223715149475,
          3.788235294117647,
          4.460613729832332,
          3.5991531404375445,
          3.693867696764848,
          3.9146604032100214,
          3.559870550161812,
          2.8210493683639464,
          3.7069726390114734,
          2.2375215146299485,
          2.7998268148361958,
          2.899422521655438,
          4.526748971193416,
          5.291288081239979,
          5.258833196384552,
          4.429482636428065,
          3.0395136778115504,
          4.4901065449010655,
          4.904632152588556,
          4.82051282051282,
          5.92274678111588,
          2.877697841726619,
          3.3112582781456954,
          5.719733079122975,
          3.8471958818748306,
          5.3514376996805115,
          3.4682080924855487,
          3.571428571428571,
          5.208333333333334,
          4.160688665710186,
          7.611548556430446,
          5.293005671077505,
          4.594921402660217,
          4.710144927536232,
          8.081632653061224,
          5.535714285714286,
          5.46448087431694,
          4.911180773249739,
          3.323076923076923,
          5.774278215223097,
          5.462962962962963,
          5.304740406320542,
          5.498853902762697,
          3.6745102584907845,
          4.293628808864266,
          5.75,
          5.2109181141439205,
          7.220822837951301,
          5.943214629451395,
          6.577344701583435,
          4.300070109838748,
          5.227059418092557,
          3.40954673084637,
          5.8558558558558556,
          4.281924971580144,
          2.7510917030567685,
          4.705882352941177,
          3.9215686274509802,
          2.937853107344633,
          4.241071428571429,
          4.482758620689655,
          1.2999071494893222,
          2.7777777777777777,
          1.2867647058823528,
          2.108433734939759,
          1.2403100775193798,
          1.9830028328611897,
          2.692664809656453,
          3.0450669914738127,
          3.70722433460076,
          2.1527777777777777,
          2.078867017475476,
          2.1541010770505387,
          2.7649769585253456,
          2.54841997961264,
          1.8345189067764882,
          2.6548672566371683,
          2.1156558533145273,
          1.0660980810234542,
          3.706070287539936,
          2.8312570781426953,
          4.099560761346998,
          4.105571847507331,
          3.3685460947774812,
          2.376836646499568,
          2.3,
          1.7994858611825193,
          2.793296089385475,
          3.1937850668968495,
          6.628242074927954,
          3.7339556592765457,
          5.8240396530359355,
          5.804111245465538,
          3.765690376569038,
          4.552050303649164,
          6.190259444697315,
          4.896907216494846,
          5.194305502116198,
          5.578800557880056,
          3.52760736196319,
          2.070393374741201,
          2.619589977220957,
          3.009097270818754,
          3.7848605577689245,
          4.239766081871345,
          3.97456279809221,
          4.240282685512367,
          2.805717310746427,
          3.492729725678309,
          4.429441791536308,
          2.596053997923157,
          3.1077348066298343,
          4.263038548752834,
          3.934426229508197,
          4.387990762124711,
          5.781584582441114,
          4.452690166975881,
          8.264462809917356,
          6.1284619917501475,
          5.103969754253308,
          5.110602593440122,
          5.691768826619965,
          6.129666011787819,
          5.997904662126768,
          4.377880184331797,
          3.9806347498655192,
          3.1375703942075623,
          3.401125054089139,
          2.7160493827160495,
          2.89490245437382,
          2.0543051089674886,
          6.419753086419753,
          7.261410788381744,
          3.231017770597738,
          2.62891809908999,
          3.828382838283828,
          4.3624161073825505,
          5.045408678102927,
          3.8438071995118976,
          2.5034770514603615,
          4.048582995951417,
          4.848484848484849,
          2.5906735751295336,
          1.971830985915493,
          6.3897763578274756,
          2.5742574257425743,
          2.8846153846153846,
          3.1413612565445024,
          4.235537190082645,
          6.946454413892909,
          2.456140350877193,
          2.5101936799184505,
          2.514792899408284,
          4.465973534971645,
          3.125,
          2.575107296137339,
          4.112554112554113,
          1.9230769230769231,
          2.3331173039533377,
          2.5,
          4.0733197556008145,
          2.27803738317757,
          2.278177458033573,
          2.6985218288071504,
          1.982601658911592,
          2.730780647076284,
          2.4050632911392404,
          2.6500389711613406
         ],
         "yaxis": "y"
        },
        {
         "customdata": [
          [
           7332,
           "30-39"
          ],
          [
           4286,
           "30-39"
          ],
          [
           6157,
           "30-39"
          ],
          [
           5706,
           "30-39"
          ],
          [
           13196,
           "30-39"
          ],
          [
           3125,
           "30-39"
          ],
          [
           16793,
           "30-39"
          ],
          [
           13797,
           "30-39"
          ],
          [
           2214,
           "30-39"
          ],
          [
           15303,
           "30-39"
          ],
          [
           6153,
           "30-39"
          ],
          [
           4817,
           "30-39"
          ],
          [
           1500,
           "30-39"
          ],
          [
           8519,
           "30-39"
          ],
          [
           2995,
           "30-39"
          ],
          [
           10307,
           "30-39"
          ],
          [
           178611,
           "30-39"
          ],
          [
           15288,
           "30-39"
          ],
          [
           14392,
           "30-39"
          ],
          [
           11824,
           "30-39"
          ],
          [
           18716,
           "30-39"
          ],
          [
           5462,
           "30-39"
          ],
          [
           1031,
           "30-39"
          ],
          [
           7887,
           "30-39"
          ],
          [
           7749,
           "30-39"
          ],
          [
           3933,
           "30-39"
          ],
          [
           2884,
           "30-39"
          ],
          [
           1131,
           "30-39"
          ],
          [
           2919,
           "30-39"
          ],
          [
           1820,
           "30-39"
          ],
          [
           2690,
           "30-39"
          ],
          [
           37114,
           "30-39"
          ],
          [
           6529,
           "30-39"
          ],
          [
           2600,
           "30-39"
          ],
          [
           909,
           "30-39"
          ],
          [
           1390,
           "30-39"
          ],
          [
           7273,
           "30-39"
          ],
          [
           1452,
           "30-39"
          ],
          [
           1582,
           "30-39"
          ],
          [
           4305,
           "30-39"
          ],
          [
           14378,
           "30-39"
          ],
          [
           4685,
           "30-39"
          ],
          [
           1680,
           "30-39"
          ],
          [
           595,
           "30-39"
          ],
          [
           346,
           "30-39"
          ],
          [
           1159,
           "30-39"
          ],
          [
           636,
           "30-39"
          ],
          [
           1339,
           "30-39"
          ],
          [
           2667,
           "30-39"
          ],
          [
           783,
           "30-39"
          ],
          [
           23364,
           "30-39"
          ],
          [
           20382,
           "30-39"
          ],
          [
           1744,
           "30-39"
          ],
          [
           5235,
           "30-39"
          ],
          [
           791,
           "30-39"
          ],
          [
           3723,
           "30-39"
          ],
          [
           892,
           "30-39"
          ],
          [
           1143,
           "30-39"
          ],
          [
           933,
           "30-39"
          ],
          [
           1886,
           "30-39"
          ],
          [
           3594,
           "30-39"
          ],
          [
           2097,
           "30-39"
          ],
          [
           20248,
           "30-39"
          ],
          [
           4150,
           "30-39"
          ],
          [
           4333,
           "30-39"
          ],
          [
           1328,
           "30-39"
          ],
          [
           3291,
           "30-39"
          ],
          [
           2189,
           "30-39"
          ],
          [
           2263,
           "30-39"
          ],
          [
           1095,
           "30-39"
          ],
          [
           966,
           "30-39"
          ],
          [
           1310,
           "30-39"
          ],
          [
           2528,
           "30-39"
          ],
          [
           2477,
           "30-39"
          ],
          [
           1223,
           "30-39"
          ],
          [
           13427,
           "30-39"
          ],
          [
           3518,
           "30-39"
          ],
          [
           573,
           "30-39"
          ],
          [
           709,
           "30-39"
          ],
          [
           1712,
           "30-39"
          ],
          [
           1523,
           "30-39"
          ],
          [
           1546,
           "30-39"
          ],
          [
           976,
           "30-39"
          ],
          [
           10033,
           "30-39"
          ],
          [
           2546,
           "30-39"
          ],
          [
           3235,
           "30-39"
          ],
          [
           3964,
           "30-39"
          ],
          [
           1890,
           "30-39"
          ],
          [
           949,
           "30-39"
          ],
          [
           6977,
           "30-39"
          ],
          [
           1538,
           "30-39"
          ],
          [
           8393,
           "30-39"
          ],
          [
           3326,
           "30-39"
          ],
          [
           3818,
           "30-39"
          ],
          [
           1969,
           "30-39"
          ],
          [
           2032,
           "30-39"
          ],
          [
           3408,
           "30-39"
          ],
          [
           2840,
           "30-39"
          ],
          [
           3747,
           "30-39"
          ],
          [
           1827,
           "30-39"
          ],
          [
           1261,
           "30-39"
          ],
          [
           2052,
           "30-39"
          ],
          [
           4049,
           "30-39"
          ],
          [
           2143,
           "30-39"
          ],
          [
           3233,
           "30-39"
          ],
          [
           2133,
           "30-39"
          ],
          [
           2473,
           "30-39"
          ],
          [
           2028,
           "30-39"
          ],
          [
           2134,
           "30-39"
          ],
          [
           1631,
           "30-39"
          ],
          [
           1509,
           "30-39"
          ],
          [
           1559,
           "30-39"
          ],
          [
           1006,
           "30-39"
          ],
          [
           2233,
           "30-39"
          ],
          [
           2201,
           "30-39"
          ],
          [
           1554,
           "30-39"
          ],
          [
           63772,
           "30-39"
          ],
          [
           16929,
           "30-39"
          ],
          [
           6324,
           "30-39"
          ],
          [
           21240,
           "30-39"
          ],
          [
           2837,
           "30-39"
          ],
          [
           4708,
           "30-39"
          ],
          [
           3438,
           "30-39"
          ],
          [
           5930,
           "30-39"
          ],
          [
           11083,
           "30-39"
          ],
          [
           1732,
           "30-39"
          ],
          [
           5417,
           "30-39"
          ],
          [
           6613,
           "30-39"
          ],
          [
           1248,
           "30-39"
          ],
          [
           14475,
           "30-39"
          ],
          [
           3127,
           "30-39"
          ],
          [
           5757,
           "30-39"
          ],
          [
           8476,
           "30-39"
          ],
          [
           9458,
           "30-39"
          ],
          [
           4844,
           "30-39"
          ],
          [
           5558,
           "30-39"
          ],
          [
           1168,
           "30-39"
          ],
          [
           3491,
           "30-39"
          ],
          [
           1755,
           "30-39"
          ],
          [
           1471,
           "30-39"
          ],
          [
           853,
           "30-39"
          ],
          [
           1335,
           "30-39"
          ],
          [
           1406,
           "30-39"
          ],
          [
           545,
           "30-39"
          ],
          [
           751,
           "30-39"
          ],
          [
           4591,
           "30-39"
          ],
          [
           5371,
           "30-39"
          ],
          [
           1647,
           "30-39"
          ],
          [
           1231,
           "30-39"
          ],
          [
           659,
           "30-39"
          ],
          [
           663,
           "30-39"
          ],
          [
           786,
           "30-39"
          ],
          [
           476,
           "30-39"
          ],
          [
           1421,
           "30-39"
          ],
          [
           956,
           "30-39"
          ],
          [
           1054,
           "30-39"
          ],
          [
           2122,
           "30-39"
          ],
          [
           4320,
           "30-39"
          ],
          [
           1302,
           "30-39"
          ],
          [
           1112,
           "30-39"
          ],
          [
           1917,
           "30-39"
          ],
          [
           1488,
           "30-39"
          ],
          [
           1433,
           "30-39"
          ],
          [
           1020,
           "30-39"
          ],
          [
           104015,
           "30-39"
          ],
          [
           10898,
           "30-39"
          ],
          [
           6640,
           "30-39"
          ],
          [
           1444,
           "30-39"
          ],
          [
           7416,
           "30-39"
          ],
          [
           1775,
           "30-39"
          ],
          [
           4953,
           "30-39"
          ],
          [
           8009,
           "30-39"
          ],
          [
           5448,
           "30-39"
          ],
          [
           16024,
           "30-39"
          ],
          [
           3055,
           "30-39"
          ],
          [
           1294,
           "30-39"
          ],
          [
           3066,
           "30-39"
          ],
          [
           4928,
           "30-39"
          ],
          [
           2381,
           "30-39"
          ],
          [
           8362,
           "30-39"
          ],
          [
           1080,
           "30-39"
          ],
          [
           1602,
           "30-39"
          ],
          [
           4282,
           "30-39"
          ],
          [
           1536,
           "30-39"
          ],
          [
           1112,
           "30-39"
          ],
          [
           1221,
           "30-39"
          ],
          [
           394,
           "30-39"
          ],
          [
           2220,
           "30-39"
          ],
          [
           427,
           "30-39"
          ],
          [
           1499,
           "30-39"
          ],
          [
           1115,
           "30-39"
          ],
          [
           1191,
           "30-39"
          ],
          [
           1476,
           "30-39"
          ],
          [
           13008,
           "30-39"
          ],
          [
           2740,
           "30-39"
          ],
          [
           1114,
           "30-39"
          ],
          [
           1228,
           "30-39"
          ],
          [
           3016,
           "30-39"
          ],
          [
           1644,
           "30-39"
          ],
          [
           1347,
           "30-39"
          ],
          [
           579,
           "30-39"
          ],
          [
           2129,
           "30-39"
          ],
          [
           950,
           "30-39"
          ],
          [
           724,
           "30-39"
          ],
          [
           425,
           "30-39"
          ],
          [
           21701,
           "30-39"
          ],
          [
           3053,
           "30-39"
          ],
          [
           1199,
           "30-39"
          ],
          [
           3690,
           "30-39"
          ],
          [
           1233,
           "30-39"
          ],
          [
           2770,
           "30-39"
          ],
          [
           450,
           "30-39"
          ],
          [
           1238,
           "30-39"
          ],
          [
           1012,
           "30-39"
          ],
          [
           2136,
           "30-39"
          ],
          [
           651,
           "30-39"
          ],
          [
           22451,
           "30-39"
          ],
          [
           2806,
           "30-39"
          ],
          [
           1639,
           "30-39"
          ],
          [
           3203,
           "30-39"
          ],
          [
           1663,
           "30-39"
          ],
          [
           773,
           "30-39"
          ],
          [
           1179,
           "30-39"
          ],
          [
           1302,
           "30-39"
          ],
          [
           1742,
           "30-39"
          ],
          [
           1105,
           "30-39"
          ],
          [
           842,
           "30-39"
          ],
          [
           774,
           "30-39"
          ],
          [
           1190,
           "30-39"
          ],
          [
           2433,
           "30-39"
          ],
          [
           7906,
           "30-39"
          ],
          [
           7033,
           "30-39"
          ],
          [
           1426,
           "30-39"
          ],
          [
           1823,
           "30-39"
          ],
          [
           2787,
           "30-39"
          ],
          [
           3423,
           "30-39"
          ],
          [
           630,
           "30-39"
          ],
          [
           1103,
           "30-39"
          ],
          [
           1323,
           "30-39"
          ],
          [
           1052,
           "30-39"
          ],
          [
           2140,
           "30-39"
          ],
          [
           13928,
           "30-39"
          ],
          [
           4875,
           "30-39"
          ],
          [
           2755,
           "30-39"
          ],
          [
           3093,
           "30-39"
          ],
          [
           4419,
           "30-39"
          ],
          [
           965,
           "30-39"
          ],
          [
           2090,
           "30-39"
          ],
          [
           3009,
           "30-39"
          ],
          [
           12763,
           "30-39"
          ],
          [
           1861,
           "30-39"
          ],
          [
           2057,
           "30-39"
          ],
          [
           6769,
           "30-39"
          ],
          [
           593,
           "30-39"
          ],
          [
           625,
           "30-39"
          ],
          [
           1853,
           "30-39"
          ],
          [
           1254,
           "30-39"
          ],
          [
           1938,
           "30-39"
          ],
          [
           828,
           "30-39"
          ],
          [
           1160,
           "30-39"
          ],
          [
           8878,
           "30-39"
          ],
          [
           741,
           "30-39"
          ],
          [
           278,
           "30-39"
          ],
          [
           622,
           "30-39"
          ],
          [
           855,
           "30-39"
          ],
          [
           443,
           "30-39"
          ],
          [
           301,
           "30-39"
          ],
          [
           576,
           "30-39"
          ],
          [
           257,
           "30-39"
          ],
          [
           250,
           "30-39"
          ],
          [
           1244,
           "30-39"
          ],
          [
           737,
           "30-39"
          ],
          [
           270,
           "30-39"
          ],
          [
           20192,
           "30-39"
          ],
          [
           1575,
           "30-39"
          ],
          [
           9414,
           "30-39"
          ],
          [
           771,
           "30-39"
          ],
          [
           304,
           "30-39"
          ],
          [
           554,
           "30-39"
          ],
          [
           353,
           "30-39"
          ],
          [
           1692,
           "30-39"
          ],
          [
           342,
           "30-39"
          ],
          [
           542,
           "30-39"
          ],
          [
           2423,
           "30-39"
          ],
          [
           963,
           "30-39"
          ],
          [
           10549,
           "30-39"
          ],
          [
           5310,
           "30-39"
          ],
          [
           3464,
           "30-39"
          ],
          [
           876,
           "30-39"
          ],
          [
           3202,
           "30-39"
          ]
         ],
         "hovertemplate": "<b>%{hovertext}</b><br><br>Ålder=%{customdata[1]}<br>Län_namn=%{x}<br>VIR=%{y}<br>Befolkning=%{customdata[0]}<extra></extra>",
         "hovertext": [
          "Upplands Väsby",
          "Vallentuna",
          "Österåker",
          "Värmdö",
          "Järfälla",
          "Ekerö",
          "Huddinge",
          "Botkyrka",
          "Salem",
          "Haninge",
          "Tyresö",
          "Upplands-Bro",
          "Nykvarn",
          "Täby",
          "Danderyd",
          "Sollentuna",
          "Stockholm",
          "Södertälje",
          "Nacka",
          "Sundbyberg",
          "Solna",
          "Lidingö",
          "Vaxholm",
          "Norrtälje",
          "Sigtuna",
          "Nynäshamn",
          "Håbo",
          "Älvkarleby",
          "Knivsta",
          "Heby",
          "Tierp",
          "Uppsala",
          "Enköping",
          "Östhammar",
          "Vingåker",
          "Gnesta",
          "Nyköping",
          "Oxelösund",
          "Flen",
          "Katrineholm",
          "Eskilstuna",
          "Strängnäs",
          "Trosa",
          "Ödeshög",
          "Ydre",
          "Kinda",
          "Boxholm",
          "Åtvidaberg",
          "Finspång",
          "Valdemarsvik",
          "Linköping",
          "Norrköping",
          "Söderköping",
          "Motala",
          "Vadstena",
          "Mjölby",
          "Aneby",
          "Gnosjö",
          "Mullsjö",
          "Habo",
          "Gislaved",
          "Vaggeryd",
          "Jönköping",
          "Nässjö",
          "Värnamo",
          "Sävsjö",
          "Vetlanda",
          "Eksjö",
          "Tranås",
          "Uppvidinge",
          "Lessebo",
          "Tingsryd",
          "Alvesta",
          "Älmhult",
          "Markaryd",
          "Växjö",
          "Ljungby",
          "Högsby",
          "Torsås",
          "Mörbylånga",
          "Hultsfred",
          "Mönsterås",
          "Emmaboda",
          "Kalmar",
          "Nybro",
          "Oskarshamn",
          "Västervik",
          "Vimmerby",
          "Borgholm",
          "Gotland",
          "Olofström",
          "Karlskrona",
          "Ronneby",
          "Karlshamn",
          "Sölvesborg",
          "Svalöv",
          "Staffanstorp",
          "Burlöv",
          "Vellinge",
          "Östra Göinge",
          "Örkelljunga",
          "Bjuv",
          "Kävlinge",
          "Lomma",
          "Svedala",
          "Skurup",
          "Sjöbo",
          "Hörby",
          "Höör",
          "Tomelilla",
          "Bromölla",
          "Osby",
          "Perstorp",
          "Klippan",
          "Åstorp",
          "Båstad",
          "Malmö",
          "Lund",
          "Landskrona",
          "Helsingborg",
          "Höganäs",
          "Eslöv",
          "Ystad",
          "Trelleborg",
          "Kristianstad",
          "Simrishamn",
          "Ängelholm",
          "Hässleholm",
          "Hylte",
          "Halmstad",
          "Laholm",
          "Falkenberg",
          "Varberg",
          "Kungsbacka",
          "Härryda",
          "Partille",
          "Öckerö",
          "Stenungsund",
          "Tjörn",
          "Orust",
          "Sotenäs",
          "Munkedal",
          "Tanum",
          "Dals-Ed",
          "Färgelanda",
          "Ale",
          "Lerum",
          "Vårgårda",
          "Bollebygd",
          "Grästorp",
          "Essunga",
          "Karlsborg",
          "Gullspång",
          "Tranemo",
          "Bengtsfors",
          "Mellerud",
          "Lilla Edet",
          "Mark",
          "Svenljunga",
          "Herrljunga",
          "Vara",
          "Götene",
          "Tibro",
          "Töreboda",
          "Göteborg",
          "Mölndal",
          "Kungälv",
          "Lysekil",
          "Uddevalla",
          "Strömstad",
          "Vänersborg",
          "Trollhättan",
          "Alingsås",
          "Borås",
          "Ulricehamn",
          "Åmål",
          "Mariestad",
          "Lidköping",
          "Skara",
          "Skövde",
          "Hjo",
          "Tidaholm",
          "Falköping",
          "Kil",
          "Eda",
          "Torsby",
          "Storfors",
          "Hammarö",
          "Munkfors",
          "Forshaga",
          "Grums",
          "Årjäng",
          "Sunne",
          "Karlstad",
          "Kristinehamn",
          "Filipstad",
          "Hagfors",
          "Arvika",
          "Säffle",
          "Lekeberg",
          "Laxå",
          "Hallsberg",
          "Degerfors",
          "Hällefors",
          "Ljusnarsberg",
          "Örebro",
          "Kumla",
          "Askersund",
          "Karlskoga",
          "Nora",
          "Lindesberg",
          "Skinnskatteberg",
          "Surahammar",
          "Kungsör",
          "Hallstahammar",
          "Norberg",
          "Västerås",
          "Sala",
          "Fagersta",
          "Köping",
          "Arboga",
          "Vansbro",
          "Malung-Sälen",
          "Gagnef",
          "Leksand",
          "Rättvik",
          "Orsa",
          "Älvdalen",
          "Smedjebacken",
          "Mora",
          "Falun",
          "Borlänge",
          "Säter",
          "Hedemora",
          "Avesta",
          "Ludvika",
          "Ockelbo",
          "Hofors",
          "Ovanåker",
          "Nordanstig",
          "Ljusdal",
          "Gävle",
          "Sandviken",
          "Söderhamn",
          "Bollnäs",
          "Hudiksvall",
          "Ånge",
          "Timrå",
          "Härnösand",
          "Sundsvall",
          "Kramfors",
          "Sollefteå",
          "Örnsköldsvik",
          "Ragunda",
          "Bräcke",
          "Krokom",
          "Strömsund",
          "Åre",
          "Berg",
          "Härjedalen",
          "Östersund",
          "Nordmaling",
          "Bjurholm",
          "Vindeln",
          "Robertsfors",
          "Norsjö",
          "Malå",
          "Storuman",
          "Sorsele",
          "Dorotea",
          "Vännäs",
          "Vilhelmina",
          "Åsele",
          "Umeå",
          "Lycksele",
          "Skellefteå",
          "Arvidsjaur",
          "Arjeplog",
          "Jokkmokk",
          "Överkalix",
          "Kalix",
          "Övertorneå",
          "Pajala",
          "Gällivare",
          "Älvsbyn",
          "Luleå",
          "Piteå",
          "Boden",
          "Haparanda",
          "Kiruna"
         ],
         "legendgroup": "30-39",
         "marker": {
          "color": "#ab63fa",
          "symbol": "circle"
         },
         "mode": "markers",
         "name": "30-39",
         "showlegend": true,
         "type": "scattergl",
         "x": [
          "Stockholms län",
          "Stockholms län",
          "Stockholms län",
          "Stockholms län",
          "Stockholms län",
          "Stockholms län",
          "Stockholms län",
          "Stockholms län",
          "Stockholms län",
          "Stockholms län",
          "Stockholms län",
          "Stockholms län",
          "Stockholms län",
          "Stockholms län",
          "Stockholms län",
          "Stockholms län",
          "Stockholms län",
          "Stockholms län",
          "Stockholms län",
          "Stockholms län",
          "Stockholms län",
          "Stockholms län",
          "Stockholms län",
          "Stockholms län",
          "Stockholms län",
          "Stockholms län",
          "Uppsala län",
          "Uppsala län",
          "Uppsala län",
          "Uppsala län",
          "Uppsala län",
          "Uppsala län",
          "Uppsala län",
          "Uppsala län",
          "Södermanlands län",
          "Södermanlands län",
          "Södermanlands län",
          "Södermanlands län",
          "Södermanlands län",
          "Södermanlands län",
          "Södermanlands län",
          "Södermanlands län",
          "Södermanlands län",
          "Östergötlands län",
          "Östergötlands län",
          "Östergötlands län",
          "Östergötlands län",
          "Östergötlands län",
          "Östergötlands län",
          "Östergötlands län",
          "Östergötlands län",
          "Östergötlands län",
          "Östergötlands län",
          "Östergötlands län",
          "Östergötlands län",
          "Östergötlands län",
          "Jönköpings län",
          "Jönköpings län",
          "Jönköpings län",
          "Jönköpings län",
          "Jönköpings län",
          "Jönköpings län",
          "Jönköpings län",
          "Jönköpings län",
          "Jönköpings län",
          "Jönköpings län",
          "Jönköpings län",
          "Jönköpings län",
          "Jönköpings län",
          "Kronobergs län",
          "Kronobergs län",
          "Kronobergs län",
          "Kronobergs län",
          "Kronobergs län",
          "Kronobergs län",
          "Kronobergs län",
          "Kronobergs län",
          "Kalmar län",
          "Kalmar län",
          "Kalmar län",
          "Kalmar län",
          "Kalmar län",
          "Kalmar län",
          "Kalmar län",
          "Kalmar län",
          "Kalmar län",
          "Kalmar län",
          "Kalmar län",
          "Kalmar län",
          "Gotlands län",
          "Blekinge län",
          "Blekinge län",
          "Blekinge län",
          "Blekinge län",
          "Blekinge län",
          "Skåne län",
          "Skåne län",
          "Skåne län",
          "Skåne län",
          "Skåne län",
          "Skåne län",
          "Skåne län",
          "Skåne län",
          "Skåne län",
          "Skåne län",
          "Skåne län",
          "Skåne län",
          "Skåne län",
          "Skåne län",
          "Skåne län",
          "Skåne län",
          "Skåne län",
          "Skåne län",
          "Skåne län",
          "Skåne län",
          "Skåne län",
          "Skåne län",
          "Skåne län",
          "Skåne län",
          "Skåne län",
          "Skåne län",
          "Skåne län",
          "Skåne län",
          "Skåne län",
          "Skåne län",
          "Skåne län",
          "Skåne län",
          "Skåne län",
          "Hallands län",
          "Hallands län",
          "Hallands län",
          "Hallands län",
          "Hallands län",
          "Hallands län",
          "Västra Götalands län",
          "Västra Götalands län",
          "Västra Götalands län",
          "Västra Götalands län",
          "Västra Götalands län",
          "Västra Götalands län",
          "Västra Götalands län",
          "Västra Götalands län",
          "Västra Götalands län",
          "Västra Götalands län",
          "Västra Götalands län",
          "Västra Götalands län",
          "Västra Götalands län",
          "Västra Götalands län",
          "Västra Götalands län",
          "Västra Götalands län",
          "Västra Götalands län",
          "Västra Götalands län",
          "Västra Götalands län",
          "Västra Götalands län",
          "Västra Götalands län",
          "Västra Götalands län",
          "Västra Götalands län",
          "Västra Götalands län",
          "Västra Götalands län",
          "Västra Götalands län",
          "Västra Götalands län",
          "Västra Götalands län",
          "Västra Götalands län",
          "Västra Götalands län",
          "Västra Götalands län",
          "Västra Götalands län",
          "Västra Götalands län",
          "Västra Götalands län",
          "Västra Götalands län",
          "Västra Götalands län",
          "Västra Götalands län",
          "Västra Götalands län",
          "Västra Götalands län",
          "Västra Götalands län",
          "Västra Götalands län",
          "Västra Götalands län",
          "Västra Götalands län",
          "Västra Götalands län",
          "Västra Götalands län",
          "Västra Götalands län",
          "Västra Götalands län",
          "Västra Götalands län",
          "Västra Götalands län",
          "Värmlands län",
          "Värmlands län",
          "Värmlands län",
          "Värmlands län",
          "Värmlands län",
          "Värmlands län",
          "Värmlands län",
          "Värmlands län",
          "Värmlands län",
          "Värmlands län",
          "Värmlands län",
          "Värmlands län",
          "Värmlands län",
          "Värmlands län",
          "Värmlands län",
          "Värmlands län",
          "Örebro län",
          "Örebro län",
          "Örebro län",
          "Örebro län",
          "Örebro län",
          "Örebro län",
          "Örebro län",
          "Örebro län",
          "Örebro län",
          "Örebro län",
          "Örebro län",
          "Örebro län",
          "Västmanlands län",
          "Västmanlands län",
          "Västmanlands län",
          "Västmanlands län",
          "Västmanlands län",
          "Västmanlands län",
          "Västmanlands län",
          "Västmanlands län",
          "Västmanlands län",
          "Västmanlands län",
          "Dalarnas län",
          "Dalarnas län",
          "Dalarnas län",
          "Dalarnas län",
          "Dalarnas län",
          "Dalarnas län",
          "Dalarnas län",
          "Dalarnas län",
          "Dalarnas län",
          "Dalarnas län",
          "Dalarnas län",
          "Dalarnas län",
          "Dalarnas län",
          "Dalarnas län",
          "Dalarnas län",
          "Gävleborgs län",
          "Gävleborgs län",
          "Gävleborgs län",
          "Gävleborgs län",
          "Gävleborgs län",
          "Gävleborgs län",
          "Gävleborgs län",
          "Gävleborgs län",
          "Gävleborgs län",
          "Gävleborgs län",
          "Västernorrlands län",
          "Västernorrlands län",
          "Västernorrlands län",
          "Västernorrlands län",
          "Västernorrlands län",
          "Västernorrlands län",
          "Västernorrlands län",
          "Jämtlands län",
          "Jämtlands län",
          "Jämtlands län",
          "Jämtlands län",
          "Jämtlands län",
          "Jämtlands län",
          "Jämtlands län",
          "Jämtlands län",
          "Västerbottens län",
          "Västerbottens län",
          "Västerbottens län",
          "Västerbottens län",
          "Västerbottens län",
          "Västerbottens län",
          "Västerbottens län",
          "Västerbottens län",
          "Västerbottens län",
          "Västerbottens län",
          "Västerbottens län",
          "Västerbottens län",
          "Västerbottens län",
          "Västerbottens län",
          "Västerbottens län",
          "Norrbottens län",
          "Norrbottens län",
          "Norrbottens län",
          "Norrbottens län",
          "Norrbottens län",
          "Norrbottens län",
          "Norrbottens län",
          "Norrbottens län",
          "Norrbottens län",
          "Norrbottens län",
          "Norrbottens län",
          "Norrbottens län",
          "Norrbottens län",
          "Norrbottens län"
         ],
         "xaxis": "x",
         "y": [
          5.44929628293035,
          2.8595224875069403,
          3.79064845102944,
          4.827875734676742,
          6.315361965681795,
          4.832268370607029,
          5.42256961406937,
          7.706380059455752,
          5.832832230907998,
          6.397762136798411,
          4.628874388254486,
          5.710227272727273,
          4.414125200642054,
          3.323797847704672,
          4.344422700587084,
          4.738063255586763,
          4.316374764337824,
          7.895008783713961,
          4.4329303396660915,
          5.463286713286713,
          5.035635782321988,
          4.137630662020906,
          2.784222737819025,
          5.304792926942764,
          6.608663457978527,
          7.157464212678937,
          2.2591645353793695,
          2.9350104821802936,
          3.1844660194174756,
          2.7796161482461947,
          3.0128489144882584,
          3.467696007087262,
          2.779796511627907,
          2.146690518783542,
          3.5202086049543677,
          4.242424242424243,
          3.2617603671529256,
          3.7562604340567614,
          6.8504594820384295,
          3.688297282307266,
          4.255685733976568,
          4.476834981780323,
          3.7037037037037033,
          2.1505376344086025,
          1.023890784982935,
          1.7578125,
          1.8518518518518516,
          1.4285714285714286,
          2.5950782997762865,
          1.7770597738287561,
          2.108208023180297,
          2.49470178625492,
          2.4820378837361203,
          2.469690166142793,
          1.0218978102189782,
          1.8125960061443933,
          1.3477088948787064,
          1.6489988221436984,
          2.2641509433962264,
          1.6499705362404242,
          3.059409462824618,
          2.7479091995221028,
          2.891876957082336,
          2.6772580170638425,
          2.6755852842809364,
          2.7598896044158234,
          2.5463805020007277,
          2.197213290460879,
          2.7440633245382586,
          2.619047619047619,
          1.1363636363636365,
          2.843601895734597,
          3.0632411067193677,
          3.6077235772357725,
          2.841530054644809,
          2.10727969348659,
          4.105909439754413,
          3.7122969837587005,
          3.3509700176366843,
          1.4350945857795172,
          2.4411508282476024,
          2.3064250411861615,
          2.013422818791946,
          2.135765412145001,
          1.9047619047619049,
          2.2674865488086087,
          1.5671200473092846,
          1.4896373056994818,
          1.4267185473411155,
          2.8227137669197755,
          2.246256239600666,
          1.9426974143955273,
          2.0037105751391464,
          2.091917591125198,
          2.271293375394322,
          3.310810810810811,
          2.010221465076661,
          3.8894575230296824,
          1.7316017316017316,
          2.690909090909091,
          3.67816091954023,
          3.420669577874818,
          1.760268231349539,
          2.061310782241015,
          2.1788129226145756,
          2.3423423423423424,
          3.2795997776542527,
          3.6802030456852792,
          2.18609865470852,
          3.1553398058252426,
          3.0354131534569984,
          3.7459283387622153,
          3.5398230088495577,
          3.2133676092544987,
          3.4346103038309117,
          3.5016286644951142,
          3.9811165672616915,
          3.545677544042221,
          3.7004788855028297,
          4.5004209026743505,
          1.9591141396933562,
          3.1020408163265305,
          2.616377845735644,
          3.605397036053971,
          2.7951331798750414,
          3.295019157088123,
          2.7249828257384934,
          3.2206759443339963,
          2.3655913978494625,
          2.329550302926871,
          2.2040816326530615,
          1.9591141396933562,
          1.5998906057705455,
          1.6175760502172862,
          2.9469069654164635,
          3.9361702127659575,
          3.939393939393939,
          2.727582679849983,
          2.42914979757085,
          3.231292517006803,
          3.488372093023256,
          2.9918404351767904,
          2.956081081081081,
          3.303964757709251,
          3.9473684210526314,
          3.62610797743755,
          2.163667523564696,
          2.4637681159420293,
          2.046783625730994,
          3.571428571428571,
          5.360443622920517,
          3.303303303303303,
          2.4390243902439024,
          3.033006244424621,
          3.919089759797725,
          4.0914560770156445,
          4.171934260429835,
          3.6470588235294117,
          4.66321243523316,
          2.5669642857142856,
          2.6595744680851063,
          3.294117647058824,
          3.336259877085163,
          3.1668696711327646,
          4.653071222977525,
          3.5157940285590654,
          3.513086246267346,
          3.5443037974683547,
          3.032247713781486,
          4.175513092710545,
          3.218780251694095,
          4.529238405459904,
          2.9805615550755937,
          3.1860797711743207,
          2.8033640368442128,
          2.6881720430107525,
          2.2992838296268374,
          2.1335168616655196,
          3.4661148473874803,
          2.3344651952461803,
          3.559870550161812,
          2.359882005899705,
          2.414772727272727,
          0.9658246656760773,
          2.27027027027027,
          1.042654028436019,
          1.8072289156626504,
          0.9460737937559129,
          2.4691358024691357,
          1.5753938484621155,
          2.094240837696335,
          1.132852729145211,
          1.474010861132661,
          1.7645532393391574,
          1.6060862214708367,
          2.6402640264026402,
          2.485089463220676,
          1.375976199330606,
          1.9823788546255507,
          2.280701754385965,
          2.178649237472767,
          0.7424328954882925,
          1.6064257028112447,
          4.270462633451958,
          4.220779220779221,
          2.5534965806309287,
          1.583710407239819,
          1.993704092339979,
          1.392757660167131,
          2.7210884353741496,
          2.6187305814469597,
          4.40251572327044,
          3.6157024793388426,
          2.679658952496955,
          3.498542274052478,
          3.6121673003802277,
          3.894267377352333,
          2.932426689332767,
          2.8169014084507045,
          3.488827910623285,
          3.039073806078148,
          1.4851485148514851,
          1.5906680805938493,
          1.5454545454545454,
          2.12342402123424,
          2.549889135254989,
          3.4428794992175273,
          2.3923444976076556,
          2.2916666666666665,
          1.773049645390071,
          2.122168052767422,
          2.5760719225449513,
          1.5484922575387123,
          1.9230769230769231,
          2.668416447944007,
          3.510716925351072,
          5.633802816901409,
          3.587443946188341,
          4.557405784399649,
          6.396866840731071,
          3.466204506065858,
          3.643097063129791,
          4.170731707317073,
          4.288840262582057,
          3.5463756819953236,
          4.0507696462327845,
          2.6184538653366585,
          2.9708520179372195,
          2.0849128127369223,
          2.3160390261694173,
          2.3537323470073974,
          2.2102747909199523,
          1.7786899264580127,
          3.397027600849257,
          4.068522483940043,
          1.8214936247723135,
          3.7181996086105675,
          2.883435582822086,
          3.058103975535168,
          3.292181069958848,
          2.334376630151278,
          2.073365231259968,
          2.5316455696202533,
          4.83271375464684,
          1.453104359313078,
          2.564102564102564,
          3.1746031746031744,
          0.8064516129032258,
          1.4423076923076923,
          1.3636363636363635,
          2.9676258992805753,
          2.8192371475953566,
          1.7316017316017316,
          2.3980815347721824,
          1.8786127167630058,
          2.7777777777777777,
          3.0534351145038165,
          1.509433962264151,
          3.0434782608695654,
          0.7326007326007326,
          2.5174825174825175,
          3.1578947368421053,
          2.4390243902439024,
          2.3591718825228694,
          2.1170610211706102,
          1.9872639437856827,
          1.6323934704261183,
          2.272727272727273,
          2.235469448584203,
          2.498078401229823
         ],
         "yaxis": "y"
        },
        {
         "customdata": [
          [
           6946,
           "40-49"
          ],
          [
           5277,
           "40-49"
          ],
          [
           6737,
           "40-49"
          ],
          [
           6427,
           "40-49"
          ],
          [
           11632,
           "40-49"
          ],
          [
           4419,
           "40-49"
          ],
          [
           17125,
           "40-49"
          ],
          [
           13871,
           "40-49"
          ],
          [
           2364,
           "40-49"
          ],
          [
           13557,
           "40-49"
          ],
          [
           6939,
           "40-49"
          ],
          [
           4375,
           "40-49"
          ],
          [
           1642,
           "40-49"
          ],
          [
           10607,
           "40-49"
          ],
          [
           4391,
           "40-49"
          ],
          [
           10882,
           "40-49"
          ],
          [
           135739,
           "40-49"
          ],
          [
           13588,
           "40-49"
          ],
          [
           15886,
           "40-49"
          ],
          [
           7469,
           "40-49"
          ],
          [
           11278,
           "40-49"
          ],
          [
           6717,
           "40-49"
          ],
          [
           1586,
           "40-49"
          ],
          [
           6877,
           "40-49"
          ],
          [
           7160,
           "40-49"
          ],
          [
           3538,
           "40-49"
          ],
          [
           3075,
           "40-49"
          ],
          [
           1090,
           "40-49"
          ],
          [
           3071,
           "40-49"
          ],
          [
           1494,
           "40-49"
          ],
          [
           2367,
           "40-49"
          ],
          [
           28677,
           "40-49"
          ],
          [
           5440,
           "40-49"
          ],
          [
           2287,
           "40-49"
          ],
          [
           938,
           "40-49"
          ],
          [
           1478,
           "40-49"
          ],
          [
           6668,
           "40-49"
          ],
          [
           1322,
           "40-49"
          ],
          [
           1697,
           "40-49"
          ],
          [
           3736,
           "40-49"
          ],
          [
           12851,
           "40-49"
          ],
          [
           4769,
           "40-49"
          ],
          [
           1814,
           "40-49"
          ],
          [
           587,
           "40-49"
          ],
          [
           388,
           "40-49"
          ],
          [
           1047,
           "40-49"
          ],
          [
           558,
           "40-49"
          ],
          [
           1283,
           "40-49"
          ],
          [
           2515,
           "40-49"
          ],
          [
           761,
           "40-49"
          ],
          [
           19916,
           "40-49"
          ],
          [
           17702,
           "40-49"
          ],
          [
           1766,
           "40-49"
          ],
          [
           5039,
           "40-49"
          ],
          [
           696,
           "40-49"
          ],
          [
           3501,
           "40-49"
          ],
          [
           767,
           "40-49"
          ],
          [
           1179,
           "40-49"
          ],
          [
           869,
           "40-49"
          ],
          [
           1752,
           "40-49"
          ],
          [
           3470,
           "40-49"
          ],
          [
           1791,
           "40-49"
          ],
          [
           17270,
           "40-49"
          ],
          [
           3505,
           "40-49"
          ],
          [
           4065,
           "40-49"
          ],
          [
           1300,
           "40-49"
          ],
          [
           3010,
           "40-49"
          ],
          [
           1917,
           "40-49"
          ],
          [
           2055,
           "40-49"
          ],
          [
           1083,
           "40-49"
          ],
          [
           991,
           "40-49"
          ],
          [
           1336,
           "40-49"
          ],
          [
           2435,
           "40-49"
          ],
          [
           2460,
           "40-49"
          ],
          [
           1146,
           "40-49"
          ],
          [
           11510,
           "40-49"
          ],
          [
           3334,
           "40-49"
          ],
          [
           608,
           "40-49"
          ],
          [
           729,
           "40-49"
          ],
          [
           1896,
           "40-49"
          ],
          [
           1414,
           "40-49"
          ],
          [
           1417,
           "40-49"
          ],
          [
           1000,
           "40-49"
          ],
          [
           8471,
           "40-49"
          ],
          [
           2109,
           "40-49"
          ],
          [
           3102,
           "40-49"
          ],
          [
           3802,
           "40-49"
          ],
          [
           1646,
           "40-49"
          ],
          [
           1040,
           "40-49"
          ],
          [
           6731,
           "40-49"
          ],
          [
           1345,
           "40-49"
          ],
          [
           8158,
           "40-49"
          ],
          [
           3414,
           "40-49"
          ],
          [
           3543,
           "40-49"
          ],
          [
           1984,
           "40-49"
          ],
          [
           1891,
           "40-49"
          ],
          [
           3957,
           "40-49"
          ],
          [
           2783,
           "40-49"
          ],
          [
           5151,
           "40-49"
          ],
          [
           1676,
           "40-49"
          ],
          [
           1193,
           "40-49"
          ],
          [
           2024,
           "40-49"
          ],
          [
           4788,
           "40-49"
          ],
          [
           3821,
           "40-49"
          ],
          [
           3546,
           "40-49"
          ],
          [
           2093,
           "40-49"
          ],
          [
           2259,
           "40-49"
          ],
          [
           1924,
           "40-49"
          ],
          [
           2215,
           "40-49"
          ],
          [
           1538,
           "40-49"
          ],
          [
           1486,
           "40-49"
          ],
          [
           1471,
           "40-49"
          ],
          [
           788,
           "40-49"
          ],
          [
           2095,
           "40-49"
          ],
          [
           2227,
           "40-49"
          ],
          [
           1748,
           "40-49"
          ],
          [
           47997,
           "40-49"
          ],
          [
           15567,
           "40-49"
          ],
          [
           5957,
           "40-49"
          ],
          [
           18944,
           "40-49"
          ],
          [
           3492,
           "40-49"
          ],
          [
           4436,
           "40-49"
          ],
          [
           3542,
           "40-49"
          ],
          [
           5785,
           "40-49"
          ],
          [
           10055,
           "40-49"
          ],
          [
           1747,
           "40-49"
          ],
          [
           5266,
           "40-49"
          ],
          [
           5981,
           "40-49"
          ],
          [
           1195,
           "40-49"
          ],
          [
           12268,
           "40-49"
          ],
          [
           2987,
           "40-49"
          ],
          [
           5247,
           "40-49"
          ],
          [
           7879,
           "40-49"
          ],
          [
           11412,
           "40-49"
          ],
          [
           6078,
           "40-49"
          ],
          [
           5621,
           "40-49"
          ],
          [
           1439,
           "40-49"
          ],
          [
           3540,
           "40-49"
          ],
          [
           1783,
           "40-49"
          ],
          [
           1609,
           "40-49"
          ],
          [
           972,
           "40-49"
          ],
          [
           1163,
           "40-49"
          ],
          [
           1359,
           "40-49"
          ],
          [
           531,
           "40-49"
          ],
          [
           686,
           "40-49"
          ],
          [
           4478,
           "40-49"
          ],
          [
           6359,
           "40-49"
          ],
          [
           1448,
           "40-49"
          ],
          [
           1271,
           "40-49"
          ],
          [
           632,
           "40-49"
          ],
          [
           623,
           "40-49"
          ],
          [
           749,
           "40-49"
          ],
          [
           467,
           "40-49"
          ],
          [
           1378,
           "40-49"
          ],
          [
           913,
           "40-49"
          ],
          [
           923,
           "40-49"
          ],
          [
           1726,
           "40-49"
          ],
          [
           4103,
           "40-49"
          ],
          [
           1144,
           "40-49"
          ],
          [
           1034,
           "40-49"
          ],
          [
           1884,
           "40-49"
          ],
          [
           1469,
           "40-49"
          ],
          [
           1218,
           "40-49"
          ],
          [
           987,
           "40-49"
          ],
          [
           76366,
           "40-49"
          ],
          [
           9847,
           "40-49"
          ],
          [
           5901,
           "40-49"
          ],
          [
           1448,
           "40-49"
          ],
          [
           6566,
           "40-49"
          ],
          [
           1680,
           "40-49"
          ],
          [
           4346,
           "40-49"
          ],
          [
           7014,
           "40-49"
          ],
          [
           5154,
           "40-49"
          ],
          [
           13883,
           "40-49"
          ],
          [
           2880,
           "40-49"
          ],
          [
           1281,
           "40-49"
          ],
          [
           2515,
           "40-49"
          ],
          [
           4666,
           "40-49"
          ],
          [
           2053,
           "40-49"
          ],
          [
           6419,
           "40-49"
          ],
          [
           1040,
           "40-49"
          ],
          [
           1340,
           "40-49"
          ],
          [
           3769,
           "40-49"
          ],
          [
           1407,
           "40-49"
          ],
          [
           883,
           "40-49"
          ],
          [
           1223,
           "40-49"
          ],
          [
           363,
           "40-49"
          ],
          [
           2359,
           "40-49"
          ],
          [
           351,
           "40-49"
          ],
          [
           1343,
           "40-49"
          ],
          [
           932,
           "40-49"
          ],
          [
           1085,
           "40-49"
          ],
          [
           1419,
           "40-49"
          ],
          [
           11047,
           "40-49"
          ],
          [
           2565,
           "40-49"
          ],
          [
           1013,
           "40-49"
          ],
          [
           1106,
           "40-49"
          ],
          [
           2848,
           "40-49"
          ],
          [
           1509,
           "40-49"
          ],
          [
           1063,
           "40-49"
          ],
          [
           551,
           "40-49"
          ],
          [
           1880,
           "40-49"
          ],
          [
           1040,
           "40-49"
          ],
          [
           593,
           "40-49"
          ],
          [
           481,
           "40-49"
          ],
          [
           19150,
           "40-49"
          ],
          [
           2864,
           "40-49"
          ],
          [
           1192,
           "40-49"
          ],
          [
           3275,
           "40-49"
          ],
          [
           1213,
           "40-49"
          ],
          [
           2607,
           "40-49"
          ],
          [
           447,
           "40-49"
          ],
          [
           1146,
           "40-49"
          ],
          [
           975,
           "40-49"
          ],
          [
           1805,
           "40-49"
          ],
          [
           587,
           "40-49"
          ],
          [
           19137,
           "40-49"
          ],
          [
           2529,
           "40-49"
          ],
          [
           1469,
           "40-49"
          ],
          [
           2817,
           "40-49"
          ],
          [
           1457,
           "40-49"
          ],
          [
           676,
           "40-49"
          ],
          [
           1128,
           "40-49"
          ],
          [
           1137,
           "40-49"
          ],
          [
           1714,
           "40-49"
          ],
          [
           1109,
           "40-49"
          ],
          [
           641,
           "40-49"
          ],
          [
           746,
           "40-49"
          ],
          [
           1144,
           "40-49"
          ],
          [
           2324,
           "40-49"
          ],
          [
           7262,
           "40-49"
          ],
          [
           5927,
           "40-49"
          ],
          [
           1264,
           "40-49"
          ],
          [
           1565,
           "40-49"
          ],
          [
           2468,
           "40-49"
          ],
          [
           2898,
           "40-49"
          ],
          [
           583,
           "40-49"
          ],
          [
           906,
           "40-49"
          ],
          [
           1190,
           "40-49"
          ],
          [
           952,
           "40-49"
          ],
          [
           1980,
           "40-49"
          ],
          [
           12372,
           "40-49"
          ],
          [
           4397,
           "40-49"
          ],
          [
           2601,
           "40-49"
          ],
          [
           2923,
           "40-49"
          ],
          [
           4188,
           "40-49"
          ],
          [
           936,
           "40-49"
          ],
          [
           2158,
           "40-49"
          ],
          [
           2752,
           "40-49"
          ],
          [
           12005,
           "40-49"
          ],
          [
           1793,
           "40-49"
          ],
          [
           1913,
           "40-49"
          ],
          [
           6608,
           "40-49"
          ],
          [
           514,
           "40-49"
          ],
          [
           605,
           "40-49"
          ],
          [
           2044,
           "40-49"
          ],
          [
           1127,
           "40-49"
          ],
          [
           1641,
           "40-49"
          ],
          [
           682,
           "40-49"
          ],
          [
           1049,
           "40-49"
          ],
          [
           7629,
           "40-49"
          ],
          [
           783,
           "40-49"
          ],
          [
           231,
           "40-49"
          ],
          [
           629,
           "40-49"
          ],
          [
           725,
           "40-49"
          ],
          [
           390,
           "40-49"
          ],
          [
           307,
           "40-49"
          ],
          [
           588,
           "40-49"
          ],
          [
           246,
           "40-49"
          ],
          [
           228,
           "40-49"
          ],
          [
           1032,
           "40-49"
          ],
          [
           638,
           "40-49"
          ],
          [
           291,
           "40-49"
          ],
          [
           16097,
           "40-49"
          ],
          [
           1255,
           "40-49"
          ],
          [
           8704,
           "40-49"
          ],
          [
           644,
           "40-49"
          ],
          [
           270,
           "40-49"
          ],
          [
           460,
           "40-49"
          ],
          [
           256,
           "40-49"
          ],
          [
           1610,
           "40-49"
          ],
          [
           354,
           "40-49"
          ],
          [
           475,
           "40-49"
          ],
          [
           1829,
           "40-49"
          ],
          [
           869,
           "40-49"
          ],
          [
           9112,
           "40-49"
          ],
          [
           4969,
           "40-49"
          ],
          [
           3117,
           "40-49"
          ],
          [
           978,
           "40-49"
          ],
          [
           2385,
           "40-49"
          ]
         ],
         "hovertemplate": "<b>%{hovertext}</b><br><br>Ålder=%{customdata[1]}<br>Län_namn=%{x}<br>VIR=%{y}<br>Befolkning=%{customdata[0]}<extra></extra>",
         "hovertext": [
          "Upplands Väsby",
          "Vallentuna",
          "Österåker",
          "Värmdö",
          "Järfälla",
          "Ekerö",
          "Huddinge",
          "Botkyrka",
          "Salem",
          "Haninge",
          "Tyresö",
          "Upplands-Bro",
          "Nykvarn",
          "Täby",
          "Danderyd",
          "Sollentuna",
          "Stockholm",
          "Södertälje",
          "Nacka",
          "Sundbyberg",
          "Solna",
          "Lidingö",
          "Vaxholm",
          "Norrtälje",
          "Sigtuna",
          "Nynäshamn",
          "Håbo",
          "Älvkarleby",
          "Knivsta",
          "Heby",
          "Tierp",
          "Uppsala",
          "Enköping",
          "Östhammar",
          "Vingåker",
          "Gnesta",
          "Nyköping",
          "Oxelösund",
          "Flen",
          "Katrineholm",
          "Eskilstuna",
          "Strängnäs",
          "Trosa",
          "Ödeshög",
          "Ydre",
          "Kinda",
          "Boxholm",
          "Åtvidaberg",
          "Finspång",
          "Valdemarsvik",
          "Linköping",
          "Norrköping",
          "Söderköping",
          "Motala",
          "Vadstena",
          "Mjölby",
          "Aneby",
          "Gnosjö",
          "Mullsjö",
          "Habo",
          "Gislaved",
          "Vaggeryd",
          "Jönköping",
          "Nässjö",
          "Värnamo",
          "Sävsjö",
          "Vetlanda",
          "Eksjö",
          "Tranås",
          "Uppvidinge",
          "Lessebo",
          "Tingsryd",
          "Alvesta",
          "Älmhult",
          "Markaryd",
          "Växjö",
          "Ljungby",
          "Högsby",
          "Torsås",
          "Mörbylånga",
          "Hultsfred",
          "Mönsterås",
          "Emmaboda",
          "Kalmar",
          "Nybro",
          "Oskarshamn",
          "Västervik",
          "Vimmerby",
          "Borgholm",
          "Gotland",
          "Olofström",
          "Karlskrona",
          "Ronneby",
          "Karlshamn",
          "Sölvesborg",
          "Svalöv",
          "Staffanstorp",
          "Burlöv",
          "Vellinge",
          "Östra Göinge",
          "Örkelljunga",
          "Bjuv",
          "Kävlinge",
          "Lomma",
          "Svedala",
          "Skurup",
          "Sjöbo",
          "Hörby",
          "Höör",
          "Tomelilla",
          "Bromölla",
          "Osby",
          "Perstorp",
          "Klippan",
          "Åstorp",
          "Båstad",
          "Malmö",
          "Lund",
          "Landskrona",
          "Helsingborg",
          "Höganäs",
          "Eslöv",
          "Ystad",
          "Trelleborg",
          "Kristianstad",
          "Simrishamn",
          "Ängelholm",
          "Hässleholm",
          "Hylte",
          "Halmstad",
          "Laholm",
          "Falkenberg",
          "Varberg",
          "Kungsbacka",
          "Härryda",
          "Partille",
          "Öckerö",
          "Stenungsund",
          "Tjörn",
          "Orust",
          "Sotenäs",
          "Munkedal",
          "Tanum",
          "Dals-Ed",
          "Färgelanda",
          "Ale",
          "Lerum",
          "Vårgårda",
          "Bollebygd",
          "Grästorp",
          "Essunga",
          "Karlsborg",
          "Gullspång",
          "Tranemo",
          "Bengtsfors",
          "Mellerud",
          "Lilla Edet",
          "Mark",
          "Svenljunga",
          "Herrljunga",
          "Vara",
          "Götene",
          "Tibro",
          "Töreboda",
          "Göteborg",
          "Mölndal",
          "Kungälv",
          "Lysekil",
          "Uddevalla",
          "Strömstad",
          "Vänersborg",
          "Trollhättan",
          "Alingsås",
          "Borås",
          "Ulricehamn",
          "Åmål",
          "Mariestad",
          "Lidköping",
          "Skara",
          "Skövde",
          "Hjo",
          "Tidaholm",
          "Falköping",
          "Kil",
          "Eda",
          "Torsby",
          "Storfors",
          "Hammarö",
          "Munkfors",
          "Forshaga",
          "Grums",
          "Årjäng",
          "Sunne",
          "Karlstad",
          "Kristinehamn",
          "Filipstad",
          "Hagfors",
          "Arvika",
          "Säffle",
          "Lekeberg",
          "Laxå",
          "Hallsberg",
          "Degerfors",
          "Hällefors",
          "Ljusnarsberg",
          "Örebro",
          "Kumla",
          "Askersund",
          "Karlskoga",
          "Nora",
          "Lindesberg",
          "Skinnskatteberg",
          "Surahammar",
          "Kungsör",
          "Hallstahammar",
          "Norberg",
          "Västerås",
          "Sala",
          "Fagersta",
          "Köping",
          "Arboga",
          "Vansbro",
          "Malung-Sälen",
          "Gagnef",
          "Leksand",
          "Rättvik",
          "Orsa",
          "Älvdalen",
          "Smedjebacken",
          "Mora",
          "Falun",
          "Borlänge",
          "Säter",
          "Hedemora",
          "Avesta",
          "Ludvika",
          "Ockelbo",
          "Hofors",
          "Ovanåker",
          "Nordanstig",
          "Ljusdal",
          "Gävle",
          "Sandviken",
          "Söderhamn",
          "Bollnäs",
          "Hudiksvall",
          "Ånge",
          "Timrå",
          "Härnösand",
          "Sundsvall",
          "Kramfors",
          "Sollefteå",
          "Örnsköldsvik",
          "Ragunda",
          "Bräcke",
          "Krokom",
          "Strömsund",
          "Åre",
          "Berg",
          "Härjedalen",
          "Östersund",
          "Nordmaling",
          "Bjurholm",
          "Vindeln",
          "Robertsfors",
          "Norsjö",
          "Malå",
          "Storuman",
          "Sorsele",
          "Dorotea",
          "Vännäs",
          "Vilhelmina",
          "Åsele",
          "Umeå",
          "Lycksele",
          "Skellefteå",
          "Arvidsjaur",
          "Arjeplog",
          "Jokkmokk",
          "Överkalix",
          "Kalix",
          "Övertorneå",
          "Pajala",
          "Gällivare",
          "Älvsbyn",
          "Luleå",
          "Piteå",
          "Boden",
          "Haparanda",
          "Kiruna"
         ],
         "legendgroup": "40-49",
         "marker": {
          "color": "#FFA15A",
          "symbol": "circle"
         },
         "mode": "markers",
         "name": "40-49",
         "showlegend": true,
         "type": "scattergl",
         "x": [
          "Stockholms län",
          "Stockholms län",
          "Stockholms län",
          "Stockholms län",
          "Stockholms län",
          "Stockholms län",
          "Stockholms län",
          "Stockholms län",
          "Stockholms län",
          "Stockholms län",
          "Stockholms län",
          "Stockholms län",
          "Stockholms län",
          "Stockholms län",
          "Stockholms län",
          "Stockholms län",
          "Stockholms län",
          "Stockholms län",
          "Stockholms län",
          "Stockholms län",
          "Stockholms län",
          "Stockholms län",
          "Stockholms län",
          "Stockholms län",
          "Stockholms län",
          "Stockholms län",
          "Uppsala län",
          "Uppsala län",
          "Uppsala län",
          "Uppsala län",
          "Uppsala län",
          "Uppsala län",
          "Uppsala län",
          "Uppsala län",
          "Södermanlands län",
          "Södermanlands län",
          "Södermanlands län",
          "Södermanlands län",
          "Södermanlands län",
          "Södermanlands län",
          "Södermanlands län",
          "Södermanlands län",
          "Södermanlands län",
          "Östergötlands län",
          "Östergötlands län",
          "Östergötlands län",
          "Östergötlands län",
          "Östergötlands län",
          "Östergötlands län",
          "Östergötlands län",
          "Östergötlands län",
          "Östergötlands län",
          "Östergötlands län",
          "Östergötlands län",
          "Östergötlands län",
          "Östergötlands län",
          "Jönköpings län",
          "Jönköpings län",
          "Jönköpings län",
          "Jönköpings län",
          "Jönköpings län",
          "Jönköpings län",
          "Jönköpings län",
          "Jönköpings län",
          "Jönköpings län",
          "Jönköpings län",
          "Jönköpings län",
          "Jönköpings län",
          "Jönköpings län",
          "Kronobergs län",
          "Kronobergs län",
          "Kronobergs län",
          "Kronobergs län",
          "Kronobergs län",
          "Kronobergs län",
          "Kronobergs län",
          "Kronobergs län",
          "Kalmar län",
          "Kalmar län",
          "Kalmar län",
          "Kalmar län",
          "Kalmar län",
          "Kalmar län",
          "Kalmar län",
          "Kalmar län",
          "Kalmar län",
          "Kalmar län",
          "Kalmar län",
          "Kalmar län",
          "Gotlands län",
          "Blekinge län",
          "Blekinge län",
          "Blekinge län",
          "Blekinge län",
          "Blekinge län",
          "Skåne län",
          "Skåne län",
          "Skåne län",
          "Skåne län",
          "Skåne län",
          "Skåne län",
          "Skåne län",
          "Skåne län",
          "Skåne län",
          "Skåne län",
          "Skåne län",
          "Skåne län",
          "Skåne län",
          "Skåne län",
          "Skåne län",
          "Skåne län",
          "Skåne län",
          "Skåne län",
          "Skåne län",
          "Skåne län",
          "Skåne län",
          "Skåne län",
          "Skåne län",
          "Skåne län",
          "Skåne län",
          "Skåne län",
          "Skåne län",
          "Skåne län",
          "Skåne län",
          "Skåne län",
          "Skåne län",
          "Skåne län",
          "Skåne län",
          "Hallands län",
          "Hallands län",
          "Hallands län",
          "Hallands län",
          "Hallands län",
          "Hallands län",
          "Västra Götalands län",
          "Västra Götalands län",
          "Västra Götalands län",
          "Västra Götalands län",
          "Västra Götalands län",
          "Västra Götalands län",
          "Västra Götalands län",
          "Västra Götalands län",
          "Västra Götalands län",
          "Västra Götalands län",
          "Västra Götalands län",
          "Västra Götalands län",
          "Västra Götalands län",
          "Västra Götalands län",
          "Västra Götalands län",
          "Västra Götalands län",
          "Västra Götalands län",
          "Västra Götalands län",
          "Västra Götalands län",
          "Västra Götalands län",
          "Västra Götalands län",
          "Västra Götalands län",
          "Västra Götalands län",
          "Västra Götalands län",
          "Västra Götalands län",
          "Västra Götalands län",
          "Västra Götalands län",
          "Västra Götalands län",
          "Västra Götalands län",
          "Västra Götalands län",
          "Västra Götalands län",
          "Västra Götalands län",
          "Västra Götalands län",
          "Västra Götalands län",
          "Västra Götalands län",
          "Västra Götalands län",
          "Västra Götalands län",
          "Västra Götalands län",
          "Västra Götalands län",
          "Västra Götalands län",
          "Västra Götalands län",
          "Västra Götalands län",
          "Västra Götalands län",
          "Västra Götalands län",
          "Västra Götalands län",
          "Västra Götalands län",
          "Västra Götalands län",
          "Västra Götalands län",
          "Västra Götalands län",
          "Värmlands län",
          "Värmlands län",
          "Värmlands län",
          "Värmlands län",
          "Värmlands län",
          "Värmlands län",
          "Värmlands län",
          "Värmlands län",
          "Värmlands län",
          "Värmlands län",
          "Värmlands län",
          "Värmlands län",
          "Värmlands län",
          "Värmlands län",
          "Värmlands län",
          "Värmlands län",
          "Örebro län",
          "Örebro län",
          "Örebro län",
          "Örebro län",
          "Örebro län",
          "Örebro län",
          "Örebro län",
          "Örebro län",
          "Örebro län",
          "Örebro län",
          "Örebro län",
          "Örebro län",
          "Västmanlands län",
          "Västmanlands län",
          "Västmanlands län",
          "Västmanlands län",
          "Västmanlands län",
          "Västmanlands län",
          "Västmanlands län",
          "Västmanlands län",
          "Västmanlands län",
          "Västmanlands län",
          "Dalarnas län",
          "Dalarnas län",
          "Dalarnas län",
          "Dalarnas län",
          "Dalarnas län",
          "Dalarnas län",
          "Dalarnas län",
          "Dalarnas län",
          "Dalarnas län",
          "Dalarnas län",
          "Dalarnas län",
          "Dalarnas län",
          "Dalarnas län",
          "Dalarnas län",
          "Dalarnas län",
          "Gävleborgs län",
          "Gävleborgs län",
          "Gävleborgs län",
          "Gävleborgs län",
          "Gävleborgs län",
          "Gävleborgs län",
          "Gävleborgs län",
          "Gävleborgs län",
          "Gävleborgs län",
          "Gävleborgs län",
          "Västernorrlands län",
          "Västernorrlands län",
          "Västernorrlands län",
          "Västernorrlands län",
          "Västernorrlands län",
          "Västernorrlands län",
          "Västernorrlands län",
          "Jämtlands län",
          "Jämtlands län",
          "Jämtlands län",
          "Jämtlands län",
          "Jämtlands län",
          "Jämtlands län",
          "Jämtlands län",
          "Jämtlands län",
          "Västerbottens län",
          "Västerbottens län",
          "Västerbottens län",
          "Västerbottens län",
          "Västerbottens län",
          "Västerbottens län",
          "Västerbottens län",
          "Västerbottens län",
          "Västerbottens län",
          "Västerbottens län",
          "Västerbottens län",
          "Västerbottens län",
          "Västerbottens län",
          "Västerbottens län",
          "Västerbottens län",
          "Norrbottens län",
          "Norrbottens län",
          "Norrbottens län",
          "Norrbottens län",
          "Norrbottens län",
          "Norrbottens län",
          "Norrbottens län",
          "Norrbottens län",
          "Norrbottens län",
          "Norrbottens län",
          "Norrbottens län",
          "Norrbottens län",
          "Norrbottens län",
          "Norrbottens län"
         ],
         "xaxis": "x",
         "y": [
          2.914878397711016,
          2.063390767921719,
          2.020893988696695,
          2.0528879610299233,
          3.478804291219664,
          1.8229166666666667,
          2.8151862464183384,
          4.33485782461722,
          2.456140350877193,
          3.541647147006465,
          2.433774834437086,
          3.073420603301081,
          1.4423076923076923,
          1.4959016393442623,
          1.5143992055610724,
          2.390269698572184,
          2.797233105648209,
          4.225059690646735,
          2.2191109555477775,
          3.2263401720714757,
          2.5479710600817866,
          2.1613595116317437,
          1.725327812284334,
          2.7922624053826746,
          3.8312146892655363,
          3.751753155680224,
          1.268183513614323,
          0.8307372793354102,
          1.1673151750972763,
          1.67427701674277,
          1.4636449480642115,
          1.700273740216679,
          1.4522821576763485,
          0.7881773399014778,
          1.5834348355663823,
          2.75750202757502,
          1.5939597315436242,
          1.8835616438356164,
          3.6093418259023355,
          1.875,
          2.485865565826079,
          2.008608321377331,
          2.2443890274314215,
          0.9671179883945842,
          2.3255813953488373,
          0.7486631016042781,
          0.1984126984126984,
          0.5988023952095809,
          1.205377839592026,
          1.0526315789473684,
          1.0654236723822208,
          1.469631941734946,
          1.1845386533665836,
          1.040283311199646,
          0.9448818897637795,
          0.881057268722467,
          1.3235294117647058,
          0.8964143426294822,
          1.4511873350923483,
          0.6297229219143577,
          1.3445378151260505,
          1.776315789473684,
          1.5559071729957807,
          1.5106732348111658,
          1.5917341524713766,
          1.3295346628679963,
          1.5408320493066257,
          1.6607354685646498,
          1.4277869302580999,
          1.670378619153675,
          1.3173652694610778,
          0.9803921568627451,
          1.2909632571996028,
          1.6579819990525817,
          0.9584664536741214,
          1.4495611872596392,
          2.068710749907647,
          2.207505518763797,
          1.155115511551155,
          0.5672149744753261,
          2.0287404902789516,
          1.1345218800648298,
          1.1002444987775062,
          1.1200421662933193,
          1.5025041736227045,
          0.967982129560685,
          0.9425625920471281,
          0.6306937631394535,
          1.3215859030837005,
          1.5452901528850895,
          1.1937557392102847,
          1.2810029980921231,
          1.6909029421711192,
          1.5244891339604283,
          0.9889470622454914,
          1.9243104554201411,
          0.9241108933071969,
          1.9788311090658077,
          1.3493253373313343,
          2.264685067232838,
          2.3728813559322033,
          2.585034013605442,
          1.2228260869565217,
          0.7788595271210014,
          1.2337662337662338,
          1.3489736070381233,
          2.091152815013405,
          1.9169329073482428,
          1.1985409067222512,
          2.16,
          0.8835341365461846,
          1.8821603927986905,
          1.9639934533551555,
          1.7316017316017316,
          2.244536326048435,
          1.8229166666666667,
          2.7889739497389563,
          1.729127477933729,
          2.1375661375661372,
          2.343139807341838,
          0.9339774557165861,
          1.0127931769722816,
          1.1142948105698822,
          1.6736401673640167,
          1.6641969679699078,
          1.8018018018018018,
          1.3189712024620797,
          1.662611516626115,
          0.7150153217568949,
          1.2551517422255525,
          1.838091513492374,
          0.9240924092409241,
          0.93405038211152,
          0.9552923194497517,
          1.1450381679389312,
          2.036741214057508,
          1.3771996939556235,
          1.7555059048834982,
          1.1464968152866242,
          1.7934002869440457,
          2.0118343195266273,
          2.224469160768453,
          1.9008264462809916,
          0.9389671361502347,
          1.7064846416382253,
          1.8365235385411276,
          1.2914485165794065,
          2.109375,
          1.5412511332728922,
          1.7921146953405016,
          0.7407407407407408,
          1.9316493313521546,
          1.5463917525773196,
          1.452991452991453,
          1.7857142857142856,
          1.1627906976744187,
          2.7798098024871982,
          1.5813686026451983,
          2.3479188900747063,
          1.4557670772676372,
          1.5151515151515151,
          1.6975308641975309,
          1.898101898101898,
          1.566265060240964,
          2.8979280053470826,
          1.92481884057971,
          1.4063093880653743,
          2.457757296466974,
          2.0383896721589942,
          3.4193998604326583,
          1.7992177314211215,
          2.125556104794859,
          1.526553429370028,
          1.980787214146051,
          1.5213815789473684,
          1.8584070796460177,
          1.3410818059901655,
          1.1756407241946862,
          1.4874141876430207,
          1.3957597173144876,
          1.948051948051948,
          1.2875536480686696,
          1.5639097744360904,
          0.847457627118644,
          1.03359173126615,
          0.18814675446848542,
          1,
          0.6654835847382431,
          0.6688963210702341,
          1.477832512315271,
          2.4301336573511545,
          0.8724100327153763,
          0.8448540706605223,
          1.0094080752646022,
          1.287001287001287,
          1.3437849944008957,
          1.9375672766415502,
          0.9444654325651681,
          1.2326656394453006,
          0.7299270072992701,
          1.4644351464435146,
          0.7421150278293136,
          1.3978494623655915,
          2.2964509394572024,
          1.5957446808510638,
          1.332306963524396,
          1.1489698890649762,
          0.6737247353224254,
          0.9036144578313252,
          1.1288805268109126,
          1.335707925200356,
          3.7463976945244957,
          1.6913319238900635,
          1.7985611510791366,
          2.697495183044316,
          2.3529411764705883,
          2.0965730236978084,
          1.2641083521444696,
          1.3991769547325104,
          2.3414218816517667,
          1.3364779874213837,
          2.154398563734291,
          0.7306889352818371,
          0.9940357852882704,
          1.1665586519766689,
          1.843817787418655,
          1.7341040462427744,
          1.7350157728706623,
          1.4970059880239521,
          0.9970089730807578,
          1.2401693889897156,
          1.2248803827751196,
          1.0362694300518136,
          1.390922401171303,
          1.858736059479554,
          1.5924867292772562,
          2.636916835699797,
          2.621231979030144,
          1.8147086914995225,
          3.5182679296346415,
          1.8430439952437574,
          1.8725904167431615,
          1.7453798767967144,
          2.2808586762075134,
          1.867704280155642,
          2.345881069285325,
          1.5815085158150852,
          0.9424083769633508,
          1.2898024989923418,
          1.3431462741490339,
          1.7197452229299364,
          1.9464720194647203,
          1.0188742274929012,
          1.8779342723004695,
          1.9801980198019802,
          0.9729729729729729,
          1.8867924528301887,
          2.079141515761234,
          2.3008849557522124,
          1.7640573318632855,
          1.3812154696132597,
          0.7225433526011561,
          0.4975124378109453,
          1.607142857142857,
          1.5408320493066257,
          1.4124293785310735,
          1.094890510948905,
          1.1009174311926606,
          1.5,
          0.9259259259259258,
          1.256544502617801,
          1.6100178890876566,
          1.2,
          1.0538251183885814,
          0.8695652173913043,
          1.4527238572323105,
          1.3937282229965158,
          2.5,
          1.6990291262135921,
          1.36986301369863,
          1.0281014393420151,
          1.6286644951140066,
          1.2315270935960592,
          1.6069221260815822,
          1.0652463382157125,
          1.16335433834222,
          1.0450685826257349,
          0.877808988764045,
          1.875,
          1.0526315789473684
         ],
         "yaxis": "y"
        },
        {
         "customdata": [
          [
           6332,
           "50-59"
          ],
          [
           4996,
           "50-59"
          ],
          [
           7185,
           "50-59"
          ],
          [
           7054,
           "50-59"
          ],
          [
           10163,
           "50-59"
          ],
          [
           4356,
           "50-59"
          ],
          [
           15106,
           "50-59"
          ],
          [
           12356,
           "50-59"
          ],
          [
           2415,
           "50-59"
          ],
          [
           12067,
           "50-59"
          ],
          [
           7377,
           "50-59"
          ],
          [
           3808,
           "50-59"
          ],
          [
           1658,
           "50-59"
          ],
          [
           10681,
           "50-59"
          ],
          [
           4877,
           "50-59"
          ],
          [
           10677,
           "50-59"
          ],
          [
           121354,
           "50-59"
          ],
          [
           13613,
           "50-59"
          ],
          [
           15097,
           "50-59"
          ],
          [
           6048,
           "50-59"
          ],
          [
           9066,
           "50-59"
          ],
          [
           6608,
           "50-59"
          ],
          [
           1915,
           "50-59"
          ],
          [
           8638,
           "50-59"
          ],
          [
           6741,
           "50-59"
          ],
          [
           4135,
           "50-59"
          ],
          [
           3362,
           "50-59"
          ],
          [
           1314,
           "50-59"
          ],
          [
           2476,
           "50-59"
          ],
          [
           1842,
           "50-59"
          ],
          [
           2802,
           "50-59"
          ],
          [
           26330,
           "50-59"
          ],
          [
           6312,
           "50-59"
          ],
          [
           2850,
           "50-59"
          ],
          [
           1211,
           "50-59"
          ],
          [
           1511,
           "50-59"
          ],
          [
           7161,
           "50-59"
          ],
          [
           1438,
           "50-59"
          ],
          [
           2108,
           "50-59"
          ],
          [
           4319,
           "50-59"
          ],
          [
           13885,
           "50-59"
          ],
          [
           5210,
           "50-59"
          ],
          [
           2045,
           "50-59"
          ],
          [
           713,
           "50-59"
          ],
          [
           482,
           "50-59"
          ],
          [
           1328,
           "50-59"
          ],
          [
           809,
           "50-59"
          ],
          [
           1594,
           "50-59"
          ],
          [
           2960,
           "50-59"
          ],
          [
           1033,
           "50-59"
          ],
          [
           19500,
           "50-59"
          ],
          [
           18066,
           "50-59"
          ],
          [
           1997,
           "50-59"
          ],
          [
           6011,
           "50-59"
          ],
          [
           1062,
           "50-59"
          ],
          [
           3602,
           "50-59"
          ],
          [
           852,
           "50-59"
          ],
          [
           1342,
           "50-59"
          ],
          [
           935,
           "50-59"
          ],
          [
           1480,
           "50-59"
          ],
          [
           4171,
           "50-59"
          ],
          [
           1917,
           "50-59"
          ],
          [
           17470,
           "50-59"
          ],
          [
           4039,
           "50-59"
          ],
          [
           4722,
           "50-59"
          ],
          [
           1475,
           "50-59"
          ],
          [
           3665,
           "50-59"
          ],
          [
           2252,
           "50-59"
          ],
          [
           2430,
           "50-59"
          ],
          [
           1273,
           "50-59"
          ],
          [
           1060,
           "50-59"
          ],
          [
           1702,
           "50-59"
          ],
          [
           2392,
           "50-59"
          ],
          [
           2252,
           "50-59"
          ],
          [
           1330,
           "50-59"
          ],
          [
           11160,
           "50-59"
          ],
          [
           3883,
           "50-59"
          ],
          [
           739,
           "50-59"
          ],
          [
           1046,
           "50-59"
          ],
          [
           2024,
           "50-59"
          ],
          [
           1902,
           "50-59"
          ],
          [
           1734,
           "50-59"
          ],
          [
           1279,
           "50-59"
          ],
          [
           8809,
           "50-59"
          ],
          [
           2697,
           "50-59"
          ],
          [
           3645,
           "50-59"
          ],
          [
           4864,
           "50-59"
          ],
          [
           2038,
           "50-59"
          ],
          [
           1399,
           "50-59"
          ],
          [
           8114,
           "50-59"
          ],
          [
           1915,
           "50-59"
          ],
          [
           8337,
           "50-59"
          ],
          [
           3858,
           "50-59"
          ],
          [
           4477,
           "50-59"
          ],
          [
           2407,
           "50-59"
          ],
          [
           1956,
           "50-59"
          ],
          [
           3453,
           "50-59"
          ],
          [
           2377,
           "50-59"
          ],
          [
           5739,
           "50-59"
          ],
          [
           1930,
           "50-59"
          ],
          [
           1390,
           "50-59"
          ],
          [
           2195,
           "50-59"
          ],
          [
           4537,
           "50-59"
          ],
          [
           3628,
           "50-59"
          ],
          [
           2893,
           "50-59"
          ],
          [
           2306,
           "50-59"
          ],
          [
           2813,
           "50-59"
          ],
          [
           2085,
           "50-59"
          ],
          [
           2382,
           "50-59"
          ],
          [
           1681,
           "50-59"
          ],
          [
           1760,
           "50-59"
          ],
          [
           1689,
           "50-59"
          ],
          [
           989,
           "50-59"
          ],
          [
           2432,
           "50-59"
          ],
          [
           2147,
           "50-59"
          ],
          [
           2105,
           "50-59"
          ],
          [
           39449,
           "50-59"
          ],
          [
           13977,
           "50-59"
          ],
          [
           6006,
           "50-59"
          ],
          [
           19668,
           "50-59"
          ],
          [
           3851,
           "50-59"
          ],
          [
           4658,
           "50-59"
          ],
          [
           4131,
           "50-59"
          ],
          [
           6398,
           "50-59"
          ],
          [
           11149,
           "50-59"
          ],
          [
           2516,
           "50-59"
          ],
          [
           5934,
           "50-59"
          ],
          [
           7038,
           "50-59"
          ],
          [
           1403,
           "50-59"
          ],
          [
           13034,
           "50-59"
          ],
          [
           3437,
           "50-59"
          ],
          [
           5951,
           "50-59"
          ],
          [
           8502,
           "50-59"
          ],
          [
           12680,
           "50-59"
          ],
          [
           5543,
           "50-59"
          ],
          [
           5193,
           "50-59"
          ],
          [
           1916,
           "50-59"
          ],
          [
           3947,
           "50-59"
          ],
          [
           2202,
           "50-59"
          ],
          [
           2121,
           "50-59"
          ],
          [
           1272,
           "50-59"
          ],
          [
           1368,
           "50-59"
          ],
          [
           1709,
           "50-59"
          ],
          [
           604,
           "50-59"
          ],
          [
           898,
           "50-59"
          ],
          [
           4123,
           "50-59"
          ],
          [
           6040,
           "50-59"
          ],
          [
           1581,
           "50-59"
          ],
          [
           1353,
           "50-59"
          ],
          [
           803,
           "50-59"
          ],
          [
           775,
           "50-59"
          ],
          [
           888,
           "50-59"
          ],
          [
           752,
           "50-59"
          ],
          [
           1641,
           "50-59"
          ],
          [
           1278,
           "50-59"
          ],
          [
           1185,
           "50-59"
          ],
          [
           1932,
           "50-59"
          ],
          [
           4786,
           "50-59"
          ],
          [
           1507,
           "50-59"
          ],
          [
           1286,
           "50-59"
          ],
          [
           2183,
           "50-59"
          ],
          [
           1854,
           "50-59"
          ],
          [
           1510,
           "50-59"
          ],
          [
           1204,
           "50-59"
          ],
          [
           69463,
           "50-59"
          ],
          [
           9180,
           "50-59"
          ],
          [
           6593,
           "50-59"
          ],
          [
           1939,
           "50-59"
          ],
          [
           7360,
           "50-59"
          ],
          [
           1679,
           "50-59"
          ],
          [
           5334,
           "50-59"
          ],
          [
           7656,
           "50-59"
          ],
          [
           5141,
           "50-59"
          ],
          [
           14298,
           "50-59"
          ],
          [
           3362,
           "50-59"
          ],
          [
           1705,
           "50-59"
          ],
          [
           3280,
           "50-59"
          ],
          [
           5405,
           "50-59"
          ],
          [
           2654,
           "50-59"
          ],
          [
           6978,
           "50-59"
          ],
          [
           1209,
           "50-59"
          ],
          [
           1763,
           "50-59"
          ],
          [
           4174,
           "50-59"
          ],
          [
           1548,
           "50-59"
          ],
          [
           1185,
           "50-59"
          ],
          [
           1550,
           "50-59"
          ],
          [
           603,
           "50-59"
          ],
          [
           2139,
           "50-59"
          ],
          [
           508,
           "50-59"
          ],
          [
           1560,
           "50-59"
          ],
          [
           1278,
           "50-59"
          ],
          [
           1402,
           "50-59"
          ],
          [
           1873,
           "50-59"
          ],
          [
           11840,
           "50-59"
          ],
          [
           3320,
           "50-59"
          ],
          [
           1325,
           "50-59"
          ],
          [
           1632,
           "50-59"
          ],
          [
           3424,
           "50-59"
          ],
          [
           2147,
           "50-59"
          ],
          [
           1013,
           "50-59"
          ],
          [
           835,
           "50-59"
          ],
          [
           2091,
           "50-59"
          ],
          [
           1356,
           "50-59"
          ],
          [
           915,
           "50-59"
          ],
          [
           653,
           "50-59"
          ],
          [
           18815,
           "50-59"
          ],
          [
           2862,
           "50-59"
          ],
          [
           1542,
           "50-59"
          ],
          [
           4137,
           "50-59"
          ],
          [
           1387,
           "50-59"
          ],
          [
           3077,
           "50-59"
          ],
          [
           602,
           "50-59"
          ],
          [
           1332,
           "50-59"
          ],
          [
           1190,
           "50-59"
          ],
          [
           2158,
           "50-59"
          ],
          [
           715,
           "50-59"
          ],
          [
           20524,
           "50-59"
          ],
          [
           2991,
           "50-59"
          ],
          [
           1753,
           "50-59"
          ],
          [
           3418,
           "50-59"
          ],
          [
           1881,
           "50-59"
          ],
          [
           953,
           "50-59"
          ],
          [
           1412,
           "50-59"
          ],
          [
           1332,
           "50-59"
          ],
          [
           2076,
           "50-59"
          ],
          [
           1391,
           "50-59"
          ],
          [
           1001,
           "50-59"
          ],
          [
           930,
           "50-59"
          ],
          [
           1535,
           "50-59"
          ],
          [
           2633,
           "50-59"
          ],
          [
           7208,
           "50-59"
          ],
          [
           6588,
           "50-59"
          ],
          [
           1416,
           "50-59"
          ],
          [
           2076,
           "50-59"
          ],
          [
           2907,
           "50-59"
          ],
          [
           3275,
           "50-59"
          ],
          [
           829,
           "50-59"
          ],
          [
           1331,
           "50-59"
          ],
          [
           1500,
           "50-59"
          ],
          [
           1319,
           "50-59"
          ],
          [
           2491,
           "50-59"
          ],
          [
           13418,
           "50-59"
          ],
          [
           5365,
           "50-59"
          ],
          [
           3499,
           "50-59"
          ],
          [
           3423,
           "50-59"
          ],
          [
           4917,
           "50-59"
          ],
          [
           1304,
           "50-59"
          ],
          [
           2580,
           "50-59"
          ],
          [
           3140,
           "50-59"
          ],
          [
           13410,
           "50-59"
          ],
          [
           2563,
           "50-59"
          ],
          [
           2427,
           "50-59"
          ],
          [
           7198,
           "50-59"
          ],
          [
           723,
           "50-59"
          ],
          [
           922,
           "50-59"
          ],
          [
           2033,
           "50-59"
          ],
          [
           1427,
           "50-59"
          ],
          [
           1514,
           "50-59"
          ],
          [
           905,
           "50-59"
          ],
          [
           1393,
           "50-59"
          ],
          [
           7834,
           "50-59"
          ],
          [
           923,
           "50-59"
          ],
          [
           280,
           "50-59"
          ],
          [
           646,
           "50-59"
          ],
          [
           796,
           "50-59"
          ],
          [
           525,
           "50-59"
          ],
          [
           355,
           "50-59"
          ],
          [
           762,
           "50-59"
          ],
          [
           339,
           "50-59"
          ],
          [
           312,
           "50-59"
          ],
          [
           1120,
           "50-59"
          ],
          [
           775,
           "50-59"
          ],
          [
           348,
           "50-59"
          ],
          [
           14638,
           "50-59"
          ],
          [
           1481,
           "50-59"
          ],
          [
           9308,
           "50-59"
          ],
          [
           751,
           "50-59"
          ],
          [
           386,
           "50-59"
          ],
          [
           666,
           "50-59"
          ],
          [
           386,
           "50-59"
          ],
          [
           2193,
           "50-59"
          ],
          [
           530,
           "50-59"
          ],
          [
           688,
           "50-59"
          ],
          [
           2295,
           "50-59"
          ],
          [
           1019,
           "50-59"
          ],
          [
           10434,
           "50-59"
          ],
          [
           5586,
           "50-59"
          ],
          [
           3618,
           "50-59"
          ],
          [
           1142,
           "50-59"
          ],
          [
           3079,
           "50-59"
          ]
         ],
         "hovertemplate": "<b>%{hovertext}</b><br><br>Ålder=%{customdata[1]}<br>Län_namn=%{x}<br>VIR=%{y}<br>Befolkning=%{customdata[0]}<extra></extra>",
         "hovertext": [
          "Upplands Väsby",
          "Vallentuna",
          "Österåker",
          "Värmdö",
          "Järfälla",
          "Ekerö",
          "Huddinge",
          "Botkyrka",
          "Salem",
          "Haninge",
          "Tyresö",
          "Upplands-Bro",
          "Nykvarn",
          "Täby",
          "Danderyd",
          "Sollentuna",
          "Stockholm",
          "Södertälje",
          "Nacka",
          "Sundbyberg",
          "Solna",
          "Lidingö",
          "Vaxholm",
          "Norrtälje",
          "Sigtuna",
          "Nynäshamn",
          "Håbo",
          "Älvkarleby",
          "Knivsta",
          "Heby",
          "Tierp",
          "Uppsala",
          "Enköping",
          "Östhammar",
          "Vingåker",
          "Gnesta",
          "Nyköping",
          "Oxelösund",
          "Flen",
          "Katrineholm",
          "Eskilstuna",
          "Strängnäs",
          "Trosa",
          "Ödeshög",
          "Ydre",
          "Kinda",
          "Boxholm",
          "Åtvidaberg",
          "Finspång",
          "Valdemarsvik",
          "Linköping",
          "Norrköping",
          "Söderköping",
          "Motala",
          "Vadstena",
          "Mjölby",
          "Aneby",
          "Gnosjö",
          "Mullsjö",
          "Habo",
          "Gislaved",
          "Vaggeryd",
          "Jönköping",
          "Nässjö",
          "Värnamo",
          "Sävsjö",
          "Vetlanda",
          "Eksjö",
          "Tranås",
          "Uppvidinge",
          "Lessebo",
          "Tingsryd",
          "Alvesta",
          "Älmhult",
          "Markaryd",
          "Växjö",
          "Ljungby",
          "Högsby",
          "Torsås",
          "Mörbylånga",
          "Hultsfred",
          "Mönsterås",
          "Emmaboda",
          "Kalmar",
          "Nybro",
          "Oskarshamn",
          "Västervik",
          "Vimmerby",
          "Borgholm",
          "Gotland",
          "Olofström",
          "Karlskrona",
          "Ronneby",
          "Karlshamn",
          "Sölvesborg",
          "Svalöv",
          "Staffanstorp",
          "Burlöv",
          "Vellinge",
          "Östra Göinge",
          "Örkelljunga",
          "Bjuv",
          "Kävlinge",
          "Lomma",
          "Svedala",
          "Skurup",
          "Sjöbo",
          "Hörby",
          "Höör",
          "Tomelilla",
          "Bromölla",
          "Osby",
          "Perstorp",
          "Klippan",
          "Åstorp",
          "Båstad",
          "Malmö",
          "Lund",
          "Landskrona",
          "Helsingborg",
          "Höganäs",
          "Eslöv",
          "Ystad",
          "Trelleborg",
          "Kristianstad",
          "Simrishamn",
          "Ängelholm",
          "Hässleholm",
          "Hylte",
          "Halmstad",
          "Laholm",
          "Falkenberg",
          "Varberg",
          "Kungsbacka",
          "Härryda",
          "Partille",
          "Öckerö",
          "Stenungsund",
          "Tjörn",
          "Orust",
          "Sotenäs",
          "Munkedal",
          "Tanum",
          "Dals-Ed",
          "Färgelanda",
          "Ale",
          "Lerum",
          "Vårgårda",
          "Bollebygd",
          "Grästorp",
          "Essunga",
          "Karlsborg",
          "Gullspång",
          "Tranemo",
          "Bengtsfors",
          "Mellerud",
          "Lilla Edet",
          "Mark",
          "Svenljunga",
          "Herrljunga",
          "Vara",
          "Götene",
          "Tibro",
          "Töreboda",
          "Göteborg",
          "Mölndal",
          "Kungälv",
          "Lysekil",
          "Uddevalla",
          "Strömstad",
          "Vänersborg",
          "Trollhättan",
          "Alingsås",
          "Borås",
          "Ulricehamn",
          "Åmål",
          "Mariestad",
          "Lidköping",
          "Skara",
          "Skövde",
          "Hjo",
          "Tidaholm",
          "Falköping",
          "Kil",
          "Eda",
          "Torsby",
          "Storfors",
          "Hammarö",
          "Munkfors",
          "Forshaga",
          "Grums",
          "Årjäng",
          "Sunne",
          "Karlstad",
          "Kristinehamn",
          "Filipstad",
          "Hagfors",
          "Arvika",
          "Säffle",
          "Lekeberg",
          "Laxå",
          "Hallsberg",
          "Degerfors",
          "Hällefors",
          "Ljusnarsberg",
          "Örebro",
          "Kumla",
          "Askersund",
          "Karlskoga",
          "Nora",
          "Lindesberg",
          "Skinnskatteberg",
          "Surahammar",
          "Kungsör",
          "Hallstahammar",
          "Norberg",
          "Västerås",
          "Sala",
          "Fagersta",
          "Köping",
          "Arboga",
          "Vansbro",
          "Malung-Sälen",
          "Gagnef",
          "Leksand",
          "Rättvik",
          "Orsa",
          "Älvdalen",
          "Smedjebacken",
          "Mora",
          "Falun",
          "Borlänge",
          "Säter",
          "Hedemora",
          "Avesta",
          "Ludvika",
          "Ockelbo",
          "Hofors",
          "Ovanåker",
          "Nordanstig",
          "Ljusdal",
          "Gävle",
          "Sandviken",
          "Söderhamn",
          "Bollnäs",
          "Hudiksvall",
          "Ånge",
          "Timrå",
          "Härnösand",
          "Sundsvall",
          "Kramfors",
          "Sollefteå",
          "Örnsköldsvik",
          "Ragunda",
          "Bräcke",
          "Krokom",
          "Strömsund",
          "Åre",
          "Berg",
          "Härjedalen",
          "Östersund",
          "Nordmaling",
          "Bjurholm",
          "Vindeln",
          "Robertsfors",
          "Norsjö",
          "Malå",
          "Storuman",
          "Sorsele",
          "Dorotea",
          "Vännäs",
          "Vilhelmina",
          "Åsele",
          "Umeå",
          "Lycksele",
          "Skellefteå",
          "Arvidsjaur",
          "Arjeplog",
          "Jokkmokk",
          "Överkalix",
          "Kalix",
          "Övertorneå",
          "Pajala",
          "Gällivare",
          "Älvsbyn",
          "Luleå",
          "Piteå",
          "Boden",
          "Haparanda",
          "Kiruna"
         ],
         "legendgroup": "50-59",
         "marker": {
          "color": "#19d3f3",
          "symbol": "circle"
         },
         "mode": "markers",
         "name": "50-59",
         "showlegend": true,
         "type": "scattergl",
         "x": [
          "Stockholms län",
          "Stockholms län",
          "Stockholms län",
          "Stockholms län",
          "Stockholms län",
          "Stockholms län",
          "Stockholms län",
          "Stockholms län",
          "Stockholms län",
          "Stockholms län",
          "Stockholms län",
          "Stockholms län",
          "Stockholms län",
          "Stockholms län",
          "Stockholms län",
          "Stockholms län",
          "Stockholms län",
          "Stockholms län",
          "Stockholms län",
          "Stockholms län",
          "Stockholms län",
          "Stockholms län",
          "Stockholms län",
          "Stockholms län",
          "Stockholms län",
          "Stockholms län",
          "Uppsala län",
          "Uppsala län",
          "Uppsala län",
          "Uppsala län",
          "Uppsala län",
          "Uppsala län",
          "Uppsala län",
          "Uppsala län",
          "Södermanlands län",
          "Södermanlands län",
          "Södermanlands län",
          "Södermanlands län",
          "Södermanlands län",
          "Södermanlands län",
          "Södermanlands län",
          "Södermanlands län",
          "Södermanlands län",
          "Östergötlands län",
          "Östergötlands län",
          "Östergötlands län",
          "Östergötlands län",
          "Östergötlands län",
          "Östergötlands län",
          "Östergötlands län",
          "Östergötlands län",
          "Östergötlands län",
          "Östergötlands län",
          "Östergötlands län",
          "Östergötlands län",
          "Östergötlands län",
          "Jönköpings län",
          "Jönköpings län",
          "Jönköpings län",
          "Jönköpings län",
          "Jönköpings län",
          "Jönköpings län",
          "Jönköpings län",
          "Jönköpings län",
          "Jönköpings län",
          "Jönköpings län",
          "Jönköpings län",
          "Jönköpings län",
          "Jönköpings län",
          "Kronobergs län",
          "Kronobergs län",
          "Kronobergs län",
          "Kronobergs län",
          "Kronobergs län",
          "Kronobergs län",
          "Kronobergs län",
          "Kronobergs län",
          "Kalmar län",
          "Kalmar län",
          "Kalmar län",
          "Kalmar län",
          "Kalmar län",
          "Kalmar län",
          "Kalmar län",
          "Kalmar län",
          "Kalmar län",
          "Kalmar län",
          "Kalmar län",
          "Kalmar län",
          "Gotlands län",
          "Blekinge län",
          "Blekinge län",
          "Blekinge län",
          "Blekinge län",
          "Blekinge län",
          "Skåne län",
          "Skåne län",
          "Skåne län",
          "Skåne län",
          "Skåne län",
          "Skåne län",
          "Skåne län",
          "Skåne län",
          "Skåne län",
          "Skåne län",
          "Skåne län",
          "Skåne län",
          "Skåne län",
          "Skåne län",
          "Skåne län",
          "Skåne län",
          "Skåne län",
          "Skåne län",
          "Skåne län",
          "Skåne län",
          "Skåne län",
          "Skåne län",
          "Skåne län",
          "Skåne län",
          "Skåne län",
          "Skåne län",
          "Skåne län",
          "Skåne län",
          "Skåne län",
          "Skåne län",
          "Skåne län",
          "Skåne län",
          "Skåne län",
          "Hallands län",
          "Hallands län",
          "Hallands län",
          "Hallands län",
          "Hallands län",
          "Hallands län",
          "Västra Götalands län",
          "Västra Götalands län",
          "Västra Götalands län",
          "Västra Götalands län",
          "Västra Götalands län",
          "Västra Götalands län",
          "Västra Götalands län",
          "Västra Götalands län",
          "Västra Götalands län",
          "Västra Götalands län",
          "Västra Götalands län",
          "Västra Götalands län",
          "Västra Götalands län",
          "Västra Götalands län",
          "Västra Götalands län",
          "Västra Götalands län",
          "Västra Götalands län",
          "Västra Götalands län",
          "Västra Götalands län",
          "Västra Götalands län",
          "Västra Götalands län",
          "Västra Götalands län",
          "Västra Götalands län",
          "Västra Götalands län",
          "Västra Götalands län",
          "Västra Götalands län",
          "Västra Götalands län",
          "Västra Götalands län",
          "Västra Götalands län",
          "Västra Götalands län",
          "Västra Götalands län",
          "Västra Götalands län",
          "Västra Götalands län",
          "Västra Götalands län",
          "Västra Götalands län",
          "Västra Götalands län",
          "Västra Götalands län",
          "Västra Götalands län",
          "Västra Götalands län",
          "Västra Götalands län",
          "Västra Götalands län",
          "Västra Götalands län",
          "Västra Götalands län",
          "Västra Götalands län",
          "Västra Götalands län",
          "Västra Götalands län",
          "Västra Götalands län",
          "Västra Götalands län",
          "Västra Götalands län",
          "Värmlands län",
          "Värmlands län",
          "Värmlands län",
          "Värmlands län",
          "Värmlands län",
          "Värmlands län",
          "Värmlands län",
          "Värmlands län",
          "Värmlands län",
          "Värmlands län",
          "Värmlands län",
          "Värmlands län",
          "Värmlands län",
          "Värmlands län",
          "Värmlands län",
          "Värmlands län",
          "Örebro län",
          "Örebro län",
          "Örebro län",
          "Örebro län",
          "Örebro län",
          "Örebro län",
          "Örebro län",
          "Örebro län",
          "Örebro län",
          "Örebro län",
          "Örebro län",
          "Örebro län",
          "Västmanlands län",
          "Västmanlands län",
          "Västmanlands län",
          "Västmanlands län",
          "Västmanlands län",
          "Västmanlands län",
          "Västmanlands län",
          "Västmanlands län",
          "Västmanlands län",
          "Västmanlands län",
          "Dalarnas län",
          "Dalarnas län",
          "Dalarnas län",
          "Dalarnas län",
          "Dalarnas län",
          "Dalarnas län",
          "Dalarnas län",
          "Dalarnas län",
          "Dalarnas län",
          "Dalarnas län",
          "Dalarnas län",
          "Dalarnas län",
          "Dalarnas län",
          "Dalarnas län",
          "Dalarnas län",
          "Gävleborgs län",
          "Gävleborgs län",
          "Gävleborgs län",
          "Gävleborgs län",
          "Gävleborgs län",
          "Gävleborgs län",
          "Gävleborgs län",
          "Gävleborgs län",
          "Gävleborgs län",
          "Gävleborgs län",
          "Västernorrlands län",
          "Västernorrlands län",
          "Västernorrlands län",
          "Västernorrlands län",
          "Västernorrlands län",
          "Västernorrlands län",
          "Västernorrlands län",
          "Jämtlands län",
          "Jämtlands län",
          "Jämtlands län",
          "Jämtlands län",
          "Jämtlands län",
          "Jämtlands län",
          "Jämtlands län",
          "Jämtlands län",
          "Västerbottens län",
          "Västerbottens län",
          "Västerbottens län",
          "Västerbottens län",
          "Västerbottens län",
          "Västerbottens län",
          "Västerbottens län",
          "Västerbottens län",
          "Västerbottens län",
          "Västerbottens län",
          "Västerbottens län",
          "Västerbottens län",
          "Västerbottens län",
          "Västerbottens län",
          "Västerbottens län",
          "Norrbottens län",
          "Norrbottens län",
          "Norrbottens län",
          "Norrbottens län",
          "Norrbottens län",
          "Norrbottens län",
          "Norrbottens län",
          "Norrbottens län",
          "Norrbottens län",
          "Norrbottens län",
          "Norrbottens län",
          "Norrbottens län",
          "Norrbottens län",
          "Norrbottens län"
         ],
         "xaxis": "x",
         "y": [
          1.5237420269312545,
          1.2278009208506906,
          1.2486836166691742,
          1.4683153013910355,
          1.4858675008378952,
          0.9880922219407143,
          1.90056256651969,
          2.7332144979203803,
          1.4220183486238533,
          1.80258338153075,
          1.0885773933790635,
          1.5554890816631768,
          0.9696186166774402,
          0.9623970632007144,
          1.1805859204197637,
          1.3588067020841847,
          1.8218529735937832,
          2.1127393688753036,
          1.238390092879257,
          1.9107075293227391,
          1.5584734323229843,
          1.158994449885733,
          0.7941009642654565,
          1.3588324106693508,
          1.9483848914715434,
          2.0237452779276848,
          1,
          0.8130081300813009,
          0.7271171941830624,
          0.9473060982830076,
          0.423728813559322,
          0.8553215524893085,
          0.7824459942167036,
          0.6001500375093773,
          0.7174887892376681,
          1.206636500754148,
          0.8727053866987663,
          0.37425149700598803,
          1.9916142557651992,
          0.7715281234444997,
          1.4021268215833005,
          1.0291955471539593,
          1.1266094420600858,
          1.5625,
          0.4694835680751174,
          0.8757961783439491,
          0.5340453938584779,
          0.7508532423208191,
          0.772626931567329,
          1.053740779768177,
          0.6925740669488265,
          0.8151843289937949,
          0.5841741901221456,
          0.5535714285714285,
          0.7035175879396985,
          0.5968367651447328,
          0.3778337531486146,
          0.16501650165016502,
          0,
          0.3681885125184094,
          0.6916733173716414,
          0.5807200929152149,
          0.8685871399112666,
          0.8163265306122449,
          0.7187572455367494,
          1.1485451761102603,
          0.41778573560131305,
          0.8695652173913043,
          0.5777777777777777,
          1.084010840108401,
          0.6349206349206349,
          0.8977900552486188,
          1.327643432906591,
          1.6064257028112447,
          1.152482269503546,
          0.7340706665361652,
          0.9877977919814062,
          0.964630225080386,
          0.33003300330033003,
          0.9473684210526316,
          1.0191846522781776,
          0.5181347150259068,
          0.8865248226950355,
          0.5250946391500794,
          0.7042253521126761,
          0.8081412750673452,
          0.5564210994880926,
          0.5942733657482442,
          0.7081038552321007,
          0.8999328408327737,
          1.2941176470588236,
          0.6805341551104264,
          0.5729017473503294,
          0.6791171477079796,
          0.8788159111933395,
          1.4534883720930232,
          0.6840796019900498,
          1.1610297829379101,
          0.7869589657110737,
          1.1474469305794608,
          1.486013986013986,
          1.309328968903437,
          0.589066918001885,
          0.4899135446685879,
          0.6466337010270065,
          1.0299166257969592,
          1.274671052631579,
          1.218836565096953,
          0.9790209790209791,
          1.006711409395973,
          0.7033248081841432,
          0.5266622778143515,
          1.2004801920768309,
          0.9615384615384616,
          1.2242626599888704,
          1.2182203389830508,
          1.6053715855333435,
          0.8976243906213728,
          1.1307014181678805,
          1.3354419258478298,
          0.8588605782994561,
          1.11164813919768,
          1.0071561091969254,
          0.9707024355806565,
          0.8711146307661849,
          1.1241007194244603,
          0.7653537427664738,
          1.0987235417676524,
          0.6498781478472786,
          0.6239460370994941,
          0.9813542688910697,
          0.6870937790157846,
          0.6097560975609756,
          0.684642042092807,
          0.8409935458634853,
          0.9725158562367865,
          0.8379888268156425,
          0.698909700866648,
          0.7356547327121138,
          1.142263759086189,
          1.3547840812870449,
          1.2175324675324677,
          1.6634676903390915,
          0.5703422053231939,
          0.8771929824561403,
          1.4178705189941143,
          0.8765652951699463,
          0.7686932215234101,
          0.9724473257698543,
          0.6868131868131868,
          1.0263929618768328,
          0.3694581280788177,
          0.8862629246676514,
          0.605245460659045,
          0.684931506849315,
          1.141769743101808,
          1.3682331945270672,
          1.177024482109228,
          1.5429831006612784,
          0.5208333333333333,
          0.7641365257259297,
          0.9248554913294799,
          0.8882309400444115,
          1.0338345864661653,
          1.7006914718472175,
          1.1914592426566002,
          0.8157149991676377,
          1.2161415146489774,
          1.0490543735224587,
          1.6677785190126753,
          0.8526187576126675,
          1.1379800853485065,
          0.676818950930626,
          1.0122865311799707,
          1.0450685826257349,
          0.9658725048293626,
          0.981675392670157,
          0.47346616689682386,
          1.031778786628147,
          0.8857808857808859,
          1.1648745519713262,
          1.0532837670384139,
          0.735873850197109,
          0.7488087134104833,
          0.8506616257088847,
          0.8492569002123143,
          0.5415162454873645,
          0.4371053909664886,
          1.098901098901099,
          0.3412969283276451,
          0.6024096385542169,
          0.8675078864353312,
          0.7505773672055427,
          0.6530685274646627,
          0.7092198581560284,
          1.155115511551155,
          1.307639366827254,
          0.46875,
          0.8625063419583967,
          0.7717750826901874,
          0.6684491978609626,
          0.4810261892036344,
          0.5907172995780591,
          0.7281553398058253,
          1.6544117647058825,
          0.8034934497816594,
          0.22530980097634246,
          0.6696428571428571,
          0.5192107995846313,
          1.498422712933754,
          0.5100182149362478,
          0.9615384615384616,
          0.9228187919463088,
          1.0387157695939566,
          1.3605442176870748,
          0.7739938080495357,
          1.008706731790189,
          0.8381924198250729,
          0.5840363400389358,
          1.0981912144702841,
          0.8645533141210375,
          0.5945303210463734,
          0.9397024275646046,
          0.3284072249589491,
          0.7186858316221766,
          1.4742014742014742,
          0.7927519818799547,
          0.6157635467980296,
          0.8052708638360175,
          0.8993576017130621,
          0.8105673971780245,
          0.6966329407862001,
          0.911854103343465,
          0.5350454788657035,
          0.6407840180927252,
          1.1675824175824177,
          1.0884353741496597,
          1.076158940397351,
          0.5763688760806917,
          1.2291483757682178,
          1.660682226211849,
          1.0132374571008333,
          0.8308004052684904,
          1.1275773195876289,
          0.9079118028534372,
          1.024498886414254,
          0.7575757575757576,
          1.1106364801366937,
          0.9691934925579786,
          0.74109875946512,
          0.740095777100566,
          0.8763837638376383,
          0.6741573033707865,
          2.018633540372671,
          1.3333333333333335,
          0.6434316353887399,
          0.9433962264150944,
          1.5283842794759825,
          0.7585335018963337,
          0.864100549882168,
          0.6826414042908888,
          0,
          0,
          1.2259194395796849,
          0.39421813403416556,
          0.4056795131845842,
          0.9463722397476341,
          0.6993006993006993,
          2.2950819672131146,
          0.6944444444444444,
          0.5774783445620789,
          0.8797653958944283,
          0.6622516556291391,
          0.6458094144661309,
          0.35816618911174786,
          0.593133340937607,
          0.5714285714285714,
          0.8670520231213872,
          0.8169934640522877,
          0.2849002849002849,
          0.8763388510223954,
          0.8080808080808081,
          1.5772870662460567,
          0.7139457401237506,
          1.680672268907563,
          0.6760217146368943,
          0.45489006823351025,
          0.7708271568336793,
          1.1695906432748537,
          0.6254343293954135
         ],
         "yaxis": "y"
        },
        {
         "customdata": [
          [
           4258,
           "60-69"
          ],
          [
           3215,
           "60-69"
          ],
          [
           4511,
           "60-69"
          ],
          [
           4869,
           "60-69"
          ],
          [
           7441,
           "60-69"
          ],
          [
           2937,
           "60-69"
          ],
          [
           10026,
           "60-69"
          ],
          [
           8629,
           "60-69"
          ],
          [
           1333,
           "60-69"
          ],
          [
           8112,
           "60-69"
          ],
          [
           4500,
           "60-69"
          ],
          [
           2705,
           "60-69"
          ],
          [
           1040,
           "60-69"
          ],
          [
           6772,
           "60-69"
          ],
          [
           3131,
           "60-69"
          ],
          [
           6951,
           "60-69"
          ],
          [
           96337,
           "60-69"
          ],
          [
           10052,
           "60-69"
          ],
          [
           9963,
           "60-69"
          ],
          [
           4695,
           "60-69"
          ],
          [
           7206,
           "60-69"
          ],
          [
           4813,
           "60-69"
          ],
          [
           1411,
           "60-69"
          ],
          [
           8770,
           "60-69"
          ],
          [
           4468,
           "60-69"
          ],
          [
           3341,
           "60-69"
          ],
          [
           2075,
           "60-69"
          ],
          [
           1230,
           "60-69"
          ],
          [
           1542,
           "60-69"
          ],
          [
           1929,
           "60-69"
          ],
          [
           2573,
           "60-69"
          ],
          [
           21772,
           "60-69"
          ],
          [
           5205,
           "60-69"
          ],
          [
           3066,
           "60-69"
          ],
          [
           1193,
           "60-69"
          ],
          [
           1372,
           "60-69"
          ],
          [
           6633,
           "60-69"
          ],
          [
           1517,
           "60-69"
          ],
          [
           2195,
           "60-69"
          ],
          [
           4136,
           "60-69"
          ],
          [
           11347,
           "60-69"
          ],
          [
           4360,
           "60-69"
          ],
          [
           1723,
           "60-69"
          ],
          [
           647,
           "60-69"
          ],
          [
           574,
           "60-69"
          ],
          [
           1340,
           "60-69"
          ],
          [
           741,
           "60-69"
          ],
          [
           1413,
           "60-69"
          ],
          [
           2636,
           "60-69"
          ],
          [
           1089,
           "60-69"
          ],
          [
           15429,
           "60-69"
          ],
          [
           14990,
           "60-69"
          ],
          [
           1887,
           "60-69"
          ],
          [
           5328,
           "60-69"
          ],
          [
           1063,
           "60-69"
          ],
          [
           3024,
           "60-69"
          ],
          [
           933,
           "60-69"
          ],
          [
           1096,
           "60-69"
          ],
          [
           834,
           "60-69"
          ],
          [
           1213,
           "60-69"
          ],
          [
           3440,
           "60-69"
          ],
          [
           1591,
           "60-69"
          ],
          [
           13799,
           "60-69"
          ],
          [
           3603,
           "60-69"
          ],
          [
           4207,
           "60-69"
          ],
          [
           1328,
           "60-69"
          ],
          [
           3265,
           "60-69"
          ],
          [
           2213,
           "60-69"
          ],
          [
           2050,
           "60-69"
          ],
          [
           1089,
           "60-69"
          ],
          [
           987,
           "60-69"
          ],
          [
           1685,
           "60-69"
          ],
          [
           2354,
           "60-69"
          ],
          [
           1813,
           "60-69"
          ],
          [
           1180,
           "60-69"
          ],
          [
           9054,
           "60-69"
          ],
          [
           3393,
           "60-69"
          ],
          [
           862,
           "60-69"
          ],
          [
           989,
           "60-69"
          ],
          [
           2105,
           "60-69"
          ],
          [
           1998,
           "60-69"
          ],
          [
           1765,
           "60-69"
          ],
          [
           1269,
           "60-69"
          ],
          [
           7299,
           "60-69"
          ],
          [
           2443,
           "60-69"
          ],
          [
           3093,
           "60-69"
          ],
          [
           5027,
           "60-69"
          ],
          [
           1974,
           "60-69"
          ],
          [
           1845,
           "60-69"
          ],
          [
           8223,
           "60-69"
          ],
          [
           1656,
           "60-69"
          ],
          [
           7117,
           "60-69"
          ],
          [
           3363,
           "60-69"
          ],
          [
           3837,
           "60-69"
          ],
          [
           2300,
           "60-69"
          ],
          [
           1526,
           "60-69"
          ],
          [
           2151,
           "60-69"
          ],
          [
           1907,
           "60-69"
          ],
          [
           3909,
           "60-69"
          ],
          [
           1648,
           "60-69"
          ],
          [
           1339,
           "60-69"
          ],
          [
           1679,
           "60-69"
          ],
          [
           2837,
           "60-69"
          ],
          [
           2262,
           "60-69"
          ],
          [
           2068,
           "60-69"
          ],
          [
           1870,
           "60-69"
          ],
          [
           2562,
           "60-69"
          ],
          [
           1954,
           "60-69"
          ],
          [
           2020,
           "60-69"
          ],
          [
           1891,
           "60-69"
          ],
          [
           1471,
           "60-69"
          ],
          [
           1561,
           "60-69"
          ],
          [
           840,
           "60-69"
          ],
          [
           2032,
           "60-69"
          ],
          [
           1515,
           "60-69"
          ],
          [
           2234,
           "60-69"
          ],
          [
           31777,
           "60-69"
          ],
          [
           11343,
           "60-69"
          ],
          [
           5085,
           "60-69"
          ],
          [
           15654,
           "60-69"
          ],
          [
           3302,
           "60-69"
          ],
          [
           3547,
           "60-69"
          ],
          [
           4226,
           "60-69"
          ],
          [
           5320,
           "60-69"
          ],
          [
           9741,
           "60-69"
          ],
          [
           3128,
           "60-69"
          ],
          [
           5074,
           "60-69"
          ],
          [
           5974,
           "60-69"
          ],
          [
           1293,
           "60-69"
          ],
          [
           11086,
           "60-69"
          ],
          [
           3445,
           "60-69"
          ],
          [
           5626,
           "60-69"
          ],
          [
           8218,
           "60-69"
          ],
          [
           8904,
           "60-69"
          ],
          [
           3706,
           "60-69"
          ],
          [
           3884,
           "60-69"
          ],
          [
           1773,
           "60-69"
          ],
          [
           2845,
           "60-69"
          ],
          [
           2302,
           "60-69"
          ],
          [
           2390,
           "60-69"
          ],
          [
           1471,
           "60-69"
          ],
          [
           1354,
           "60-69"
          ],
          [
           1922,
           "60-69"
          ],
          [
           571,
           "60-69"
          ],
          [
           910,
           "60-69"
          ],
          [
           2876,
           "60-69"
          ],
          [
           3974,
           "60-69"
          ],
          [
           1362,
           "60-69"
          ],
          [
           1024,
           "60-69"
          ],
          [
           769,
           "60-69"
          ],
          [
           741,
           "60-69"
          ],
          [
           883,
           "60-69"
          ],
          [
           843,
           "60-69"
          ],
          [
           1451,
           "60-69"
          ],
          [
           1295,
           "60-69"
          ],
          [
           1259,
           "60-69"
          ],
          [
           1695,
           "60-69"
          ],
          [
           4233,
           "60-69"
          ],
          [
           1401,
           "60-69"
          ],
          [
           1200,
           "60-69"
          ],
          [
           2075,
           "60-69"
          ],
          [
           1811,
           "60-69"
          ],
          [
           1337,
           "60-69"
          ],
          [
           1322,
           "60-69"
          ],
          [
           55765,
           "60-69"
          ],
          [
           6566,
           "60-69"
          ],
          [
           5220,
           "60-69"
          ],
          [
           2139,
           "60-69"
          ],
          [
           6601,
           "60-69"
          ],
          [
           1559,
           "60-69"
          ],
          [
           4639,
           "60-69"
          ],
          [
           6109,
           "60-69"
          ],
          [
           4606,
           "60-69"
          ],
          [
           11541,
           "60-69"
          ],
          [
           3014,
           "60-69"
          ],
          [
           1615,
           "60-69"
          ],
          [
           3104,
           "60-69"
          ],
          [
           4823,
           "60-69"
          ],
          [
           2159,
           "60-69"
          ],
          [
           5909,
           "60-69"
          ],
          [
           1142,
           "60-69"
          ],
          [
           1588,
           "60-69"
          ],
          [
           3866,
           "60-69"
          ],
          [
           1435,
           "60-69"
          ],
          [
           1172,
           "60-69"
          ],
          [
           1671,
           "60-69"
          ],
          [
           606,
           "60-69"
          ],
          [
           1808,
           "60-69"
          ],
          [
           517,
           "60-69"
          ],
          [
           1243,
           "60-69"
          ],
          [
           1177,
           "60-69"
          ],
          [
           1238,
           "60-69"
          ],
          [
           1906,
           "60-69"
          ],
          [
           10126,
           "60-69"
          ],
          [
           3160,
           "60-69"
          ],
          [
           1378,
           "60-69"
          ],
          [
           1901,
           "60-69"
          ],
          [
           3245,
           "60-69"
          ],
          [
           2027,
           "60-69"
          ],
          [
           913,
           "60-69"
          ],
          [
           795,
           "60-69"
          ],
          [
           1887,
           "60-69"
          ],
          [
           1284,
           "60-69"
          ],
          [
           905,
           "60-69"
          ],
          [
           731,
           "60-69"
          ],
          [
           15153,
           "60-69"
          ],
          [
           2169,
           "60-69"
          ],
          [
           1654,
           "60-69"
          ],
          [
           3527,
           "60-69"
          ],
          [
           1344,
           "60-69"
          ],
          [
           2922,
           "60-69"
          ],
          [
           663,
           "60-69"
          ],
          [
           1188,
           "60-69"
          ],
          [
           1090,
           "60-69"
          ],
          [
           1859,
           "60-69"
          ],
          [
           778,
           "60-69"
          ],
          [
           15701,
           "60-69"
          ],
          [
           2825,
           "60-69"
          ],
          [
           1539,
           "60-69"
          ],
          [
           3127,
           "60-69"
          ],
          [
           1713,
           "60-69"
          ],
          [
           893,
           "60-69"
          ],
          [
           1339,
           "60-69"
          ],
          [
           1334,
           "60-69"
          ],
          [
           2191,
           "60-69"
          ],
          [
           1574,
           "60-69"
          ],
          [
           942,
           "60-69"
          ],
          [
           964,
           "60-69"
          ],
          [
           1590,
           "60-69"
          ],
          [
           2688,
           "60-69"
          ],
          [
           6786,
           "60-69"
          ],
          [
           5643,
           "60-69"
          ],
          [
           1525,
           "60-69"
          ],
          [
           2106,
           "60-69"
          ],
          [
           2934,
           "60-69"
          ],
          [
           3190,
           "60-69"
          ],
          [
           873,
           "60-69"
          ],
          [
           1342,
           "60-69"
          ],
          [
           1538,
           "60-69"
          ],
          [
           1295,
           "60-69"
          ],
          [
           2531,
           "60-69"
          ],
          [
           11209,
           "60-69"
          ],
          [
           4651,
           "60-69"
          ],
          [
           3496,
           "60-69"
          ],
          [
           3422,
           "60-69"
          ],
          [
           4881,
           "60-69"
          ],
          [
           1416,
           "60-69"
          ],
          [
           2090,
           "60-69"
          ],
          [
           3007,
           "60-69"
          ],
          [
           11001,
           "60-69"
          ],
          [
           2661,
           "60-69"
          ],
          [
           2740,
           "60-69"
          ],
          [
           6786,
           "60-69"
          ],
          [
           741,
           "60-69"
          ],
          [
           948,
           "60-69"
          ],
          [
           1781,
           "60-69"
          ],
          [
           1691,
           "60-69"
          ],
          [
           1333,
           "60-69"
          ],
          [
           1024,
           "60-69"
          ],
          [
           1446,
           "60-69"
          ],
          [
           6991,
           "60-69"
          ],
          [
           954,
           "60-69"
          ],
          [
           301,
           "60-69"
          ],
          [
           726,
           "60-69"
          ],
          [
           1009,
           "60-69"
          ],
          [
           576,
           "60-69"
          ],
          [
           450,
           "60-69"
          ],
          [
           870,
           "60-69"
          ],
          [
           365,
           "60-69"
          ],
          [
           398,
           "60-69"
          ],
          [
           967,
           "60-69"
          ],
          [
           972,
           "60-69"
          ],
          [
           401,
           "60-69"
          ],
          [
           12082,
           "60-69"
          ],
          [
           1555,
           "60-69"
          ],
          [
           9152,
           "60-69"
          ],
          [
           860,
           "60-69"
          ],
          [
           407,
           "60-69"
          ],
          [
           734,
           "60-69"
          ],
          [
           560,
           "60-69"
          ],
          [
           2253,
           "60-69"
          ],
          [
           737,
           "60-69"
          ],
          [
           956,
           "60-69"
          ],
          [
           2392,
           "60-69"
          ],
          [
           1033,
           "60-69"
          ],
          [
           8757,
           "60-69"
          ],
          [
           5169,
           "60-69"
          ],
          [
           3577,
           "60-69"
          ],
          [
           1488,
           "60-69"
          ],
          [
           2781,
           "60-69"
          ]
         ],
         "hovertemplate": "<b>%{hovertext}</b><br><br>Ålder=%{customdata[1]}<br>Län_namn=%{x}<br>VIR=%{y}<br>Befolkning=%{customdata[0]}<extra></extra>",
         "hovertext": [
          "Upplands Väsby",
          "Vallentuna",
          "Österåker",
          "Värmdö",
          "Järfälla",
          "Ekerö",
          "Huddinge",
          "Botkyrka",
          "Salem",
          "Haninge",
          "Tyresö",
          "Upplands-Bro",
          "Nykvarn",
          "Täby",
          "Danderyd",
          "Sollentuna",
          "Stockholm",
          "Södertälje",
          "Nacka",
          "Sundbyberg",
          "Solna",
          "Lidingö",
          "Vaxholm",
          "Norrtälje",
          "Sigtuna",
          "Nynäshamn",
          "Håbo",
          "Älvkarleby",
          "Knivsta",
          "Heby",
          "Tierp",
          "Uppsala",
          "Enköping",
          "Östhammar",
          "Vingåker",
          "Gnesta",
          "Nyköping",
          "Oxelösund",
          "Flen",
          "Katrineholm",
          "Eskilstuna",
          "Strängnäs",
          "Trosa",
          "Ödeshög",
          "Ydre",
          "Kinda",
          "Boxholm",
          "Åtvidaberg",
          "Finspång",
          "Valdemarsvik",
          "Linköping",
          "Norrköping",
          "Söderköping",
          "Motala",
          "Vadstena",
          "Mjölby",
          "Aneby",
          "Gnosjö",
          "Mullsjö",
          "Habo",
          "Gislaved",
          "Vaggeryd",
          "Jönköping",
          "Nässjö",
          "Värnamo",
          "Sävsjö",
          "Vetlanda",
          "Eksjö",
          "Tranås",
          "Uppvidinge",
          "Lessebo",
          "Tingsryd",
          "Alvesta",
          "Älmhult",
          "Markaryd",
          "Växjö",
          "Ljungby",
          "Högsby",
          "Torsås",
          "Mörbylånga",
          "Hultsfred",
          "Mönsterås",
          "Emmaboda",
          "Kalmar",
          "Nybro",
          "Oskarshamn",
          "Västervik",
          "Vimmerby",
          "Borgholm",
          "Gotland",
          "Olofström",
          "Karlskrona",
          "Ronneby",
          "Karlshamn",
          "Sölvesborg",
          "Svalöv",
          "Staffanstorp",
          "Burlöv",
          "Vellinge",
          "Östra Göinge",
          "Örkelljunga",
          "Bjuv",
          "Kävlinge",
          "Lomma",
          "Svedala",
          "Skurup",
          "Sjöbo",
          "Hörby",
          "Höör",
          "Tomelilla",
          "Bromölla",
          "Osby",
          "Perstorp",
          "Klippan",
          "Åstorp",
          "Båstad",
          "Malmö",
          "Lund",
          "Landskrona",
          "Helsingborg",
          "Höganäs",
          "Eslöv",
          "Ystad",
          "Trelleborg",
          "Kristianstad",
          "Simrishamn",
          "Ängelholm",
          "Hässleholm",
          "Hylte",
          "Halmstad",
          "Laholm",
          "Falkenberg",
          "Varberg",
          "Kungsbacka",
          "Härryda",
          "Partille",
          "Öckerö",
          "Stenungsund",
          "Tjörn",
          "Orust",
          "Sotenäs",
          "Munkedal",
          "Tanum",
          "Dals-Ed",
          "Färgelanda",
          "Ale",
          "Lerum",
          "Vårgårda",
          "Bollebygd",
          "Grästorp",
          "Essunga",
          "Karlsborg",
          "Gullspång",
          "Tranemo",
          "Bengtsfors",
          "Mellerud",
          "Lilla Edet",
          "Mark",
          "Svenljunga",
          "Herrljunga",
          "Vara",
          "Götene",
          "Tibro",
          "Töreboda",
          "Göteborg",
          "Mölndal",
          "Kungälv",
          "Lysekil",
          "Uddevalla",
          "Strömstad",
          "Vänersborg",
          "Trollhättan",
          "Alingsås",
          "Borås",
          "Ulricehamn",
          "Åmål",
          "Mariestad",
          "Lidköping",
          "Skara",
          "Skövde",
          "Hjo",
          "Tidaholm",
          "Falköping",
          "Kil",
          "Eda",
          "Torsby",
          "Storfors",
          "Hammarö",
          "Munkfors",
          "Forshaga",
          "Grums",
          "Årjäng",
          "Sunne",
          "Karlstad",
          "Kristinehamn",
          "Filipstad",
          "Hagfors",
          "Arvika",
          "Säffle",
          "Lekeberg",
          "Laxå",
          "Hallsberg",
          "Degerfors",
          "Hällefors",
          "Ljusnarsberg",
          "Örebro",
          "Kumla",
          "Askersund",
          "Karlskoga",
          "Nora",
          "Lindesberg",
          "Skinnskatteberg",
          "Surahammar",
          "Kungsör",
          "Hallstahammar",
          "Norberg",
          "Västerås",
          "Sala",
          "Fagersta",
          "Köping",
          "Arboga",
          "Vansbro",
          "Malung-Sälen",
          "Gagnef",
          "Leksand",
          "Rättvik",
          "Orsa",
          "Älvdalen",
          "Smedjebacken",
          "Mora",
          "Falun",
          "Borlänge",
          "Säter",
          "Hedemora",
          "Avesta",
          "Ludvika",
          "Ockelbo",
          "Hofors",
          "Ovanåker",
          "Nordanstig",
          "Ljusdal",
          "Gävle",
          "Sandviken",
          "Söderhamn",
          "Bollnäs",
          "Hudiksvall",
          "Ånge",
          "Timrå",
          "Härnösand",
          "Sundsvall",
          "Kramfors",
          "Sollefteå",
          "Örnsköldsvik",
          "Ragunda",
          "Bräcke",
          "Krokom",
          "Strömsund",
          "Åre",
          "Berg",
          "Härjedalen",
          "Östersund",
          "Nordmaling",
          "Bjurholm",
          "Vindeln",
          "Robertsfors",
          "Norsjö",
          "Malå",
          "Storuman",
          "Sorsele",
          "Dorotea",
          "Vännäs",
          "Vilhelmina",
          "Åsele",
          "Umeå",
          "Lycksele",
          "Skellefteå",
          "Arvidsjaur",
          "Arjeplog",
          "Jokkmokk",
          "Överkalix",
          "Kalix",
          "Övertorneå",
          "Pajala",
          "Gällivare",
          "Älvsbyn",
          "Luleå",
          "Piteå",
          "Boden",
          "Haparanda",
          "Kiruna"
         ],
         "legendgroup": "60-69",
         "marker": {
          "color": "#FF6692",
          "symbol": "circle"
         },
         "mode": "markers",
         "name": "60-69",
         "showlegend": true,
         "type": "scattergl",
         "x": [
          "Stockholms län",
          "Stockholms län",
          "Stockholms län",
          "Stockholms län",
          "Stockholms län",
          "Stockholms län",
          "Stockholms län",
          "Stockholms län",
          "Stockholms län",
          "Stockholms län",
          "Stockholms län",
          "Stockholms län",
          "Stockholms län",
          "Stockholms län",
          "Stockholms län",
          "Stockholms län",
          "Stockholms län",
          "Stockholms län",
          "Stockholms län",
          "Stockholms län",
          "Stockholms län",
          "Stockholms län",
          "Stockholms län",
          "Stockholms län",
          "Stockholms län",
          "Stockholms län",
          "Uppsala län",
          "Uppsala län",
          "Uppsala län",
          "Uppsala län",
          "Uppsala län",
          "Uppsala län",
          "Uppsala län",
          "Uppsala län",
          "Södermanlands län",
          "Södermanlands län",
          "Södermanlands län",
          "Södermanlands län",
          "Södermanlands län",
          "Södermanlands län",
          "Södermanlands län",
          "Södermanlands län",
          "Södermanlands län",
          "Östergötlands län",
          "Östergötlands län",
          "Östergötlands län",
          "Östergötlands län",
          "Östergötlands län",
          "Östergötlands län",
          "Östergötlands län",
          "Östergötlands län",
          "Östergötlands län",
          "Östergötlands län",
          "Östergötlands län",
          "Östergötlands län",
          "Östergötlands län",
          "Jönköpings län",
          "Jönköpings län",
          "Jönköpings län",
          "Jönköpings län",
          "Jönköpings län",
          "Jönköpings län",
          "Jönköpings län",
          "Jönköpings län",
          "Jönköpings län",
          "Jönköpings län",
          "Jönköpings län",
          "Jönköpings län",
          "Jönköpings län",
          "Kronobergs län",
          "Kronobergs län",
          "Kronobergs län",
          "Kronobergs län",
          "Kronobergs län",
          "Kronobergs län",
          "Kronobergs län",
          "Kronobergs län",
          "Kalmar län",
          "Kalmar län",
          "Kalmar län",
          "Kalmar län",
          "Kalmar län",
          "Kalmar län",
          "Kalmar län",
          "Kalmar län",
          "Kalmar län",
          "Kalmar län",
          "Kalmar län",
          "Kalmar län",
          "Gotlands län",
          "Blekinge län",
          "Blekinge län",
          "Blekinge län",
          "Blekinge län",
          "Blekinge län",
          "Skåne län",
          "Skåne län",
          "Skåne län",
          "Skåne län",
          "Skåne län",
          "Skåne län",
          "Skåne län",
          "Skåne län",
          "Skåne län",
          "Skåne län",
          "Skåne län",
          "Skåne län",
          "Skåne län",
          "Skåne län",
          "Skåne län",
          "Skåne län",
          "Skåne län",
          "Skåne län",
          "Skåne län",
          "Skåne län",
          "Skåne län",
          "Skåne län",
          "Skåne län",
          "Skåne län",
          "Skåne län",
          "Skåne län",
          "Skåne län",
          "Skåne län",
          "Skåne län",
          "Skåne län",
          "Skåne län",
          "Skåne län",
          "Skåne län",
          "Hallands län",
          "Hallands län",
          "Hallands län",
          "Hallands län",
          "Hallands län",
          "Hallands län",
          "Västra Götalands län",
          "Västra Götalands län",
          "Västra Götalands län",
          "Västra Götalands län",
          "Västra Götalands län",
          "Västra Götalands län",
          "Västra Götalands län",
          "Västra Götalands län",
          "Västra Götalands län",
          "Västra Götalands län",
          "Västra Götalands län",
          "Västra Götalands län",
          "Västra Götalands län",
          "Västra Götalands län",
          "Västra Götalands län",
          "Västra Götalands län",
          "Västra Götalands län",
          "Västra Götalands län",
          "Västra Götalands län",
          "Västra Götalands län",
          "Västra Götalands län",
          "Västra Götalands län",
          "Västra Götalands län",
          "Västra Götalands län",
          "Västra Götalands län",
          "Västra Götalands län",
          "Västra Götalands län",
          "Västra Götalands län",
          "Västra Götalands län",
          "Västra Götalands län",
          "Västra Götalands län",
          "Västra Götalands län",
          "Västra Götalands län",
          "Västra Götalands län",
          "Västra Götalands län",
          "Västra Götalands län",
          "Västra Götalands län",
          "Västra Götalands län",
          "Västra Götalands län",
          "Västra Götalands län",
          "Västra Götalands län",
          "Västra Götalands län",
          "Västra Götalands län",
          "Västra Götalands län",
          "Västra Götalands län",
          "Västra Götalands län",
          "Västra Götalands län",
          "Västra Götalands län",
          "Västra Götalands län",
          "Värmlands län",
          "Värmlands län",
          "Värmlands län",
          "Värmlands län",
          "Värmlands län",
          "Värmlands län",
          "Värmlands län",
          "Värmlands län",
          "Värmlands län",
          "Värmlands län",
          "Värmlands län",
          "Värmlands län",
          "Värmlands län",
          "Värmlands län",
          "Värmlands län",
          "Värmlands län",
          "Örebro län",
          "Örebro län",
          "Örebro län",
          "Örebro län",
          "Örebro län",
          "Örebro län",
          "Örebro län",
          "Örebro län",
          "Örebro län",
          "Örebro län",
          "Örebro län",
          "Örebro län",
          "Västmanlands län",
          "Västmanlands län",
          "Västmanlands län",
          "Västmanlands län",
          "Västmanlands län",
          "Västmanlands län",
          "Västmanlands län",
          "Västmanlands län",
          "Västmanlands län",
          "Västmanlands län",
          "Dalarnas län",
          "Dalarnas län",
          "Dalarnas län",
          "Dalarnas län",
          "Dalarnas län",
          "Dalarnas län",
          "Dalarnas län",
          "Dalarnas län",
          "Dalarnas län",
          "Dalarnas län",
          "Dalarnas län",
          "Dalarnas län",
          "Dalarnas län",
          "Dalarnas län",
          "Dalarnas län",
          "Gävleborgs län",
          "Gävleborgs län",
          "Gävleborgs län",
          "Gävleborgs län",
          "Gävleborgs län",
          "Gävleborgs län",
          "Gävleborgs län",
          "Gävleborgs län",
          "Gävleborgs län",
          "Gävleborgs län",
          "Västernorrlands län",
          "Västernorrlands län",
          "Västernorrlands län",
          "Västernorrlands län",
          "Västernorrlands län",
          "Västernorrlands län",
          "Västernorrlands län",
          "Jämtlands län",
          "Jämtlands län",
          "Jämtlands län",
          "Jämtlands län",
          "Jämtlands län",
          "Jämtlands län",
          "Jämtlands län",
          "Jämtlands län",
          "Västerbottens län",
          "Västerbottens län",
          "Västerbottens län",
          "Västerbottens län",
          "Västerbottens län",
          "Västerbottens län",
          "Västerbottens län",
          "Västerbottens län",
          "Västerbottens län",
          "Västerbottens län",
          "Västerbottens län",
          "Västerbottens län",
          "Västerbottens län",
          "Västerbottens län",
          "Västerbottens län",
          "Norrbottens län",
          "Norrbottens län",
          "Norrbottens län",
          "Norrbottens län",
          "Norrbottens län",
          "Norrbottens län",
          "Norrbottens län",
          "Norrbottens län",
          "Norrbottens län",
          "Norrbottens län",
          "Norrbottens län",
          "Norrbottens län",
          "Norrbottens län",
          "Norrbottens län"
         ],
         "xaxis": "x",
         "y": [
          1.1230086184382344,
          0.7692307692307693,
          0.894328077194634,
          0.8963707914298208,
          1.1904761904761905,
          0.5865102639296188,
          1.5651201788708775,
          2.082184225041368,
          1.8945634266886324,
          1.3106525376464027,
          1.0464833292771965,
          1.4711892112791174,
          0.81799591002045,
          1.190844416950201,
          1.3113651647612643,
          1.0910224438902745,
          1.4767788472478214,
          1.358038899758315,
          0.9280241717923816,
          1.7411764705882353,
          1.462968607131972,
          1.316655694535879,
          0.6716417910447761,
          0.8925340730913038,
          1.4691235059760956,
          1.4572538860103628,
          0.5128205128205128,
          0.17137960582690662,
          0.6788866259334692,
          0.5509641873278237,
          0.5332239540607054,
          0.7344059525535102,
          0.4259634888438134,
          0.23624704691191362,
          0.35650623885918004,
          1.1281224818694602,
          0.3975826972010178,
          0.7654836464857342,
          0.6806028196402528,
          0.6915983606557377,
          0.9036144578313252,
          0.605913717886573,
          0.4278728606356968,
          0.16393442622950818,
          0.1851851851851852,
          0.07739938080495357,
          0.4285714285714286,
          0.14641288433382138,
          0.48602673147023084,
          0.7744433688286544,
          0.46782832734422675,
          0.4439988541965053,
          0.27517886626307103,
          0.2552523070881602,
          0.09823182711198428,
          0.3100241129865656,
          0.45871559633027525,
          0.0979431929480901,
          0.12886597938144329,
          0.6102877070619006,
          0.561973150171714,
          0.34458993797381116,
          0.4011107682813947,
          0.3536693191865605,
          0.32844871147043964,
          1.056910569105691,
          0.5203252032520325,
          0.2413127413127413,
          0.2579979360165119,
          0.8080808080808081,
          0.21482277121374865,
          0.4539559014267186,
          0.45977011494252873,
          0.5995203836930456,
          0.9191176470588236,
          0.6250737115225853,
          0.8948545861297539,
          1.1642949547218628,
          0.5599104143337066,
          0.29791459781529295,
          0.49450549450549447,
          0.5984440454817475,
          0.5998286203941731,
          0.42010719976821675,
          0.6089604175728578,
          0.446888965280165,
          0.5247691015952981,
          0.16189962223421478,
          0.46003450258769407,
          0.3710337768679631,
          0.5901639344262295,
          0.4750593824228029,
          0.7035497281739687,
          0.42158516020236086,
          0.517403574788335,
          0.6550218340611353,
          0.538160469667319,
          0.7738095238095238,
          0.6369426751592357,
          1.051939513477975,
          0.6688963210702341,
          0.7318695941450433,
          0.8199776369735371,
          0.40723981900452494,
          0.40858018386108275,
          0.8298755186721992,
          0.6380263717566993,
          0.5079006772009029,
          0.3711558854718982,
          0.7005253940455342,
          0.22058823529411764,
          0.5532503457814661,
          1.0554089709762533,
          0.7675438596491228,
          0.5921539600296076,
          0.3312825366777094,
          1.3433369060378706,
          0.7912128828074094,
          0.6924908028565245,
          0.934054357749842,
          0.8403361344537815,
          0.33752684872660327,
          0.5836082212636386,
          0.8629545921512225,
          0.5717427157778999,
          0.729419937478291,
          0.5307855626326964,
          0.6214585998903308,
          0.5993150684931506,
          0.47375036256405295,
          0.6265664160401002,
          0.28538812785388123,
          0.43729903536977494,
          0.5656375206222013,
          0.5698005698005698,
          0.5228398458998349,
          0.6031363088057901,
          0.7118771075309105,
          0.3120820329915292,
          0.44682752457551383,
          0.633356790992259,
          0.3177124702144559,
          0.603400987383434,
          0.7677543186180422,
          0.9478672985781991,
          0.712143928035982,
          0.4263256061817213,
          1.0260457774269929,
          0.7246376811594203,
          0.6793478260869565,
          1.0248901903367496,
          0.5868544600938966,
          1.2755102040816326,
          0.3703703703703704,
          0.6796941376380629,
          0.7738607050730868,
          1.0262989095574084,
          0.9943906170321265,
          0.46911649726348714,
          1.2867647058823528,
          0.9674134419551934,
          0.46756282875511396,
          0.7305194805194805,
          0.5691056910569106,
          1.2173226792936767,
          0.6818181818181818,
          0.32460945425035503,
          0.5931784478497282,
          0.5767382249279077,
          1.3103448275862069,
          0.6805807622504537,
          0.9316224292494287,
          0.4838709677419355,
          0.6471581316826112,
          0.8568368439842914,
          0.39447731755424065,
          0.5427408412483039,
          0.4537597234226448,
          0.24630541871921183,
          0.5206463195691202,
          0.27522935779816515,
          0.47425474254742545,
          0.8651967624895338,
          0.4313443565780014,
          0.91324200913242,
          0.5063291139240507,
          0.35211267605633806,
          0.46003450258769407,
          0.8264462809917356,
          0.6773920406435224,
          0.539568345323741,
          1.0247651579846286,
          0.6703910614525139,
          0.37956503898235533,
          0.29980013324450366,
          0.5555555555555556,
          0.7518796992481203,
          0.29249268768280795,
          0.5200208008320333,
          0.34965034965034963,
          0.1366120218579235,
          0.39592760180995473,
          1.1035653650254669,
          0.6060606060606061,
          1.9877675840978593,
          0.5008111730267334,
          0.24330900243309003,
          0.19243104554201412,
          0.23717758671805514,
          0.31746031746031744,
          0.5512679162072767,
          0.3194888178913738,
          0.9009009009009009,
          0.6993006993006993,
          0.6282124500285551,
          0.6915629322268326,
          0.7772370911057042,
          0.49093655589123864,
          0.9722222222222222,
          0.4436860068259386,
          0.30902348578491967,
          0.8413461538461539,
          0.4838709677419355,
          0.5372217958557176,
          0.5763688760806917,
          0.554016620498615,
          0.46565774155995343,
          0.33975084937712347,
          0.5329780146568954,
          0.31974420463629094,
          0.542803970223325,
          0.4484304932735426,
          0.4216444132115249,
          0.4543160020191822,
          0.6856730422230242,
          0.40214477211796246,
          0.3708281829419036,
          1.1961722488038278,
          0.4123711340206186,
          1.4406779661016949,
          0.5598621877691645,
          0.5408996014423989,
          0.6648326455754241,
          0.9547274407145057,
          0.6879299562226392,
          0.5882352941176471,
          0.14970059880239522,
          0.4610655737704918,
          0.49019607843137253,
          0.5101058710298364,
          0.5319148936170213,
          0.5158730158730158,
          0.38645849435770596,
          0.43478260869565216,
          0.7874015748031495,
          0.24052916416115455,
          0.3158559696778269,
          0.949367088607595,
          0.21299254526091588,
          0.7309941520467835,
          0.5164034021871203,
          0.5537098560354374,
          0.3436426116838488,
          0,
          0.5112474437627812,
          0.1773049645390071,
          0,
          0.3575685339690107,
          0.8771929824561403,
          0.79155672823219,
          0.5330490405117271,
          0.9814612868047983,
          0.8,
          0.34258307639602603,
          0.20107238605898123,
          0.38675918553065636,
          0.12165450121654502,
          0.2583979328165375,
          0.2898550724637681,
          0.7604562737642585,
          0.5154639175257731,
          0.6963788300835655,
          0.776914539400666,
          0.441696113074205,
          0.40691759918616477,
          0.46417519638181387,
          0.3020539669754329,
          0.3206062372486156,
          0.44150110375275936,
          0.5664652567975831
         ],
         "yaxis": "y"
        },
        {
         "customdata": [
          [
           3987,
           "70-79"
          ],
          [
           2651,
           "70-79"
          ],
          [
           4601,
           "70-79"
          ],
          [
           4324,
           "70-79"
          ],
          [
           6383,
           "70-79"
          ],
          [
           2514,
           "70-79"
          ],
          [
           7642,
           "70-79"
          ],
          [
           6714,
           "70-79"
          ],
          [
           1452,
           "70-79"
          ],
          [
           7213,
           "70-79"
          ],
          [
           3974,
           "70-79"
          ],
          [
           2460,
           "70-79"
          ],
          [
           986,
           "70-79"
          ],
          [
           6743,
           "70-79"
          ],
          [
           3021,
           "70-79"
          ],
          [
           5646,
           "70-79"
          ],
          [
           73370,
           "70-79"
          ],
          [
           7532,
           "70-79"
          ],
          [
           8970,
           "70-79"
          ],
          [
           3380,
           "70-79"
          ],
          [
           6272,
           "70-79"
          ],
          [
           4835,
           "70-79"
          ],
          [
           1491,
           "70-79"
          ],
          [
           9059,
           "70-79"
          ],
          [
           3432,
           "70-79"
          ],
          [
           3311,
           "70-79"
          ],
          [
           2135,
           "70-79"
          ],
          [
           1165,
           "70-79"
          ],
          [
           1472,
           "70-79"
          ],
          [
           1684,
           "70-79"
          ],
          [
           2491,
           "70-79"
          ],
          [
           19982,
           "70-79"
          ],
          [
           4790,
           "70-79"
          ],
          [
           3195,
           "70-79"
          ],
          [
           1253,
           "70-79"
          ],
          [
           1448,
           "70-79"
          ],
          [
           6765,
           "70-79"
          ],
          [
           1663,
           "70-79"
          ],
          [
           2366,
           "70-79"
          ],
          [
           3934,
           "70-79"
          ],
          [
           10572,
           "70-79"
          ],
          [
           4448,
           "70-79"
          ],
          [
           1961,
           "70-79"
          ],
          [
           794,
           "70-79"
          ],
          [
           592,
           "70-79"
          ],
          [
           1297,
           "70-79"
          ],
          [
           744,
           "70-79"
          ],
          [
           1495,
           "70-79"
          ],
          [
           2678,
           "70-79"
          ],
          [
           1314,
           "70-79"
          ],
          [
           13586,
           "70-79"
          ],
          [
           13653,
           "70-79"
          ],
          [
           1902,
           "70-79"
          ],
          [
           5036,
           "70-79"
          ],
          [
           1245,
           "70-79"
          ],
          [
           2969,
           "70-79"
          ],
          [
           745,
           "70-79"
          ],
          [
           1027,
           "70-79"
          ],
          [
           975,
           "70-79"
          ],
          [
           1177,
           "70-79"
          ],
          [
           2894,
           "70-79"
          ],
          [
           1415,
           "70-79"
          ],
          [
           12944,
           "70-79"
          ],
          [
           3313,
           "70-79"
          ],
          [
           3500,
           "70-79"
          ],
          [
           1342,
           "70-79"
          ],
          [
           3175,
           "70-79"
          ],
          [
           2149,
           "70-79"
          ],
          [
           2204,
           "70-79"
          ],
          [
           1109,
           "70-79"
          ],
          [
           1072,
           "70-79"
          ],
          [
           1604,
           "70-79"
          ],
          [
           2187,
           "70-79"
          ],
          [
           1721,
           "70-79"
          ],
          [
           1246,
           "70-79"
          ],
          [
           8768,
           "70-79"
          ],
          [
           3249,
           "70-79"
          ],
          [
           736,
           "70-79"
          ],
          [
           1035,
           "70-79"
          ],
          [
           2316,
           "70-79"
          ],
          [
           1806,
           "70-79"
          ],
          [
           1705,
           "70-79"
          ],
          [
           1205,
           "70-79"
          ],
          [
           6922,
           "70-79"
          ],
          [
           2365,
           "70-79"
          ],
          [
           3237,
           "70-79"
          ],
          [
           5305,
           "70-79"
          ],
          [
           1908,
           "70-79"
          ],
          [
           2024,
           "70-79"
          ],
          [
           7900,
           "70-79"
          ],
          [
           1614,
           "70-79"
          ],
          [
           7302,
           "70-79"
          ],
          [
           3495,
           "70-79"
          ],
          [
           3842,
           "70-79"
          ],
          [
           2265,
           "70-79"
          ],
          [
           1311,
           "70-79"
          ],
          [
           2289,
           "70-79"
          ],
          [
           1590,
           "70-79"
          ],
          [
           4348,
           "70-79"
          ],
          [
           1659,
           "70-79"
          ],
          [
           1201,
           "70-79"
          ],
          [
           1503,
           "70-79"
          ],
          [
           3205,
           "70-79"
          ],
          [
           2456,
           "70-79"
          ],
          [
           2028,
           "70-79"
          ],
          [
           1721,
           "70-79"
          ],
          [
           2228,
           "70-79"
          ],
          [
           1768,
           "70-79"
          ],
          [
           1780,
           "70-79"
          ],
          [
           1705,
           "70-79"
          ],
          [
           1570,
           "70-79"
          ],
          [
           1608,
           "70-79"
          ],
          [
           768,
           "70-79"
          ],
          [
           1989,
           "70-79"
          ],
          [
           1419,
           "70-79"
          ],
          [
           2410,
           "70-79"
          ],
          [
           24925,
           "70-79"
          ],
          [
           10745,
           "70-79"
          ],
          [
           4819,
           "70-79"
          ],
          [
           13575,
           "70-79"
          ],
          [
           3826,
           "70-79"
          ],
          [
           3088,
           "70-79"
          ],
          [
           4446,
           "70-79"
          ],
          [
           4832,
           "70-79"
          ],
          [
           9093,
           "70-79"
          ],
          [
           3364,
           "70-79"
          ],
          [
           5154,
           "70-79"
          ],
          [
           5809,
           "70-79"
          ],
          [
           1133,
           "70-79"
          ],
          [
           10329,
           "70-79"
          ],
          [
           3390,
           "70-79"
          ],
          [
           5555,
           "70-79"
          ],
          [
           8033,
           "70-79"
          ],
          [
           8404,
           "70-79"
          ],
          [
           3136,
           "70-79"
          ],
          [
           3191,
           "70-79"
          ],
          [
           1718,
           "70-79"
          ],
          [
           2644,
           "70-79"
          ],
          [
           2379,
           "70-79"
          ],
          [
           2381,
           "70-79"
          ],
          [
           1673,
           "70-79"
          ],
          [
           1268,
           "70-79"
          ],
          [
           1931,
           "70-79"
          ],
          [
           671,
           "70-79"
          ],
          [
           833,
           "70-79"
          ],
          [
           2866,
           "70-79"
          ],
          [
           3701,
           "70-79"
          ],
          [
           1265,
           "70-79"
          ],
          [
           1040,
           "70-79"
          ],
          [
           745,
           "70-79"
          ],
          [
           769,
           "70-79"
          ],
          [
           1118,
           "70-79"
          ],
          [
           839,
           "70-79"
          ],
          [
           1483,
           "70-79"
          ],
          [
           1417,
           "70-79"
          ],
          [
           1286,
           "70-79"
          ],
          [
           1441,
           "70-79"
          ],
          [
           3923,
           "70-79"
          ],
          [
           1395,
           "70-79"
          ],
          [
           1174,
           "70-79"
          ],
          [
           1820,
           "70-79"
          ],
          [
           1750,
           "70-79"
          ],
          [
           1310,
           "70-79"
          ],
          [
           1232,
           "70-79"
          ],
          [
           44288,
           "70-79"
          ],
          [
           5254,
           "70-79"
          ],
          [
           4597,
           "70-79"
          ],
          [
           2165,
           "70-79"
          ],
          [
           5688,
           "70-79"
          ],
          [
           1525,
           "70-79"
          ],
          [
           4357,
           "70-79"
          ],
          [
           5439,
           "70-79"
          ],
          [
           4717,
           "70-79"
          ],
          [
           10403,
           "70-79"
          ],
          [
           2864,
           "70-79"
          ],
          [
           1544,
           "70-79"
          ],
          [
           3121,
           "70-79"
          ],
          [
           4626,
           "70-79"
          ],
          [
           2086,
           "70-79"
          ],
          [
           5288,
           "70-79"
          ],
          [
           1267,
           "70-79"
          ],
          [
           1438,
           "70-79"
          ],
          [
           3397,
           "70-79"
          ],
          [
           1502,
           "70-79"
          ],
          [
           1011,
           "70-79"
          ],
          [
           1638,
           "70-79"
          ],
          [
           614,
           "70-79"
          ],
          [
           1643,
           "70-79"
          ],
          [
           460,
           "70-79"
          ],
          [
           1373,
           "70-79"
          ],
          [
           1209,
           "70-79"
          ],
          [
           1226,
           "70-79"
          ],
          [
           1609,
           "70-79"
          ],
          [
           9403,
           "70-79"
          ],
          [
           3280,
           "70-79"
          ],
          [
           1452,
           "70-79"
          ],
          [
           1617,
           "70-79"
          ],
          [
           3292,
           "70-79"
          ],
          [
           2021,
           "70-79"
          ],
          [
           874,
           "70-79"
          ],
          [
           807,
           "70-79"
          ],
          [
           1855,
           "70-79"
          ],
          [
           1394,
           "70-79"
          ],
          [
           940,
           "70-79"
          ],
          [
           701,
           "70-79"
          ],
          [
           14289,
           "70-79"
          ],
          [
           2218,
           "70-79"
          ],
          [
           1696,
           "70-79"
          ],
          [
           3622,
           "70-79"
          ],
          [
           1511,
           "70-79"
          ],
          [
           3037,
           "70-79"
          ],
          [
           686,
           "70-79"
          ],
          [
           1294,
           "70-79"
          ],
          [
           1063,
           "70-79"
          ],
          [
           1895,
           "70-79"
          ],
          [
           812,
           "70-79"
          ],
          [
           14704,
           "70-79"
          ],
          [
           2885,
           "70-79"
          ],
          [
           1525,
           "70-79"
          ],
          [
           3059,
           "70-79"
          ],
          [
           1845,
           "70-79"
          ],
          [
           912,
           "70-79"
          ],
          [
           1359,
           "70-79"
          ],
          [
           1356,
           "70-79"
          ],
          [
           2381,
           "70-79"
          ],
          [
           1889,
           "70-79"
          ],
          [
           926,
           "70-79"
          ],
          [
           979,
           "70-79"
          ],
          [
           1628,
           "70-79"
          ],
          [
           2860,
           "70-79"
          ],
          [
           6737,
           "70-79"
          ],
          [
           5164,
           "70-79"
          ],
          [
           1495,
           "70-79"
          ],
          [
           2032,
           "70-79"
          ],
          [
           2873,
           "70-79"
          ],
          [
           3219,
           "70-79"
          ],
          [
           938,
           "70-79"
          ],
          [
           1233,
           "70-79"
          ],
          [
           1636,
           "70-79"
          ],
          [
           1359,
           "70-79"
          ],
          [
           2662,
           "70-79"
          ],
          [
           10475,
           "70-79"
          ],
          [
           4596,
           "70-79"
          ],
          [
           3566,
           "70-79"
          ],
          [
           3463,
           "70-79"
          ],
          [
           5026,
           "70-79"
          ],
          [
           1219,
           "70-79"
          ],
          [
           2158,
           "70-79"
          ],
          [
           3383,
           "70-79"
          ],
          [
           10717,
           "70-79"
          ],
          [
           2649,
           "70-79"
          ],
          [
           2591,
           "70-79"
          ],
          [
           6781,
           "70-79"
          ],
          [
           724,
           "70-79"
          ],
          [
           923,
           "70-79"
          ],
          [
           1722,
           "70-79"
          ],
          [
           1676,
           "70-79"
          ],
          [
           1018,
           "70-79"
          ],
          [
           1004,
           "70-79"
          ],
          [
           1476,
           "70-79"
          ],
          [
           6990,
           "70-79"
          ],
          [
           966,
           "70-79"
          ],
          [
           325,
           "70-79"
          ],
          [
           744,
           "70-79"
          ],
          [
           877,
           "70-79"
          ],
          [
           560,
           "70-79"
          ],
          [
           417,
           "70-79"
          ],
          [
           803,
           "70-79"
          ],
          [
           322,
           "70-79"
          ],
          [
           367,
           "70-79"
          ],
          [
           905,
           "70-79"
          ],
          [
           825,
           "70-79"
          ],
          [
           422,
           "70-79"
          ],
          [
           11298,
           "70-79"
          ],
          [
           1444,
           "70-79"
          ],
          [
           8421,
           "70-79"
          ],
          [
           784,
           "70-79"
          ],
          [
           359,
           "70-79"
          ],
          [
           681,
           "70-79"
          ],
          [
           524,
           "70-79"
          ],
          [
           2198,
           "70-79"
          ],
          [
           749,
           "70-79"
          ],
          [
           1012,
           "70-79"
          ],
          [
           1997,
           "70-79"
          ],
          [
           1018,
           "70-79"
          ],
          [
           7924,
           "70-79"
          ],
          [
           5181,
           "70-79"
          ],
          [
           3532,
           "70-79"
          ],
          [
           1478,
           "70-79"
          ],
          [
           2194,
           "70-79"
          ]
         ],
         "hovertemplate": "<b>%{hovertext}</b><br><br>Ålder=%{customdata[1]}<br>Län_namn=%{x}<br>VIR=%{y}<br>Befolkning=%{customdata[0]}<extra></extra>",
         "hovertext": [
          "Upplands Väsby",
          "Vallentuna",
          "Österåker",
          "Värmdö",
          "Järfälla",
          "Ekerö",
          "Huddinge",
          "Botkyrka",
          "Salem",
          "Haninge",
          "Tyresö",
          "Upplands-Bro",
          "Nykvarn",
          "Täby",
          "Danderyd",
          "Sollentuna",
          "Stockholm",
          "Södertälje",
          "Nacka",
          "Sundbyberg",
          "Solna",
          "Lidingö",
          "Vaxholm",
          "Norrtälje",
          "Sigtuna",
          "Nynäshamn",
          "Håbo",
          "Älvkarleby",
          "Knivsta",
          "Heby",
          "Tierp",
          "Uppsala",
          "Enköping",
          "Östhammar",
          "Vingåker",
          "Gnesta",
          "Nyköping",
          "Oxelösund",
          "Flen",
          "Katrineholm",
          "Eskilstuna",
          "Strängnäs",
          "Trosa",
          "Ödeshög",
          "Ydre",
          "Kinda",
          "Boxholm",
          "Åtvidaberg",
          "Finspång",
          "Valdemarsvik",
          "Linköping",
          "Norrköping",
          "Söderköping",
          "Motala",
          "Vadstena",
          "Mjölby",
          "Aneby",
          "Gnosjö",
          "Mullsjö",
          "Habo",
          "Gislaved",
          "Vaggeryd",
          "Jönköping",
          "Nässjö",
          "Värnamo",
          "Sävsjö",
          "Vetlanda",
          "Eksjö",
          "Tranås",
          "Uppvidinge",
          "Lessebo",
          "Tingsryd",
          "Alvesta",
          "Älmhult",
          "Markaryd",
          "Växjö",
          "Ljungby",
          "Högsby",
          "Torsås",
          "Mörbylånga",
          "Hultsfred",
          "Mönsterås",
          "Emmaboda",
          "Kalmar",
          "Nybro",
          "Oskarshamn",
          "Västervik",
          "Vimmerby",
          "Borgholm",
          "Gotland",
          "Olofström",
          "Karlskrona",
          "Ronneby",
          "Karlshamn",
          "Sölvesborg",
          "Svalöv",
          "Staffanstorp",
          "Burlöv",
          "Vellinge",
          "Östra Göinge",
          "Örkelljunga",
          "Bjuv",
          "Kävlinge",
          "Lomma",
          "Svedala",
          "Skurup",
          "Sjöbo",
          "Hörby",
          "Höör",
          "Tomelilla",
          "Bromölla",
          "Osby",
          "Perstorp",
          "Klippan",
          "Åstorp",
          "Båstad",
          "Malmö",
          "Lund",
          "Landskrona",
          "Helsingborg",
          "Höganäs",
          "Eslöv",
          "Ystad",
          "Trelleborg",
          "Kristianstad",
          "Simrishamn",
          "Ängelholm",
          "Hässleholm",
          "Hylte",
          "Halmstad",
          "Laholm",
          "Falkenberg",
          "Varberg",
          "Kungsbacka",
          "Härryda",
          "Partille",
          "Öckerö",
          "Stenungsund",
          "Tjörn",
          "Orust",
          "Sotenäs",
          "Munkedal",
          "Tanum",
          "Dals-Ed",
          "Färgelanda",
          "Ale",
          "Lerum",
          "Vårgårda",
          "Bollebygd",
          "Grästorp",
          "Essunga",
          "Karlsborg",
          "Gullspång",
          "Tranemo",
          "Bengtsfors",
          "Mellerud",
          "Lilla Edet",
          "Mark",
          "Svenljunga",
          "Herrljunga",
          "Vara",
          "Götene",
          "Tibro",
          "Töreboda",
          "Göteborg",
          "Mölndal",
          "Kungälv",
          "Lysekil",
          "Uddevalla",
          "Strömstad",
          "Vänersborg",
          "Trollhättan",
          "Alingsås",
          "Borås",
          "Ulricehamn",
          "Åmål",
          "Mariestad",
          "Lidköping",
          "Skara",
          "Skövde",
          "Hjo",
          "Tidaholm",
          "Falköping",
          "Kil",
          "Eda",
          "Torsby",
          "Storfors",
          "Hammarö",
          "Munkfors",
          "Forshaga",
          "Grums",
          "Årjäng",
          "Sunne",
          "Karlstad",
          "Kristinehamn",
          "Filipstad",
          "Hagfors",
          "Arvika",
          "Säffle",
          "Lekeberg",
          "Laxå",
          "Hallsberg",
          "Degerfors",
          "Hällefors",
          "Ljusnarsberg",
          "Örebro",
          "Kumla",
          "Askersund",
          "Karlskoga",
          "Nora",
          "Lindesberg",
          "Skinnskatteberg",
          "Surahammar",
          "Kungsör",
          "Hallstahammar",
          "Norberg",
          "Västerås",
          "Sala",
          "Fagersta",
          "Köping",
          "Arboga",
          "Vansbro",
          "Malung-Sälen",
          "Gagnef",
          "Leksand",
          "Rättvik",
          "Orsa",
          "Älvdalen",
          "Smedjebacken",
          "Mora",
          "Falun",
          "Borlänge",
          "Säter",
          "Hedemora",
          "Avesta",
          "Ludvika",
          "Ockelbo",
          "Hofors",
          "Ovanåker",
          "Nordanstig",
          "Ljusdal",
          "Gävle",
          "Sandviken",
          "Söderhamn",
          "Bollnäs",
          "Hudiksvall",
          "Ånge",
          "Timrå",
          "Härnösand",
          "Sundsvall",
          "Kramfors",
          "Sollefteå",
          "Örnsköldsvik",
          "Ragunda",
          "Bräcke",
          "Krokom",
          "Strömsund",
          "Åre",
          "Berg",
          "Härjedalen",
          "Östersund",
          "Nordmaling",
          "Bjurholm",
          "Vindeln",
          "Robertsfors",
          "Norsjö",
          "Malå",
          "Storuman",
          "Sorsele",
          "Dorotea",
          "Vännäs",
          "Vilhelmina",
          "Åsele",
          "Umeå",
          "Lycksele",
          "Skellefteå",
          "Arvidsjaur",
          "Arjeplog",
          "Jokkmokk",
          "Överkalix",
          "Kalix",
          "Övertorneå",
          "Pajala",
          "Gällivare",
          "Älvsbyn",
          "Luleå",
          "Piteå",
          "Boden",
          "Haparanda",
          "Kiruna"
         ],
         "legendgroup": "70-79",
         "marker": {
          "color": "#B6E880",
          "symbol": "circle"
         },
         "mode": "markers",
         "name": "70-79",
         "showlegend": true,
         "type": "scattergl",
         "x": [
          "Stockholms län",
          "Stockholms län",
          "Stockholms län",
          "Stockholms län",
          "Stockholms län",
          "Stockholms län",
          "Stockholms län",
          "Stockholms län",
          "Stockholms län",
          "Stockholms län",
          "Stockholms län",
          "Stockholms län",
          "Stockholms län",
          "Stockholms län",
          "Stockholms län",
          "Stockholms län",
          "Stockholms län",
          "Stockholms län",
          "Stockholms län",
          "Stockholms län",
          "Stockholms län",
          "Stockholms län",
          "Stockholms län",
          "Stockholms län",
          "Stockholms län",
          "Stockholms län",
          "Uppsala län",
          "Uppsala län",
          "Uppsala län",
          "Uppsala län",
          "Uppsala län",
          "Uppsala län",
          "Uppsala län",
          "Uppsala län",
          "Södermanlands län",
          "Södermanlands län",
          "Södermanlands län",
          "Södermanlands län",
          "Södermanlands län",
          "Södermanlands län",
          "Södermanlands län",
          "Södermanlands län",
          "Södermanlands län",
          "Östergötlands län",
          "Östergötlands län",
          "Östergötlands län",
          "Östergötlands län",
          "Östergötlands län",
          "Östergötlands län",
          "Östergötlands län",
          "Östergötlands län",
          "Östergötlands län",
          "Östergötlands län",
          "Östergötlands län",
          "Östergötlands län",
          "Östergötlands län",
          "Jönköpings län",
          "Jönköpings län",
          "Jönköpings län",
          "Jönköpings län",
          "Jönköpings län",
          "Jönköpings län",
          "Jönköpings län",
          "Jönköpings län",
          "Jönköpings län",
          "Jönköpings län",
          "Jönköpings län",
          "Jönköpings län",
          "Jönköpings län",
          "Kronobergs län",
          "Kronobergs län",
          "Kronobergs län",
          "Kronobergs län",
          "Kronobergs län",
          "Kronobergs län",
          "Kronobergs län",
          "Kronobergs län",
          "Kalmar län",
          "Kalmar län",
          "Kalmar län",
          "Kalmar län",
          "Kalmar län",
          "Kalmar län",
          "Kalmar län",
          "Kalmar län",
          "Kalmar län",
          "Kalmar län",
          "Kalmar län",
          "Kalmar län",
          "Gotlands län",
          "Blekinge län",
          "Blekinge län",
          "Blekinge län",
          "Blekinge län",
          "Blekinge län",
          "Skåne län",
          "Skåne län",
          "Skåne län",
          "Skåne län",
          "Skåne län",
          "Skåne län",
          "Skåne län",
          "Skåne län",
          "Skåne län",
          "Skåne län",
          "Skåne län",
          "Skåne län",
          "Skåne län",
          "Skåne län",
          "Skåne län",
          "Skåne län",
          "Skåne län",
          "Skåne län",
          "Skåne län",
          "Skåne län",
          "Skåne län",
          "Skåne län",
          "Skåne län",
          "Skåne län",
          "Skåne län",
          "Skåne län",
          "Skåne län",
          "Skåne län",
          "Skåne län",
          "Skåne län",
          "Skåne län",
          "Skåne län",
          "Skåne län",
          "Hallands län",
          "Hallands län",
          "Hallands län",
          "Hallands län",
          "Hallands län",
          "Hallands län",
          "Västra Götalands län",
          "Västra Götalands län",
          "Västra Götalands län",
          "Västra Götalands län",
          "Västra Götalands län",
          "Västra Götalands län",
          "Västra Götalands län",
          "Västra Götalands län",
          "Västra Götalands län",
          "Västra Götalands län",
          "Västra Götalands län",
          "Västra Götalands län",
          "Västra Götalands län",
          "Västra Götalands län",
          "Västra Götalands län",
          "Västra Götalands län",
          "Västra Götalands län",
          "Västra Götalands län",
          "Västra Götalands län",
          "Västra Götalands län",
          "Västra Götalands län",
          "Västra Götalands län",
          "Västra Götalands län",
          "Västra Götalands län",
          "Västra Götalands län",
          "Västra Götalands län",
          "Västra Götalands län",
          "Västra Götalands län",
          "Västra Götalands län",
          "Västra Götalands län",
          "Västra Götalands län",
          "Västra Götalands län",
          "Västra Götalands län",
          "Västra Götalands län",
          "Västra Götalands län",
          "Västra Götalands län",
          "Västra Götalands län",
          "Västra Götalands län",
          "Västra Götalands län",
          "Västra Götalands län",
          "Västra Götalands län",
          "Västra Götalands län",
          "Västra Götalands län",
          "Västra Götalands län",
          "Västra Götalands län",
          "Västra Götalands län",
          "Västra Götalands län",
          "Västra Götalands län",
          "Västra Götalands län",
          "Värmlands län",
          "Värmlands län",
          "Värmlands län",
          "Värmlands län",
          "Värmlands län",
          "Värmlands län",
          "Värmlands län",
          "Värmlands län",
          "Värmlands län",
          "Värmlands län",
          "Värmlands län",
          "Värmlands län",
          "Värmlands län",
          "Värmlands län",
          "Värmlands län",
          "Värmlands län",
          "Örebro län",
          "Örebro län",
          "Örebro län",
          "Örebro län",
          "Örebro län",
          "Örebro län",
          "Örebro län",
          "Örebro län",
          "Örebro län",
          "Örebro län",
          "Örebro län",
          "Örebro län",
          "Västmanlands län",
          "Västmanlands län",
          "Västmanlands län",
          "Västmanlands län",
          "Västmanlands län",
          "Västmanlands län",
          "Västmanlands län",
          "Västmanlands län",
          "Västmanlands län",
          "Västmanlands län",
          "Dalarnas län",
          "Dalarnas län",
          "Dalarnas län",
          "Dalarnas län",
          "Dalarnas län",
          "Dalarnas län",
          "Dalarnas län",
          "Dalarnas län",
          "Dalarnas län",
          "Dalarnas län",
          "Dalarnas län",
          "Dalarnas län",
          "Dalarnas län",
          "Dalarnas län",
          "Dalarnas län",
          "Gävleborgs län",
          "Gävleborgs län",
          "Gävleborgs län",
          "Gävleborgs län",
          "Gävleborgs län",
          "Gävleborgs län",
          "Gävleborgs län",
          "Gävleborgs län",
          "Gävleborgs län",
          "Gävleborgs län",
          "Västernorrlands län",
          "Västernorrlands län",
          "Västernorrlands län",
          "Västernorrlands län",
          "Västernorrlands län",
          "Västernorrlands län",
          "Västernorrlands län",
          "Jämtlands län",
          "Jämtlands län",
          "Jämtlands län",
          "Jämtlands län",
          "Jämtlands län",
          "Jämtlands län",
          "Jämtlands län",
          "Jämtlands län",
          "Västerbottens län",
          "Västerbottens län",
          "Västerbottens län",
          "Västerbottens län",
          "Västerbottens län",
          "Västerbottens län",
          "Västerbottens län",
          "Västerbottens län",
          "Västerbottens län",
          "Västerbottens län",
          "Västerbottens län",
          "Västerbottens län",
          "Västerbottens län",
          "Västerbottens län",
          "Västerbottens län",
          "Norrbottens län",
          "Norrbottens län",
          "Norrbottens län",
          "Norrbottens län",
          "Norrbottens län",
          "Norrbottens län",
          "Norrbottens län",
          "Norrbottens län",
          "Norrbottens län",
          "Norrbottens län",
          "Norrbottens län",
          "Norrbottens län",
          "Norrbottens län",
          "Norrbottens län"
         ],
         "xaxis": "x",
         "y": [
          0.739566825145272,
          0.5088062622309198,
          0.6737031214911295,
          0.8952334865714976,
          0.8263097008758883,
          0.7471980074719801,
          1.0012692144972501,
          1.2656147271531886,
          0.5072463768115941,
          0.9505421060448537,
          0.6781429316640584,
          0.7778738115816767,
          0.31512605042016806,
          0.7027192178429575,
          0.9218163195629908,
          0.6860745410717597,
          1.0160831446321779,
          0.8835684765569332,
          0.7525761259696654,
          0.9863188036907413,
          0.9745255599247734,
          0.6858122588941277,
          0.41899441340782123,
          0.3644231864252363,
          0.9509202453987731,
          1.2013910844135314,
          0.33816425120772947,
          0.3527336860670194,
          0.48409405255878285,
          0.12353304508956146,
          0.32760032760032765,
          0.3816006600660066,
          0.45297670405522,
          0.35324341682723187,
          0.24732069249793898,
          0.5025125628140703,
          0.3359291494884715,
          0.31645569620253167,
          0.44189129474149363,
          0.23815824292140775,
          0.39373954129343436,
          0.48532470533857175,
          0.4702194357366771,
          0.4037685060565276,
          0.3508771929824561,
          0.07886435331230283,
          0.1392757660167131,
          0,
          0.1551590380139643,
          0.07886435331230283,
          0.3401617658175221,
          0.2836770681591658,
          0.21436227224008575,
          0.14300306435137897,
          0.16652789342214822,
          0.10362694300518134,
          0.42194092827004215,
          0.5045408678102926,
          0.3194888178913738,
          0.26155187445510025,
          0.3952569169960474,
          0.36791758646063283,
          0.2866698518872432,
          0.40272614622056996,
          0.41371158392434987,
          0.23696682464454977,
          0.13003901170351106,
          0.3383276945384244,
          0.2770083102493075,
          0.2859866539561487,
          0.682261208576998,
          0.5245901639344263,
          0.3376748673420164,
          0.48367593712212814,
          0.4344048653344918,
          0.3417393353759133,
          0.28938906752411575,
          0.8823529411764706,
          0.30181086519114686,
          0.04418912947414936,
          0.4132231404958678,
          0.24464831804281345,
          0.08733624454148471,
          0.40142729705619984,
          0.22192632046160676,
          0.2237851662404092,
          0.25545293770878363,
          0.215633423180593,
          0.30612244897959184,
          0.2881844380403458,
          0.5859375,
          0.19835647492207426,
          0.4444444444444444,
          0.3550942365473914,
          0.1827318410232983,
          0.32599837000814996,
          0.40540540540540543,
          0.6825938566552902,
          0.4243281471004243,
          0.31725888324873097,
          0.6124234470691163,
          0.5649717514124294,
          0.19392372333548805,
          0.6175380815150268,
          0.3065917220235054,
          0.49597024178549287,
          0.33444816053511706,
          0.5973715651135006,
          0.35314891112419067,
          0.18359853121175032,
          0.06618133686300463,
          0.32786885245901637,
          1.2838801711840229,
          0.4878048780487805,
          0.37735849056603776,
          0.42771599657827203,
          0.8948838833595251,
          0.4425204425204425,
          0.4591167468299082,
          0.6485388341928426,
          0.34946236559139787,
          0.44262853251617296,
          0.32910202162670427,
          0.5403068943159715,
          0.468732136732594,
          0.3710575139146568,
          0.2229428455614106,
          0.36357025995273584,
          0.6685768863419294,
          0.343087790110999,
          0.30873726458783574,
          0.2066115702479339,
          0.23047375160051217,
          0.3420056186637352,
          0.48844024747639203,
          0.22793878215564964,
          0.2396644697423607,
          0.5838847800700662,
          0.17086715079026057,
          0.529333921482135,
          0.18303843807199513,
          0.6504065040650406,
          0.3218884120171674,
          0.46875,
          0.5095541401273885,
          0.3250270855904659,
          0.27762354247640203,
          0.0827129859387924,
          0.49504950495049505,
          0,
          0.411522633744856,
          0.27803521779425394,
          0.5069708491761723,
          0.49261083743842365,
          0.14619883040935672,
          0.32786885245901637,
          0.2178649237472767,
          0.18696581196581197,
          0.1508295625942685,
          0.44523597506678536,
          0.34266133637921187,
          0.47086521483225424,
          0.23847376788553257,
          0.3401360544217687,
          0.8866522885214475,
          0.43624826492167357,
          0.5420054200542005,
          0.2857142857142857,
          0.45322697606961565,
          0.33579583613163194,
          0.23696682464454977,
          0.5999612928198181,
          0.30401737242128124,
          0.4435483870967742,
          0.5492493592090809,
          0.5351170568561873,
          0.327653997378768,
          0.28888888888888886,
          0.2478929102627665,
          0.351150994927819,
          0.16433853738701726,
          0.28368794326241137,
          0.21400183430143688,
          0.20590253946465342,
          0.30991735537190085,
          0.12738853503184713,
          0.338409475465313,
          0.4987531172069825,
          0.9324009324009324,
          0.14903129657228018,
          0.429553264604811,
          0.5172413793103449,
          0.3215434083601286,
          0.17555409260478386,
          0.24875621890547264,
          0.21551724137931033,
          0.5825242718446602,
          0.22095959595959594,
          0.10178117048346055,
          0.35211267605633806,
          0.5181347150259068,
          0.16901408450704225,
          0.37369207772795215,
          0,
          0.9244992295839755,
          0.3271299796452457,
          0.04621072088724584,
          0.1229256299938537,
          0.2548131370328426,
          0,
          0.2069679199724043,
          0,
          0.48,
          0.8763388510223954,
          0.4915346805024577,
          0.5141388174807198,
          0.5198089350941275,
          0.3243243243243243,
          0.5544005544005544,
          0.5455165359699966,
          0.38910505836575876,
          0.1141552511415525,
          0.15278838808250572,
          0,
          0.12931034482758622,
          0.2748763056624519,
          0.11325028312570783,
          0.2127659574468085,
          0.5772931366260423,
          0.39725532683279163,
          0.36635628148374294,
          0.2982700338039372,
          0.3453038674033149,
          0.2552322613578356,
          0.3215434083601286,
          0.22407170294494239,
          0.44493882091212456,
          0.1694915254237288,
          0.5124919923126201,
          0.5455962587685114,
          0.39261876717707106,
          0.4377238360525269,
          0.3609293931874577,
          0.49794961921499703,
          0.388755980861244,
          0.4520238339839737,
          0.5089058524173028,
          0.19305019305019305,
          0.4274809160305344,
          0.27071449289374455,
          0.2783300198807157,
          0.16260162601626016,
          0.2122176747006215,
          0.5805515239477503,
          0.7963594994311717,
          0.12232415902140673,
          0.18714909544603867,
          0.5133470225872689,
          0.2120890774125133,
          0.2789400278940028,
          0.2959893443836022,
          0.21141649048625794,
          0,
          0.41379310344827586,
          0.23282887077997672,
          0.3656307129798903,
          0,
          0,
          0,
          0.2777777777777778,
          0,
          0,
          0,
          0.17174365000451958,
          0.20920502092050208,
          0.12150668286755771,
          0.13003901170351106,
          0.8571428571428572,
          0.3053435114503817,
          0.1984126984126984,
          0.047214353163361665,
          0.4087193460490463,
          0.30895983522142123,
          0.3110419906687403,
          0.20242914979757085,
          0.23282887077997672,
          0.1582591493570722,
          0.2627737226277372,
          0.7251631617113851,
          0.3309692671394799
         ],
         "yaxis": "y"
        },
        {
         "customdata": [
          [
           1934,
           "80-89"
          ],
          [
           1412,
           "80-89"
          ],
          [
           2065,
           "80-89"
          ],
          [
           1671,
           "80-89"
          ],
          [
           3392,
           "80-89"
          ],
          [
           1239,
           "80-89"
          ],
          [
           3487,
           "80-89"
          ],
          [
           2909,
           "80-89"
          ],
          [
           857,
           "80-89"
          ],
          [
           3315,
           "80-89"
          ],
          [
           2198,
           "80-89"
          ],
          [
           986,
           "80-89"
          ],
          [
           477,
           "80-89"
          ],
          [
           3775,
           "80-89"
          ],
          [
           1823,
           "80-89"
          ],
          [
           2926,
           "80-89"
          ],
          [
           31155,
           "80-89"
          ],
          [
           3932,
           "80-89"
          ],
          [
           4088,
           "80-89"
          ],
          [
           1301,
           "80-89"
          ],
          [
           2828,
           "80-89"
          ],
          [
           2506,
           "80-89"
          ],
          [
           536,
           "80-89"
          ],
          [
           4063,
           "80-89"
          ],
          [
           1879,
           "80-89"
          ],
          [
           1530,
           "80-89"
          ],
          [
           898,
           "80-89"
          ],
          [
           557,
           "80-89"
          ],
          [
           516,
           "80-89"
          ],
          [
           845,
           "80-89"
          ],
          [
           1219,
           "80-89"
          ],
          [
           8801,
           "80-89"
          ],
          [
           2279,
           "80-89"
          ],
          [
           1402,
           "80-89"
          ],
          [
           524,
           "80-89"
          ],
          [
           581,
           "80-89"
          ],
          [
           3447,
           "80-89"
          ],
          [
           844,
           "80-89"
          ],
          [
           1093,
           "80-89"
          ],
          [
           1868,
           "80-89"
          ],
          [
           5054,
           "80-89"
          ],
          [
           1926,
           "80-89"
          ],
          [
           759,
           "80-89"
          ],
          [
           325,
           "80-89"
          ],
          [
           261,
           "80-89"
          ],
          [
           666,
           "80-89"
          ],
          [
           319,
           "80-89"
          ],
          [
           770,
           "80-89"
          ],
          [
           1306,
           "80-89"
          ],
          [
           534,
           "80-89"
          ],
          [
           7320,
           "80-89"
          ],
          [
           6516,
           "80-89"
          ],
          [
           830,
           "80-89"
          ],
          [
           2450,
           "80-89"
          ],
          [
           629,
           "80-89"
          ],
          [
           1488,
           "80-89"
          ],
          [
           367,
           "80-89"
          ],
          [
           413,
           "80-89"
          ],
          [
           359,
           "80-89"
          ],
          [
           527,
           "80-89"
          ],
          [
           1516,
           "80-89"
          ],
          [
           685,
           "80-89"
          ],
          [
           6749,
           "80-89"
          ],
          [
           1565,
           "80-89"
          ],
          [
           1859,
           "80-89"
          ],
          [
           655,
           "80-89"
          ],
          [
           1648,
           "80-89"
          ],
          [
           1058,
           "80-89"
          ],
          [
           1233,
           "80-89"
          ],
          [
           550,
           "80-89"
          ],
          [
           450,
           "80-89"
          ],
          [
           865,
           "80-89"
          ],
          [
           1024,
           "80-89"
          ],
          [
           840,
           "80-89"
          ],
          [
           632,
           "80-89"
          ],
          [
           4335,
           "80-89"
          ],
          [
           1701,
           "80-89"
          ],
          [
           354,
           "80-89"
          ],
          [
           449,
           "80-89"
          ],
          [
           956,
           "80-89"
          ],
          [
           936,
           "80-89"
          ],
          [
           864,
           "80-89"
          ],
          [
           659,
           "80-89"
          ],
          [
           3390,
           "80-89"
          ],
          [
           1358,
           "80-89"
          ],
          [
           1720,
           "80-89"
          ],
          [
           2624,
           "80-89"
          ],
          [
           1000,
           "80-89"
          ],
          [
           985,
           "80-89"
          ],
          [
           3789,
           "80-89"
          ],
          [
           968,
           "80-89"
          ],
          [
           3628,
           "80-89"
          ],
          [
           1859,
           "80-89"
          ],
          [
           2115,
           "80-89"
          ],
          [
           1149,
           "80-89"
          ],
          [
           553,
           "80-89"
          ],
          [
           1371,
           "80-89"
          ],
          [
           817,
           "80-89"
          ],
          [
           2231,
           "80-89"
          ],
          [
           785,
           "80-89"
          ],
          [
           560,
           "80-89"
          ],
          [
           630,
           "80-89"
          ],
          [
           1417,
           "80-89"
          ],
          [
           1531,
           "80-89"
          ],
          [
           921,
           "80-89"
          ],
          [
           708,
           "80-89"
          ],
          [
           1023,
           "80-89"
          ],
          [
           810,
           "80-89"
          ],
          [
           812,
           "80-89"
          ],
          [
           837,
           "80-89"
          ],
          [
           766,
           "80-89"
          ],
          [
           874,
           "80-89"
          ],
          [
           383,
           "80-89"
          ],
          [
           899,
           "80-89"
          ],
          [
           667,
           "80-89"
          ],
          [
           1188,
           "80-89"
          ],
          [
           12135,
           "80-89"
          ],
          [
           5067,
           "80-89"
          ],
          [
           2178,
           "80-89"
          ],
          [
           6557,
           "80-89"
          ],
          [
           1830,
           "80-89"
          ],
          [
           1540,
           "80-89"
          ],
          [
           2029,
           "80-89"
          ],
          [
           2427,
           "80-89"
          ],
          [
           4620,
           "80-89"
          ],
          [
           1563,
           "80-89"
          ],
          [
           2532,
           "80-89"
          ],
          [
           3098,
           "80-89"
          ],
          [
           574,
           "80-89"
          ],
          [
           5342,
           "80-89"
          ],
          [
           1511,
           "80-89"
          ],
          [
           2764,
           "80-89"
          ],
          [
           3621,
           "80-89"
          ],
          [
           4367,
           "80-89"
          ],
          [
           1473,
           "80-89"
          ],
          [
           1581,
           "80-89"
          ],
          [
           784,
           "80-89"
          ],
          [
           1420,
           "80-89"
          ],
          [
           1001,
           "80-89"
          ],
          [
           1084,
           "80-89"
          ],
          [
           632,
           "80-89"
          ],
          [
           635,
           "80-89"
          ],
          [
           813,
           "80-89"
          ],
          [
           340,
           "80-89"
          ],
          [
           369,
           "80-89"
          ],
          [
           1350,
           "80-89"
          ],
          [
           1980,
           "80-89"
          ],
          [
           561,
           "80-89"
          ],
          [
           457,
           "80-89"
          ],
          [
           337,
           "80-89"
          ],
          [
           330,
           "80-89"
          ],
          [
           487,
           "80-89"
          ],
          [
           365,
           "80-89"
          ],
          [
           658,
           "80-89"
          ],
          [
           652,
           "80-89"
          ],
          [
           581,
           "80-89"
          ],
          [
           612,
           "80-89"
          ],
          [
           1856,
           "80-89"
          ],
          [
           611,
           "80-89"
          ],
          [
           538,
           "80-89"
          ],
          [
           929,
           "80-89"
          ],
          [
           779,
           "80-89"
          ],
          [
           729,
           "80-89"
          ],
          [
           518,
           "80-89"
          ],
          [
           19954,
           "80-89"
          ],
          [
           2606,
           "80-89"
          ],
          [
           2487,
           "80-89"
          ],
          [
           1019,
           "80-89"
          ],
          [
           3066,
           "80-89"
          ],
          [
           700,
           "80-89"
          ],
          [
           2315,
           "80-89"
          ],
          [
           2758,
           "80-89"
          ],
          [
           2243,
           "80-89"
          ],
          [
           5421,
           "80-89"
          ],
          [
           1396,
           "80-89"
          ],
          [
           858,
           "80-89"
          ],
          [
           1677,
           "80-89"
          ],
          [
           2369,
           "80-89"
          ],
          [
           1015,
           "80-89"
          ],
          [
           2732,
           "80-89"
          ],
          [
           592,
           "80-89"
          ],
          [
           799,
           "80-89"
          ],
          [
           1881,
           "80-89"
          ],
          [
           711,
           "80-89"
          ],
          [
           482,
           "80-89"
          ],
          [
           811,
           "80-89"
          ],
          [
           225,
           "80-89"
          ],
          [
           773,
           "80-89"
          ],
          [
           290,
           "80-89"
          ],
          [
           686,
           "80-89"
          ],
          [
           557,
           "80-89"
          ],
          [
           595,
           "80-89"
          ],
          [
           818,
           "80-89"
          ],
          [
           4763,
           "80-89"
          ],
          [
           1519,
           "80-89"
          ],
          [
           685,
           "80-89"
          ],
          [
           879,
           "80-89"
          ],
          [
           1650,
           "80-89"
          ],
          [
           1085,
           "80-89"
          ],
          [
           434,
           "80-89"
          ],
          [
           381,
           "80-89"
          ],
          [
           826,
           "80-89"
          ],
          [
           628,
           "80-89"
          ],
          [
           521,
           "80-89"
          ],
          [
           358,
           "80-89"
          ],
          [
           6599,
           "80-89"
          ],
          [
           1063,
           "80-89"
          ],
          [
           764,
           "80-89"
          ],
          [
           1968,
           "80-89"
          ],
          [
           726,
           "80-89"
          ],
          [
           1349,
           "80-89"
          ],
          [
           287,
           "80-89"
          ],
          [
           590,
           "80-89"
          ],
          [
           477,
           "80-89"
          ],
          [
           1031,
           "80-89"
          ],
          [
           342,
           "80-89"
          ],
          [
           7545,
           "80-89"
          ],
          [
           1318,
           "80-89"
          ],
          [
           823,
           "80-89"
          ],
          [
           1549,
           "80-89"
          ],
          [
           935,
           "80-89"
          ],
          [
           464,
           "80-89"
          ],
          [
           667,
           "80-89"
          ],
          [
           596,
           "80-89"
          ],
          [
           1090,
           "80-89"
          ],
          [
           889,
           "80-89"
          ],
          [
           460,
           "80-89"
          ],
          [
           515,
           "80-89"
          ],
          [
           697,
           "80-89"
          ],
          [
           1367,
           "80-89"
          ],
          [
           3160,
           "80-89"
          ],
          [
           2572,
           "80-89"
          ],
          [
           663,
           "80-89"
          ],
          [
           932,
           "80-89"
          ],
          [
           1417,
           "80-89"
          ],
          [
           1563,
           "80-89"
          ],
          [
           310,
           "80-89"
          ],
          [
           570,
           "80-89"
          ],
          [
           777,
           "80-89"
          ],
          [
           547,
           "80-89"
          ],
          [
           1200,
           "80-89"
          ],
          [
           5147,
           "80-89"
          ],
          [
           2362,
           "80-89"
          ],
          [
           1612,
           "80-89"
          ],
          [
           1652,
           "80-89"
          ],
          [
           2178,
           "80-89"
          ],
          [
           623,
           "80-89"
          ],
          [
           971,
           "80-89"
          ],
          [
           1594,
           "80-89"
          ],
          [
           5389,
           "80-89"
          ],
          [
           1159,
           "80-89"
          ],
          [
           1352,
           "80-89"
          ],
          [
           3293,
           "80-89"
          ],
          [
           381,
           "80-89"
          ],
          [
           371,
           "80-89"
          ],
          [
           681,
           "80-89"
          ],
          [
           814,
           "80-89"
          ],
          [
           459,
           "80-89"
          ],
          [
           487,
           "80-89"
          ],
          [
           705,
           "80-89"
          ],
          [
           3260,
           "80-89"
          ],
          [
           492,
           "80-89"
          ],
          [
           177,
           "80-89"
          ],
          [
           350,
           "80-89"
          ],
          [
           392,
           "80-89"
          ],
          [
           267,
           "80-89"
          ],
          [
           196,
           "80-89"
          ],
          [
           405,
           "80-89"
          ],
          [
           200,
           "80-89"
          ],
          [
           183,
           "80-89"
          ],
          [
           491,
           "80-89"
          ],
          [
           416,
           "80-89"
          ],
          [
           206,
           "80-89"
          ],
          [
           5070,
           "80-89"
          ],
          [
           753,
           "80-89"
          ],
          [
           4248,
           "80-89"
          ],
          [
           459,
           "80-89"
          ],
          [
           195,
           "80-89"
          ],
          [
           338,
           "80-89"
          ],
          [
           291,
           "80-89"
          ],
          [
           1164,
           "80-89"
          ],
          [
           351,
           "80-89"
          ],
          [
           539,
           "80-89"
          ],
          [
           1155,
           "80-89"
          ],
          [
           500,
           "80-89"
          ],
          [
           4078,
           "80-89"
          ],
          [
           2263,
           "80-89"
          ],
          [
           1645,
           "80-89"
          ],
          [
           624,
           "80-89"
          ],
          [
           1280,
           "80-89"
          ]
         ],
         "hovertemplate": "<b>%{hovertext}</b><br><br>Ålder=%{customdata[1]}<br>Län_namn=%{x}<br>VIR=%{y}<br>Befolkning=%{customdata[0]}<extra></extra>",
         "hovertext": [
          "Upplands Väsby",
          "Vallentuna",
          "Österåker",
          "Värmdö",
          "Järfälla",
          "Ekerö",
          "Huddinge",
          "Botkyrka",
          "Salem",
          "Haninge",
          "Tyresö",
          "Upplands-Bro",
          "Nykvarn",
          "Täby",
          "Danderyd",
          "Sollentuna",
          "Stockholm",
          "Södertälje",
          "Nacka",
          "Sundbyberg",
          "Solna",
          "Lidingö",
          "Vaxholm",
          "Norrtälje",
          "Sigtuna",
          "Nynäshamn",
          "Håbo",
          "Älvkarleby",
          "Knivsta",
          "Heby",
          "Tierp",
          "Uppsala",
          "Enköping",
          "Östhammar",
          "Vingåker",
          "Gnesta",
          "Nyköping",
          "Oxelösund",
          "Flen",
          "Katrineholm",
          "Eskilstuna",
          "Strängnäs",
          "Trosa",
          "Ödeshög",
          "Ydre",
          "Kinda",
          "Boxholm",
          "Åtvidaberg",
          "Finspång",
          "Valdemarsvik",
          "Linköping",
          "Norrköping",
          "Söderköping",
          "Motala",
          "Vadstena",
          "Mjölby",
          "Aneby",
          "Gnosjö",
          "Mullsjö",
          "Habo",
          "Gislaved",
          "Vaggeryd",
          "Jönköping",
          "Nässjö",
          "Värnamo",
          "Sävsjö",
          "Vetlanda",
          "Eksjö",
          "Tranås",
          "Uppvidinge",
          "Lessebo",
          "Tingsryd",
          "Alvesta",
          "Älmhult",
          "Markaryd",
          "Växjö",
          "Ljungby",
          "Högsby",
          "Torsås",
          "Mörbylånga",
          "Hultsfred",
          "Mönsterås",
          "Emmaboda",
          "Kalmar",
          "Nybro",
          "Oskarshamn",
          "Västervik",
          "Vimmerby",
          "Borgholm",
          "Gotland",
          "Olofström",
          "Karlskrona",
          "Ronneby",
          "Karlshamn",
          "Sölvesborg",
          "Svalöv",
          "Staffanstorp",
          "Burlöv",
          "Vellinge",
          "Östra Göinge",
          "Örkelljunga",
          "Bjuv",
          "Kävlinge",
          "Lomma",
          "Svedala",
          "Skurup",
          "Sjöbo",
          "Hörby",
          "Höör",
          "Tomelilla",
          "Bromölla",
          "Osby",
          "Perstorp",
          "Klippan",
          "Åstorp",
          "Båstad",
          "Malmö",
          "Lund",
          "Landskrona",
          "Helsingborg",
          "Höganäs",
          "Eslöv",
          "Ystad",
          "Trelleborg",
          "Kristianstad",
          "Simrishamn",
          "Ängelholm",
          "Hässleholm",
          "Hylte",
          "Halmstad",
          "Laholm",
          "Falkenberg",
          "Varberg",
          "Kungsbacka",
          "Härryda",
          "Partille",
          "Öckerö",
          "Stenungsund",
          "Tjörn",
          "Orust",
          "Sotenäs",
          "Munkedal",
          "Tanum",
          "Dals-Ed",
          "Färgelanda",
          "Ale",
          "Lerum",
          "Vårgårda",
          "Bollebygd",
          "Grästorp",
          "Essunga",
          "Karlsborg",
          "Gullspång",
          "Tranemo",
          "Bengtsfors",
          "Mellerud",
          "Lilla Edet",
          "Mark",
          "Svenljunga",
          "Herrljunga",
          "Vara",
          "Götene",
          "Tibro",
          "Töreboda",
          "Göteborg",
          "Mölndal",
          "Kungälv",
          "Lysekil",
          "Uddevalla",
          "Strömstad",
          "Vänersborg",
          "Trollhättan",
          "Alingsås",
          "Borås",
          "Ulricehamn",
          "Åmål",
          "Mariestad",
          "Lidköping",
          "Skara",
          "Skövde",
          "Hjo",
          "Tidaholm",
          "Falköping",
          "Kil",
          "Eda",
          "Torsby",
          "Storfors",
          "Hammarö",
          "Munkfors",
          "Forshaga",
          "Grums",
          "Årjäng",
          "Sunne",
          "Karlstad",
          "Kristinehamn",
          "Filipstad",
          "Hagfors",
          "Arvika",
          "Säffle",
          "Lekeberg",
          "Laxå",
          "Hallsberg",
          "Degerfors",
          "Hällefors",
          "Ljusnarsberg",
          "Örebro",
          "Kumla",
          "Askersund",
          "Karlskoga",
          "Nora",
          "Lindesberg",
          "Skinnskatteberg",
          "Surahammar",
          "Kungsör",
          "Hallstahammar",
          "Norberg",
          "Västerås",
          "Sala",
          "Fagersta",
          "Köping",
          "Arboga",
          "Vansbro",
          "Malung-Sälen",
          "Gagnef",
          "Leksand",
          "Rättvik",
          "Orsa",
          "Älvdalen",
          "Smedjebacken",
          "Mora",
          "Falun",
          "Borlänge",
          "Säter",
          "Hedemora",
          "Avesta",
          "Ludvika",
          "Ockelbo",
          "Hofors",
          "Ovanåker",
          "Nordanstig",
          "Ljusdal",
          "Gävle",
          "Sandviken",
          "Söderhamn",
          "Bollnäs",
          "Hudiksvall",
          "Ånge",
          "Timrå",
          "Härnösand",
          "Sundsvall",
          "Kramfors",
          "Sollefteå",
          "Örnsköldsvik",
          "Ragunda",
          "Bräcke",
          "Krokom",
          "Strömsund",
          "Åre",
          "Berg",
          "Härjedalen",
          "Östersund",
          "Nordmaling",
          "Bjurholm",
          "Vindeln",
          "Robertsfors",
          "Norsjö",
          "Malå",
          "Storuman",
          "Sorsele",
          "Dorotea",
          "Vännäs",
          "Vilhelmina",
          "Åsele",
          "Umeå",
          "Lycksele",
          "Skellefteå",
          "Arvidsjaur",
          "Arjeplog",
          "Jokkmokk",
          "Överkalix",
          "Kalix",
          "Övertorneå",
          "Pajala",
          "Gällivare",
          "Älvsbyn",
          "Luleå",
          "Piteå",
          "Boden",
          "Haparanda",
          "Kiruna"
         ],
         "legendgroup": "80-89",
         "marker": {
          "color": "#FF97FF",
          "symbol": "circle"
         },
         "mode": "markers",
         "name": "80-89",
         "showlegend": true,
         "type": "scattergl",
         "x": [
          "Stockholms län",
          "Stockholms län",
          "Stockholms län",
          "Stockholms län",
          "Stockholms län",
          "Stockholms län",
          "Stockholms län",
          "Stockholms län",
          "Stockholms län",
          "Stockholms län",
          "Stockholms län",
          "Stockholms län",
          "Stockholms län",
          "Stockholms län",
          "Stockholms län",
          "Stockholms län",
          "Stockholms län",
          "Stockholms län",
          "Stockholms län",
          "Stockholms län",
          "Stockholms län",
          "Stockholms län",
          "Stockholms län",
          "Stockholms län",
          "Stockholms län",
          "Stockholms län",
          "Uppsala län",
          "Uppsala län",
          "Uppsala län",
          "Uppsala län",
          "Uppsala län",
          "Uppsala län",
          "Uppsala län",
          "Uppsala län",
          "Södermanlands län",
          "Södermanlands län",
          "Södermanlands län",
          "Södermanlands län",
          "Södermanlands län",
          "Södermanlands län",
          "Södermanlands län",
          "Södermanlands län",
          "Södermanlands län",
          "Östergötlands län",
          "Östergötlands län",
          "Östergötlands län",
          "Östergötlands län",
          "Östergötlands län",
          "Östergötlands län",
          "Östergötlands län",
          "Östergötlands län",
          "Östergötlands län",
          "Östergötlands län",
          "Östergötlands län",
          "Östergötlands län",
          "Östergötlands län",
          "Jönköpings län",
          "Jönköpings län",
          "Jönköpings län",
          "Jönköpings län",
          "Jönköpings län",
          "Jönköpings län",
          "Jönköpings län",
          "Jönköpings län",
          "Jönköpings län",
          "Jönköpings län",
          "Jönköpings län",
          "Jönköpings län",
          "Jönköpings län",
          "Kronobergs län",
          "Kronobergs län",
          "Kronobergs län",
          "Kronobergs län",
          "Kronobergs län",
          "Kronobergs län",
          "Kronobergs län",
          "Kronobergs län",
          "Kalmar län",
          "Kalmar län",
          "Kalmar län",
          "Kalmar län",
          "Kalmar län",
          "Kalmar län",
          "Kalmar län",
          "Kalmar län",
          "Kalmar län",
          "Kalmar län",
          "Kalmar län",
          "Kalmar län",
          "Gotlands län",
          "Blekinge län",
          "Blekinge län",
          "Blekinge län",
          "Blekinge län",
          "Blekinge län",
          "Skåne län",
          "Skåne län",
          "Skåne län",
          "Skåne län",
          "Skåne län",
          "Skåne län",
          "Skåne län",
          "Skåne län",
          "Skåne län",
          "Skåne län",
          "Skåne län",
          "Skåne län",
          "Skåne län",
          "Skåne län",
          "Skåne län",
          "Skåne län",
          "Skåne län",
          "Skåne län",
          "Skåne län",
          "Skåne län",
          "Skåne län",
          "Skåne län",
          "Skåne län",
          "Skåne län",
          "Skåne län",
          "Skåne län",
          "Skåne län",
          "Skåne län",
          "Skåne län",
          "Skåne län",
          "Skåne län",
          "Skåne län",
          "Skåne län",
          "Hallands län",
          "Hallands län",
          "Hallands län",
          "Hallands län",
          "Hallands län",
          "Hallands län",
          "Västra Götalands län",
          "Västra Götalands län",
          "Västra Götalands län",
          "Västra Götalands län",
          "Västra Götalands län",
          "Västra Götalands län",
          "Västra Götalands län",
          "Västra Götalands län",
          "Västra Götalands län",
          "Västra Götalands län",
          "Västra Götalands län",
          "Västra Götalands län",
          "Västra Götalands län",
          "Västra Götalands län",
          "Västra Götalands län",
          "Västra Götalands län",
          "Västra Götalands län",
          "Västra Götalands län",
          "Västra Götalands län",
          "Västra Götalands län",
          "Västra Götalands län",
          "Västra Götalands län",
          "Västra Götalands län",
          "Västra Götalands län",
          "Västra Götalands län",
          "Västra Götalands län",
          "Västra Götalands län",
          "Västra Götalands län",
          "Västra Götalands län",
          "Västra Götalands län",
          "Västra Götalands län",
          "Västra Götalands län",
          "Västra Götalands län",
          "Västra Götalands län",
          "Västra Götalands län",
          "Västra Götalands län",
          "Västra Götalands län",
          "Västra Götalands län",
          "Västra Götalands län",
          "Västra Götalands län",
          "Västra Götalands län",
          "Västra Götalands län",
          "Västra Götalands län",
          "Västra Götalands län",
          "Västra Götalands län",
          "Västra Götalands län",
          "Västra Götalands län",
          "Västra Götalands län",
          "Västra Götalands län",
          "Värmlands län",
          "Värmlands län",
          "Värmlands län",
          "Värmlands län",
          "Värmlands län",
          "Värmlands län",
          "Värmlands län",
          "Värmlands län",
          "Värmlands län",
          "Värmlands län",
          "Värmlands län",
          "Värmlands län",
          "Värmlands län",
          "Värmlands län",
          "Värmlands län",
          "Värmlands län",
          "Örebro län",
          "Örebro län",
          "Örebro län",
          "Örebro län",
          "Örebro län",
          "Örebro län",
          "Örebro län",
          "Örebro län",
          "Örebro län",
          "Örebro län",
          "Örebro län",
          "Örebro län",
          "Västmanlands län",
          "Västmanlands län",
          "Västmanlands län",
          "Västmanlands län",
          "Västmanlands län",
          "Västmanlands län",
          "Västmanlands län",
          "Västmanlands län",
          "Västmanlands län",
          "Västmanlands län",
          "Dalarnas län",
          "Dalarnas län",
          "Dalarnas län",
          "Dalarnas län",
          "Dalarnas län",
          "Dalarnas län",
          "Dalarnas län",
          "Dalarnas län",
          "Dalarnas län",
          "Dalarnas län",
          "Dalarnas län",
          "Dalarnas län",
          "Dalarnas län",
          "Dalarnas län",
          "Dalarnas län",
          "Gävleborgs län",
          "Gävleborgs län",
          "Gävleborgs län",
          "Gävleborgs län",
          "Gävleborgs län",
          "Gävleborgs län",
          "Gävleborgs län",
          "Gävleborgs län",
          "Gävleborgs län",
          "Gävleborgs län",
          "Västernorrlands län",
          "Västernorrlands län",
          "Västernorrlands län",
          "Västernorrlands län",
          "Västernorrlands län",
          "Västernorrlands län",
          "Västernorrlands län",
          "Jämtlands län",
          "Jämtlands län",
          "Jämtlands län",
          "Jämtlands län",
          "Jämtlands län",
          "Jämtlands län",
          "Jämtlands län",
          "Jämtlands län",
          "Västerbottens län",
          "Västerbottens län",
          "Västerbottens län",
          "Västerbottens län",
          "Västerbottens län",
          "Västerbottens län",
          "Västerbottens län",
          "Västerbottens län",
          "Västerbottens län",
          "Västerbottens län",
          "Västerbottens län",
          "Västerbottens län",
          "Västerbottens län",
          "Västerbottens län",
          "Västerbottens län",
          "Norrbottens län",
          "Norrbottens län",
          "Norrbottens län",
          "Norrbottens län",
          "Norrbottens län",
          "Norrbottens län",
          "Norrbottens län",
          "Norrbottens län",
          "Norrbottens län",
          "Norrbottens län",
          "Norrbottens län",
          "Norrbottens län",
          "Norrbottens län",
          "Norrbottens län"
         ],
         "xaxis": "x",
         "y": [
          0.16137708445400753,
          0.2909090909090909,
          0.3976143141153081,
          0.49019607843137253,
          0.33919210607462225,
          0.49504950495049505,
          0.6067961165048543,
          0.8598130841121496,
          0.23837902264600713,
          0.47679593134138587,
          0.5589194224499302,
          0.32017075773745995,
          0,
          0.35422343324250677,
          0.39040713887339656,
          0.4940014114326041,
          0.7120199770533847,
          0.4032258064516129,
          0.5522088353413654,
          0.8032128514056224,
          0.597237775289287,
          0.6127450980392157,
          0.19083969465648853,
          0.3749062734316421,
          0.43907793633369924,
          0.8736559139784945,
          0.11312217194570137,
          0.1834862385321101,
          0.2,
          0.36496350364963503,
          0.08403361344537816,
          0.3013793902863104,
          0.40595399188092013,
          0.2911208151382824,
          0.576923076923077,
          0.35335689045936397,
          0.23767082590612004,
          0.6009615384615385,
          0.3738317757009346,
          0.21834061135371177,
          0.3469387755102041,
          0.15957446808510636,
          0.13550135501355012,
          0.625,
          0,
          0,
          0.3205128205128205,
          0.13210039630118892,
          0.07830853563038372,
          0,
          0.22281019356635567,
          0.1278363694471077,
          0.24479804161566704,
          0.33670033670033667,
          0.3241491085899514,
          0.2050580997949419,
          0,
          0.2518891687657431,
          0.5730659025787965,
          0,
          0.34317089910775567,
          0.4559270516717325,
          0.21328458257160268,
          0.19749835418038184,
          0.22259321090706735,
          0.4807692307692308,
          0.18761726078799248,
          0.5870841487279843,
          0.4987531172069825,
          0.7547169811320755,
          0.22988505747126436,
          0,
          0.4032258064516129,
          0.2466091245376079,
          0.6622516556291391,
          0.2606017531390666,
          0.3082614056720099,
          0,
          0,
          0.3246753246753247,
          0.4410143329658214,
          0.2366863905325444,
          0.31007751937984496,
          0.2420574886535552,
          0.22865853658536583,
          0.17889087656529518,
          0.431203449627597,
          0.10214504596527069,
          0,
          0.2968960863697706,
          0.5353319057815845,
          0.22522522522522523,
          0.05537098560354374,
          0.3894839337877313,
          0.18198362147406735,
          0.18975332068311196,
          0.07423904974016332,
          0.5128205128205128,
          0.27522935779816515,
          0.2631578947368421,
          0.5692599620493358,
          0,
          0.07230657989877079,
          0.13175230566534915,
          0.22396416573348266,
          0.4518072289156626,
          0.10101010101010101,
          0.3870967741935484,
          0.3875968992248062,
          0.1226993865030675,
          0.40540540540540543,
          0.23364485981308408,
          0.8086253369272237,
          0.11668611435239205,
          0.6359300476947536,
          0.3454231433506045,
          0.5752721479776971,
          0.3449675324675325,
          0.5747126436781609,
          0.41921960657852303,
          0.4517221908526256,
          0.5427408412483039,
          0.30721966205837176,
          0.42643923240938164,
          0.37921035021191163,
          0.46697798532354906,
          0.32666394446712943,
          0.5030181086519114,
          0.1779359430604982,
          0.21321961620469082,
          0.20533880903490762,
          0.18615040953090098,
          0.2840909090909091,
          0.2580947911778508,
          0.06872852233676977,
          0.19607843137254902,
          0.6459948320413437,
          0.3599712023038157,
          0.10193679918450561,
          0.2862595419847328,
          0,
          0.48939641109298526,
          0.2554278416347382,
          0,
          0.5524861878453038,
          0.3825554705432288,
          0.4610655737704918,
          0.5597014925373134,
          0.22271714922048996,
          0.30303030303030304,
          0.30959752321981426,
          0,
          0.2898550724637681,
          0.31545741324921134,
          0.64,
          0.1798561151079137,
          0.5067567567567568,
          0.16731734523145567,
          0.1692047377326565,
          0.5758157389635317,
          0.22271714922048996,
          0.3978779840848806,
          0.14084507042253522,
          0.2012072434607646,
          0.6371439102732874,
          0.27744748315497425,
          0.45586406962287607,
          0.1,
          0.1671681711802073,
          0.1455604075691412,
          0.26501766784452296,
          0.48982667671439334,
          0.31746031746031744,
          0.3052852509063156,
          0.07434944237918216,
          0.12048192771084339,
          0.12172854534388314,
          0.13026487190620928,
          0.10111223458038424,
          0.11282437006393381,
          0,
          0.1282051282051282,
          0.3294892915980231,
          0,
          0.20876826722338201,
          0.25380710659898476,
          0,
          0.5291005291005291,
          0,
          0.2967359050445104,
          0.18450184501845018,
          0.34843205574912894,
          0.12484394506866417,
          0.15141682889898334,
          0.0676132521974307,
          0.30441400304414,
          0.23364485981308408,
          0.30978934324659235,
          0.18957345971563982,
          0,
          0,
          0.12406947890818859,
          0.16366612111292964,
          0.3976143141153081,
          0.29239766081871343,
          0.21837466853844956,
          0,
          0,
          0.05211047420531526,
          0,
          0.07716049382716049,
          0,
          0.1773049645390071,
          0.21691973969631237,
          0.4970178926441352,
          0,
          0.3824091778202677,
          0.078003120124805,
          0.12547051442910914,
          0.199203187250996,
          0.43478260869565216,
          0,
          0.6211180124223602,
          0.34071550255536626,
          0.09487666034155598,
          0.1176470588235294,
          0.4405286343612335,
          0.4048582995951417,
          0.2976190476190476,
          0.22505626406601648,
          0.06441223832528181,
          0.35856573705179284,
          0.15479876160990713,
          0.3293084522502744,
          0.3597122302158274,
          0.06591957811470006,
          0.6779661016949152,
          0.17953321364452424,
          0.5361930294906166,
          0.38167938931297707,
          0.17211703958691912,
          0.4620329449578144,
          0.21929824561403508,
          0.3878474466709761,
          0.6222775357809583,
          0.38004750593824227,
          0.4909983633387889,
          0.4241781548250266,
          0.25806451612903225,
          0.38080731150038083,
          0.08952551477170993,
          0.311284046692607,
          0.09279307145066501,
          0.5434782608695652,
          0,
          0.1510574018126888,
          0.12658227848101267,
          0,
          0,
          0,
          0.3761755485893417,
          0.20920502092050208,
          0,
          0,
          0,
          0,
          0,
          0,
          0.5025125628140703,
          0,
          0,
          0.5,
          0,
          0.3003003003003003,
          0,
          0.02386634844868735,
          0,
          0,
          1.2048192771084338,
          0.7067137809187279,
          0.3508771929824561,
          0.28735632183908044,
          0.5747126436781609,
          0.08912655971479501,
          0,
          0.19915359721184964,
          0.13452914798206278,
          0,
          0.16501650165016502,
          0.23885350318471338
         ],
         "yaxis": "y"
        },
        {
         "customdata": [
          [
           337,
           "90 eller äldre"
          ],
          [
           242,
           "90 eller äldre"
          ],
          [
           371,
           "90 eller äldre"
          ],
          [
           312,
           "90 eller äldre"
          ],
          [
           727,
           "90 eller äldre"
          ],
          [
           219,
           "90 eller äldre"
          ],
          [
           737,
           "90 eller äldre"
          ],
          [
           527,
           "90 eller äldre"
          ],
          [
           144,
           "90 eller äldre"
          ],
          [
           531,
           "90 eller äldre"
          ],
          [
           444,
           "90 eller äldre"
          ],
          [
           183,
           "90 eller äldre"
          ],
          [
           53,
           "90 eller äldre"
          ],
          [
           819,
           "90 eller äldre"
          ],
          [
           521,
           "90 eller äldre"
          ],
          [
           641,
           "90 eller äldre"
          ],
          [
           8562,
           "90 eller äldre"
          ],
          [
           776,
           "90 eller äldre"
          ],
          [
           988,
           "90 eller äldre"
          ],
          [
           324,
           "90 eller äldre"
          ],
          [
           794,
           "90 eller äldre"
          ],
          [
           725,
           "90 eller äldre"
          ],
          [
           103,
           "90 eller äldre"
          ],
          [
           900,
           "90 eller äldre"
          ],
          [
           299,
           "90 eller äldre"
          ],
          [
           278,
           "90 eller äldre"
          ],
          [
           136,
           "90 eller äldre"
          ],
          [
           102,
           "90 eller äldre"
          ],
          [
           107,
           "90 eller äldre"
          ],
          [
           176,
           "90 eller äldre"
          ],
          [
           308,
           "90 eller äldre"
          ],
          [
           2160,
           "90 eller äldre"
          ],
          [
           523,
           "90 eller äldre"
          ],
          [
           303,
           "90 eller äldre"
          ],
          [
           104,
           "90 eller äldre"
          ],
          [
           108,
           "90 eller äldre"
          ],
          [
           760,
           "90 eller äldre"
          ],
          [
           182,
           "90 eller äldre"
          ],
          [
           208,
           "90 eller äldre"
          ],
          [
           476,
           "90 eller äldre"
          ],
          [
           1162,
           "90 eller äldre"
          ],
          [
           378,
           "90 eller äldre"
          ],
          [
           132,
           "90 eller äldre"
          ],
          [
           89,
           "90 eller äldre"
          ],
          [
           56,
           "90 eller äldre"
          ],
          [
           148,
           "90 eller äldre"
          ],
          [
           78,
           "90 eller äldre"
          ],
          [
           152,
           "90 eller äldre"
          ],
          [
           290,
           "90 eller äldre"
          ],
          [
           128,
           "90 eller äldre"
          ],
          [
           1769,
           "90 eller äldre"
          ],
          [
           1441,
           "90 eller äldre"
          ],
          [
           164,
           "90 eller äldre"
          ],
          [
           604,
           "90 eller äldre"
          ],
          [
           133,
           "90 eller äldre"
          ],
          [
           345,
           "90 eller äldre"
          ],
          [
           73,
           "90 eller äldre"
          ],
          [
           124,
           "90 eller äldre"
          ],
          [
           91,
           "90 eller äldre"
          ],
          [
           91,
           "90 eller äldre"
          ],
          [
           391,
           "90 eller äldre"
          ],
          [
           153,
           "90 eller äldre"
          ],
          [
           1668,
           "90 eller äldre"
          ],
          [
           433,
           "90 eller äldre"
          ],
          [
           417,
           "90 eller äldre"
          ],
          [
           184,
           "90 eller äldre"
          ],
          [
           432,
           "90 eller äldre"
          ],
          [
           288,
           "90 eller äldre"
          ],
          [
           306,
           "90 eller äldre"
          ],
          [
           158,
           "90 eller äldre"
          ],
          [
           119,
           "90 eller äldre"
          ],
          [
           243,
           "90 eller äldre"
          ],
          [
           317,
           "90 eller äldre"
          ],
          [
           238,
           "90 eller äldre"
          ],
          [
           158,
           "90 eller äldre"
          ],
          [
           1005,
           "90 eller äldre"
          ],
          [
           428,
           "90 eller äldre"
          ],
          [
           69,
           "90 eller äldre"
          ],
          [
           101,
           "90 eller äldre"
          ],
          [
           160,
           "90 eller äldre"
          ],
          [
           223,
           "90 eller äldre"
          ],
          [
           184,
           "90 eller äldre"
          ],
          [
           157,
           "90 eller äldre"
          ],
          [
           842,
           "90 eller äldre"
          ],
          [
           317,
           "90 eller äldre"
          ],
          [
           342,
           "90 eller äldre"
          ],
          [
           618,
           "90 eller äldre"
          ],
          [
           235,
           "90 eller äldre"
          ],
          [
           180,
           "90 eller äldre"
          ],
          [
           795,
           "90 eller äldre"
          ],
          [
           226,
           "90 eller äldre"
          ],
          [
           790,
           "90 eller äldre"
          ],
          [
           459,
           "90 eller äldre"
          ],
          [
           447,
           "90 eller äldre"
          ],
          [
           241,
           "90 eller äldre"
          ],
          [
           129,
           "90 eller äldre"
          ],
          [
           237,
           "90 eller äldre"
          ],
          [
           176,
           "90 eller äldre"
          ],
          [
           391,
           "90 eller äldre"
          ],
          [
           180,
           "90 eller äldre"
          ],
          [
           151,
           "90 eller äldre"
          ],
          [
           119,
           "90 eller äldre"
          ],
          [
           269,
           "90 eller äldre"
          ],
          [
           303,
           "90 eller äldre"
          ],
          [
           190,
           "90 eller äldre"
          ],
          [
           152,
           "90 eller äldre"
          ],
          [
           208,
           "90 eller äldre"
          ],
          [
           191,
           "90 eller äldre"
          ],
          [
           202,
           "90 eller äldre"
          ],
          [
           173,
           "90 eller äldre"
          ],
          [
           128,
           "90 eller äldre"
          ],
          [
           224,
           "90 eller äldre"
          ],
          [
           104,
           "90 eller äldre"
          ],
          [
           221,
           "90 eller äldre"
          ],
          [
           115,
           "90 eller äldre"
          ],
          [
           285,
           "90 eller äldre"
          ],
          [
           3152,
           "90 eller äldre"
          ],
          [
           1156,
           "90 eller äldre"
          ],
          [
           468,
           "90 eller äldre"
          ],
          [
           1582,
           "90 eller äldre"
          ],
          [
           386,
           "90 eller äldre"
          ],
          [
           343,
           "90 eller äldre"
          ],
          [
           464,
           "90 eller äldre"
          ],
          [
           499,
           "90 eller äldre"
          ],
          [
           1133,
           "90 eller äldre"
          ],
          [
           349,
           "90 eller äldre"
          ],
          [
           667,
           "90 eller äldre"
          ],
          [
           796,
           "90 eller äldre"
          ],
          [
           158,
           "90 eller äldre"
          ],
          [
           1271,
           "90 eller äldre"
          ],
          [
           343,
           "90 eller äldre"
          ],
          [
           676,
           "90 eller äldre"
          ],
          [
           890,
           "90 eller äldre"
          ],
          [
           867,
           "90 eller äldre"
          ],
          [
           329,
           "90 eller äldre"
          ],
          [
           414,
           "90 eller äldre"
          ],
          [
           173,
           "90 eller äldre"
          ],
          [
           284,
           "90 eller äldre"
          ],
          [
           211,
           "90 eller äldre"
          ],
          [
           211,
           "90 eller äldre"
          ],
          [
           167,
           "90 eller äldre"
          ],
          [
           156,
           "90 eller äldre"
          ],
          [
           205,
           "90 eller äldre"
          ],
          [
           67,
           "90 eller äldre"
          ],
          [
           96,
           "90 eller äldre"
          ],
          [
           204,
           "90 eller äldre"
          ],
          [
           401,
           "90 eller äldre"
          ],
          [
           126,
           "90 eller äldre"
          ],
          [
           86,
           "90 eller äldre"
          ],
          [
           92,
           "90 eller äldre"
          ],
          [
           85,
           "90 eller äldre"
          ],
          [
           98,
           "90 eller äldre"
          ],
          [
           87,
           "90 eller äldre"
          ],
          [
           177,
           "90 eller äldre"
          ],
          [
           191,
           "90 eller äldre"
          ],
          [
           161,
           "90 eller äldre"
          ],
          [
           133,
           "90 eller äldre"
          ],
          [
           445,
           "90 eller äldre"
          ],
          [
           118,
           "90 eller äldre"
          ],
          [
           118,
           "90 eller äldre"
          ],
          [
           194,
           "90 eller äldre"
          ],
          [
           153,
           "90 eller äldre"
          ],
          [
           164,
           "90 eller äldre"
          ],
          [
           128,
           "90 eller äldre"
          ],
          [
           5160,
           "90 eller äldre"
          ],
          [
           629,
           "90 eller äldre"
          ],
          [
           582,
           "90 eller äldre"
          ],
          [
           256,
           "90 eller äldre"
          ],
          [
           745,
           "90 eller äldre"
          ],
          [
           175,
           "90 eller äldre"
          ],
          [
           471,
           "90 eller äldre"
          ],
          [
           650,
           "90 eller äldre"
          ],
          [
           511,
           "90 eller äldre"
          ],
          [
           1311,
           "90 eller äldre"
          ],
          [
           370,
           "90 eller äldre"
          ],
          [
           239,
           "90 eller äldre"
          ],
          [
           359,
           "90 eller äldre"
          ],
          [
           527,
           "90 eller äldre"
          ],
          [
           230,
           "90 eller äldre"
          ],
          [
           650,
           "90 eller äldre"
          ],
          [
           118,
           "90 eller äldre"
          ],
          [
           200,
           "90 eller äldre"
          ],
          [
           471,
           "90 eller äldre"
          ],
          [
           159,
           "90 eller äldre"
          ],
          [
           136,
           "90 eller äldre"
          ],
          [
           180,
           "90 eller äldre"
          ],
          [
           62,
           "90 eller äldre"
          ],
          [
           143,
           "90 eller äldre"
          ],
          [
           74,
           "90 eller äldre"
          ],
          [
           124,
           "90 eller äldre"
          ],
          [
           139,
           "90 eller äldre"
          ],
          [
           137,
           "90 eller äldre"
          ],
          [
           208,
           "90 eller äldre"
          ],
          [
           1132,
           "90 eller äldre"
          ],
          [
           359,
           "90 eller äldre"
          ],
          [
           180,
           "90 eller äldre"
          ],
          [
           196,
           "90 eller äldre"
          ],
          [
           469,
           "90 eller äldre"
          ],
          [
           259,
           "90 eller äldre"
          ],
          [
           82,
           "90 eller äldre"
          ],
          [
           94,
           "90 eller äldre"
          ],
          [
           166,
           "90 eller äldre"
          ],
          [
           140,
           "90 eller äldre"
          ],
          [
           98,
           "90 eller äldre"
          ],
          [
           72,
           "90 eller äldre"
          ],
          [
           1585,
           "90 eller äldre"
          ],
          [
           219,
           "90 eller äldre"
          ],
          [
           153,
           "90 eller äldre"
          ],
          [
           408,
           "90 eller äldre"
          ],
          [
           122,
           "90 eller äldre"
          ],
          [
           342,
           "90 eller äldre"
          ],
          [
           60,
           "90 eller äldre"
          ],
          [
           127,
           "90 eller äldre"
          ],
          [
           107,
           "90 eller äldre"
          ],
          [
           207,
           "90 eller äldre"
          ],
          [
           83,
           "90 eller äldre"
          ],
          [
           1772,
           "90 eller äldre"
          ],
          [
           306,
           "90 eller äldre"
          ],
          [
           191,
           "90 eller äldre"
          ],
          [
           369,
           "90 eller äldre"
          ],
          [
           201,
           "90 eller äldre"
          ],
          [
           90,
           "90 eller äldre"
          ],
          [
           148,
           "90 eller äldre"
          ],
          [
           112,
           "90 eller äldre"
          ],
          [
           258,
           "90 eller äldre"
          ],
          [
           216,
           "90 eller äldre"
          ],
          [
           116,
           "90 eller äldre"
          ],
          [
           109,
           "90 eller äldre"
          ],
          [
           121,
           "90 eller äldre"
          ],
          [
           268,
           "90 eller äldre"
          ],
          [
           706,
           "90 eller äldre"
          ],
          [
           538,
           "90 eller äldre"
          ],
          [
           139,
           "90 eller äldre"
          ],
          [
           205,
           "90 eller äldre"
          ],
          [
           330,
           "90 eller äldre"
          ],
          [
           413,
           "90 eller äldre"
          ],
          [
           95,
           "90 eller äldre"
          ],
          [
           125,
           "90 eller äldre"
          ],
          [
           181,
           "90 eller äldre"
          ],
          [
           106,
           "90 eller äldre"
          ],
          [
           279,
           "90 eller äldre"
          ],
          [
           1061,
           "90 eller äldre"
          ],
          [
           477,
           "90 eller äldre"
          ],
          [
           355,
           "90 eller äldre"
          ],
          [
           394,
           "90 eller äldre"
          ],
          [
           460,
           "90 eller äldre"
          ],
          [
           128,
           "90 eller äldre"
          ],
          [
           161,
           "90 eller äldre"
          ],
          [
           309,
           "90 eller äldre"
          ],
          [
           1093,
           "90 eller äldre"
          ],
          [
           275,
           "90 eller äldre"
          ],
          [
           308,
           "90 eller äldre"
          ],
          [
           692,
           "90 eller äldre"
          ],
          [
           76,
           "90 eller äldre"
          ],
          [
           91,
           "90 eller äldre"
          ],
          [
           133,
           "90 eller äldre"
          ],
          [
           190,
           "90 eller äldre"
          ],
          [
           92,
           "90 eller äldre"
          ],
          [
           113,
           "90 eller äldre"
          ],
          [
           163,
           "90 eller äldre"
          ],
          [
           696,
           "90 eller äldre"
          ],
          [
           105,
           "90 eller äldre"
          ],
          [
           58,
           "90 eller äldre"
          ],
          [
           98,
           "90 eller äldre"
          ],
          [
           91,
           "90 eller äldre"
          ],
          [
           55,
           "90 eller äldre"
          ],
          [
           42,
           "90 eller äldre"
          ],
          [
           109,
           "90 eller äldre"
          ],
          [
           43,
           "90 eller äldre"
          ],
          [
           61,
           "90 eller äldre"
          ],
          [
           117,
           "90 eller äldre"
          ],
          [
           90,
           "90 eller äldre"
          ],
          [
           54,
           "90 eller äldre"
          ],
          [
           1066,
           "90 eller äldre"
          ],
          [
           145,
           "90 eller äldre"
          ],
          [
           876,
           "90 eller äldre"
          ],
          [
           85,
           "90 eller äldre"
          ],
          [
           57,
           "90 eller äldre"
          ],
          [
           72,
           "90 eller äldre"
          ],
          [
           69,
           "90 eller äldre"
          ],
          [
           237,
           "90 eller äldre"
          ],
          [
           78,
           "90 eller äldre"
          ],
          [
           84,
           "90 eller äldre"
          ],
          [
           245,
           "90 eller äldre"
          ],
          [
           133,
           "90 eller äldre"
          ],
          [
           800,
           "90 eller äldre"
          ],
          [
           433,
           "90 eller äldre"
          ],
          [
           370,
           "90 eller äldre"
          ],
          [
           108,
           "90 eller äldre"
          ],
          [
           219,
           "90 eller äldre"
          ]
         ],
         "hovertemplate": "<b>%{hovertext}</b><br><br>Ålder=%{customdata[1]}<br>Län_namn=%{x}<br>VIR=%{y}<br>Befolkning=%{customdata[0]}<extra></extra>",
         "hovertext": [
          "Upplands Väsby",
          "Vallentuna",
          "Österåker",
          "Värmdö",
          "Järfälla",
          "Ekerö",
          "Huddinge",
          "Botkyrka",
          "Salem",
          "Haninge",
          "Tyresö",
          "Upplands-Bro",
          "Nykvarn",
          "Täby",
          "Danderyd",
          "Sollentuna",
          "Stockholm",
          "Södertälje",
          "Nacka",
          "Sundbyberg",
          "Solna",
          "Lidingö",
          "Vaxholm",
          "Norrtälje",
          "Sigtuna",
          "Nynäshamn",
          "Håbo",
          "Älvkarleby",
          "Knivsta",
          "Heby",
          "Tierp",
          "Uppsala",
          "Enköping",
          "Östhammar",
          "Vingåker",
          "Gnesta",
          "Nyköping",
          "Oxelösund",
          "Flen",
          "Katrineholm",
          "Eskilstuna",
          "Strängnäs",
          "Trosa",
          "Ödeshög",
          "Ydre",
          "Kinda",
          "Boxholm",
          "Åtvidaberg",
          "Finspång",
          "Valdemarsvik",
          "Linköping",
          "Norrköping",
          "Söderköping",
          "Motala",
          "Vadstena",
          "Mjölby",
          "Aneby",
          "Gnosjö",
          "Mullsjö",
          "Habo",
          "Gislaved",
          "Vaggeryd",
          "Jönköping",
          "Nässjö",
          "Värnamo",
          "Sävsjö",
          "Vetlanda",
          "Eksjö",
          "Tranås",
          "Uppvidinge",
          "Lessebo",
          "Tingsryd",
          "Alvesta",
          "Älmhult",
          "Markaryd",
          "Växjö",
          "Ljungby",
          "Högsby",
          "Torsås",
          "Mörbylånga",
          "Hultsfred",
          "Mönsterås",
          "Emmaboda",
          "Kalmar",
          "Nybro",
          "Oskarshamn",
          "Västervik",
          "Vimmerby",
          "Borgholm",
          "Gotland",
          "Olofström",
          "Karlskrona",
          "Ronneby",
          "Karlshamn",
          "Sölvesborg",
          "Svalöv",
          "Staffanstorp",
          "Burlöv",
          "Vellinge",
          "Östra Göinge",
          "Örkelljunga",
          "Bjuv",
          "Kävlinge",
          "Lomma",
          "Svedala",
          "Skurup",
          "Sjöbo",
          "Hörby",
          "Höör",
          "Tomelilla",
          "Bromölla",
          "Osby",
          "Perstorp",
          "Klippan",
          "Åstorp",
          "Båstad",
          "Malmö",
          "Lund",
          "Landskrona",
          "Helsingborg",
          "Höganäs",
          "Eslöv",
          "Ystad",
          "Trelleborg",
          "Kristianstad",
          "Simrishamn",
          "Ängelholm",
          "Hässleholm",
          "Hylte",
          "Halmstad",
          "Laholm",
          "Falkenberg",
          "Varberg",
          "Kungsbacka",
          "Härryda",
          "Partille",
          "Öckerö",
          "Stenungsund",
          "Tjörn",
          "Orust",
          "Sotenäs",
          "Munkedal",
          "Tanum",
          "Dals-Ed",
          "Färgelanda",
          "Ale",
          "Lerum",
          "Vårgårda",
          "Bollebygd",
          "Grästorp",
          "Essunga",
          "Karlsborg",
          "Gullspång",
          "Tranemo",
          "Bengtsfors",
          "Mellerud",
          "Lilla Edet",
          "Mark",
          "Svenljunga",
          "Herrljunga",
          "Vara",
          "Götene",
          "Tibro",
          "Töreboda",
          "Göteborg",
          "Mölndal",
          "Kungälv",
          "Lysekil",
          "Uddevalla",
          "Strömstad",
          "Vänersborg",
          "Trollhättan",
          "Alingsås",
          "Borås",
          "Ulricehamn",
          "Åmål",
          "Mariestad",
          "Lidköping",
          "Skara",
          "Skövde",
          "Hjo",
          "Tidaholm",
          "Falköping",
          "Kil",
          "Eda",
          "Torsby",
          "Storfors",
          "Hammarö",
          "Munkfors",
          "Forshaga",
          "Grums",
          "Årjäng",
          "Sunne",
          "Karlstad",
          "Kristinehamn",
          "Filipstad",
          "Hagfors",
          "Arvika",
          "Säffle",
          "Lekeberg",
          "Laxå",
          "Hallsberg",
          "Degerfors",
          "Hällefors",
          "Ljusnarsberg",
          "Örebro",
          "Kumla",
          "Askersund",
          "Karlskoga",
          "Nora",
          "Lindesberg",
          "Skinnskatteberg",
          "Surahammar",
          "Kungsör",
          "Hallstahammar",
          "Norberg",
          "Västerås",
          "Sala",
          "Fagersta",
          "Köping",
          "Arboga",
          "Vansbro",
          "Malung-Sälen",
          "Gagnef",
          "Leksand",
          "Rättvik",
          "Orsa",
          "Älvdalen",
          "Smedjebacken",
          "Mora",
          "Falun",
          "Borlänge",
          "Säter",
          "Hedemora",
          "Avesta",
          "Ludvika",
          "Ockelbo",
          "Hofors",
          "Ovanåker",
          "Nordanstig",
          "Ljusdal",
          "Gävle",
          "Sandviken",
          "Söderhamn",
          "Bollnäs",
          "Hudiksvall",
          "Ånge",
          "Timrå",
          "Härnösand",
          "Sundsvall",
          "Kramfors",
          "Sollefteå",
          "Örnsköldsvik",
          "Ragunda",
          "Bräcke",
          "Krokom",
          "Strömsund",
          "Åre",
          "Berg",
          "Härjedalen",
          "Östersund",
          "Nordmaling",
          "Bjurholm",
          "Vindeln",
          "Robertsfors",
          "Norsjö",
          "Malå",
          "Storuman",
          "Sorsele",
          "Dorotea",
          "Vännäs",
          "Vilhelmina",
          "Åsele",
          "Umeå",
          "Lycksele",
          "Skellefteå",
          "Arvidsjaur",
          "Arjeplog",
          "Jokkmokk",
          "Överkalix",
          "Kalix",
          "Övertorneå",
          "Pajala",
          "Gällivare",
          "Älvsbyn",
          "Luleå",
          "Piteå",
          "Boden",
          "Haparanda",
          "Kiruna"
         ],
         "legendgroup": "90 eller äldre",
         "marker": {
          "color": "#FECB52",
          "symbol": "circle"
         },
         "mode": "markers",
         "name": "90 eller äldre",
         "showlegend": true,
         "type": "scattergl",
         "x": [
          "Stockholms län",
          "Stockholms län",
          "Stockholms län",
          "Stockholms län",
          "Stockholms län",
          "Stockholms län",
          "Stockholms län",
          "Stockholms län",
          "Stockholms län",
          "Stockholms län",
          "Stockholms län",
          "Stockholms län",
          "Stockholms län",
          "Stockholms län",
          "Stockholms län",
          "Stockholms län",
          "Stockholms län",
          "Stockholms län",
          "Stockholms län",
          "Stockholms län",
          "Stockholms län",
          "Stockholms län",
          "Stockholms län",
          "Stockholms län",
          "Stockholms län",
          "Stockholms län",
          "Uppsala län",
          "Uppsala län",
          "Uppsala län",
          "Uppsala län",
          "Uppsala län",
          "Uppsala län",
          "Uppsala län",
          "Uppsala län",
          "Södermanlands län",
          "Södermanlands län",
          "Södermanlands län",
          "Södermanlands län",
          "Södermanlands län",
          "Södermanlands län",
          "Södermanlands län",
          "Södermanlands län",
          "Södermanlands län",
          "Östergötlands län",
          "Östergötlands län",
          "Östergötlands län",
          "Östergötlands län",
          "Östergötlands län",
          "Östergötlands län",
          "Östergötlands län",
          "Östergötlands län",
          "Östergötlands län",
          "Östergötlands län",
          "Östergötlands län",
          "Östergötlands län",
          "Östergötlands län",
          "Jönköpings län",
          "Jönköpings län",
          "Jönköpings län",
          "Jönköpings län",
          "Jönköpings län",
          "Jönköpings län",
          "Jönköpings län",
          "Jönköpings län",
          "Jönköpings län",
          "Jönköpings län",
          "Jönköpings län",
          "Jönköpings län",
          "Jönköpings län",
          "Kronobergs län",
          "Kronobergs län",
          "Kronobergs län",
          "Kronobergs län",
          "Kronobergs län",
          "Kronobergs län",
          "Kronobergs län",
          "Kronobergs län",
          "Kalmar län",
          "Kalmar län",
          "Kalmar län",
          "Kalmar län",
          "Kalmar län",
          "Kalmar län",
          "Kalmar län",
          "Kalmar län",
          "Kalmar län",
          "Kalmar län",
          "Kalmar län",
          "Kalmar län",
          "Gotlands län",
          "Blekinge län",
          "Blekinge län",
          "Blekinge län",
          "Blekinge län",
          "Blekinge län",
          "Skåne län",
          "Skåne län",
          "Skåne län",
          "Skåne län",
          "Skåne län",
          "Skåne län",
          "Skåne län",
          "Skåne län",
          "Skåne län",
          "Skåne län",
          "Skåne län",
          "Skåne län",
          "Skåne län",
          "Skåne län",
          "Skåne län",
          "Skåne län",
          "Skåne län",
          "Skåne län",
          "Skåne län",
          "Skåne län",
          "Skåne län",
          "Skåne län",
          "Skåne län",
          "Skåne län",
          "Skåne län",
          "Skåne län",
          "Skåne län",
          "Skåne län",
          "Skåne län",
          "Skåne län",
          "Skåne län",
          "Skåne län",
          "Skåne län",
          "Hallands län",
          "Hallands län",
          "Hallands län",
          "Hallands län",
          "Hallands län",
          "Hallands län",
          "Västra Götalands län",
          "Västra Götalands län",
          "Västra Götalands län",
          "Västra Götalands län",
          "Västra Götalands län",
          "Västra Götalands län",
          "Västra Götalands län",
          "Västra Götalands län",
          "Västra Götalands län",
          "Västra Götalands län",
          "Västra Götalands län",
          "Västra Götalands län",
          "Västra Götalands län",
          "Västra Götalands län",
          "Västra Götalands län",
          "Västra Götalands län",
          "Västra Götalands län",
          "Västra Götalands län",
          "Västra Götalands län",
          "Västra Götalands län",
          "Västra Götalands län",
          "Västra Götalands län",
          "Västra Götalands län",
          "Västra Götalands län",
          "Västra Götalands län",
          "Västra Götalands län",
          "Västra Götalands län",
          "Västra Götalands län",
          "Västra Götalands län",
          "Västra Götalands län",
          "Västra Götalands län",
          "Västra Götalands län",
          "Västra Götalands län",
          "Västra Götalands län",
          "Västra Götalands län",
          "Västra Götalands län",
          "Västra Götalands län",
          "Västra Götalands län",
          "Västra Götalands län",
          "Västra Götalands län",
          "Västra Götalands län",
          "Västra Götalands län",
          "Västra Götalands län",
          "Västra Götalands län",
          "Västra Götalands län",
          "Västra Götalands län",
          "Västra Götalands län",
          "Västra Götalands län",
          "Västra Götalands län",
          "Värmlands län",
          "Värmlands län",
          "Värmlands län",
          "Värmlands län",
          "Värmlands län",
          "Värmlands län",
          "Värmlands län",
          "Värmlands län",
          "Värmlands län",
          "Värmlands län",
          "Värmlands län",
          "Värmlands län",
          "Värmlands län",
          "Värmlands län",
          "Värmlands län",
          "Värmlands län",
          "Örebro län",
          "Örebro län",
          "Örebro län",
          "Örebro län",
          "Örebro län",
          "Örebro län",
          "Örebro län",
          "Örebro län",
          "Örebro län",
          "Örebro län",
          "Örebro län",
          "Örebro län",
          "Västmanlands län",
          "Västmanlands län",
          "Västmanlands län",
          "Västmanlands län",
          "Västmanlands län",
          "Västmanlands län",
          "Västmanlands län",
          "Västmanlands län",
          "Västmanlands län",
          "Västmanlands län",
          "Dalarnas län",
          "Dalarnas län",
          "Dalarnas län",
          "Dalarnas län",
          "Dalarnas län",
          "Dalarnas län",
          "Dalarnas län",
          "Dalarnas län",
          "Dalarnas län",
          "Dalarnas län",
          "Dalarnas län",
          "Dalarnas län",
          "Dalarnas län",
          "Dalarnas län",
          "Dalarnas län",
          "Gävleborgs län",
          "Gävleborgs län",
          "Gävleborgs län",
          "Gävleborgs län",
          "Gävleborgs län",
          "Gävleborgs län",
          "Gävleborgs län",
          "Gävleborgs län",
          "Gävleborgs län",
          "Gävleborgs län",
          "Västernorrlands län",
          "Västernorrlands län",
          "Västernorrlands län",
          "Västernorrlands län",
          "Västernorrlands län",
          "Västernorrlands län",
          "Västernorrlands län",
          "Jämtlands län",
          "Jämtlands län",
          "Jämtlands län",
          "Jämtlands län",
          "Jämtlands län",
          "Jämtlands län",
          "Jämtlands län",
          "Jämtlands län",
          "Västerbottens län",
          "Västerbottens län",
          "Västerbottens län",
          "Västerbottens län",
          "Västerbottens län",
          "Västerbottens län",
          "Västerbottens län",
          "Västerbottens län",
          "Västerbottens län",
          "Västerbottens län",
          "Västerbottens län",
          "Västerbottens län",
          "Västerbottens län",
          "Västerbottens län",
          "Västerbottens län",
          "Norrbottens län",
          "Norrbottens län",
          "Norrbottens län",
          "Norrbottens län",
          "Norrbottens län",
          "Norrbottens län",
          "Norrbottens län",
          "Norrbottens län",
          "Norrbottens län",
          "Norrbottens län",
          "Norrbottens län",
          "Norrbottens län",
          "Norrbottens län",
          "Norrbottens län"
         ],
         "xaxis": "x",
         "y": [
          0.9090909090909091,
          0,
          0.273224043715847,
          1.6778523489932886,
          0.29239766081871343,
          0.45662100456621,
          0.5689900426742532,
          0.6342494714587738,
          0,
          0.3968253968253968,
          0.22727272727272727,
          1.7543859649122806,
          0,
          0.6305170239596469,
          0.19646365422396855,
          0.6493506493506493,
          0.6535947712418301,
          0.5509641873278237,
          0.41841004184100417,
          0.9900990099009901,
          0.2663115845539281,
          0.56657223796034,
          0,
          0.11337868480725624,
          1.444043321299639,
          1.444043321299639,
          0.7518796992481203,
          1.0101010101010102,
          0,
          0,
          1.3651877133105803,
          0.33333333333333337,
          0.2004008016032064,
          0.3436426116838488,
          0,
          0,
          0.2724795640326975,
          0,
          0.5128205128205128,
          0.4291845493562232,
          0.1813236627379873,
          0.2777777777777778,
          0,
          0,
          0,
          0,
          0,
          0,
          0,
          0,
          0.4062681369704005,
          0.07256894049346879,
          0,
          0,
          0,
          0.2958579881656805,
          0,
          0.8403361344537815,
          1.1363636363636365,
          0,
          0.2631578947368421,
          0,
          0.43076923076923074,
          0.47732696897374705,
          0,
          0,
          0,
          0,
          0,
          0,
          0,
          0.4405286343612335,
          0.6711409395973155,
          0.8849557522123894,
          0,
          0.4206098843322818,
          0.24449877750611246,
          0,
          0,
          0,
          0,
          0,
          0,
          0.4895960832313341,
          0,
          0.3058103975535168,
          0,
          0,
          0.5747126436781609,
          0.38910505836575876,
          0.46511627906976744,
          0.13003901170351106,
          0,
          0.4716981132075472,
          0.8583690987124464,
          0,
          0,
          0,
          0.26666666666666666,
          1.7543859649122806,
          0.6896551724137931,
          0,
          0,
          0,
          0,
          0,
          0,
          0,
          1.092896174863388,
          0,
          0,
          0,
          0,
          0,
          0.9708737864077669,
          0.3663003663003663,
          0.47748976807639837,
          0.09049773755656108,
          0,
          0.7323568575233023,
          0.5361930294906166,
          0.9230769230769231,
          0.8928571428571428,
          0.42016806722689076,
          0.27752081406105455,
          0.8928571428571428,
          0.3139717425431711,
          0.3973509933774834,
          0,
          0.24732069249793898,
          0.30303030303030304,
          0.3003003003003003,
          0.11737089201877934,
          0.4733727810650888,
          0,
          0,
          0,
          1.0752688172043012,
          0,
          0.49261083743842365,
          0.6097560975609756,
          1.36986301369863,
          0,
          0,
          0,
          0.4975124378109453,
          0,
          0.847457627118644,
          0,
          0,
          1.2987012987012987,
          0,
          1.2048192771084338,
          0,
          0,
          1.9230769230769231,
          0,
          0.23148148148148145,
          0,
          2.586206896551724,
          0.5181347150259068,
          0.684931506849315,
          0.6369426751592357,
          0,
          0.7144315166360482,
          0.4983388704318937,
          0,
          0.8032128514056224,
          0.13793103448275862,
          0,
          0,
          0.16,
          0,
          0.07955449482895784,
          1.1299435028248588,
          0,
          0,
          0,
          0,
          0,
          0,
          0,
          0.44150110375275936,
          0,
          0,
          0,
          1.6666666666666667,
          0.7246376811594203,
          0,
          0,
          0,
          0,
          0,
          0,
          0,
          0,
          1.0582010582010581,
          0.6622516556291391,
          0.3952569169960474,
          0,
          0,
          0,
          0,
          0,
          0,
          0.06493506493506493,
          0,
          0,
          0,
          0,
          0.3021148036253776,
          0,
          0.8,
          0,
          0,
          1.2345679012345678,
          0.7562536358347877,
          0.33557046979865773,
          1.092896174863388,
          0.2777777777777778,
          0,
          0,
          0,
          0,
          0.8064516129032258,
          0,
          0,
          0,
          0,
          0.39215686274509803,
          0.14492753623188406,
          0.19120458891013384,
          0,
          0.9950248756218906,
          0.30959752321981426,
          0,
          1.1111111111111112,
          0,
          0,
          0,
          0.3676470588235294,
          0.5911330049261084,
          0.437636761487965,
          0,
          0,
          0.2257336343115124,
          0,
          1.3333333333333335,
          0,
          0.5714285714285714,
          0.3731343283582089,
          0.6825938566552902,
          0.14814814814814814,
          0,
          0,
          0.78125,
          0,
          0,
          0,
          0,
          0,
          0,
          0,
          0,
          0,
          0,
          0,
          0,
          0,
          0,
          0,
          0,
          0,
          0,
          0,
          0.11534025374855825,
          0,
          0,
          0,
          0,
          0.4444444444444444,
          0,
          0,
          0,
          2.34375,
          0,
          0.24154589371980675,
          0,
          0.9523809523809524,
          0
         ],
         "yaxis": "y"
        }
       ],
       "layout": {
        "legend": {
         "title": {
          "text": "Ålder"
         },
         "tracegroupgap": 0
        },
        "template": {
         "data": {
          "bar": [
           {
            "error_x": {
             "color": "#2a3f5f"
            },
            "error_y": {
             "color": "#2a3f5f"
            },
            "marker": {
             "line": {
              "color": "#E5ECF6",
              "width": 0.5
             },
             "pattern": {
              "fillmode": "overlay",
              "size": 10,
              "solidity": 0.2
             }
            },
            "type": "bar"
           }
          ],
          "barpolar": [
           {
            "marker": {
             "line": {
              "color": "#E5ECF6",
              "width": 0.5
             },
             "pattern": {
              "fillmode": "overlay",
              "size": 10,
              "solidity": 0.2
             }
            },
            "type": "barpolar"
           }
          ],
          "carpet": [
           {
            "aaxis": {
             "endlinecolor": "#2a3f5f",
             "gridcolor": "white",
             "linecolor": "white",
             "minorgridcolor": "white",
             "startlinecolor": "#2a3f5f"
            },
            "baxis": {
             "endlinecolor": "#2a3f5f",
             "gridcolor": "white",
             "linecolor": "white",
             "minorgridcolor": "white",
             "startlinecolor": "#2a3f5f"
            },
            "type": "carpet"
           }
          ],
          "choropleth": [
           {
            "colorbar": {
             "outlinewidth": 0,
             "ticks": ""
            },
            "type": "choropleth"
           }
          ],
          "contour": [
           {
            "colorbar": {
             "outlinewidth": 0,
             "ticks": ""
            },
            "colorscale": [
             [
              0,
              "#0d0887"
             ],
             [
              0.1111111111111111,
              "#46039f"
             ],
             [
              0.2222222222222222,
              "#7201a8"
             ],
             [
              0.3333333333333333,
              "#9c179e"
             ],
             [
              0.4444444444444444,
              "#bd3786"
             ],
             [
              0.5555555555555556,
              "#d8576b"
             ],
             [
              0.6666666666666666,
              "#ed7953"
             ],
             [
              0.7777777777777778,
              "#fb9f3a"
             ],
             [
              0.8888888888888888,
              "#fdca26"
             ],
             [
              1,
              "#f0f921"
             ]
            ],
            "type": "contour"
           }
          ],
          "contourcarpet": [
           {
            "colorbar": {
             "outlinewidth": 0,
             "ticks": ""
            },
            "type": "contourcarpet"
           }
          ],
          "heatmap": [
           {
            "colorbar": {
             "outlinewidth": 0,
             "ticks": ""
            },
            "colorscale": [
             [
              0,
              "#0d0887"
             ],
             [
              0.1111111111111111,
              "#46039f"
             ],
             [
              0.2222222222222222,
              "#7201a8"
             ],
             [
              0.3333333333333333,
              "#9c179e"
             ],
             [
              0.4444444444444444,
              "#bd3786"
             ],
             [
              0.5555555555555556,
              "#d8576b"
             ],
             [
              0.6666666666666666,
              "#ed7953"
             ],
             [
              0.7777777777777778,
              "#fb9f3a"
             ],
             [
              0.8888888888888888,
              "#fdca26"
             ],
             [
              1,
              "#f0f921"
             ]
            ],
            "type": "heatmap"
           }
          ],
          "heatmapgl": [
           {
            "colorbar": {
             "outlinewidth": 0,
             "ticks": ""
            },
            "colorscale": [
             [
              0,
              "#0d0887"
             ],
             [
              0.1111111111111111,
              "#46039f"
             ],
             [
              0.2222222222222222,
              "#7201a8"
             ],
             [
              0.3333333333333333,
              "#9c179e"
             ],
             [
              0.4444444444444444,
              "#bd3786"
             ],
             [
              0.5555555555555556,
              "#d8576b"
             ],
             [
              0.6666666666666666,
              "#ed7953"
             ],
             [
              0.7777777777777778,
              "#fb9f3a"
             ],
             [
              0.8888888888888888,
              "#fdca26"
             ],
             [
              1,
              "#f0f921"
             ]
            ],
            "type": "heatmapgl"
           }
          ],
          "histogram": [
           {
            "marker": {
             "pattern": {
              "fillmode": "overlay",
              "size": 10,
              "solidity": 0.2
             }
            },
            "type": "histogram"
           }
          ],
          "histogram2d": [
           {
            "colorbar": {
             "outlinewidth": 0,
             "ticks": ""
            },
            "colorscale": [
             [
              0,
              "#0d0887"
             ],
             [
              0.1111111111111111,
              "#46039f"
             ],
             [
              0.2222222222222222,
              "#7201a8"
             ],
             [
              0.3333333333333333,
              "#9c179e"
             ],
             [
              0.4444444444444444,
              "#bd3786"
             ],
             [
              0.5555555555555556,
              "#d8576b"
             ],
             [
              0.6666666666666666,
              "#ed7953"
             ],
             [
              0.7777777777777778,
              "#fb9f3a"
             ],
             [
              0.8888888888888888,
              "#fdca26"
             ],
             [
              1,
              "#f0f921"
             ]
            ],
            "type": "histogram2d"
           }
          ],
          "histogram2dcontour": [
           {
            "colorbar": {
             "outlinewidth": 0,
             "ticks": ""
            },
            "colorscale": [
             [
              0,
              "#0d0887"
             ],
             [
              0.1111111111111111,
              "#46039f"
             ],
             [
              0.2222222222222222,
              "#7201a8"
             ],
             [
              0.3333333333333333,
              "#9c179e"
             ],
             [
              0.4444444444444444,
              "#bd3786"
             ],
             [
              0.5555555555555556,
              "#d8576b"
             ],
             [
              0.6666666666666666,
              "#ed7953"
             ],
             [
              0.7777777777777778,
              "#fb9f3a"
             ],
             [
              0.8888888888888888,
              "#fdca26"
             ],
             [
              1,
              "#f0f921"
             ]
            ],
            "type": "histogram2dcontour"
           }
          ],
          "mesh3d": [
           {
            "colorbar": {
             "outlinewidth": 0,
             "ticks": ""
            },
            "type": "mesh3d"
           }
          ],
          "parcoords": [
           {
            "line": {
             "colorbar": {
              "outlinewidth": 0,
              "ticks": ""
             }
            },
            "type": "parcoords"
           }
          ],
          "pie": [
           {
            "automargin": true,
            "type": "pie"
           }
          ],
          "scatter": [
           {
            "fillpattern": {
             "fillmode": "overlay",
             "size": 10,
             "solidity": 0.2
            },
            "type": "scatter"
           }
          ],
          "scatter3d": [
           {
            "line": {
             "colorbar": {
              "outlinewidth": 0,
              "ticks": ""
             }
            },
            "marker": {
             "colorbar": {
              "outlinewidth": 0,
              "ticks": ""
             }
            },
            "type": "scatter3d"
           }
          ],
          "scattercarpet": [
           {
            "marker": {
             "colorbar": {
              "outlinewidth": 0,
              "ticks": ""
             }
            },
            "type": "scattercarpet"
           }
          ],
          "scattergeo": [
           {
            "marker": {
             "colorbar": {
              "outlinewidth": 0,
              "ticks": ""
             }
            },
            "type": "scattergeo"
           }
          ],
          "scattergl": [
           {
            "marker": {
             "colorbar": {
              "outlinewidth": 0,
              "ticks": ""
             }
            },
            "type": "scattergl"
           }
          ],
          "scattermapbox": [
           {
            "marker": {
             "colorbar": {
              "outlinewidth": 0,
              "ticks": ""
             }
            },
            "type": "scattermapbox"
           }
          ],
          "scatterpolar": [
           {
            "marker": {
             "colorbar": {
              "outlinewidth": 0,
              "ticks": ""
             }
            },
            "type": "scatterpolar"
           }
          ],
          "scatterpolargl": [
           {
            "marker": {
             "colorbar": {
              "outlinewidth": 0,
              "ticks": ""
             }
            },
            "type": "scatterpolargl"
           }
          ],
          "scatterternary": [
           {
            "marker": {
             "colorbar": {
              "outlinewidth": 0,
              "ticks": ""
             }
            },
            "type": "scatterternary"
           }
          ],
          "surface": [
           {
            "colorbar": {
             "outlinewidth": 0,
             "ticks": ""
            },
            "colorscale": [
             [
              0,
              "#0d0887"
             ],
             [
              0.1111111111111111,
              "#46039f"
             ],
             [
              0.2222222222222222,
              "#7201a8"
             ],
             [
              0.3333333333333333,
              "#9c179e"
             ],
             [
              0.4444444444444444,
              "#bd3786"
             ],
             [
              0.5555555555555556,
              "#d8576b"
             ],
             [
              0.6666666666666666,
              "#ed7953"
             ],
             [
              0.7777777777777778,
              "#fb9f3a"
             ],
             [
              0.8888888888888888,
              "#fdca26"
             ],
             [
              1,
              "#f0f921"
             ]
            ],
            "type": "surface"
           }
          ],
          "table": [
           {
            "cells": {
             "fill": {
              "color": "#EBF0F8"
             },
             "line": {
              "color": "white"
             }
            },
            "header": {
             "fill": {
              "color": "#C8D4E3"
             },
             "line": {
              "color": "white"
             }
            },
            "type": "table"
           }
          ]
         },
         "layout": {
          "annotationdefaults": {
           "arrowcolor": "#2a3f5f",
           "arrowhead": 0,
           "arrowwidth": 1
          },
          "autotypenumbers": "strict",
          "coloraxis": {
           "colorbar": {
            "outlinewidth": 0,
            "ticks": ""
           }
          },
          "colorscale": {
           "diverging": [
            [
             0,
             "#8e0152"
            ],
            [
             0.1,
             "#c51b7d"
            ],
            [
             0.2,
             "#de77ae"
            ],
            [
             0.3,
             "#f1b6da"
            ],
            [
             0.4,
             "#fde0ef"
            ],
            [
             0.5,
             "#f7f7f7"
            ],
            [
             0.6,
             "#e6f5d0"
            ],
            [
             0.7,
             "#b8e186"
            ],
            [
             0.8,
             "#7fbc41"
            ],
            [
             0.9,
             "#4d9221"
            ],
            [
             1,
             "#276419"
            ]
           ],
           "sequential": [
            [
             0,
             "#0d0887"
            ],
            [
             0.1111111111111111,
             "#46039f"
            ],
            [
             0.2222222222222222,
             "#7201a8"
            ],
            [
             0.3333333333333333,
             "#9c179e"
            ],
            [
             0.4444444444444444,
             "#bd3786"
            ],
            [
             0.5555555555555556,
             "#d8576b"
            ],
            [
             0.6666666666666666,
             "#ed7953"
            ],
            [
             0.7777777777777778,
             "#fb9f3a"
            ],
            [
             0.8888888888888888,
             "#fdca26"
            ],
            [
             1,
             "#f0f921"
            ]
           ],
           "sequentialminus": [
            [
             0,
             "#0d0887"
            ],
            [
             0.1111111111111111,
             "#46039f"
            ],
            [
             0.2222222222222222,
             "#7201a8"
            ],
            [
             0.3333333333333333,
             "#9c179e"
            ],
            [
             0.4444444444444444,
             "#bd3786"
            ],
            [
             0.5555555555555556,
             "#d8576b"
            ],
            [
             0.6666666666666666,
             "#ed7953"
            ],
            [
             0.7777777777777778,
             "#fb9f3a"
            ],
            [
             0.8888888888888888,
             "#fdca26"
            ],
            [
             1,
             "#f0f921"
            ]
           ]
          },
          "colorway": [
           "#636efa",
           "#EF553B",
           "#00cc96",
           "#ab63fa",
           "#FFA15A",
           "#19d3f3",
           "#FF6692",
           "#B6E880",
           "#FF97FF",
           "#FECB52"
          ],
          "font": {
           "color": "#2a3f5f"
          },
          "geo": {
           "bgcolor": "white",
           "lakecolor": "white",
           "landcolor": "#E5ECF6",
           "showlakes": true,
           "showland": true,
           "subunitcolor": "white"
          },
          "hoverlabel": {
           "align": "left"
          },
          "hovermode": "closest",
          "mapbox": {
           "style": "light"
          },
          "paper_bgcolor": "white",
          "plot_bgcolor": "#E5ECF6",
          "polar": {
           "angularaxis": {
            "gridcolor": "white",
            "linecolor": "white",
            "ticks": ""
           },
           "bgcolor": "#E5ECF6",
           "radialaxis": {
            "gridcolor": "white",
            "linecolor": "white",
            "ticks": ""
           }
          },
          "scene": {
           "xaxis": {
            "backgroundcolor": "#E5ECF6",
            "gridcolor": "white",
            "gridwidth": 2,
            "linecolor": "white",
            "showbackground": true,
            "ticks": "",
            "zerolinecolor": "white"
           },
           "yaxis": {
            "backgroundcolor": "#E5ECF6",
            "gridcolor": "white",
            "gridwidth": 2,
            "linecolor": "white",
            "showbackground": true,
            "ticks": "",
            "zerolinecolor": "white"
           },
           "zaxis": {
            "backgroundcolor": "#E5ECF6",
            "gridcolor": "white",
            "gridwidth": 2,
            "linecolor": "white",
            "showbackground": true,
            "ticks": "",
            "zerolinecolor": "white"
           }
          },
          "shapedefaults": {
           "line": {
            "color": "#2a3f5f"
           }
          },
          "ternary": {
           "aaxis": {
            "gridcolor": "white",
            "linecolor": "white",
            "ticks": ""
           },
           "baxis": {
            "gridcolor": "white",
            "linecolor": "white",
            "ticks": ""
           },
           "bgcolor": "#E5ECF6",
           "caxis": {
            "gridcolor": "white",
            "linecolor": "white",
            "ticks": ""
           }
          },
          "title": {
           "x": 0.05
          },
          "xaxis": {
           "automargin": true,
           "gridcolor": "white",
           "linecolor": "white",
           "ticks": "",
           "title": {
            "standoff": 15
           },
           "zerolinecolor": "white",
           "zerolinewidth": 2
          },
          "yaxis": {
           "automargin": true,
           "gridcolor": "white",
           "linecolor": "white",
           "ticks": "",
           "title": {
            "standoff": 15
           },
           "zerolinecolor": "white",
           "zerolinewidth": 2
          }
         }
        },
        "title": {
         "text": "Vaccination Serie Interruption Rate"
        },
        "xaxis": {
         "anchor": "y",
         "domain": [
          0,
          1
         ],
         "title": {
          "text": "Län_namn"
         }
        },
        "yaxis": {
         "anchor": "x",
         "domain": [
          0,
          1
         ],
         "title": {
          "text": "VIR"
         }
        }
       }
      }
     },
     "metadata": {},
     "output_type": "display_data"
    }
   ],
   "source": [
    "vir_fig = px.scatter(vaccindata, \n",
    "           x='Län_namn', \n",
    "           y = 'VIR',\n",
    "           color = 'Ålder',\n",
    "           hover_name = 'Kommun_namn',\n",
    "           hover_data = ['Län_namn', 'Befolkning', 'Ålder', 'VIR'],\n",
    "           title = 'Vaccination Serie Interruption Rate'\n",
    "           )\n",
    "\n",
    "vir_fig.show()\n",
    "vir_fig.write_html('./Visualizations/Insights/Vaccination Interruption Rate.html')"
   ]
  },
  {
   "cell_type": "markdown",
   "metadata": {},
   "source": [
    "So, 12-15 years olds are pretty often at the top of the incompletion rate, while 90+ are definitely at the bottom of the graphs. While there is no VIR = 0 in Gotlands, it is visually the most disciplined region acoording to this KPI, together with Östergötlands län. The situation with 12-17 olds in Malå is definitely a local anomaly. No correlation between the size (number people living) of the municipality and VIR is found."
   ]
  }
 ],
 "metadata": {
  "kernelspec": {
   "display_name": "GitHub-ARbJjTr-",
   "language": "python",
   "name": "python3"
  },
  "language_info": {
   "codemirror_mode": {
    "name": "ipython",
    "version": 3
   },
   "file_extension": ".py",
   "mimetype": "text/x-python",
   "name": "python",
   "nbconvert_exporter": "python",
   "pygments_lexer": "ipython3",
   "version": "3.11.5"
  }
 },
 "nbformat": 4,
 "nbformat_minor": 2
}
